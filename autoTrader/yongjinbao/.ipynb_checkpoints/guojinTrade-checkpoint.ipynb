{
 "cells": [
  {
   "cell_type": "code",
   "execution_count": 1,
   "metadata": {
    "collapsed": false
   },
   "outputs": [
    {
     "name": "stderr",
     "output_type": "stream",
     "text": [
      "2016-11-11 09:15:29,838 [DEBUG] yjbtrader.py 56: verify code detect result: 0667\n",
      "2016-11-11 09:15:29,903 [DEBUG] yjbtrader.py 77: login response: {\"login_type\":\"stock\",\"returnJson\":\"{function_id: '200', redirect_url: '..\\/main.jsp', msg_info: '', msg_no: '0', error_grids: '', grid_count: '2', CSRF_Token:'MzM5NzgzNjc4NzQ3NzM1MzQyMjI0OTc5NDQyOTc0ODc1ODk5MjQ=', Func200: [{company_name: '公司名称', init_date: '发生日期', sys_status: '系统状态', content_type: '帐号校验方式', account_content: '输入内容', branch_no: '客户网点', client_id: '客户号', client_name: '客户姓名', corp_client_group: '', fundaccount_count: '资产账号个数', fund_account: '资金帐号', client_rights: '客户权限', sysnode_id: '', message_flag: '消息标志', user_token: '', last_login_date: '', last_login_time: '', last_op_entrust_way: '上次登陆委托方式', last_op_station: '上次登陆站点\\/电话', error_no: '错误号', error_info: '错误原因', money_count: '币种个数', money_type: '币种', square_flag: '结算标示', enable_balance: '可用金额', current_balance: '当前余额', bank_no: '银行代码', exchange_type: '交易类别', stock_account: '证券账号', bank_trans_flag: '银行转帐允许标志', initpasswd_flag: '初始密码标志', last_date: '上一交易日', last_op_ip: '上次登陆IP地址', online_time: '在线时间', remark: '摘要', tabconfirm_flag: '强制帐单确认', prestore_info: '', login_times: '登录次数', asset_prop: '', product_flag: '', corp_risk_level: '', corp_end_date: '', valid_flag: '', session_no: '', foreign_flag: '', branch_name: '', next_token: '', safety_devbound: '', safety_device_bound: '', safety_restricted_action: '', safety_restricted_info: '', alert_info: '', asset_type: '资产账号类别', password_errors: '', F800_auth_id: '', F800_en_resource_no: '', F800_en_resource_str: '', F800_app_user_id: '', F800_grantticket_id: '', F800_warn_no: '', F800_warn_info: '', F800_last_region_name: '', UserParam2: '', UserParam1: '', login_date: '上次登录日期', login_time: '上次登录时刻'},{company_name: '国金证券股份有限公司', init_date: '20161111', sys_status: '1', content_type: '0', account_content: '', branch_no: '33', client_id: '40533476', client_name: '徐雷明', corp_client_group: '1', fundaccount_count: '0', fund_account: '40533476', client_rights: 'CWdetabo', sysnode_id: '2', message_flag: '0', user_token: 'StXFbFGkdl7MGLBR2hMjJlG3rZYlBogUeH5+', last_login_date: '20161111', last_login_time: '90315', last_op_entrust_way: '无线委托', last_op_station: 'PC,LIP:192.168.31.150;IIP:106.37.89.53;MAC:681729E17A9E;HD:DWW-DXE133WSPS;PCN:DELL-RAY;CPU:bfebfbff000306a9-GenuineIntel;PI:C:,NTFS,100G@TDXPC;CliVer:7.15.0', error_no: '0', error_info: '', money_count: '1', money_type: '0', square_flag: '2', enable_balance: '321.02', current_balance: '1.50', bank_no: '7', exchange_type: '0', stock_account: '', bank_trans_flag: ' ', initpasswd_flag: ' ', last_date: '0', last_op_ip: ' ', online_time: '0', remark: ' ', tabconfirm_flag: ' ', prestore_info: ' ', login_times: '966', asset_prop: '0', product_flag: '0', corp_risk_level: '4', corp_end_date: '20170518', valid_flag: '0', session_no: '0', foreign_flag: ' ', branch_name: '', next_token: '0', safety_devbound: '0000', safety_device_bound: '0000', safety_restricted_action: '0000', safety_restricted_info: '<ETX><ETX><ETX><ETX>', alert_info: '', asset_type: '0', password_errors: '-1', F800_auth_id: '', F800_en_resource_no: '', F800_en_resource_str: '', F800_app_user_id: '', F800_grantticket_id: '', F800_warn_no: '', F800_warn_info: '', F800_last_region_name: '', UserParam2: '2', UserParam1: 'StXFbFGkdl7MGLBR2hMjJlG3rZYlBogUeH5+', login_date: '20161111', login_time: '90315'}], end: '0' }\"}\n"
     ]
    },
    {
     "data": {
      "text/plain": [
       "[{'asset_balance': 210132.18,\n",
       "  'current_balance': 1.5,\n",
       "  'enable_balance': 321.02,\n",
       "  'market_value': 153931.13,\n",
       "  'money_type': '人民币',\n",
       "  'pre_interest': '1.630'}]"
      ]
     },
     "execution_count": 1,
     "metadata": {},
     "output_type": "execute_result"
    }
   ],
   "source": [
    "# coding: utf-8\n",
    "import tushare as ts\n",
    "import easytrader as trade\n",
    "from easytrader import helpers\n",
    "import pandas as pd\n",
    "import datetime as dt\n",
    "import time\n",
    "from mercury import utils\n",
    "from mercury import uqer\n",
    "pd.options.display.max_columns = 100\n",
    "pd.options.display.max_rows = 300\n",
    "\n",
    "#优矿token token ='5fa4680adf1c779e93f1d90880b4e2f55a52a7704f2408565ca8c12eebba0469'\n",
    "#sess = uqer.Client(token='5fa4680adf1c779e93f1d90880b4e2f55a52a7704f2408565ca8c12eebba0469')\n",
    "\n",
    "yjb = trade.use('yjb')\n",
    "yjb.prepare('./guojin.json')\n",
    "\n",
    "## 获取资产情况 \n",
    "balance = yjb.balance\n",
    "## 获取股票持仓\n",
    "position = yjb.position\n",
    "balance"
   ]
  },
  {
   "cell_type": "code",
   "execution_count": 3,
   "metadata": {
    "collapsed": false
   },
   "outputs": [],
   "source": [
    "\n",
    "# ### IPO 自动申购\n",
    "# ipos = helpers.get_today_ipo_data() \n",
    "# wt = pd.DataFrame(user.entrust)\n",
    "# wt = wt.set_index(wt.entrust_no.values)\n",
    "\n",
    "# if len(ipos)>0:\n",
    "#     for i in range(len(ipos)):\n",
    "#         print(ipos[i])\n",
    "#         ticker = ipos[i]['apply_code']\n",
    "#         limit = user.get_ipo_limit(ticker) ##申购限额\n",
    "#         px = limit['last_price']\n",
    "#         vol = min(limit['enable_amount'],limit['high_amount'])\n",
    "#         print(limit)\n",
    "#         print(ticker,px,vol)\n",
    "#         if not ticker in wt.stock_code.values:\n",
    "#             print(u'申购新股:',ticker,ipos[i]['stock_name']) \n",
    "#             info = user.buy(ticker, price=px, amount=vol) ## 买入委托\n",
    "#             print(u\"买入委托:\", info)\n",
    "#             time.sleep(5)\n",
    "# ##再次查委托\n",
    "# wt = pd.DataFrame(user.entrust)\n",
    "# wt = wt.set_index(wt.entrust_no.values)\n",
    "# print(u\"查询委托:\",wt)\n",
    "\n",
    "# ###查询成交        \n",
    "# # deal = pd.DataFrame(user.current_deal)\n",
    "# # deal = deal.set_index(deal.entrust_no.values)\n",
    "# # deal\n"
   ]
  },
  {
   "cell_type": "code",
   "execution_count": 42,
   "metadata": {
    "collapsed": false,
    "scrolled": true
   },
   "outputs": [
    {
     "name": "stdout",
     "output_type": "stream",
     "text": [
      "        ticker  volume bs_flag  price\n",
      "0  002466.XSHG     101       B      1\n",
      "1  150212.XSHG     100       S   1000\n",
      "Buy 002466 保证金不足,或者买入数量错误\n",
      "Sell 150212 100 1000\n"
     ]
    }
   ],
   "source": [
    "# 根据买卖指令文件进行调仓(同步仓位)\n",
    "# # 获取当前持仓\n",
    "# pos = pd.DataFrame(position)\n",
    "# mkv = pd.DataFrame(balance)\n",
    "# if len(pos) > 0 :\n",
    "#     pos = pos.set_index(pos.stock_code.values)\n",
    "#     pos['c_pct'] = 100.0 * pos.market_value / mkv.asset_balance.values[0] \n",
    "#     del pos['position_str']\n",
    "# print(mkv)\n",
    "# print(pos)\n",
    "\n",
    "##获取委托列表\n",
    "today = dt.date.today()\n",
    "filename = 'entrust'+today.strftime('%Y%m%d')+'.csv'\n",
    "# download entrust list from other Web\n",
    "# sess.download_data(filename)\n",
    "##　读取委托列表\n",
    "df = pd.DataFrame()\n",
    "entrust_list = df.from_csv(filename)\n",
    "entrust_list = entrust_list.reset_index()\n",
    "print(entrust_list)\n",
    "\n",
    "## 开始调仓, 卖出不在类表中的, 调整股票池中的比例\n",
    "for s in entrust_list.index:\n",
    "    x = entrust_list.loc[s]\n",
    "    mkv = pd.DataFrame(yjb.balance)\n",
    "    pos = pd.DataFrame(yjb.position)\n",
    "    pos = pos.set_index(pos.stock_code.values)\n",
    "    ticker = x.ticker[0:6]\n",
    "    if x.bs_flag =='B' :\n",
    "        if x.volume % 100 == 0 and x.volume >= 100 and mkv.enable_balance.values[0] > x.price * (1+0.01) * x.volume: \n",
    "            #info = yjb.buy(ticker, price=x.price, amount=x.volume) ## 买入委托\n",
    "            #print info\n",
    "            print(\"Buy\",ticker,x.volume,x.price)\n",
    "        else :\n",
    "            print(\"Buy\",ticker,\"保证金不足,或者买入数量错误\")\n",
    "    elif x.bs_flag == 'S' :\n",
    "        if ticker in pos.index:\n",
    "            if pos.loc[str(ticker)].enable_amount >= x.volume:\n",
    "                #info = yjb.sell(ticker, price=x.price, amount=x.volum) ## 买入委托\n",
    "                #print info\n",
    "                print(\"Sell\",ticker,x.volume,x.price)\n",
    "            else :\n",
    "                print(\"Sell\",ticker,\"持仓不足\")\n",
    "        else :\n",
    "            print('Sell', ticker, \" no position\")\n",
    "    else :\n",
    "        print(\"Error instruction\",x)\n",
    "    #time.sleep(5)\n",
    "        \n",
    "\n"
   ]
  },
  {
   "cell_type": "code",
   "execution_count": null,
   "metadata": {
    "collapsed": true
   },
   "outputs": [],
   "source": [
    "\n",
    "\n"
   ]
  }
 ],
 "metadata": {
  "kernelspec": {
   "display_name": "Python 3",
   "language": "python",
   "name": "python3"
  },
  "language_info": {
   "codemirror_mode": {
    "name": "ipython",
    "version": 3
   },
   "file_extension": ".py",
   "mimetype": "text/x-python",
   "name": "python",
   "nbconvert_exporter": "python",
   "pygments_lexer": "ipython3",
   "version": "3.5.0"
  }
 },
 "nbformat": 4,
 "nbformat_minor": 0
}
