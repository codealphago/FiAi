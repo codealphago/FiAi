{
 "cells": [
  {
   "cell_type": "code",
   "execution_count": 12,
   "metadata": {
    "collapsed": false
   },
   "outputs": [
    {
     "name": "stderr",
     "output_type": "stream",
     "text": [
      "2016-11-20 10:29:05,540 [DEBUG] xqtrader.py 54: login status: SUCCESS\n"
     ]
    }
   ],
   "source": [
    "# -*- coding: utf-8 -*-\n",
    "\n",
    "import tushare as ts\n",
    "import easytrader as trade\n",
    "from easytrader import helpers\n",
    "from easytrader import webtrader\n",
    "import pandas as pd\n",
    "import numpy as np\n",
    "import datetime as dt\n",
    "from mercury import utils\n",
    "from mercury import uqer\n",
    "import time\n",
    "pd.options.display.max_columns = 100\n",
    "pd.options.display.max_rows = 300\n",
    "import tushare as tu\n",
    "from threading import Timer  \n",
    "import time  \n",
    "\n",
    "xq = trade.use('xq')\n",
    "xq.prepare('./xq_new_issue352639.json')"
   ]
  },
  {
   "cell_type": "code",
   "execution_count": 24,
   "metadata": {
    "collapsed": false
   },
   "outputs": [
    {
     "name": "stdout",
     "output_type": "stream",
     "text": [
      "          ticker  price  high_price\n",
      "603858  sh603858  80.47       88.52\n",
      "002820  sz002820  23.90       26.29\n",
      "002821  sz002821  43.96       48.36\n",
      "now time is :  11.5947546288\n",
      "Market is closed... 2016-11-20 11:59:48.553515\n"
     ]
    }
   ],
   "source": [
    "# 单只股票网格调仓策略\n",
    "file_name = 'newissue.csv'\n",
    "timer_interval=5 #时间间隔秒   \n",
    "newissue = pd.DataFrame()\n",
    "\n",
    "newissue = newissue.from_csv(file_name,parse_dates = False)\n",
    "newissue.index = newissue.ticker.apply(lambda x:x[2:8]).values\n",
    "newissue['high_price'] = newissue.price.apply(lambda x: round(x * 1.1 ,2))\n",
    "print(newissue)\n",
    "\n",
    "def delayrun(): # 线程运行函数 \n",
    "    for s in newissue.index:\n",
    "        print(s,newissue.loc[s,'high_price'], 100)\n",
    "        #info = xq.buy(s, price=newissue.loc[s,'open_price'], amount=100)\n",
    "        info = xq.adjust_weight(s,5)\n",
    "        print(info) \n",
    "icount = 0 \n",
    "flag = True\n",
    "while icount <= 2 and flag == True:\n",
    "    c_time = dt.datetime.now().strftime('%H.%M%S%f')\n",
    "    f_time = float(c_time)\n",
    "    print (\"now time is : \" , f_time)\n",
    "    if f_time > 9.1505 :  #f_time > 9.2505 : \n",
    "        flag = False\n",
    "    elif f_time >= 9.1455 : #f_time > 9.2450 :\n",
    "        delayrun()\n",
    "        icount += 1\n",
    "    time.sleep(1) \n",
    "\n",
    "print('Market is closed...' ,dt.datetime.now() ) "
   ]
  },
  {
   "cell_type": "code",
   "execution_count": null,
   "metadata": {
    "collapsed": true
   },
   "outputs": [],
   "source": [
    "\n"
   ]
  }
 ],
 "metadata": {
  "kernelspec": {
   "display_name": "Python 3",
   "language": "python",
   "name": "python3"
  },
  "language_info": {
   "codemirror_mode": {
    "name": "ipython",
    "version": 3
   },
   "file_extension": ".py",
   "mimetype": "text/x-python",
   "name": "python",
   "nbconvert_exporter": "python",
   "pygments_lexer": "ipython3",
   "version": "3.5.0"
  }
 },
 "nbformat": 4,
 "nbformat_minor": 0
}
