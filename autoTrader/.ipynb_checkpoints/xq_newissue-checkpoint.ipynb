{
 "cells": [
  {
   "cell_type": "code",
   "execution_count": 26,
   "metadata": {
    "collapsed": false
   },
   "outputs": [
    {
     "name": "stderr",
     "output_type": "stream",
     "text": [
      "2016-11-15 22:08:55,146 [DEBUG] xqtrader.py 54: login status: SUCCESS\n"
     ]
    }
   ],
   "source": [
    "import tushare as ts\n",
    "import easytrader as trade\n",
    "from easytrader import helpers\n",
    "from easytrader import webtrader \n",
    "import pandas as pd\n",
    "import datetime as dt\n",
    "from mercury import utils\n",
    "from mercury import uqer\n",
    "import os,shutil\n",
    "pd.options.display.max_columns = 100\n",
    "pd.options.display.max_rows = 300\n",
    "\n",
    "#uquer token ='5fa4680adf1c779e93f1d90880b4e2f55a52a7704f2408565ca8c12eebba0469'\n",
    "sess = uqer.Client(token='5fa4680adf1c779e93f1d90880b4e2f55a52a7704f2408565ca8c12eebba0469')\n",
    "\n",
    "user = trade.use('xq')\n",
    "user.prepare('./xq_new_issue352639.json')\n",
    "\n",
    "## 获取资产情况 \n",
    "#balance = user.balance\n",
    "## 获取股票持仓\n",
    "#position = user.position\n",
    "## 获取当日委托\n",
    "#enturst = user.entrust\n",
    "## 查询当日成交\n",
    "#user.current_deal\n",
    "## 查询最近30天的交割单\n",
    "# user.exchangebill   \n",
    "## 指定查询时间段, 日期格式为 \"20160214\"\n",
    "# user.get_exchangebill('开始日期', '截止日期')   \n",
    "\n",
    "# user.buy('162411', price=0.55, amount=100) ## 买入委托\n",
    "# user.sell('162411', price=0.55, amount=100) ## 卖出委托\n",
    "# user.cancel_entrust('委托单号', '股票代码')  ##撤单\n",
    "\n",
    "#helpers.get_today_ipo_data() ##当日申购新股\n",
    "# user.get_ipo_limit('申购代码') ##申购限额\n",
    "\n",
    "##雪球组合调仓\n",
    "#user.adjust_weight('000001', 10)"
   ]
  },
  {
   "cell_type": "code",
   "execution_count": 31,
   "metadata": {
    "collapsed": false
   },
   "outputs": [
    {
     "name": "stdout",
     "output_type": "stream",
     "text": [
      "\n",
      "Start download new_issue_20161115.csv\n",
      "\n",
      "Done download new_issue_20161115.csv\n",
      "        ticker  ticker.1        secID secShortName    listDate  totalShares  \\\n",
      "300537  300537    300537  300537.XSHE         广信材料  2016-08-30    100000000   \n",
      "300546  300546    300546  300546.XSHE         雄帝科技  2016-09-28     53340000   \n",
      "603738  603738    603738  603738.XSHG         泰晶科技  2016-09-28     66680000   \n",
      "603887  603887    603887  603887.XSHG         城地股份  2016-10-10     98100000   \n",
      "\n",
      "        nonrestFloatShares     endDate  \n",
      "300537            25000000  2016-09-30  \n",
      "300546            13340000  2016-09-30  \n",
      "603738            16680000  2016-09-30  \n",
      "603887            24600000  2016-09-30  \n",
      "   asset_balance  current_balance  enable_balance  market_value money_type  \\\n",
      "0        1065000           431538          431538        633462        人民币   \n",
      "\n",
      "   pre_interest  \n",
      "0          0.25  \n"
     ]
    },
    {
     "ename": "TypeError",
     "evalue": "'int' object is not iterable",
     "output_type": "error",
     "traceback": [
      "\u001b[1;31m---------------------------------------------------------------------------\u001b[0m",
      "\u001b[1;31mTypeError\u001b[0m                                 Traceback (most recent call last)",
      "\u001b[1;32m<ipython-input-31-bfb2c17877a9>\u001b[0m in \u001b[0;36m<module>\u001b[1;34m()\u001b[0m\n\u001b[0;32m     31\u001b[0m     \u001b[1;32mfor\u001b[0m \u001b[0ms\u001b[0m \u001b[1;32min\u001b[0m \u001b[0muqer\u001b[0m\u001b[1;33m.\u001b[0m\u001b[0mindex\u001b[0m\u001b[1;33m:\u001b[0m\u001b[1;33m\u001b[0m\u001b[0m\n\u001b[0;32m     32\u001b[0m         \u001b[1;32mif\u001b[0m \u001b[1;32mnot\u001b[0m \u001b[0ms\u001b[0m \u001b[1;32min\u001b[0m \u001b[0mpos\u001b[0m\u001b[1;33m.\u001b[0m\u001b[0mindex\u001b[0m\u001b[1;33m:\u001b[0m\u001b[1;33m\u001b[0m\u001b[0m\n\u001b[1;32m---> 33\u001b[1;33m             \u001b[0mpct\u001b[0m \u001b[1;33m=\u001b[0m \u001b[0mmin\u001b[0m\u001b[1;33m(\u001b[0m\u001b[0mmax_pos\u001b[0m\u001b[1;33m,\u001b[0m\u001b[1;33m)\u001b[0m\u001b[1;33m\u001b[0m\u001b[0m\n\u001b[0m\u001b[0;32m     34\u001b[0m             \u001b[0mprint\u001b[0m\u001b[1;33m(\u001b[0m\u001b[1;34m'调入: '\u001b[0m\u001b[1;33m,\u001b[0m \u001b[0ms\u001b[0m\u001b[1;33m,\u001b[0m \u001b[0mpct\u001b[0m\u001b[1;33m)\u001b[0m\u001b[1;33m\u001b[0m\u001b[0m\n\u001b[0;32m     35\u001b[0m             \u001b[1;32mtry\u001b[0m \u001b[1;33m:\u001b[0m\u001b[1;33m\u001b[0m\u001b[0m\n",
      "\u001b[1;31mTypeError\u001b[0m: 'int' object is not iterable"
     ]
    }
   ],
   "source": [
    "#获取优矿当前持仓\n",
    "max_pos = 20 \n",
    "\n",
    "today = dt.date.today() \n",
    "filename = 'new_issue_'+today.strftime('%Y%m%d')+'.csv'\n",
    "sess.download_data(filename)\n",
    "uqer = pd.DataFrame()\n",
    "uqer = uqer.from_csv(filename)\n",
    "if len(uqer) > 0 : \n",
    "    uqer = uqer.reset_index()\n",
    "    uqer = uqer.set_index(uqer.secID.apply(lambda x:x[0:6]).values)\n",
    "    print(uqer)  \n",
    "\n",
    "    # 获取当前需求持仓\n",
    "    mkv = pd.DataFrame(user.balance)\n",
    "    cash_pct = mkv.current_balance.values[0] / mkv.asset_balance.values[0]\n",
    "    pos = pd.DataFrame(user.position)\n",
    "    if len(pos) > 0 :   \n",
    "        pos = pos.set_index(pos.stock_code.apply(lambda x:x[2:8]).values)\n",
    "        pos['c_pct'] = 100.0 * pos.market_value / mkv.asset_balance.values[0] \n",
    "\n",
    "\n",
    "    # 开始调仓, 卖出不在类表中的, 调整股票池中的比例\n",
    "    for s in pos.index:\n",
    "        if not s in uqer.index:\n",
    "            print('调出: ', pos.loc[s,'stock_name'])\n",
    "            try : \n",
    "                user.adjust_weight(s,0.0)  \n",
    "            except webtrader.TradeError as e: \n",
    "                print(s,'调整失败',e)\n",
    "    for s in uqer.index:\n",
    "        if not s in pos.index:\n",
    "            pct = min(max_pos,cash_pct)\n",
    "            print('调入: ', s, pct)\n",
    "            try : \n",
    "                user.adjust_weight(s,pct)  \n",
    "            except webtrader.TradeError as e: \n",
    "                print(s,'调整失败',e)\n",
    "\n",
    "shutil.copyfile(filename,\".\\\\data\\\\\" + filename)    \n",
    "os.remove(\".\\\\\"+filename)\n",
    "\n"
   ]
  },
  {
   "cell_type": "code",
   "execution_count": null,
   "metadata": {
    "collapsed": false
   },
   "outputs": [],
   "source": []
  }
 ],
 "metadata": {
  "kernelspec": {
   "display_name": "Python 3",
   "language": "python",
   "name": "python3"
  },
  "language_info": {
   "codemirror_mode": {
    "name": "ipython",
    "version": 3
   },
   "file_extension": ".py",
   "mimetype": "text/x-python",
   "name": "python",
   "nbconvert_exporter": "python",
   "pygments_lexer": "ipython3",
   "version": "3.5.0"
  }
 },
 "nbformat": 4,
 "nbformat_minor": 0
}
