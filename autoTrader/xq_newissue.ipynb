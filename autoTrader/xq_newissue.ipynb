{
 "cells": [
  {
   "cell_type": "code",
   "execution_count": 1,
   "metadata": {
    "collapsed": false
   },
   "outputs": [
    {
     "name": "stderr",
     "output_type": "stream",
     "text": [
      "2016-12-06 10:11:01,459 [DEBUG] xqtrader.py 54: login status: SUCCESS\n"
     ]
    }
   ],
   "source": [
    "import tushare as ts\n",
    "import easytrader as trade\n",
    "from easytrader import helpers\n",
    "from easytrader import webtrader \n",
    "import pandas as pd\n",
    "import datetime as dt\n",
    "from mercury import utils\n",
    "from mercury import uqer\n",
    "import os,shutil\n",
    "pd.options.display.max_columns = 100\n",
    "pd.options.display.max_rows = 300\n",
    "\n",
    "#uquer token ='5fa4680adf1c779e93f1d90880b4e2f55a52a7704f2408565ca8c12eebba0469'\n",
    "sess = uqer.Client(token='5fa4680adf1c779e93f1d90880b4e2f55a52a7704f2408565ca8c12eebba0469')\n",
    "\n",
    "user = trade.use('xq')\n",
    "user.prepare('./xq_new_issue352639.json')\n",
    "\n",
    "## 获取资产情况 \n",
    "#balance = user.balance\n",
    "## 获取股票持仓\n",
    "#position = user.position\n",
    "## 获取当日委托\n",
    "#enturst = user.entrust\n",
    "## 查询当日成交\n",
    "#user.current_deal\n",
    "## 查询最近30天的交割单\n",
    "# user.exchangebill   \n",
    "## 指定查询时间段, 日期格式为 \"20160214\"\n",
    "# user.get_exchangebill('开始日期', '截止日期')   \n",
    "\n",
    "# user.buy('162411', price=0.55, amount=100) ## 买入委托\n",
    "# user.sell('162411', price=0.55, amount=100) ## 卖出委托\n",
    "# user.cancel_entrust('委托单号', '股票代码')  ##撤单\n",
    "\n",
    "#helpers.get_today_ipo_data() ##当日申购新股\n",
    "# user.get_ipo_limit('申购代码') ##申购限额\n",
    "\n",
    "##雪球组合调仓\n",
    "#user.adjust_weight('000001', 10)"
   ]
  },
  {
   "cell_type": "code",
   "execution_count": 2,
   "metadata": {
    "collapsed": false
   },
   "outputs": [
    {
     "name": "stdout",
     "output_type": "stream",
     "text": [
      "\n",
      "Start download new_issue_20161206.csv\n",
      "\n",
      "Done download new_issue_20161206.csv\n",
      "        ticker  ticker.1        secID secShortName    listDate  totalShares  \\\n",
      "002813    2813      2813  002813.XSHE         路畅科技  2016-10-12    120000000   \n",
      "300548  300548    300548  300548.XSHE         博创科技  2016-10-12     82670000   \n",
      "300555  300555    300555  300555.XSHE         路通视信  2016-10-18     80000000   \n",
      "300553  300553    300553  300553.XSHE         集智股份  2016-10-21     48000000   \n",
      "603859  603859    603859  603859.XSHG         能科股份  2016-10-21    113560000   \n",
      "603258  603258    603258  603258.XSHG         电魂网络  2016-10-26    240000000   \n",
      "603716  603716    603716  603716.XSHG          塞力斯  2016-10-31     50940000   \n",
      "002818    2818      2818  002818.XSHE          富森美  2016-11-09    440000000   \n",
      "\n",
      "        nonrestFloatShares     endDate  \n",
      "002813            30000000  2016-09-30  \n",
      "300548            20670000  2016-09-30  \n",
      "300555            20000000  2016-09-30  \n",
      "300553            12000000  2016-09-30  \n",
      "603859            28390000  2016-09-30  \n",
      "603258            60000000  2016-09-30  \n",
      "603716            12740000  2016-09-30  \n",
      "002818            44000000  2016-09-30  \n",
      "调出: "
     ]
    },
    {
     "name": "stderr",
     "output_type": "stream",
     "text": [
      "2016-12-06 10:11:10,915 [DEBUG] xqtrader.py 304: 调仓比例:0.000000, 剩余持仓 :23.110000\n",
      "2016-12-06 10:11:11,080 [DEBUG] xqtrader.py 319: 调仓 五洲新春: 持仓比例0\n",
      "2016-12-06 10:11:11,081 [DEBUG] xqtrader.py 326: 调仓成功 五洲新春: 持仓比例0\n"
     ]
    },
    {
     "name": "stdout",
     "output_type": "stream",
     "text": [
      " 五洲新春\n",
      "调入: "
     ]
    },
    {
     "name": "stderr",
     "output_type": "stream",
     "text": [
      "2016-12-06 10:11:11,188 [DEBUG] xqtrader.py 304: 调仓比例:20.000000, 剩余持仓 :3.110000\n",
      "2016-12-06 10:11:11,312 [DEBUG] xqtrader.py 319: 调仓 集智股份: 持仓比例20\n",
      "2016-12-06 10:11:11,312 [DEBUG] xqtrader.py 326: 调仓成功 集智股份: 持仓比例20\n"
     ]
    },
    {
     "name": "stdout",
     "output_type": "stream",
     "text": [
      " 300553 20\n",
      "调入: "
     ]
    },
    {
     "name": "stderr",
     "output_type": "stream",
     "text": [
      "2016-12-06 10:11:11,436 [DEBUG] xqtrader.py 304: 调仓比例:20.000000, 剩余持仓 :-16.890000\n",
      "2016-12-06 10:11:11,656 [DEBUG] xqtrader.py 319: 调仓 能科股份: 持仓比例20\n",
      "2016-12-06 10:11:11,656 [DEBUG] xqtrader.py 326: 调仓成功 能科股份: 持仓比例20\n"
     ]
    },
    {
     "name": "stdout",
     "output_type": "stream",
     "text": [
      " 603859 20\n",
      "调入: "
     ]
    },
    {
     "name": "stderr",
     "output_type": "stream",
     "text": [
      "2016-12-06 10:11:11,779 [DEBUG] xqtrader.py 304: 调仓比例:20.000000, 剩余持仓 :-20.000000\n",
      "2016-12-06 10:11:11,900 [DEBUG] xqtrader.py 319: 调仓 富森美: 持仓比例20\n",
      "2016-12-06 10:11:11,903 [DEBUG] xqtrader.py 326: 调仓成功 富森美: 持仓比例20\n"
     ]
    },
    {
     "name": "stdout",
     "output_type": "stream",
     "text": [
      " 002818 20\n"
     ]
    }
   ],
   "source": [
    "#获取优矿当前持仓\n",
    "max_pos = 20 \n",
    "\n",
    "today = dt.date.today() \n",
    "filename = 'new_issue_'+today.strftime('%Y%m%d')+'.csv'\n",
    "sess.download_data(filename)\n",
    "uqer = pd.DataFrame()\n",
    "uqer = uqer.from_csv(filename)\n",
    "if len(uqer) > 0 : \n",
    "    uqer = uqer.reset_index()\n",
    "    uqer = uqer.set_index(uqer.secID.apply(lambda x:x[0:6]).values)\n",
    "    print(uqer)  \n",
    "\n",
    "    # 获取当前需求持仓\n",
    "    mkv = pd.DataFrame(user.balance)\n",
    "    cash_pct = 100 * mkv.current_balance.values[0] / mkv.asset_balance.values[0]\n",
    "    pos = pd.DataFrame(user.position)\n",
    "    if len(pos) > 0 :   \n",
    "        pos = pos.set_index(pos.stock_code.apply(lambda x:x[2:8]).values)\n",
    "        pos['c_pct'] = 100.0 * pos.market_value / mkv.asset_balance.values[0] \n",
    "\n",
    "\n",
    "    # 开始调仓, 卖出不在类表中的, 调整股票池中的比例\n",
    "    for s in pos.index:\n",
    "        if not s in uqer.index:\n",
    "            print('调出: ', pos.loc[s,'stock_name'])\n",
    "            try : \n",
    "                user.adjust_weight(s,0.0)  \n",
    "            except webtrader.TradeError as e: \n",
    "                print(s,'调整失败',e)\n",
    "    for s in uqer.index:\n",
    "        if not s in pos.index:\n",
    "            pct = min(max_pos,cash_pct)\n",
    "            print('调入: ', s, pct)\n",
    "            try : \n",
    "                user.adjust_weight(s,pct)  \n",
    "            except webtrader.TradeError as e: \n",
    "                print(s,'调整失败',e)\n",
    "\n",
    "shutil.copyfile(filename,\".\\\\data\\\\\" + filename)    \n",
    "os.remove(\".\\\\\"+filename)\n",
    "\n"
   ]
  },
  {
   "cell_type": "code",
   "execution_count": null,
   "metadata": {
    "collapsed": false
   },
   "outputs": [],
   "source": []
  }
 ],
 "metadata": {
  "kernelspec": {
   "display_name": "Python 3",
   "language": "python",
   "name": "python3"
  },
  "language_info": {
   "codemirror_mode": {
    "name": "ipython",
    "version": 3
   },
   "file_extension": ".py",
   "mimetype": "text/x-python",
   "name": "python",
   "nbconvert_exporter": "python",
   "pygments_lexer": "ipython3",
   "version": "3.5.0"
  }
 },
 "nbformat": 4,
 "nbformat_minor": 0
}
