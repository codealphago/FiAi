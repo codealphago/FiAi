{
 "cells": [
  {
   "cell_type": "markdown",
   "metadata": {},
   "source": [
    "[用量化公式追逐巴菲特选股的阿尔法之旅(四因素模型)] 基于规模、价值、动量以及质量因子的投资策略，他们把这些介于传统的CAPM贝塔和阿尔法之间的新策略统称为“聪明贝塔”策略\n",
    "\n",
    "范围:(规模,板块[创业板,主板,中小版],行业,主题[环保,新能源,工业4,机器人AI])\n",
    "风格:(价值,成长,性质[央企,国企,私企,外企])\n",
    "质量:(高利润,高成长,稳定和优良的管理,股息收益率,自由现金流收益率)\n",
    "动量:(波动率,技术指标[价格逐步上涨,MACD,RSI])\n",
    "[策略组合选择]\n",
    "\n",
    "规模投资: [买入小盘股], 发达市场小盘股正阿尔法在学术成果公开后基本消失了, 可以得和风险匹配的回报.\n",
    "价值投资: [买入低估值的股票], 低估值的公司未必是高质量的公司,价格可能长期低迷,落入价值陷阱.\n",
    "动量投资: [买入过去价格上涨的股票], 回报远高于价值投资,但需要判定市场方向,执行难度大\n",
    "质量投资: [买入高质量股票], 质量体现在高利润,高成长,稳定和优良的管理,股票价格偏高,但有正的阿尔法.\n",
    "规模+价值: [买入小盘低估股票], 长期表现高于大盘高估的股票.\n",
    "价值+动量: [买入因外部事件而价格逐步上涨的低估股票], 互补关系可以享受双重好处\n",
    "价值+质量: [买入具有合理价格的高质量股票], 单纯价值投资可能错过这些估值相对较高的股票.\n",
    "价值+质量+动量: [买入价格逐步上涨,但其估值仍然低于高质量应得价格的股票], 互补关系,享受三重好处"
   ]
  },
  {
   "cell_type": "code",
   "execution_count": 1,
   "metadata": {
    "collapsed": false
   },
   "outputs": [],
   "source": [
    "# import \n",
    "import numpy as np\n",
    "import pandas as pd\n",
    "import datetime as dt\n",
    "\n",
    "# '上证50(SH50)、上证 180(SH180)、沪深 300(HS300)、中证 500(ZZ500)、创业板 (CYB)、中小板 (ZXB)、全 A 股 (A)\n",
    "stockList = []\n",
    "tDate = dt.datetime.today() - dt.timedelta(days=1) \n",
    "#tDate = dt.datetime.strptime('2016-01-25','%Y-%m-%d')"
   ]
  },
  {
   "cell_type": "code",
   "execution_count": 4,
   "metadata": {
    "collapsed": false
   },
   "outputs": [],
   "source": [
    "'''范围选择:范围:(规模,板块[创业板,主板,中小版],行业,主题[环保,新能源,工业4,机器人AI])'''\n",
    "#板块选择 \n",
    "\n",
    "#行业选择\n",
    "#主题选择\n",
    "#基本过滤（排除ST，流动性差的（30天平均交易量）\n",
    "def baseFilter(stockList=stockList,trade_date=tDate):\n",
    "    # 去除ST股\n",
    "    seclist = fil.dropST(account,account.universe)\n",
    "    #去掉20个交易日之前的20个交易日平均日交易量小于1000万人民币的股票\n",
    "    seclist = fil.dropLiqid(account,seclist,10)\n",
    "    # 去除新上市或复牌的股票\n",
    "    account.universe = fil.dropNew(account)\n",
    "    # 去除弱势股票\n",
    "    account.universe = fil.dropWeak(account,5)\n",
    "    return seclist\n",
    "\n",
    "#市值较小的股票\n",
    "def filtMarketValue(stockList=stockList,trade_date=tDate,):\n",
    "    \n",
    "    return stockList\n",
    "\n",
    "    "
   ]
  },
  {
   "cell_type": "code",
   "execution_count": 40,
   "metadata": {
    "collapsed": false
   },
   "outputs": [
    {
     "data": {
      "text/plain": [
       "[{'cost_price': 2006.8545000000001,\n",
       "  'current_amount': 100,\n",
       "  'enable_amount': 100,\n",
       "  'income_balance': 0,\n",
       "  'keep_cost_price': 2006.8545000000001,\n",
       "  'last_price': 2006.8545000000001,\n",
       "  'market_value': 200685.45,\n",
       "  'position_str': 'random',\n",
       "  'stock_code': 'SZ000810',\n",
       "  'stock_name': '创维数字'},\n",
       " {'cost_price': 1514.5879,\n",
       "  'current_amount': 100,\n",
       "  'enable_amount': 100,\n",
       "  'income_balance': 0,\n",
       "  'keep_cost_price': 1514.5879,\n",
       "  'last_price': 1514.5879,\n",
       "  'market_value': 151458.79,\n",
       "  'position_str': 'random',\n",
       "  'stock_code': 'SH600466',\n",
       "  'stock_name': '蓝光发展'},\n",
       " {'cost_price': 764.9537000000001,\n",
       "  'current_amount': 100,\n",
       "  'enable_amount': 100,\n",
       "  'income_balance': 0,\n",
       "  'keep_cost_price': 764.9537000000001,\n",
       "  'last_price': 764.9537000000001,\n",
       "  'market_value': 76495.37000000001,\n",
       "  'position_str': 'random',\n",
       "  'stock_code': 'SZ002635',\n",
       "  'stock_name': '安洁科技'},\n",
       " {'cost_price': 1459.4377,\n",
       "  'current_amount': 100,\n",
       "  'enable_amount': 100,\n",
       "  'income_balance': 0,\n",
       "  'keep_cost_price': 1459.4377,\n",
       "  'last_price': 1459.4377,\n",
       "  'market_value': 145943.77,\n",
       "  'position_str': 'random',\n",
       "  'stock_code': 'SZ002217',\n",
       "  'stock_name': '合力泰'}]"
      ]
     },
     "execution_count": 40,
     "metadata": {},
     "output_type": "execute_result"
    }
   ],
   "source": [
    "import tushare as ts\n",
    "import easytrader as trade\n",
    "from easytrader import helpers\n",
    "\n",
    "# ipo_data = helpers.get_today_ipo_data()\n",
    "# print(ipo_data)\n",
    "# 佣金宝账户\n",
    "# user = trade.use('yjb')\n",
    "# user.prepare('./yjb.json')\n",
    "# user.balance\n",
    "# user.position\n",
    "# user.exit()\n",
    "# user.entrust\n",
    "#user.exchangebill\n",
    "# user.current_deal\n",
    "\n",
    "#雪球模拟账户\n",
    "# user = trade.use('xq')\n",
    "# user.prepare('./ht.json')\n",
    "# user.balance\n",
    "user.position\n"
   ]
  },
  {
   "cell_type": "code",
   "execution_count": null,
   "metadata": {
    "collapsed": true
   },
   "outputs": [],
   "source": []
  }
 ],
 "metadata": {
  "kernelspec": {
   "display_name": "Python 3",
   "language": "python",
   "name": "python3"
  },
  "language_info": {
   "codemirror_mode": {
    "name": "ipython",
    "version": 3
   },
   "file_extension": ".py",
   "mimetype": "text/x-python",
   "name": "python",
   "nbconvert_exporter": "python",
   "pygments_lexer": "ipython3",
   "version": "3.5.0"
  }
 },
 "nbformat": 4,
 "nbformat_minor": 0
}
