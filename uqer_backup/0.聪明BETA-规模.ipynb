{
 "father": "562cdabef9f06c4ca72fb6f8",
 "metadata": {
  "signature": "sha256:4a2a9cf29f89c0ed4c6be5f48c886be6acc1bda4aa779627fe9bea79d56cc973"
 },
 "nbformat": 3,
 "nbformat_minor": 0,
 "worksheets": [
  {
   "cells": [
    {
     "cell_type": "markdown",
     "folded": false,
     "id": "4CC0924027204BCE936CA26A3CAB3FB1",
     "metadata": {},
     "source": [
      "[`\u7528\u91cf\u5316\u516c\u5f0f\u8ffd\u9010\u5df4\u83f2\u7279\u9009\u80a1\u7684\u963f\u5c14\u6cd5\u4e4b\u65c5(\u56db\u56e0\u7d20\u6a21\u578b)`]\n",
      "\u57fa\u4e8e\u89c4\u6a21\u3001\u4ef7\u503c\u3001\u52a8\u91cf\u4ee5\u53ca\u8d28\u91cf\u56e0\u5b50\u7684\u6295\u8d44\u7b56\u7565\uff0c\u4ed6\u4eec\u628a\u8fd9\u4e9b\u4ecb\u4e8e\u4f20\u7edf\u7684CAPM\u8d1d\u5854\u548c\u963f\u5c14\u6cd5\u4e4b\u95f4\u7684\u65b0\u7b56\u7565\u7edf\u79f0\u4e3a\u201c\u806a\u660e\u8d1d\u5854\u201d\u7b56\u7565\n",
      "1. \u8303\u56f4:(\u89c4\u6a21,\u677f\u5757[\u521b\u4e1a\u677f,\u4e3b\u677f,\u4e2d\u5c0f\u7248],\u884c\u4e1a,\u4e3b\u9898[\u73af\u4fdd,\u65b0\u80fd\u6e90,\u5de5\u4e1a4,\u673a\u5668\u4ebaAI])   \n",
      "2. \u98ce\u683c:(\u4ef7\u503c,\u6210\u957f,\u5468\u671f\uff0c\u6027\u8d28[\u592e\u4f01,\u56fd\u4f01,\u79c1\u4f01,\u5916\u4f01])\n",
      "3. \u8d28\u91cf:(\u9ad8\u5229\u6da6,\u9ad8\u6210\u957f,\u7a33\u5b9a\u548c\u4f18\u826f\u7684\u7ba1\u7406,\u80a1\u606f\u6536\u76ca\u7387,\u81ea\u7531\u73b0\u91d1\u6d41\u6536\u76ca\u7387)\n",
      "4. \u52a8\u91cf:(\u6ce2\u52a8\u7387,\u6280\u672f\u6307\u6807[\u4ef7\u683c\u9010\u6b65\u4e0a\u6da8,MACD,RSI])\n",
      "\n",
      "[`\u7b56\u7565\u7ec4\u5408\u9009\u62e9`]\n",
      "- \u89c4\u6a21\u6295\u8d44: [`\u4e70\u5165\u5c0f\u76d8\u80a1`],      \u53d1\u8fbe\u5e02\u573a\u5c0f\u76d8\u80a1\u6b63\u963f\u5c14\u6cd5\u5728\u5b66\u672f\u6210\u679c\u516c\u5f00\u540e\u57fa\u672c\u6d88\u5931\u4e86, \u53ef\u4ee5\u5f97\u548c\u98ce\u9669\u5339\u914d\u7684\u56de\u62a5. \n",
      "- \u4ef7\u503c\u6295\u8d44: [`\u4e70\u5165\u4f4e\u4f30\u503c\u7684\u80a1\u7968`],  \u4f4e\u4f30\u503c\u7684\u516c\u53f8\u672a\u5fc5\u662f\u9ad8\u8d28\u91cf\u7684\u516c\u53f8,\u4ef7\u683c\u53ef\u80fd\u957f\u671f\u4f4e\u8ff7,\u843d\u5165\u4ef7\u503c\u9677\u9631. \n",
      "- \u52a8\u91cf\u6295\u8d44: [`\u4e70\u5165\u8fc7\u53bb\u4ef7\u683c\u4e0a\u6da8\u7684\u80a1\u7968`], \u56de\u62a5\u8fdc\u9ad8\u4e8e\u4ef7\u503c\u6295\u8d44,\u4f46\u9700\u8981\u5224\u5b9a\u5e02\u573a\u65b9\u5411,\u6267\u884c\u96be\u5ea6\u5927 \n",
      "- \u8d28\u91cf\u6295\u8d44: [`\u4e70\u5165\u9ad8\u8d28\u91cf\u80a1\u7968`],       \u8d28\u91cf\u4f53\u73b0\u5728\u9ad8\u5229\u6da6,\u9ad8\u6210\u957f,\u7a33\u5b9a\u548c\u4f18\u826f\u7684\u7ba1\u7406,\u80a1\u7968\u4ef7\u683c\u504f\u9ad8,\u4f46\u6709\u6b63\u7684\u963f\u5c14\u6cd5.\n",
      "- \u89c4\u6a21+\u4ef7\u503c: [`\u4e70\u5165\u5c0f\u76d8\u4f4e\u4f30\u80a1\u7968`],    \u957f\u671f\u8868\u73b0\u9ad8\u4e8e\u5927\u76d8\u9ad8\u4f30\u7684\u80a1\u7968.\n",
      "- \u4ef7\u503c+\u52a8\u91cf: [`\u4e70\u5165\u56e0\u5916\u90e8\u4e8b\u4ef6\u800c\u4ef7\u683c\u9010\u6b65\u4e0a\u6da8\u7684\u4f4e\u4f30\u80a1\u7968`],   \u4e92\u8865\u5173\u7cfb\u53ef\u4ee5\u4eab\u53d7\u53cc\u91cd\u597d\u5904\n",
      "- \u4ef7\u503c+\u8d28\u91cf: [`\u4e70\u5165\u5177\u6709\u5408\u7406\u4ef7\u683c\u7684\u9ad8\u8d28\u91cf\u80a1\u7968`],     \u5355\u7eaf\u4ef7\u503c\u6295\u8d44\u53ef\u80fd\u9519\u8fc7\u8fd9\u4e9b\u4f30\u503c\u76f8\u5bf9\u8f83\u9ad8\u7684\u80a1\u7968.\n",
      "- \u4ef7\u503c+\u8d28\u91cf+\u52a8\u91cf: [`\u4e70\u5165\u4ef7\u683c\u9010\u6b65\u4e0a\u6da8,\u4f46\u5176\u4f30\u503c\u4ecd\u7136\u4f4e\u4e8e\u9ad8\u8d28\u91cf\u5e94\u5f97\u4ef7\u683c\u7684\u80a1\u7968`],  \u4e92\u8865\u5173\u7cfb,\u4eab\u53d7\u4e09\u91cd\u597d\u5904\n",
      "\n"
     ]
    },
    {
     "cell_type": "strategy",
     "collapsed": false,
     "has_detail": true,
     "id": "24CC5323F04B46A58FC0BD2E785336DE",
     "input": "import numpy as np\nimport pandas as pd\nimport datetime as dt\nfrom CAL.PyCAL import *\nfrom DataAPI import *\n\nimport lib.filter as  filt\nimport lib.beta as beta\n\nstart = '2016-01-01'                       # \u56de\u6d4b\u8d77\u59cb\ncal2 = Calendar('China.SSE')\nperiod = Period('-1B')\ntoday = Date.todaysDate()\nend = cal2.advanceDate(today,period).strftime('%Y-%m-%d') #\u5f53\u5929\n#end = '2014-12-31'                         # \u56de\u6d4b\u7ed3\u675f\u65f6\u95f4\n\ncommission = Commission(buycost=0.0008, sellcost=0.0018)  # \u4f63\u91d1\u4e07\u516b\ncapital_base = 1000000                      # \u8d77\u59cb\u8d44\u91d1\nfreq = 'd'                              # \u7b56\u7565\u7c7b\u578b\uff0c'd'\u8868\u793a\u65e5\u95f4\u7b56\u7565\u4f7f\u7528\u65e5\u7ebf\u56de\u6d4b\uff0c'm'\u8868\u793a\u65e5\u5185\u7b56\u7565\u4f7f\u7528\u5206\u949f\u7ebf\u56de\u6d4b\nrefresh_rate = 10                          # \u8c03\u4ed3\u9891\u7387\uff0c\u8868\u793a\u6267\u884chandle_data\u7684\u65f6\u95f4\u95f4\u9694\uff0c\u82e5freq = 'd'\u65f6\u95f4\u95f4\u9694\u7684\u5355\u4f4d\u4e3a\u4ea4\u6613\u65e5\uff0c\u82e5freq = 'm'\u65f6\u95f4\u95f4\u9694\u4e3a\u5206\u949f\n\nbenchmark = 'HS300'                       # \u7b56\u7565\u53c2\u8003\u6807\u51c6\nuniverse = set_universe('HS300') + set_universe('ZZ500')\n\nmax_percent_of_a_stock = 0.1 # \u5355\u652f\u80a1\u7684\u6700\u5927\u4ed3\u4f4d\nmax_stock = 5 #\u6700\u5927\u80a1\u7968\u6570\n\ndef initialize(account):                   # \u521d\u59cb\u5316\u865a\u62df\u8d26\u6237\u72b6\u6001\n    pass\n\ndef handle_data(account):                  # \u6bcf\u4e2a\u4ea4\u6613\u65e5\u7684\u4e70\u5165\u5356\u51fa\u6307\u4ee4\n    \n    buys = []\n    sells = []\n    cur_date = account.current_date.strftime('%Y%m%d')\n    pre_date = account.previous_date.strftime('%Y%m%d')\n    \n    #buys = beta.randomFilter(account.universe)\n    seclist = beta.removeFilter(account.universe,account.current_date)\n    buys = beta.marketValueFilter(seclist,account.current_date,max_stock)\n    #buys = beta.jiazhiFilter(seclist,account.current_date)\n    print len(buys)\n    if len(buys) > max_stock :\n        buys = beta.randomFilter(buys,max_stock)\n    \n    \n    #\u4ed3\u4f4d\u8c03\u6574----------------------------------------\n    avail_sell = account.avail_secpos.keys() # \u53ef\u5356\u8bc1\u5238\u5934\u5bf8\n  \n    sells = beta.sellStrategy(avail_sell,buys)  \n    for sell_stk in sells:\n        #print(cur_date+u\"|Sell|\"+sell_stk)\n        order_to(sell_stk, 0)\n        \n    buys = beta.buyStrategy(avail_sell,buys) \n    value = account.referencePortfolioValue / max_stock\n    for buy_stk in buys:\n        amount = 100 * int(value / account.referencePrice[buy_stk]/100)\n        if amount > 100:\n            #print cur_date+'|buy|'+buy_stk+':' ,amount  \n            order(buy_stk, amount)\n",
     "language": "python",
     "metadata": {},
     "outputs": [
      {
       "output_type": "stream",
       "stream": "stdout",
       "text": "5"
      },
      {
       "output_type": "stream",
       "stream": "stdout",
       "text": "\n5"
      },
      {
       "output_type": "stream",
       "stream": "stdout",
       "text": "\n"
      },
      {
       "metadata": {},
       "output_type": "pyout",
       "prompt_number": 7,
       "text": "'{\"information\": -2.53793, \"benchmark_cumulative_return\": {\"1452038400000\": -0.0512454419, \"1453939200000\": -0.2351240483, \"1452729600000\": -0.1365406908, \"1452556800000\": -0.1381115812, \"1453334400000\": -0.1741246661, \"1453766400000\": -0.2118721363, \"1452816000000\": -0.1641045777, \"1453075200000\": -0.1608885542, \"1451865600000\": -0.0702060169, \"1452643200000\": -0.154147743, \"1453420800000\": -0.1655162617, \"1453680000000\": -0.1613825229, \"1451952000000\": -0.0676024288, \"1453248000000\": -0.1491895615, \"1453161600000\": -0.136124181, \"1452470400000\": -0.1443458264, \"1452124800000\": -0.1170250375, \"1452211200000\": -0.0990194331, \"1453852800000\": -0.2145944591}, \"benchmark_annualized_return\": -0.9706, \"turnover_rate\": 0.95875, \"max_drawdown\": 0.31103, \"beta\": 1.47055, \"sharpe\": -1.23574, \"alpha\": 0.44826, \"volatility\": 0.82645, \"annualized_return\": -0.99257, \"cumulative_return\": {\"1452038400000\": -0.0090674392, \"1453939200000\": -0.3110298944, \"1452729600000\": -0.0946304392, \"1452556800000\": -0.0900524392, \"1453334400000\": -0.2000718944, \"1453766400000\": -0.2605438944, \"1452816000000\": -0.1700734392, \"1453075200000\": -0.1684658944, \"1451865600000\": -0.0912534392, \"1452643200000\": -0.1184114392, \"1453420800000\": -0.1935318944, \"1453680000000\": -0.1866858944, \"1451952000000\": -0.0846794392, \"1453248000000\": -0.1600498944, \"1453161600000\": -0.1420098944, \"1452470400000\": -0.0656304392, \"1452124800000\": -0.1031164392, \"1452211200000\": -0.0385684392, \"1453852800000\": -0.2662658944}}'"
      }
     ]
    },
    {
     "cell_type": "markdown",
     "id": "37C2D97AA1E34947831D7A76F5D5E18C",
     "metadata": {},
     "source": [
      "\u56de\u6d4b\u53ef\u4ee5\u53d1\u73b0\uff0c\u8fd9\u79cd\u6295\u8d44\u4f53\u7cfb\u80fd\u591f\u5b8c\u7f8e\u8eb2\u8fc7\u80a1\u707e\uff0c\u5e76\u4e14\u80fd\u5728\u80a1\u707e\u4e2d\u7cbe\u51c6\u6284\u5e95\u83b7\u5229 \uff1a-)\n",
      "20121201 - 20151221 \u56de\u6d4b: \u5e74\u5316\u6536\u76ca49.8, alpha: 33.8 , \u6700\u5927\u56de\u64a4< 30%  , \u53ef\u4ee5\u89c4\u907f\u8f83\u5927\u56de\u64a4\u98ce\u9669, \u53cd\u5f39\u65f6\u6bd4\u5927\u76d8\u53cd\u5f39\u66f4\u5feb, \u6709\u8d85\u989d\u6536\u76ca\n",
      "\u53c2\u6570: downPercent=0.3 , overflow = 0.0 - 0.1, max_percent_of_a_stock = 0.3 # \u5355\u652f\u80a1\u7684\u6700\u5927\u4ed3\u4f4d"
     ]
    },
    {
     "cell_type": "code",
     "collapsed": false,
     "id": "9ECF064A13034298B07A4A5189F67FE0",
     "input": [],
     "language": "python",
     "metadata": {},
     "outputs": []
    }
   ],
   "metadata": {}
  }
 ]
}