{
 "metadata": {
  "signature": "sha256:9c3763548bf8ccf67a5d8fc63dffd267e09011ca9c8cb7cba5186a4d74502b66"
 },
 "nbformat": 3,
 "nbformat_minor": 0,
 "worksheets": [
  {
   "cells": [
    {
     "cell_type": "code",
     "collapsed": false,
     "id": "B275CC506D3F421F89F792E955403A31",
     "input": [
      "df = list_files()  \n",
      "for f in df :\n",
      "    if f[0:3] == 'pos' or f[0:4] == 'grid' or f[0:3] == 'new':\n",
      "        delete_files([f])"
     ],
     "language": "python",
     "metadata": {},
     "outputs": []
    }
   ],
   "metadata": {}
  }
 ]
}