{
 "father": "567a4fbd228e5b344568810f",
 "metadata": {
  "signature": "sha256:dab8817d05d630881d560bd4f1935641d82ff7448406803a12e95e33e7f547a5"
 },
 "nbformat": 3,
 "nbformat_minor": 0,
 "worksheets": [
  {
   "cells": [
    {
     "cell_type": "markdown",
     "id": "6C52CA5EB9AB4C56A9ADAA53FDDDACD1",
     "metadata": {},
     "source": [
      "## \u5f15\u8a00\n",
      "\u867d\u7136\u79bb\u5f00\u7269\u7406\u4e13\u4e1a\u6709\u597d\u51e0\u5e74\u4e86\uff0c\u4f46\u4e00\u76f4\u6709\u4e9b\u5ff5\u5ff5\u4e0d\u5fd8\uff0c\u7801\u7740\u4ee3\u7801\uff0c\u5199\u7740\u5f00\u9898\u62a5\u544a\uff0c\u53c8\u95f2\u4e0d\u4f4f\u60f3\u6765\u8bb2\u4e00\u4e2a\u6ca1\u6709\u597d\u5947\u5fc3\u7684\u7269\u7406\u5b66\u5bb6\u4e0d\u662f\u597d\u91d1\u878d\u5b66\u5bb6\u7684\u6545\u4e8b\u3002\n",
      "\n",
      "\u53d1\u73b0\u91d1\u878d\u6ce1\u6cab\u5e76\u9884\u6d4b\u5230\u5176\u4f55\u65f6\u7834\u88c2\u662f\u5f88\u591a\u4ece\u4e8b\u91d1\u878d\u884c\u4e1a\u7684\u4eba\u7684\u68a6\u60f3\u3002\u5982\u4eca\u4e2d\u56fd\u80a1\u5e02\u4e5f\u6210\u4e3a\u4e86\u70ed\u95e8\u7684\u8bdd\u9898\uff0c\u7136\u800c\uff0c\u8d44\u672c\u72c2\u6b22\u4e4b\u540e\u662f\u80a1\u707e\uff0c\u591a\u5c11\u4eba\u56e0\u6b64\u4ece\u5343\u4e07\u5bcc\u7fc1\u7092\u80a1\u53d8\u6210\u767e\u4e07\u5bcc\u7fc1\uff0c\u9884\u6d4b\u6ce1\u6cab\u662f\u6240\u6709\u4eba\u7684\u68a6\u60f3\u3002\n",
      "\n",
      "\u6211\u4eec\u7684\u4e3b\u89d2Sornette\u6559\u6388\u767b\u573a\u4e86\u3002Didier Sornette\u662f\u4e00\u4f4d\u53d7\u8fc7\u57f9\u8bad\u7684\u7edf\u8ba1\u7269\u7406\u5b66\u5bb6\u548c\u5730\u7403\u7269\u7406\u5b66\u5bb6\uff0c\u76ee\u524d\u5728\u745e\u58eb\u8054\u90a6\u7406\u5de5\u5b66\u9662\u82cf\u9ece\u4e16\u5206\u6821(Swiss Federal Institute of Technology in Zurich)\u4efb\u91d1\u878d\u5b66\u6559\u6388\uff0c\u4e3b\u8bb2\u521b\u4e1a\u98ce\u9669\u3002\u4ed6\u4f3c\u4e4e\u5e76\u6ca1\u6709\u56e0\u5916\u754c\u5bf9\u8fd9\u79cd\u7efc\u5408\u5b66\u79d1\u7814\u7a76\u65b9\u6cd5\u7684\u70ed\u60c5\u6709\u6240\u51cf\u5f31\u800c\u611f\u5230\u70e6\u607c\u3002\u76f8\u53cd\uff0c\u4ed6\u8fd8\u5728\u505a\u81ea\u5df1\u5927\u90e8\u5206\u804c\u4e1a\u751f\u6daf\u4e00\u76f4\u5728\u505a\u7684\u4e8b\uff1a\u4e0d\u4ec5\u5728\u4e3b\u8981\u7269\u7406\u671f\u520a\u4e0a\u53d1\u8868\u6587\u7ae0\uff0c\u8fd8\u5728\u9886\u5148\u7684\u91d1\u878d\u671f\u520a\u4e0a\u53d1\u8868\u6587\u7ae0\u3002\n",
      "\n",
      "Sornette\u6559\u6388\u5f00\u59cb\u5c1d\u8bd5\u7740\u89e3\u7b54\u8fd9\u4e2a\u95ee\u9898\u2014\u2014\u4e0d\u662f\u901a\u8fc7\u4f20\u7edf\u7684\u91d1\u878d\u5b66\u65b9\u6cd5\uff0c\u800c\u662f\u5c06\u7269\u7406\u5b66\u601d\u60f3\u5f15\u5165\u5176\u4e2d\u3002\u4f5c\u4e3a2004\u5e74\u51fa\u7248\u7684\u300a\u80a1\u5e02\u4e3a\u4ec0\u4e48\u4f1a\u5d29\u76d8\u300b(Why Stock Markets Crash)\u4e00\u4e66\u7684\u4f5c\u8005\uff0cSornette\u6559\u6388\u5b9e\u8d28\u4e0a\u662f\u5e0c\u671b\u66f4\u6df1\u523b\u5730\u7406\u89e3\u6ce1\u6cab\u7684\u5f62\u6210\u548c\u53d1\u5c55\u3002\u5728\u5bf9\u590d\u6742\u4f53\u7cfb\u7684\u5206\u6790\u4e2d\uff0c\u4ed6\u72ec\u81ea\u2014\u2014\u6216\u8005\u662f\u548c\u6781\u5c11\u6570\u51e0\u4e2a\u4eba\u4e00\u8d77\u2014\u2014\u5f15\u9886\u7740\u4e09\u4e2a\u5e76\u884c\u9886\u57df\uff1a\u7eaf\u7269\u7406\u5b66\u3001\u5e94\u7528\u7ecf\u6d4e\u5b66\u548c\u8ba1\u91cf\u7ecf\u6d4e\u5b66\uff0c\u4ee5\u53ca\u5e02\u573a\u4ece\u4e1a\u4eba\u5458\u3002\n",
      "\n",
      "\u5728\u300a\u80a1\u5e02\u4e3a\u4ec0\u4e48\u4f1a\u5d29\u76d8\u300b\u4e00\u4e66\u4e2d\uff0cSornette\u6559\u6388\u5168\u9762\u5206\u6790\u4e86\u4e00\u4e2a\u7531\u5176\u63d0\u51fa\u7684\u9884\u6d4b\u5e02\u573a\u6ce1\u6cab\u7684\u6a21\u578b\u2014\u2014`\u5bf9\u6570\u5468\u671f\u5e42\u5f8b\uff08LPPL\uff09\u6a21\u578b`\u3002\u8be5\u6a21\u578b\u5bf9\u4e4b\u540e\u8bb8\u591a\u6b21\u5e02\u573a\u6ce1\u6cab\u90fd\u8fdb\u884c\u4e86\u51c6\u786e\u7684\u9884\u6d4b\uff0c\u7531\u4e8e\u8be5\u6a21\u578b\u7531Johansen\uff0cLedoit\u548cSornette\u5171\u540c\u63d0\u51fa\u5e76\u5b8c\u5584\uff0c\u56e0\u6b64\u4e5f\u88ab\u79f0\u4e3aJLS\u6a21\u578b\u3002\u6211\u4eec\u6765\u804a\u4e00\u804a\u5b83\u3002\n",
      "\n",
      "## \u4ec0\u4e48\u662f\u5bf9\u6570\u5468\u671f\u5e42\u7387\u6a21\u578b\uff1f\n",
      "\u4f5c\u4e3a\u7eaf\u7269\u7406\u5b66\u5bb6\u7684Sornettee\u6559\u6388\u4e0d\u7518\u4e8e\u4ec5\u4ec5\u5728\u7269\u7406\u5b66\u9886\u57df\u6709\u6240\u5efa\u6811\uff0c\u4ed6\u8fd8\u770b\u5230\u4e86\u91d1\u5149\u95ea\u95ea\u7684\u534e\u5c14\u8857\uff0c\u5728\u90a3\u91cc\uff0c\u5404\u7c7b\u70bc\u91d1\u672f\u5e08\u5728\u5bfb\u627e\u5404\u79cd\u5141\u8bb8\u5c11\u6570\u4eba\u6301\u7eed\u83b7\u5229\u7684\u65b9\u6cd5\u3002\u4e8e\u662f\uff0cSornettee\u6559\u6388\u5728\u91d1\u878d\u9886\u57df\u7684\u8de8\u754c\u4e4b\u65c5\u5f00\u59cb\u4e86\u3002\u4ed6\u8111\u6d1e\u5927\u5f00\uff0c\u60f3\u5c06\u7269\u7406\u5b66\u6a21\u578b\u5ef6\u4f38\u5230\u91d1\u878d\u5b66\u9886\u57df\u4e2d\uff0c\u800c\u4ed6\u627e\u5230\u7684\u7b2c\u4e00\u628a\u91d1\u5149\u95ea\u95ea\u7684\u94a5\u5319\u53eb\u505a`\u6613\u8f9b\u6a21\u578b`\u2014\u2014\u4e00\u79cd\u63cf\u8ff0\u7269\u8d28\u94c1\u78c1\u6027\u7684\u7ecf\u5178\u6a21\u578b\u3002\u7b80\u5355\u5730\u8bf4\uff0c\u6613\u8f9b\u6a21\u578b\u8ba4\u4e3a\u5355\u4e2a\u539f\u5b50\u7684\u78c1\u77e9\u53ea\u53ef\u80fd\u6709\u4e24\u79cd\u72b6\u6001\uff0c`+1\uff08\u81ea\u65cb\u5411\u4e0a\uff09`\u6216\u8005`-1\uff08\u81ea\u65cb\u5411\u4e0b\uff09`\uff0c\u539f\u5b50\u4ee5\u67d0\u79cd\u89c4\u5219\u6392\u5217\u7740\uff0c\u5e76\u5b58\u5728\u7740\u4ea4\u4e92\u4f5c\u7528\uff0c\u4f7f\u5f97\u76f8\u90bb\u4e4b\u95f4\u7684\u539f\u5b50\u7684\u81ea\u65cb\u4e92\u76f8\u5f71\u54cd\u3002\n",
      "\n",
      "Sornette\u6559\u6388\u7684\u773c\u775b\u4eff\u4f5b\u4e00\u4e0b\u5b50\u5145\u6ee1\u4e86\u5149\u8292\uff0c\u4ed6\u4eff\u4f5b\u770b\u5230\u4e86\u7f8e\u5143\u7eb8\u5e01\u4e0a\u7684\u6797\u80af\u5728\u5411\u4ed6\u62db\u624b\u3002\u53d7\u6613\u8f9b\u6a21\u578b\u542f\u53d1\uff0cSornette\u6559\u6388\u8ba4\u4e3a\u5728\u91d1\u878d\u5e02\u573a\u4e2d\uff0c\u6295\u8d44\u8005\u4e5f\u53ea\u5177\u6709\u4e24\u79cd\u72b6\u6001\uff0c\u5373\u4e70\u6216\u8005\u5356\u3002\u540c\u65f6\uff0c\u6295\u8d44\u8005\u7684\u4ea4\u6613\u884c\u4e3a\u53d6\u51b3\u4e8e\u5176\u4ed6\u6295\u8d44\u8005\u7684\u51b3\u7b56\u53ca\u5916\u90e8\u56e0\u7d20\u7684\u5f71\u54cd\uff0c\u8fd9\u4e0e\u6613\u8f9b\u6a21\u578b\u662f\u591a\u4e48\u7684\u76f8\u4f3c\uff01\n",
      "    \n",
      "\u5047\u60f3\u6211\u4eec\u5904\u4e8e\u8fd9\u6837\u7684\u4e00\u4e2a\u5e02\u573a\u4e2d\uff1a\u8d44\u4ea7\u6ca1\u6709\u6d3e\u606f\u3001\u94f6\u884c\u5229\u7387\u4e3a\u96f6\u3001\u5e02\u573a\u6781\u5ea6\u538c\u6076\u98ce\u9669\uff0c\u5e76\u4e14\u5e02\u573a\u6709\u7740\u5145\u8db3\u7684\u6d41\u52a8\u6027\u3002\u663e\u7136\uff0c\u5728\u8fd9\u4e2a\u5e02\u573a\u4e2d\u7684\u91d1\u878d\u8d44\u4ea7\u6ca1\u6709\u4efb\u4f55\u4ef7\u503c\uff0c\u4e5f\u5c31\u662f\u5176\u57fa\u7840\u4ef7\u503c\u4e3a\u96f6\u3002\u5728\u8fd9\u6837\u7684\u6846\u67b6\u5185\uff0c\u5e02\u573a\u4e2d\u51fa\u73b0\u4e24\u7c7b\u6295\u8d44\u8005\uff0c\u5982\u4e0a\u6587\u6240\u8bf4\uff0c\u4e00\u7c7b\u662f\u7406\u6027\u6295\u8d44\u8005\uff0c\u4e00\u7c7b\u662f\u975e\u7406\u6027\u7684\u566a\u58f0\u6295\u8d44\u8005\u3002\u540e\u8005\u5177\u6709\u7f8a\u7fa4\u6548\u5e94\uff0c\u4f7f\u5f97\u91d1\u878d\u8d44\u4ea7\u4ef7\u683c\u504f\u79bb\u5176\u57fa\u7840\u4ef7\u503c\uff0c\u5728\u6ca1\u6709\u8db3\u591f\u7684\u505a\u7a7a\u673a\u5236\u4e0b\uff0c\u8be5\u7ed3\u679c\u5bfc\u81f4`\u7406\u6027\u6295\u8d44\u8005\u4e5f\u4e0d\u5f97\u4e0d\u8ddf\u968f\u566a\u58f0\u6295\u8d44\u8005\u7684\u884c\u4e3a`\uff0c\u901a\u8fc7\u4eab\u53d7\u6ce1\u6cab\u6765\u83b7\u5f97\u6536\u76ca\u3002\u6700\u7ec8\u5f53\u8d8b\u52bf\u8fbe\u5230\u67d0\u4e00\u4e34\u754c\u503c\u65f6\uff0c\u5927\u91cf\u6295\u8d44\u8005\u6ca1\u6709\u8db3\u591f\u7684\u5934\u5bf8\u7ef4\u6301\u8be5\u8d8b\u52bf\uff0c\u4e8e\u662f\u624b\u4e2d\u7684\u5356\u5355\u5bfc\u81f4\u4e86\u5e02\u573a\u7684\u5d29\u76d8\u3002\n",
      "\n",
      "\u90a3\u4e48\u8fd9\u662f\u4e00\u4e2a\u600e\u6837\u7684\u8d8b\u52bf\u5462\uff1fSornette\u6559\u6388\u8003\u8651\u4e86`\u81ea\u6fc0\u52b1\u7684\u6b63\u53cd\u9988\u8fc7\u7a0b`\u7684\u601d\u60f3\uff0c\u800c\u8be5\u8fc7\u7a0b\u4f1a\u5bfc\u81f4\u5927\u91cf\u4ea4\u6613\u8005\u7684\u884c\u4e3a\u65b9\u5f0f\u9010\u6e10\u8d8b\u4e8e\u4e00\u81f4\u3002\u5728\u7ecf\u8fc7\u4e00\u4e9b\u63a8\u5bfc\u4e4b\u540e\uff0cSornette\u6559\u6388\u53d1\u73b0\u8be5\u8d8b\u52bf\u662f\u6309\u5bf9\u6570\u5468\u671f\u5e42\u5f8b\uff08LPPL\uff09\u589e\u957f\uff0c\u8fd9\u91cc\u7ed9\u51fa\u552f\u4e00\u7684\u4e5f\u662f\u6700\u91cd\u8981\u7684\u516c\u5f0f\u3002\n",
      "\n",
      "![fig3](http://mmbiz.qpic.cn/mmbiz/rqx4qqMWQHJoggyEJj4JndzcgHcicic9OthXk1H9fzrgDsaK1GVGD61gvZPK1xR9TcOUqNMHjRkAjjnCl0QPJh3A/640?wx_fmt=jpeg&tp=webp&wxfrom=5&wx_lazy=1)\n",
      "\n",
      "\u8fd9\u91cc\u4e0d\u53bb\u63a2\u8ba8\u8be5\u516c\u5f0f\u7684\u5177\u4f53\u610f\u4e49\uff0c\u8ba9\u6211\u4eec\u770b\u4e00\u4e0b\u5b83\u7684\u6837\u5b50\u3002\n",
      "\n",
      "![fig4](http://mmbiz.qpic.cn/mmbiz/rqx4qqMWQHJoggyEJj4JndzcgHcicic9OtsXywicekIcRicXvErSrhN3aYPYS1tM3lhmWvatu0AsWdlxmWDbs5Nchg/640?wx_fmt=jpeg&tp=webp&wxfrom=5&wx_lazy=1)\n",
      "\n",
      "* \u53ef\u4ee5\u770b\u5230\uff0c\u968f\u7740\u65f6\u95f4\u589e\u957f\uff0c\u8d44\u4ea7\u4ef7\u683c\u6709\u7740\u8fd1\u4f3c\u6307\u6570\u589e\u957f\u7684\u7279\u70b9\uff0c\u4f46\u540c\u65f6\u4e5f\u4f34\u968f\u7740\u4e0d\u65ad\u7684\u632f\u8361\uff0c\u968f\u7740\u65f6\u95f4\u8d8a\u6765\u8d8a\u63a5\u8fd1\u4e34\u754c\u65f6\u95f4\uff0c\u632f\u8361\u7684\u5e45\u5ea6\u9010\u6e10\u51cf\u5c0f\uff0c\u589e\u957f\u901f\u5ea6\u9010\u6e10\u589e\u5927\uff0c\u8fdb\u5165`\u8d85\u6307\u6570`\u7684\u589e\u957f\u72b6\u6001\uff0c\u6700\u7ec8\u5e02\u573a\u5728\u4e34\u754c\u65f6\u95f4\u70b9\u9644\u8fd1\u5d29\u76d8\u3002\u901a\u8fc7\u8be5\u6a21\u578b\uff0c\u4eba\u4eec\u53ef\u4ee5\u63d0\u524d\u83b7\u77e5\u53ef\u80fd\u7684\u4e34\u754c\u65f6\u95f4\u70b9\u6765\u89c4\u907f\u98ce\u9669\u3002\u8be5\u6a21\u578b\u66fe\u6210\u529f\u9884\u6d4b\u4e862008\u5e74\u7684\u77f3\u6cb9\u6ce1\u6cab\uff0c\u7f8e\u56fd\u623f\u5730\u4ea7\u6ce1\u6cab\uff0c\u4ee5\u53ca2009 \u5e74\u4e2d\u56fd\u80a1\u5e02\u6ce1\u6cab\u7b49\u3002\n",
      "\n",
      "\u7136\u800c\uff0c\u8bd5\u56fe\u6839\u636e\u6ce1\u6cab\u8ff9\u8c61\u91c7\u53d6\u884c\u52a8\u7684\u4ea4\u6613\u5458\uff0c\u73b0\u5728\u6216\u8bb8\u4f1a\u975e\u5e38\u5931\u671b\u3002\u6b63\u5982Sornette\u6559\u6388\u81ea\u5df1\u627f\u8ba4\u7684\uff0c\u5176\u7406\u8bba\u5b9e\u9645\u4e0a\u65e8\u5728\u4f30\u8ba1\u8fd9\u79cd\u6ce1\u6cab\u7684\u5b58\u5728\u65f6\u95f4\uff0c\u800c\u8fc7\u65e9\u9000\u51fa\u5e02\u573a\u5c06\u662f\u4e2a\u9519\u8bef\uff0c\u5f88\u53ef\u80fd\u4f1a\u635f\u5931\u5927\u91cf\u8d44\u91d1\uff0c\u7136\u800c\u79bb\u5f00\u8fc7\u665a\u5c31\u4e0d\u662f\u51e0\u4e2a\u4eba\u5931\u53bb\u5de5\u4f5c\u7684\u4e8b\u4e86\u3002\u4e8b\u5b9e\u4e0a\uff0c\u8be5\u6a21\u578b\u5e76\u6ca1\u6709\u8003\u8651\u4ea4\u6613\u8005\u4ee5\u5916\u7684\u56e0\u7d20\uff0c\u6bd4\u5982\u653f\u7b56\u5c42\u9762\u6216\u8005\u5e02\u573a\u60c5\u7eea\u7b49\u56e0\u7d20\uff0c\u4f46\u5c06\u91d1\u878d\u7cfb\u7edf\u8ba4\u4e3a\u662f\u4e00\u4e2a\u590d\u6742\u7cfb\u7edf\u5e76\u52a0\u4ee5\u7814\u7a76\u7684\u601d\u60f3\u662f\u6df1\u8fdc\u7684\u3002\u73b0\u5728\u4e5f\u6709\u8bb8\u591a\u5c06\u8bed\u4e49\u60c5\u7eea\u5206\u6790\u7b49\u7c7b\u4f3c\u673a\u5668\u5b66\u4e60\u7684\u65b9\u6cd5\u5e94\u7528\u4e8e\u6a21\u578b\u4e2d\u6765\u5bf9\u5e02\u573a\u72b6\u6001\u8fdb\u884c\u5206\u6790\u3002\n",
      "\n",
      "\u6beb\u65e0\u7591\u95ee\uff0c\u66f4\u591a\u5730\u4e86\u89e3\u6ce1\u6cab\u7684\u5f62\u6210\u548c\u53d1\u5c55\uff0c\u4ef7\u503c\u662f\u65e0\u6cd5\u4f30\u91cf\u7684\u3002`\u5173\u6ce8\u7ecf\u6d4e\u548c\u91d1\u878d\u4ee5\u5916\u7684\u9886\u57df\u6709\u52a9\u4e8e\u62d3\u5c55\u601d\u8def\uff0c\u4f46\u4e0d\u8981\u6307\u671b\u627e\u5230\u4e00\u4e2a\u6307\u5bfc\u5e02\u573a\u4ea4\u6613\u7684\u4e07\u80fd\u516c\u5f0f\u3002`\n",
      "\n",
      "LPPL\u6a21\u578b\u6536\u5230\u7684\u6279\u8bc4\u4e0e\u6536\u5230\u7684\u8d5e\u626c\u4e00\u6837\u591a\uff0c\u6709\u4e0d\u5c11\u4eba\u8ba4\u4e3a\u8be5\u6a21\u578b\u6ca1\u6709\u64cd\u4f5c\u4ef7\u503c\u3002\u5982\u679c\u4f60\u60f3\u4e86\u89e3\u66f4\u591a\u5173\u4e8e\u5b83\u7684\u4fe1\u606f\uff0c\u53ef\u4ee5\u4ed4\u7ec6\u8be6\u8bfb[Everything You Always Wanted to Know about Log Periodic Power Laws for Bubble Modelling but Were Afraid to Ask](https://kr.mathworks.com/matlabcentral/answers/uploaded_files/12237/frolova-paper-15.pdf)\u3002\n",
      "\n",
      "\u6700\u540e\uff0c\u5982\u679c\u4f60\u6709\u597d\u5947\u5fc3\uff0c\u90a3\u4e48\u4f60\u4e00\u5b9a\u60f3\u77e5\u9053LPPL\u6a21\u578b\u7684\u5b9e\u6218\u7ed3\u679c\u5230\u5e95\u5982\u4f55\u3002`\u4e0b\u9762\u6211\u7528\u4f18\u77ff\u518d\u73b0\u4e86LPPL\u6a21\u578b\u9884\u6d4b2015\u5e74\u590f\u5929A\u80a1\u5e02\u573a\u7684\u6ce1\u6cab\u3002`\n",
      "\n",
      "P.S \u8fd9\u6b21\u80a1\u707e\u867d\u7136\u6211\u9003\u9876\u4e86\uff0c\u4e5f\u8bb8\u6211\u9a6c\u540e\u70ae\u4e86~ :)"
     ]
    },
    {
     "cell_type": "markdown",
     "id": "19C5EA48D3FE4D84AADEF21A6DFA79C1",
     "metadata": {},
     "source": [
      "* \u4f7f\u7528DataAPI.MktIdxdGet()\u51fd\u6570\u83b7\u53d6\u4e0a\u8bc1\u6307\u65702014\u5e741\u67081\u65e5\u81f32015\u5e746\u670810\u65e5\u7684\u6307\u6570\u4fe1\u606f\uff08\u80a1\u707e\u53d1\u751f\u5728\u7ea6\u4e00\u661f\u671f\u540e\uff09\u3002lib\u5e93\u6211\u4e5f\u653e\u5728\u4e86\u6587\u7ae0\u6700\u540e\uff0c\u5927\u5bb6\u53ef\u4ee5\u5c1d\u8bd5\u7740\u4f7f\u7528\u3002\u7279\u522b\u611f\u8c22jd8001\uff0c\u7528\u4e8e\u62df\u5408\u7684GA\u7b97\u6cd5\u7684\u6838\u5fc3\u4ee3\u7801\u6846\u67b6\u6765\u81ea\u4e8e\u4ed6\uff0c\u6211\u5bf9\u53c2\u6570\u8bbe\u7f6e\u505a\u4e86\u7ec6\u81f4\u7684\u8c03\u6574\uff0c\u4ee5\u8ba9\u5b83\u66f4\u597d\u7684\u7b26\u5408A\u80a1\u5e02\u573a\uff0c\u6700\u540e\u6211\u53cb\u597d\u5730\u52a0\u4e0a\u4e86\u4e00\u4e9b\u6ce8\u91ca\u3002"
     ]
    },
    {
     "cell_type": "code",
     "collapsed": false,
     "id": "CEB5513E1FBE406282C07968810DBC9E",
     "input": [
      "import lib.lppltool as lppltool\n",
      "from matplotlib import pyplot as plt\n",
      "import datetime\n",
      "import numpy as np\n",
      "import pandas as pd\n",
      "import seaborn as sns\n",
      "sns.set_style('white')\n",
      "\n",
      "limits = ([8.4, 8.8], [-1, -0.1], [245, 300], [.1,.9], [-1,1], [12,18], [0, 2*np.pi])\n",
      "x = lppltool.Population(limits, 20, 0.3, 1.5, .05, 4)\n",
      "for i in range (2):\n",
      "\tx.Fitness()\n",
      "\tx.Eliminate()\n",
      "\tx.Mate()\n",
      "\tx.Mutate()\n",
      "\t\n",
      "x.Fitness()\t\n",
      "values = x.BestSolutions(3)\n",
      "for x in values:\n",
      "\tprint x.PrintIndividual()"
     ],
     "language": "python",
     "metadata": {},
     "outputs": [
      {
       "output_type": "stream",
       "stream": "stdout",
       "text": [
        "======== total data size: "
       ]
      },
      {
       "output_type": "stream",
       "stream": "stdout",
       "text": [
        " 245\n",
        "Fitness Evaluating: 0 of 20        \r"
       ]
      },
      {
       "output_type": "stream",
       "stream": "stdout",
       "text": [
        "Fitness Evaluating: 1 of 20        \r",
        "Fitness Evaluating: 2 of 20        \r"
       ]
      },
      {
       "output_type": "stream",
       "stream": "stdout",
       "text": [
        "Fitness Evaluating: 3 of 20        \r",
        "Fitness Evaluating: 4 of 20        \r"
       ]
      },
      {
       "output_type": "stream",
       "stream": "stdout",
       "text": [
        "Fitness Evaluating: 5 of 20        \r",
        "Fitness Evaluating: 6 of 20        \r"
       ]
      },
      {
       "output_type": "stream",
       "stream": "stdout",
       "text": [
        "Fitness Evaluating: 7 of 20        \r",
        "Fitness Evaluating: 8 of 20        \r"
       ]
      },
      {
       "output_type": "stream",
       "stream": "stdout",
       "text": [
        "Fitness Evaluating: 9 of 20        \r",
        "Fitness Evaluating: 10 of 20        \r"
       ]
      },
      {
       "output_type": "stream",
       "stream": "stdout",
       "text": [
        "Fitness Evaluating: 11 of 20        \r",
        "Fitness Evaluating: 12 of 20        \r"
       ]
      },
      {
       "output_type": "stream",
       "stream": "stdout",
       "text": [
        "Fitness Evaluating: 13 of 20        \r",
        "Fitness Evaluating: 14 of 20        \r"
       ]
      },
      {
       "output_type": "stream",
       "stream": "stdout",
       "text": [
        "Fitness Evaluating: 15 of 20        \r",
        "Fitness Evaluating: 16 of 20        \r"
       ]
      },
      {
       "output_type": "stream",
       "stream": "stdout",
       "text": [
        "Fitness Evaluating: 17 of 20        \r",
        "Fitness Evaluating: 18 of 20        \r"
       ]
      },
      {
       "output_type": "stream",
       "stream": "stdout",
       "text": [
        "Fitness Evaluating: 19 of 20        \r\n",
        " fitness out size: 20 0"
       ]
      },
      {
       "output_type": "stream",
       "stream": "stdout",
       "text": [
        "\n",
        "Eliminate: 14\n",
        "Mate Loop complete: 25\n",
        "Mutate: 1"
       ]
      },
      {
       "output_type": "stream",
       "stream": "stdout",
       "text": [
        "\n",
        "Fitness Evaluating: 0 of 31        \r",
        "Fitness Evaluating: 1 of 31        \r"
       ]
      },
      {
       "output_type": "stream",
       "stream": "stdout",
       "text": [
        "Fitness Evaluating: 2 of 31        \r",
        "Fitness Evaluating: 3 of 31        \r"
       ]
      },
      {
       "output_type": "stream",
       "stream": "stdout",
       "text": [
        "Fitness Evaluating: 4 of 31        \r",
        "Fitness Evaluating: 5 of 31        \r"
       ]
      },
      {
       "output_type": "stream",
       "stream": "stdout",
       "text": [
        "Fitness Evaluating: 6 of 31        \r",
        "Fitness Evaluating: 7 of 31        \r"
       ]
      },
      {
       "output_type": "stream",
       "stream": "stdout",
       "text": [
        "Fitness Evaluating: 8 of 31        \r",
        "Fitness Evaluating: 9 of 31        \r"
       ]
      },
      {
       "output_type": "stream",
       "stream": "stdout",
       "text": [
        "Fitness Evaluating: 10 of 31        \r",
        "Fitness Evaluating: 11 of 31        \r"
       ]
      },
      {
       "output_type": "stream",
       "stream": "stdout",
       "text": [
        "Fitness Evaluating: 12 of 31        \r",
        "Fitness Evaluating: 13 of 31        \r"
       ]
      },
      {
       "output_type": "stream",
       "stream": "stdout",
       "text": [
        "Fitness Evaluating: 14 of 31        \r",
        "Fitness Evaluating: 15 of 31        \r"
       ]
      },
      {
       "output_type": "stream",
       "stream": "stdout",
       "text": [
        "Fitness Evaluating: 16 of 31        \r",
        "Fitness Evaluating: 17 of 31        \r"
       ]
      },
      {
       "output_type": "stream",
       "stream": "stdout",
       "text": [
        "Fitness Evaluating: 18 of 31        \r",
        "Fitness Evaluating: 19 of 31        \r"
       ]
      },
      {
       "output_type": "stream",
       "stream": "stdout",
       "text": [
        "Fitness Evaluating: 20 of 31        \r",
        "Fitness Evaluating: 21 of 31        \r"
       ]
      },
      {
       "output_type": "stream",
       "stream": "stdout",
       "text": [
        "Fitness Evaluating: 22 of 31        \r",
        "Fitness Evaluating: 23 of 31        \r"
       ]
      },
      {
       "output_type": "stream",
       "stream": "stdout",
       "text": [
        "Fitness Evaluating: 24 of 31        \r",
        "Fitness Evaluating: 25 of 31        \r"
       ]
      },
      {
       "output_type": "stream",
       "stream": "stdout",
       "text": [
        "Fitness Evaluating: 26 of 31        \r",
        "Fitness Evaluating: 27 of 31        \r"
       ]
      },
      {
       "output_type": "stream",
       "stream": "stdout",
       "text": [
        "Fitness Evaluating: 28 of 31        \r",
        "Fitness Evaluating: 29 of 31        \r"
       ]
      },
      {
       "output_type": "stream",
       "stream": "stdout",
       "text": [
        "Fitness Evaluating: 30 of 31        \r\n",
        " fitness out size: 31 0"
       ]
      },
      {
       "output_type": "stream",
       "stream": "stdout",
       "text": [
        "\n",
        "Eliminate: 25\n",
        "Mate Loop complete: 30\n",
        "Mutate: 0\n",
        "Fitness Evaluating: 0 of 31        \r",
        "Fitness Evaluating: 1 of 31        \r"
       ]
      },
      {
       "output_type": "stream",
       "stream": "stdout",
       "text": [
        "\n",
        "fitness: 0.202560640385\n",
        "A: 10.011B: -0.377Critical Time: 313.785m: 0.327c: -0.025omega: 11.866phi: 8.352\n",
        "fitness: 0.203998812393\n",
        "A: 9.89B: -0.375Critical Time: 301.766m: 0.321c: -0.026omega: 10.869phi: 1.763\n",
        "fitness: 0.205362262036\n",
        "A: 10.052B: -0.383Critical Time: 317.954m: 0.326c: -0.024omega: 12.203phi: 6.316\n"
       ]
      }
     ]
    },
    {
     "cell_type": "code",
     "collapsed": false,
     "id": "6FDBD776322C4A5A82459A011ADCA698",
     "input": [
      "data = pd.DataFrame({'Date':values[0].getDataSeries()[0],'Index':values[0].getDataSeries()[1],'Fit1':values[0].getExpData(),'Fit2':values[1].getExpData(),'Fit3':values[2].getExpData()})\n",
      "data = data.set_index('Date')\n",
      "data.plot(figsize=(14,8))"
     ],
     "language": "python",
     "metadata": {},
     "outputs": [
      {
       "metadata": {},
       "output_type": "pyout",
       "prompt_number": 2,
       "text": [
        "<matplotlib.axes._subplots.AxesSubplot at 0x6b87950>"
       ]
      },
      {
       "metadata": {},
       "output_type": "display_data",
       "png": "[encoded data removed]",
       "text": [
        "<matplotlib.figure.Figure at 0x6b87590>"
       ]
      }
     ]
    },
    {
     "cell_type": "markdown",
     "id": "C1A98060222748C584AAB4D91E6AFC57",
     "metadata": {},
     "source": [
      "## `\u6a21\u578b\u9884\u6d4b\u7684\u4e34\u754c\u65f6\u95f4\uff08Critical Time\uff09\u4e3a365\uff0c\u5373\u4e3a6\u670810\u65e5\uff08350\uff09\u4e4b\u540e\u768415\u4e2a\u4ea4\u6613\u65e5\u5de6\u53f3\u3002\u5b9e\u9645\u80a1\u707e\u65f6\u95f4\u4e3a6\u670815\u65e5\uff08353\uff09\uff0c\u6bd4\u5b9e\u9645\u7ed3\u679c\u665a10\u4e2a\u4ea4\u6613\u65e5\u5de6\u53f3\u3002`"
     ]
    }
   ],
   "metadata": {}
  }
 ]
}