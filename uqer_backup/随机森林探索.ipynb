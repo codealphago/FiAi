{
 "metadata": {
  "signature": "sha256:f438490f91b9dc4d5516c7bb90d6206ea863a65389a79ea9c0ebe88b94b5ff9c"
 },
 "nbformat": 3,
 "nbformat_minor": 0,
 "original_thread": "5777bef1228e5b194911f4a9",
 "worksheets": [
  {
   "cells": [
    {
     "cell_type": "markdown",
     "id": "7287FF23A0A4490B9E071C20B71238E3",
     "metadata": {},
     "source": [
      "\u82b1\u4e86\u4e00\u4e2a\u4e0b\u5348\u7684\u65f6\u95f4\u4e0d\u505c\u8c03\u8bd5\u4ee3\u7801\uff0c\u4e3b\u8981\u7ea0\u7ed3\u5728\u4e8eRandomForestClassifier\u7684\u4f7f\u7528\u4e0a\uff0c\u5f53\u6da8\u8dcc\u5e45\u4e0d\u505a\u6539\u52a8\u7684\u65f6\u5019\uff0c\u4f1a\u56e0\u4e3a\u76ee\u6807\u7ed3\u679c\u592a\u591a\uff0c\u800c\u4ea7\u751f\u9519\u8bef\u3002\n",
      "# *\u56e0\u6b64\u7b2c18\u884c\uff0c\u6211\u91c7\u7528\u4e86\u8bb2\u6da8\u8dcc\u5e45*100\u5e76\u4e14\u53d6\u6574\u7684\u505a\u6cd5\uff0c\u5c06\u76ee\u6807\u503c\u9650\u5b9a\u5728\u51e0\u4e2a\u503c\u5185\u3002\n",
      "\n",
      "`\u53e6\u5916\u7b80\u5355\u4ecb\u7ecd\u4e00\u4e0b\u968f\u673a\u68ee\u6797\u7b97\u6cd5\uff1a\n",
      "\u5728\u673a\u5668\u5b66\u4e60\u4e2d\uff0c\u968f\u673a\u68ee\u6797\u7531\u8bb8\u591a\u7684\u51b3\u7b56\u6811\u7ec4\u6210\uff0c\u56e0\u4e3a\u8fd9\u4e9b\u51b3\u7b56\u6811\u7684\u5f62\u6210\u91c7\u7528\u4e86\u968f\u673a\u7684\u65b9\u6cd5\uff0c\u56e0\u6b64\u4e5f\u53eb\u505a\u968f\u673a\u51b3\u7b56\u6811\u3002\n",
      "\u968f\u673a\u68ee\u6797\u4e2d\u7684\u6811\u4e4b\u95f4\u662f\u6ca1\u6709\u5173\u8054\u7684\u3002\u5f53\u6d4b\u8bd5\u6570\u636e\u8fdb\u5165\u968f\u673a\u68ee\u6797\u65f6\uff0c\u5176\u5b9e\u5c31\u662f\u8ba9\u6bcf\u4e00\u9897\u51b3\u7b56\u6811\u8fdb\u884c\u5206\u7c7b\uff0c\u6700\u540e\u53d6\u6240\u6709\u51b3\u7b56\u6811\u4e2d\u5206\u7c7b\u7ed3\u679c\u6700\u591a\u7684\u90a3\u7c7b\u4e3a\u6700\u7ec8\u7684\u7ed3\u679c\u3002\n",
      "\u56e0\u6b64\u968f\u673a\u68ee\u6797\u662f\u4e00\u4e2a\u5305\u542b\u591a\u4e2a\u51b3\u7b56\u6811\u7684\u5206\u7c7b\u5668\uff0c\u5e76\u4e14\u5176\u8f93\u51fa\u7684\u7c7b\u522b\u662f\u7531\u4e2a\u522b\u6811\u8f93\u51fa\u7684\u7c7b\u522b\u7684\u4f17\u6570\u800c\u5b9a\u3002\u968f\u673a\u68ee\u6797\u53ef\u4ee5\u65e2\u53ef\u4ee5\u5904\u7406\u5c5e\u6027\u4e3a\u79bb\u6563\u503c\u7684\u91cf\uff0c\u5982ID3\u7b97\u6cd5\uff0c\u4e5f\u53ef\u4ee5\u5904\u7406\u5c5e\u6027\u4e3a\u8fde\u7eed\u503c\u7684\u91cf\uff0c\u6bd4\u5982C4.5\u7b97\u6cd5\u3002\u53e6\u5916\uff0c\u968f\u673a\u68ee\u6797\u8fd8\u53ef\u4ee5\u7528\u6765\u8fdb\u884c\u65e0\u76d1\u7763\u5b66\u4e60\u805a\u7c7b\u548c\u5f02\u5e38\u70b9\u68c0\u6d4b\u3002\n",
      " \uff08\u767e\u5ea6\u6765\u7684\uff09`\n",
      "\u7b80\u5355\u70b9\u8bf4\u5c31\u662f\u6784\u5efa\u591a\u4e2a\u51b3\u7b56\u6811\uff0c\u5927\u91cf\u7684\u51b3\u7b56\u6811\u5c31\u50cf\u4e00\u4e2a\u68ee\u6797\u4e00\u6837\u3002\u6bcf\u4e2a\u51b3\u7b56\u6811\u7cbe\u901a\u67d0\u4e00\u9886\u57df\uff0c\u5728\u9762\u5bf9\u65b0\u95ee\u9898\u65f6\uff0c\u8fd9\u4e9b\u51b3\u7b56\u6811\u6295\u7968\u51b3\u5b9a\u6700\u540e\u7684\u503c\u3002\n",
      " \n",
      " \u793e\u533a\u4e2d\u627e\u5230\u4e00\u7bc7\u5173\u4e8e\u968f\u673a\u68ee\u6797\u7684\u62e9\u65f6\u5e16\u5b50\uff0c\u6709\u5174\u8da3\u7684\u53ef\u4ee5\u53bb\u7814\u7a76\u4e0b\uff1ahttps://uqer.io/community/share/5753ea44228e5baa89889c07\n",
      " \n",
      " "
     ]
    },
    {
     "cell_type": "strategy",
     "collapsed": false,
     "has_detail": true,
     "id": "A58DF0C333494CEFAA65E567A006E661",
     "input": "from sklearn.ensemble import RandomForestClassifier\nfrom CAL.PyCAL import *\nimport pandas as pd\ndef train(stocklist,date,period):\n    # \u521b\u5efa\u8bad\u7ec3\u96c6\n    preday=cal.advanceDate(date,period)\n    yesterday=cal.advanceDate(date,'-1B')\n    \n    #\u521b\u5efa\u56e0\u5b50df:fac\n    fac=DataAPI.MktStockFactorsOneDayGet(tradeDate=preday,secID=stocklist,field=['secID','LCAP', 'LFLO', 'NPToTOR', 'OperatingProfitGrowRate', 'TotalAssetGrowRate', 'DHILO', 'DEGM', 'Skewness', 'DAREC', 'GREC'],pandas=\"1\")\n    #\u521b\u5efa\u4ef7\u683cdf:price\n    price1=DataAPI.MktEqudAdjGet(secID=stocklist,tradeDate=preday,field=u\"secID,closePrice\",pandas=\"1\")\n    price2=DataAPI.MktEqudAdjGet(secID=stocklist,tradeDate=date,field=u\"secID,closePrice\",pandas=\"1\")\n    price2['closePrice2']=price2['closePrice']\n    del price2['closePrice']\n    price=pd.merge(price1,price2)\n    tmp1=[]\n    tmp=(price['closePrice2']-price['closePrice'])/price['closePrice']*100\n    for i in tmp:\n        tmp1.append(int(i))\n    price['zhangdie']=tmp1\n    del price['closePrice']\n    del price['closePrice2']\n    traindf=pd.merge(fac,price)\n    traindf.set_index(traindf.secID)\n    del traindf['secID']\n    traindf=traindf.dropna()\n    target=list(traindf['zhangdie'])\n    train=[]\n    for x in range(0,len(traindf.iloc[:])):\n        train.append(list(traindf.iloc[x][0:-1]))\n    #\u6784\u5efatrain\u5217\u8868\u548ctarget\u5217\u8868\u5b8c\u6bd5\n    \n    test1 = DataAPI.MktStockFactorsOneDayGet(tradeDate=yesterday,secID=stocklist,field=['secID','LCAP', 'LFLO', 'NPToTOR', 'OperatingProfitGrowRate', 'TotalAssetGrowRate', 'DHILO', 'DEGM', 'Skewness', 'DAREC', 'GREC'],pandas=\"1\")\n    test1=test1.dropna()\n    test=[]\n    for x in range(0,len(test1.index)):\n        test.append(list(test1.iloc[x][1:]))\n    \n    # \u521b\u5efa\u5e76\u4e14\u8bad\u7ec3\u4e00\u4e2a\u968f\u673a\u68ee\u6797\u6a21\u578b,\u6839\u636e\u4e0a\u4e00\u4e2a\u4ea4\u6613\u65e5\u7684\u56e0\u5b50\u9884\u6d4b\u6da8\u8dcc,\u8fd4\u56de\u9884\u6d4b\u6da8\u5e45\u6700\u5927\u7684\u524d20\u652f\u80a1\u7968\n    rf = RandomForestClassifier(n_estimators = 1000)  #1000\u4e2a\u51b3\u7b56\u6811\n    rf.fit(train, target)\n    predicted_results = [x for index, x in enumerate(rf.predict(test))]\n    test1['predict']=predicted_results    \n    test1=test1.sort(columns='predict',ascending=False)\n    stock=test1['secID'][:20]\n    return stock\n\nstart = '2016-05-01'                       # \u56de\u6d4b\u8d77\u59cb\u65f6\u95f4\nend = '2016-07-20'                         # \u56de\u6d4b\u7ed3\u675f\u65f6\u95f4\nbenchmark = 'HS300'                        # \u7b56\u7565\u53c2\u8003\u6807\u51c6\nuniverse = set_universe('HS300')  # \u8bc1\u5238\u6c60\uff0c\u652f\u6301\u80a1\u7968\u548c\u57fa\u91d1\ncapital_base = 1000000                      # \u8d77\u59cb\u8d44\u91d1\nfreq = 'd'                                 # \u7b56\u7565\u7c7b\u578b\uff0c'd'\u8868\u793a\u65e5\u95f4\u7b56\u7565\u4f7f\u7528\u65e5\u7ebf\u56de\u6d4b\uff0c'm'\u8868\u793a\u65e5\u5185\u7b56\u7565\u4f7f\u7528\u5206\u949f\u7ebf\u56de\u6d4b\nrefresh_rate = 60                           # \u8c03\u4ed3\u9891\u7387\uff0c\u8868\u793a\u6267\u884chandle_data\u7684\u65f6\u95f4\u95f4\u9694\uff0c\u82e5freq = 'd'\u65f6\u95f4\u95f4\u9694\u7684\u5355\u4f4d\u4e3a\u4ea4\u6613\u65e5\uff0c\u82e5freq = 'm'\u65f6\u95f4\u95f4\u9694\u4e3a\u5206\u949f\n\ndata=DataAPI.TradeCalGet(exchangeCD=u\"XSHG\",beginDate=u\"20110101\",endDate=u\"20160601\",field=['calendarDate','isMonthEnd'],pandas=\"1\")\ndata = data[data['isMonthEnd'] == 1]\ndate_list = data['calendarDate'].values.tolist()\n\ncal = Calendar('China.SSE')\nperiod = Period('-6M')   #\u8bad\u7ec3\u65e5\u671f1\u4e2a\u6708\n\ndef initialize(account):                   # \u521d\u59cb\u5316\u865a\u62df\u8d26\u6237\u72b6\u6001\n    pass\n\ndef handle_data(account):                  # \u6bcf\u4e2a\u4ea4\u6613\u65e5\u7684\u4e70\u5165\u5356\u51fa\u6307\u4ee4\n\n    buylist=train(account.universe,account.current_date,period)\n    \n                \n    for stock in account.avail_secpos.keys():\n        if stock in account.universe and stock not in buylist:\n            order_to(stock,0)\n     \n\n    for stock in buylist: \n        order_pct_to(stock,1./len(buylist))\n",
     "language": "python",
     "metadata": {},
     "outputs": [
      {
       "metadata": {},
       "output_type": "pyout",
       "prompt_number": 2,
       "text": "'{\"information\": 2.55099, \"benchmark_cumulative_return\": {\"1463443200000\": -0.0224028232, \"1468972800000\": 0.0256149927, \"1467331200000\": -0.0008062102, \"1464912000000\": 0.0103210744, \"1468368000000\": 0.0399534964, \"1467072000000\": -0.006444613, \"1467590400000\": 0.0151900138, \"1464048000000\": -0.029520598, \"1464307200000\": -0.0298554365, \"1468281600000\": 0.0368851459, \"1466121600000\": -0.0146948835, \"1466553600000\": -0.0072175611, \"1468886400000\": 0.0289820686, \"1462492800000\": -0.0083601938, \"1465171200000\": 0.0069828257, \"1468800000000\": 0.0333498588, \"1467849600000\": 0.0168556535, \"1464220800000\": -0.0293131057, \"1468540800000\": 0.037865903, \"1467676800000\": 0.016041207, \"1462233600000\": 0.0179916338, \"1464825600000\": 0.0032802776, \"1463097600000\": -0.0259159356, \"1466467200000\": -0.015974366, \"1468454400000\": 0.0380198591, \"1464134400000\": -0.030892264, \"1465776000000\": -0.0286383601, \"1462752000000\": -0.0288683438, \"1468195200000\": 0.0147572895, \"1467244800000\": -0.0008945924, \"1462838400000\": -0.0277605572, \"1466726400000\": -0.0252126795, \"1466985600000\": -0.0114678252, \"1467763200000\": 0.0190256102, \"1463529600000\": -0.0281014146, \"1465344000000\": 0.0022938185, \"1467158400000\": -0.0016963676, \"1466035200000\": -0.0196626588, \"1466640000000\": -0.0124900808, \"1464566400000\": -0.0285214675, \"1465948800000\": -0.0127907069, \"1464652800000\": 0.0040595614, \"1462320000000\": 0.01669948, \"1466380800000\": -0.0139608996, \"1463356800000\": -0.0194618191, \"1464739200000\": 0.0012044052, \"1465257600000\": 0.0064335257, \"1462924800000\": -0.0234215941, \"1462406400000\": 0.0181120109, \"1467936000000\": 0.0112568484, \"1463961600000\": -0.0220233183, \"1463616000000\": -0.0298551198, \"1463702400000\": -0.0248759402, \"1463011200000\": -0.0211002156, \"1465862400000\": -0.025583948}, \"benchmark_annualized_return\": 0.12183, \"turnover_rate\": 0.0, \"max_drawdown\": 0.05613, \"beta\": 0.9322, \"sharpe\": 1.59259, \"alpha\": 0.13028, \"volatility\": 0.15312, \"annualized_return\": 0.24386, \"cumulative_return\": {\"1463443200000\": -0.0302687322, \"1468972800000\": 0.0491785678, \"1467331200000\": 0.0075425678, \"1464912000000\": 0.0083010678, \"1468368000000\": 0.0553927678, \"1467072000000\": 0.0033299678, \"1467590400000\": 0.0260223678, \"1464048000000\": -0.0333332322, \"1464307200000\": -0.0340522322, \"1468281600000\": 0.0486955678, \"1466121600000\": -0.0083335322, \"1466553600000\": -0.0013029322, \"1468886400000\": 0.0487355678, \"1462492800000\": -0.0132764322, \"1465171200000\": 0.0025048678, \"1468800000000\": 0.0550375678, \"1467849600000\": 0.0343248678, \"1464220800000\": -0.0361491322, \"1468540800000\": 0.0550392678, \"1467676800000\": 0.0271124678, \"1462233600000\": 0.0190000678, \"1464825600000\": -0.0008659322, \"1463097600000\": -0.0299485322, \"1466467200000\": -0.0094247322, \"1468454400000\": 0.0518114678, \"1464134400000\": -0.0334977322, \"1465776000000\": -0.0275052322, \"1462752000000\": -0.0317946322, \"1468195200000\": 0.0309058678, \"1467244800000\": 0.0048882678, \"1462838400000\": -0.0328371322, \"1466726400000\": -0.0154813322, \"1466985600000\": 0.0004257678, \"1467763200000\": 0.0338396678, \"1463529600000\": -0.0339158322, \"1465344000000\": -5.40322e-05, \"1467158400000\": 0.0045284678, \"1466035200000\": -0.0171545322, \"1466640000000\": -0.0048846322, \"1464566400000\": -0.0293434322, \"1465948800000\": -0.0080124322, \"1464652800000\": -0.0012197322, \"1462320000000\": 0.0151521678, \"1466380800000\": -0.0081944322, \"1463356800000\": -0.0268401322, \"1464739200000\": -0.0018062322, \"1465257600000\": 0.0023283678, \"1462924800000\": -0.0291376322, \"1462406400000\": 0.0134564678, \"1467936000000\": 0.0250782678, \"1463961600000\": -0.0299013322, \"1463616000000\": -0.0381925322, \"1463702400000\": -0.0348674322, \"1463011200000\": -0.0252674322, \"1465862400000\": -0.0223104322}}'"
      }
     ]
    },
    {
     "cell_type": "markdown",
     "has_detail": true,
     "id": "BE05870DF6EB4EC7950DD02A4BF7757F",
     "metadata": {},
     "source": [
      "\u8ddd\u79bb\u6211\u7b2c\u4e00\u5929\u6765\u4f18\u77ff\u5b66\u4e60\u5dee\u4e0d\u591a\u4e00\u4e2a\u6708\u4e86\uff0c\u4e00\u4e2a\u6708\u524d\u6211\u8fd8\u57fa\u672c\u662f\u767d\u7eb8\u4e00\u5f20\uff0c\u6bcf\u5929\u82b12-3\u4e2a\u5c0f\u65f6\u5b66\u4e60\uff0c\n",
      "\n",
      "\u4e00\u4e2a\u6708\u7684\u65f6\u95f4\u5b66\u4f1a\u4e86python\u57fa\u672c\u8bed\u6cd5\uff0c\u5b66\u4f1a\u4e86dataapi\u8c03\u7528\uff0c\u5b66\u4f1a\u4e86\u56de\u6d4b\uff0c\u5b66\u4f1a\u4e86\u627ealpha\uff0c\u73b0\u5728\u5f00\u59cb\u5b66\u4e60\u673a\u5668\u5b66\u4e60\u3002\n",
      "\n",
      "\u518d\u8fc7\u4e00\u4e2a\u6708\u5e0c\u671b\u6211\u80fd\u505a\u51fa\u6548\u679c\u4e0d\u9519\u7684\u56de\u6d4b\u6a21\u578b\uff0c\u65b0\u4eba\u670b\u53cb\u4eec\u5171\u52c9\uff01"
     ]
    }
   ],
   "metadata": {}
  }
 ]
}