{
 "father": "55418287f9f06c1c3d687fde",
 "metadata": {
  "signature": "sha256:fdcb6c32d5a0e368d64650892a9a1fc51e83ffb103c3609b0cd76e694bf785c7"
 },
 "nbformat": 3,
 "nbformat_minor": 0,
 "worksheets": [
  {
   "cells": [
    {
     "cell_type": "markdown",
     "id": "A44DDA1180C64A59B239E61C8849E1B4",
     "metadata": {},
     "source": [
      "#### **\u7b56\u7565\u601d\u8def**\n",
      "\n",
      "- \u6bcf\u4e2a\u5b63\u5ea6\uff0c\u8ba1\u7b97\u6caa\u6df1300\u6210\u5206\u80a1\u8d44\u4ea7\u8d1f\u503a\u8868\u4e2d\u7684 \u73b0\u91d1\u53ca\u73b0\u91d1\u7b49\u4ef7\u7269/\u603b\u8d44\u4ea7 \uff0c\u6570\u503c\u4ee5\u6700\u8fd1\u4e00\u6b21\u62ab\u9732\u7684\u8d22\u62a5\u4e3a\u51c6\n",
      "\n",
      "- \u6e05\u4ed3\uff0c\u9009\u51fa\u8be5\u6bd4\u7387\u6700\u5927\u7684\u524d30\u53ea\u80a1\u7968\uff0c\u5c06\u8d44\u91d1\u5206\u621030\u4efd\uff0c\u5206\u522b\u4e70\u5165\n",
      "\n",
      "- \u6bcf60\u4e2a\u4ea4\u6613\u65e5\u8c03\u4ed3\u4e00\u6b21"
     ]
    },
    {
     "cell_type": "strategy",
     "collapsed": false,
     "has_detail": true,
     "id": "3FB0425CB45E4A51812461652471D02E",
     "input": "from heapq import nlargest\nfrom datetime import timedelta\n\nstart = '2010-01-01'\nend   = '2015-01-28'\nbenchmark = 'HS300'\nuniverse = set_universe('HS300') + set_universe('ZZ500')\ncapital_base = 500000\nrefresh_rate = 60\n\ndef initialize(account):\n    pass\n\ndef handle_data(account):\n    cashpct = getCashPct(account.universe, account.current_date)\n    buylist = nlargest(30, cashpct, key=cashpct.get)\n    \n    for stock in account.valid_secpos:\n        order_to(stock, 0)\n    \n    for stock in buylist:\n        order(stock, int(account.referencePortfolioValue/len(buylist)/account.referencePrice[stock]/100)*100)\n\ndef getCashPct(universe, date):\n    start, end = (date - timedelta(weeks=26)).strftime('%Y%m%d'), date.strftime('%Y%m%d')\n    N = len(universe)\n    if N == 0:\n        return None\n    elif N <= 45:\n        batches = [universe]\n    else:\n        batches = [universe[i:i+45] for i in range(0, N, 45)]\n    \n    CashPct = {}\n    for sub in batches:\n        df = DataAPI.FdmtBSGet(secID=','.join(sub), publishDateBegin=start, publishDateEnd=end, field=['secID', 'cashCEquiv', 'TAssets'])\n        for stock in sub:\n            try:\n                df_sub = df[df.secID==stock]\n                df_sub['pct'] = df_sub['cashCEquiv'] / df_sub['TAssets']\n                CashPct[stock] = df_sub['pct'].mean()\n            except:\n                pass\n    return CashPct",
     "language": "python",
     "metadata": {},
     "outputs": []
    },
    {
     "cell_type": "code",
     "collapsed": false,
     "id": "84F184C97E864E9B97FC1AA59DF47638",
     "input": [],
     "language": "python",
     "metadata": {},
     "outputs": []
    }
   ],
   "metadata": {}
  }
 ]
}