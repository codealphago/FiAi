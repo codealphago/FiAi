{
 "father": "565dd3aaf9f06c6c8a91afda",
 "metadata": {
  "signature": "sha256:e0429fe0f18f81581cbe5023695925cb29f6720d58f2ac0124511294051e9bc0"
 },
 "nbformat": 3,
 "nbformat_minor": 0,
 "worksheets": [
  {
   "cells": [
    {
     "cell_type": "markdown",
     "id": "BDFCC01550D844C485DF9F6979069842",
     "metadata": {},
     "source": [
      "\u7b56\u7565\uff1a\n",
      "1\u3001\u4e0d\u9884\u6d4b\u5177\u4f53\u80a1\u4ef7\uff0c\u53ea\u9884\u6d4b\u6b21\u65e5\u6536\u76d8\u4ef7\u76f8\u6bd4\u4eca\u65e5\u662f\u6da8\u662f\u8dcc\uff1b\n",
      "2\u3001\u5982\u679c\u9884\u6d4b\u4e3a\u6da8\uff0c\u5219\u5168\u90e8\u4e70\u5165\u6216\u6301\u6709\uff1b\u5982\u679c\u9884\u6d4b\u4e3a\u8dcc\uff0c\u5219\u5168\u90e8\u5356\u51fa\u3002\n",
      "\n",
      "\u65b9\u6cd5\uff1a\n",
      "\u57fa\u4e8e\u67d0\u53ea\u80a1\u7968\u7684\u5386\u53f2\u6570\u636e\uff0c\u91c7\u7528\u673a\u5668\u5b66\u4e60\u7684\u65b9\u6cd5\uff0c\u6316\u6398\u5176\u4e2d\u89c4\u5f8b\uff0c\u9884\u6d4b\u8be5\u53ea\u80a1\u7968\u6b21\u65e5\u6536\u76d8\u4ef7\u662f\u6da8\u8fd8\u662f\u8dcc\u3002"
     ]
    },
    {
     "cell_type": "strategy",
     "collapsed": false,
     "has_detail": true,
     "id": "306AA534D10D4EB489821E799632B501",
     "input": "import numpy as np\nfrom CAL.PyCAL import *\nfrom sklearn.cross_validation import train_test_split\nfrom sklearn.externals import joblib\nfrom sklearn.metrics import classification_report  \nimport pandas as pd\nfrom sklearn import tree\n\ncal = Calendar('China.SSE')\n\n# \u7b2c\u4e00\u6b65\uff1a\u8bbe\u7f6e\u57fa\u672c\u53c2\u6570\nstart = '2016-01-01'\nend  = '2016-07-18'\ncapital_base = 1000000\nrefresh_rate = 1\nbenchmark = '300014.XSHE'\n\n##HS300\nfreq = 'd'\n#601872.XSHG   HS300\n# \u7b2c\u4e8c\u6b65\uff1a\u9009\u62e9\u4e3b\u9898\uff0c\u8bbe\u7f6e\u80a1\u7968\u6c60\nuniverse = ['300014.XSHE' ]\n\n\n##\u8bad\u7ec3\u6a21\u578b\ndef model_train(begin_date,end_date):\n    \n    data1=DataAPI.MktEqudGet(secID=universe,beginDate=begin_date,endDate=end_date,field=['tradeDate','highestPrice','lowestPrice','openPrice','closePrice','turnoverVol','turnoverRate'],pandas=\"1\")\n    data2=DataAPI.MktStockFactorsDateRangeGet(secID=universe[0],beginDate=begin_date,endDate=end_date,field=['tradeDate','DAVOL5','EMA5','EMA10','MA5','MA10','RSI','VOL5','VOL10','MACD'],pandas=\"1\")\n    df_data=pd.merge(data1,data2,on='tradeDate')\n    #print(df_data)\n    tmp=[]\n    for i in range(len(df_data.values)):\n        mark_1=0\n        for j in range(len(df_data.values[i])):\n            if str(df_data.values[i][j])=='nan':\n                mark_1=1\n        if mark_1==0:\n            a=list(df_data.values[i])\n            a.append(df_data.values[i][4]-df_data.values[i][10])\n            a.append(df_data.values[i][4]-df_data.values[i][11])\n            tmp.append(a)\n    data=tmp\n    #print(data)\n    x=[]\n    y=[]\n    for i in range(len(data)-1):\n        if data[i][4]<data[i+1][4]:\n            y.append(1)\n        else:\n            y.append(0)\n        x.append(data[i][1:])\n\n    x_train, x_test, y_train, y_test = train_test_split(x, y, test_size=0.0, random_state=42)\n\n    ##\u8bad\u7ec3\u6a21\u578b   \n   \n    clf = tree.DecisionTreeClassifier( max_depth =7)\n    #\u7edf\u8ba1\u6837\u672c##\u6b63\u786e\u7387\u3001\u53ec\u56de\u7387\u3001\u6b63\u8d1f\u6837\u672c\u5747\u8861\u5ea6\n    \n    clf.fit(x_train,y_train)\n    y_predict=clf.predict(x_train)\n    \n    report = classification_report(y_train, y_predict,target_names = ['1', '0']) \n    print(report)\n    n_1=0\n    for i in range(len(y_predict)):\n        if y_train[i]==y_predict[i]:\n            n_1=n_1+1\n    n_2=0\n    for i in range(len(y_predict)):\n        if y_train[i]==y_predict[i] and y_predict[i]==1:\n            n_2=n_2+1\n    joblib.dump(clf, 'clf.model')\n    return clf,float(n_1)/float( len(y_predict) ),float(n_2)/float( int(sum(y_train)) ) ,float(sum(y_train))/float(len(y_train))\n    \ndef initialize(account):\n    today=start\n    train_begin_date = cal.advanceDate(today,'-1000B').strftime('%Y%m%d')\n    train_end_date = cal.advanceDate(today,'-1B').strftime('%Y%m%d')\n    model,acc_rate,recall_rate,balance=model_train(train_begin_date,train_end_date)\n    print acc_rate,recall_rate,balance  ##\u6b63\u786e\u7387\u3001\u53ec\u56de\u7387\u3001\u6b63\u8d1f\u6837\u672c\u5747\u8861\u5ea6\n    print model\n    print(\"feature \u6743\u91cd:  \",model.feature_importances_) \n\ndef handle_data(account):\n    # \u672c\u7b56\u7565\u5c06\u4f7f\u7528account\u7684\u4ee5\u4e0b\u5c5e\u6027\uff1a\n    # account.referencePortfolioValue\u8868\u793a\u6839\u636e\u524d\u6536\u8ba1\u7b97\u7684\u5f53\u524d\u6301\u6709\u8bc1\u5238\u5e02\u573a\u4ef7\u503c\u4e0e\u73b0\u91d1\u4e4b\u548c\u3002\n    # account.universe\u8868\u793a\u5f53\u5929\uff0c\u80a1\u7968\u6c60\u4e2d\u53ef\u4ee5\u8fdb\u884c\u4ea4\u6613\u7684\u8bc1\u5238\u6c60\uff0c\u5254\u9664\u505c\u724c\u9000\u5e02\u7b49\u80a1\u7968\u3002\n    # account.referencePrice\u8868\u793a\u80a1\u7968\u7684\u53c2\u8003\u4ef7\uff0c\u4e00\u822c\u4f7f\u7528\u7684\u662f\u4e0a\u4e00\u65e5\u6536\u76d8\u4ef7\u3002\n    # account.valid_secpos\u5b57\u5178\uff0c\u952e\u4e3a\u8bc1\u5238\u4ee3\u7801\uff0c\u503c\u4e3a\u865a\u62df\u8d26\u6237\u4e2d\u5f53\u524d\u6240\u6301\u6709\u8be5\u80a1\u7968\u7684\u6570\u91cf\u3002\n    \n    c = account.referencePortfolioValue\n    today = Date.fromDateTime(account.current_date)\n    #today = account.current_date.strftime('%Y-%m-%d')\n\n    begin_date = cal.advanceDate(today,'-1B').strftime('%Y%m%d')\n    end_date = cal.advanceDate(today,'-1B').strftime('%Y%m%d')\n\n    data1=DataAPI.MktEqudGet(secID=account.universe,beginDate=begin_date,endDate=end_date,field=['tradeDate','highestPrice','lowestPrice','openPrice','closePrice','turnoverVol','turnoverRate'],pandas=\"1\")\n\n    data2=DataAPI.MktStockFactorsDateRangeGet(secID=account.universe[0],beginDate=begin_date,endDate=end_date,field=['tradeDate','DAVOL5','EMA5','EMA10','MA5','MA20','RSI','VOL5','VOL10','MACD'],pandas=\"1\")\n\n    df_data=pd.merge(data1,data2,on='tradeDate')\n    \n    a=list(df_data.values[0])\n    a.append(df_data.values[0][4]-df_data.values[0][10])\n    a.append(df_data.values[0][4]-df_data.values[0][11])\n    \n    x_predict=a[1:]\n    #print x_predict\n    for i in range(len(x_predict)):\n        if str(x_predict[i])=='nan':\n            x_predict[i]=10000000\n    \n    clf = joblib.load('clf.model')\n    y_predict=clf.predict(x_predict)\n   \n    \n    # \u8ba1\u7b97\u8c03\u4ed3\u6570\u91cf\n    change = {}\n    for stock in account.universe:\n        if y_predict>0 and stock not in account.valid_secpos:\n            p = account.referencePrice[stock]\n            order(stock,int(c / p))\n            print(today,\" buy: \" , int(c / p) )\n        if y_predict==0 and stock in account.valid_secpos: \n            order_to(stock,0)\n            print(today, \"Sell\")\n    #print today,x_predict[3],y_predict\n",
     "language": "python",
     "metadata": {},
     "outputs": [],
     "trusted": true
    },
    {
     "cell_type": "code",
     "collapsed": false,
     "id": "BB5656DB680049A38EE78D766ADFC63D",
     "input": [],
     "language": "python",
     "metadata": {},
     "outputs": []
    },
    {
     "cell_type": "markdown",
     "id": "28090C15B62B4463820DD661CBB8D673",
     "metadata": {},
     "source": []
    }
   ],
   "metadata": {}
  }
 ]
}