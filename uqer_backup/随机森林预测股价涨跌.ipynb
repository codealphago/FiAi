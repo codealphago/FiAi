{
 "metadata": {
  "signature": "sha256:504cca9d4cc30c1e01009d9bbcf1976299ac4c0ffc2590658e568a0a5b128915"
 },
 "nbformat": 3,
 "nbformat_minor": 0,
 "original_thread": "5753ea44228e5baa89889c07",
 "worksheets": [
  {
   "cells": [
    {
     "cell_type": "markdown",
     "id": "CC9B865B1B6441AB933EA7FC3758FA3A",
     "metadata": {},
     "source": [
      "# \u4f7f\u7528\u968f\u673a\u68ee\u6797\u9884\u6d4b\u4e2a\u80a1\u6da8\u8dcc\n",
      "\u770b\u5230\u4f18\u77ff\u4e0a\u51fa\u73b0\u4e86\u4e00\u4e9b\u673a\u5668\u5b66\u4e60\u7684\u7b56\u7565\uff1a[\u7b56\u75651](https://uqer.io/community/share/568dce2d228e5b18e2ba296e),[\u7b56\u75652](https://uqer.io/community/share/56e75253228e5b858cc25968)\u3002\u672c\u7b56\u7565\u4e3b\u8981\u53c2\u8003\u7b2c\u4e00\u4e2a\u77ff\u53cb\u7684\uff0c\u901a\u8fc7\u524d\u4e00\u4e2a\u4ea4\u6613\u65e5\u7684\u6570\u636e\uff0c\u9884\u6d4b\u4eca\u65e5\u80a1\u4ef7\u7684\u6da8\u8dcc\u3002\u5982\u679c\u9884\u6d4b\u4e3a\u6da8\uff0c\u5c31\u4e70\u5165\uff1b\u9884\u6d4b\u4e3a\u8dcc\uff0c\u5373\u5356\u51fa\u3002\u4f46\u662f\u505a\u4e86\u5982\u4e0b\u6539\u52a8\uff1a\n",
      "1.  \u589e\u52a0\u4e86\u7279\u5f81\u7684\u7ef4\u5ea6\u3002\u56e0\u4e3a\u6700\u8fd1\u65b0\u589e\u4e86\u5f88\u591a\u5e38\u7528\u7684\u6280\u672f\u6307\u6807\uff0c\u5982\u5e03\u6797\u7ebf\uff0c\u6885\u65af\u7ebf\u7b49\u7b49\uff0c\u5c06\u8fd9\u4e9b\u6280\u672f\u6307\u6807\u52a0\u5165\u3002\u8003\u8651\u5230\u5927\u76d8\u7684\u8d70\u52bf\u4f1a\u5bf9\u4e2a\u80a1\u4ea7\u751f\u5f88\u5927\u5f71\u54cd\uff0c\u5c06\u5927\u76d8\u7684\u56e0\u7d20\u4e5f\u4f5c\u4e3a\u7279\u5f81\u4e4b\u4e00\u52a0\u5165\u3002\n",
      "2.  \u91cd\u6784\u4e86\u53d6\u6570\u636e\u7684\u90e8\u5206\uff0c\u5c3d\u91cf\u5c06\u6570\u636e\u7684\u83b7\u53d6\uff0c\u6a21\u578b\u7684\u9009\u62e9\u7b49\u7b49\u6a21\u5757\u89e3\u8026\uff0c\u65b9\u4fbf\u77ff\u53cb\u968f\u610f\u66f4\u6539\u53c2\u6570\u548c\u9009\u62e9\u81ea\u5df1\u719f\u6089\u7684\u5206\u7c7b\u5668\u3002\u6bd4\u5982\u5982\u679c\u60f3\u8bd5\u8bd5\u5176\u4ed6\u7684\u56e0\u5b50\uff0c\u53ea\u8981\u5728\u7b2c\u4e00\u4e2a\u6a21\u5757\u4e2d\u66f4\u6539factor_ls\u5373\u53ef\u3002\n",
      "\n",
      "\n",
      "## **\u7279\u5f81\u7684\u9009\u53d6**\n",
      "\u5982\u679c\u6211\u6709\u6628\u5929\u6216\u8005\u5386\u53f2\u8be5\u80a1\u7968\u7684\u5f88\u591a\u4fe1\u606f\uff0c\u54ea\u4e9b\u4fe1\u606f\u80fd\u51b3\u5b9a\u4eca\u65e5\u7684\u80a1\u4ef7\u53d8\u52a8\u5462\uff1f\u6682\u65f6\u7528\u4ee5\u4e0b\u56db\u5927\u7c7b\u6570\u636e\u3002\uff08\u597d\u50cf\u4f18\u77ff\u4e0a\u8fd8\u63d0\u4f9b\u4e86\u65b0\u95fb\u70ed\u5ea6\u7b49\u7b49\u5176\u4ed6\u5927\u6570\u636e\u65b9\u9762\u7684\u7279\u8272\u6570\u636e\uff0c\u4ee5\u540e\u6162\u6162\u7814\u7a76\uff09\n",
      "\n",
      "### **\u6280\u672f\u6307\u6807**\n",
      "\u8fd9\u79cd\u56e0\u5b50\u6bcf\u5929\u90fd\u8ddf\u80a1\u4ef7\u4e0e\u6210\u4ea4\u91cf\u606f\u606f\u76f8\u5173,\u5bf9\u7b2c\u4e8c\u5929\u7684\u80a1\u4ef7\u5e94\u8be5\u6709\u5f88\u5f3a\u7684\u9884\u6d4b\u3002\u5e38\u7528\u7684\u4e00\u4e9b\u6280\u672f\u6307\u6807\u7c7b\u7684\u56e0\u5b50\u662f\uff1aKDJ\uff0cBollDown\uff08\u5e03\u6797\u7ebf\uff09,MassIndex\uff08\u6885\u65af\u7ebf\uff09,macd\u7b49\u7b49\u3002\n",
      "\n",
      "### **\u57fa\u672c\u9762\u56e0\u5b50**\n",
      "\u57fa\u672c\u9762\u56e0\u5b50\u4e3b\u8981\u53cd\u6620\u4e86\u516c\u53f8\u7684\u57fa\u672c\u9762\u4fe1\u606f\uff0c\u53cd\u6620\u4e86\u516c\u53f8\u8d22\u52a1\u7684\u72b6\u51b5\uff0c\u9002\u5408\u4ef7\u503c\u6295\u8d44\u8005\u3002\u4f46\u662f\u5f53\u57fa\u672c\u9762\u53d1\u751f\u6539\u53d8\u65f6\uff0c\u80a1\u4ef7\u6296\u52a8\u4e5f\u4f1a\u975e\u5e38\u5927\uff0c\u4e3b\u8981\u9009\u53d6\u5982\u4e0b\u56e0\u5b50\uff1aETOP,PE\n",
      "\n",
      "### **\u5206\u6790\u5e08\u56e0\u5b50**\n",
      "\u5206\u6790\u5e08\u56e0\u5b50\u5e94\u8be5\u662f\u5206\u6790\u5e08\u7684\u9884\u6d4b\uff0c\u4e5f\u8bb8\u5f88\u6709\u6307\u5bfc\u610f\u4e49\uff0c\u5426\u5219\u4f5c\u4e3a\u53cd\u5411\u6307\u6807\u4e5f\u884c\u554a\uff0c\u5148\u52a0\u51652\u4e2a\u8bd5\u8bd5\uff1aDAREC,DAREV\n",
      "\n",
      "### **\u5927\u76d8\u76f8\u5173\u7684\u6570\u636e\uff0c\u6307\u6570\u4e0e\u878d\u8d44\u878d\u5238**\n",
      "\u4e00\u4e9b\u5927\u76d8\u76f8\u5173\u7684\u6570\u636e\uff0c\u5305\u62ec\u4e2a\u80a1\u8d44\u91d1\u6d41\u5165\u6d41\u51fa\u5e94\u8be5\u90fd\u4f1a\u5bf9\u80a1\u4ef7\u9020\u6210\u5f88\u5927\u5f71\u54cd\u3002\u5305\u62ec\u4e24\u878d\u4f59\u989d\uff0c\u4e2a\u80a1\u8d44\u91d1\u51c0\u6d41\u5165\uff0c\u4e0a\u8bc1\u6307\u6570\u7684\u6da8\u8dcc\u5e45\n",
      "\n",
      "## **\u9884\u6d4b\u7684\u7ed3\u679c\u7684\u603b\u7ed3**\n",
      "1. \u9996\u5148\u8fd9\u4e2a\u9884\u6d4b\u7684\u51c6\u786e\u7387\u8fd8\u4e0d\u9ad8\uff0c\u53ef\u80fd\u6570\u636e\u672c\u8eab\u7684\u7ef4\u5ea6\u8fd8\u662f\u6bd4\u8f83\u4f4e\uff0c\u6ca1\u6709\u9009\u5230\u66f4\u597d\u7684\u7279\u5f81\n",
      "2. \u8bad\u7ec3\u96c6\u7684\u65f6\u95f4\u533a\u95f4\u4e0e\u56de\u6d4b\u7684\u65f6\u95f4\u533a\u95f4\u4e0d\u80fd\u91cd\u5408\uff0c\u8fd9\u6837\u5e94\u8be5\u66f4\u80fd\u7b26\u5408\u5b9e\u9645\n",
      "3. \u5bf9\u4e8e\u4f7f\u7528\u673a\u5668\u5b66\u4e60\u9884\u6d4b\u6da8\u8dcc\uff0c\u5176\u5b9e\u6211\u89c9\u5f97\u5e76\u4e0d\u662f\u4e00\u4e2a\u597d\u7684\u5207\u5165\u70b9\u3002\u5982\u4f55\u5c06\u673a\u5668\u5b66\u4e60\u66f4\u597d\u7684\u5e94\u7528\u4e8e\u91cf\u5316\u4e2d\uff0c\u9700\u8981\u5927\u5bb6\u591a\u4ea4\u6d41\uff0c\u5148\u6254\u5757\u642c\u7816\u51fa\u53bb\uff5e\uff5e"
     ]
    },
    {
     "cell_type": "code",
     "collapsed": true,
     "id": "BE38411C4B3B4CE488A6C772BA2A4ED2",
     "input": [
      "# \u672c\u6a21\u5757\u4e3b\u8981\u529f\u80fd\u662f\u8bad\u7ec3\u6570\u636e\u83b7\u53d6\u4e0e\u6e05\u6d17\u6a21\u5757, \u4ec5\u4ec5\u8c03\u7528\u5e95\u90e8\u7684get_data_set\u51fd\u6570\u5373\u53ef\u3002\n",
      "\n",
      "#\u5b9a\u4e49\u9700\u8981\u7684\u56e0\u5b50list\uff0c\u589e\u51cf\u56e0\u5b50\u5728\u8fd9\u4e2alist\u91cc\u9762\u5373\u53ef\u64cd\u4f5c\u3002\n",
      "factor_ls = ['tradeDate','DAVOL5','EMA5','EMA10','MA5','MA20','RSI','VOL5','VOL10','MACD','KDJ_K','BBI','MFI','psy','VOL60','BollDown','MassIndex','CCI5','DAREC','DAREV','pe','etop'] \n",
      "\n",
      "def get_factor_data(ticker, begin_date, end_date):\n",
      "    \"\"\"\u83b7\u53d6\u56e0\u5b50\u6570\u636e\"\"\"\n",
      "    return DataAPI.MktStockFactorsDateRangeGet(secID='', ticker=ticker, beginDate=begin_date, endDate=end_date, field=factor_ls, pandas='1')\n",
      "    \n",
      "def get_mkt_equd(ticker, begin_date, end_date):\n",
      "    \"\"\"\u83b7\u53d6\u884c\u60c5\u6570\u636e\"\"\"\n",
      "    return DataAPI.MktEqudGet(ticker=ticker,beginDate=begin_date,endDate=end_date,field=['tradeDate','highestPrice','lowestPrice','openPrice','closePrice','turnoverVol','turnoverRate'],pandas=\"1\")\n",
      "    \n",
      "def get_macro_data(ticker, begin_date, end_date):\n",
      "    \"\"\"\u83b7\u53d6\u5b8f\u89c2\u6570\u636e\"\"\"    \n",
      "    fst_total_df = DataAPI.FstTotalGet(exchangeCD=u\"XSHE,XSHG\",beginDate=begin_date,endDate=end_date,field=u\"tradeDate,tradeVal\",pandas=\"1\") #\u83b7\u53d6\u4e24\u878d\u4f59\u989d\n",
      "    fst_total_df = fst_total_df.groupby('tradeDate').sum()\n",
      "    fst_total_df[\"tradeDate\"] = fst_total_df.index\n",
      "    \n",
      "    index_df = DataAPI.MktIdxdGet(tradeDate=u\"\",indexID=u\"\",ticker=u\"000001\",beginDate=begin_date,endDate=end_date,field=u\"tradeDate,CHGPct\",pandas=\"1\") #\u4e0a\u8bc1\u6307\u6570\u7684\u6da8\u8dcc\u5e45\n",
      "    \n",
      "    equ_flow_df = DataAPI.MktEquFlowOrderGet(secID=u\"\",ticker=ticker,beginDate=begin_date,endDate=end_date,field=u\"tradeDate,netInflowS,netInflowM,netInflowL\",pandas=\"1\")#\u4e2a\u80a1\u8d44\u91d1\u51c0\u6d41\u5165\uff08\u5c0f\u5355\uff0c\u4e2d\u5355\uff0c\u5927\u5355\uff09\n",
      "    \n",
      "    macro_data = fst_total_df.merge(index_df, on='tradeDate').merge(equ_flow_df, on='tradeDate')\n",
      "    return macro_data\n",
      "      \n",
      "def clean_data(df):\n",
      "    \"\"\"\u6e05\u6d17\u6570\u636e \u8fd9\u91cc\u6bd4\u8f83\u7c97\u7cd9\uff0c\u53ef\u4ee5\u7ec6\u5316\u8fd9\u4e2a\u51fd\u6570\"\"\"\n",
      "    df = df.dropna()\n",
      "    return df\n",
      "\n",
      "def get_data_set(ticker, begin_date, end_date):\n",
      "    \"\"\"\n",
      "    \u83b7\u53d6\u6570\u636e\n",
      "    \"\"\"\n",
      "    factor_data = get_factor_data(ticker, begin_date, end_date)  #\u83b7\u53d6\u56e0\u5b50\u6570\u636e\n",
      "    macro_data = get_macro_data(ticker, begin_date, end_date)    #\u83b7\u53d6\u5b8f\u89c2\u6570\u636e\n",
      "    mkt_data = get_mkt_equd(ticker, begin_date, end_date)  #\u884c\u60c5\u6570\u636e\n",
      "    data_df = factor_data.merge(macro_data, on='tradeDate').merge(mkt_data, on='tradeDate')\n",
      "    \n",
      "    data_df.drop(['tradeDate'], axis=1, inplace=True)\n",
      "    data_df = clean_data(data_df)\n",
      "    return data_df\n",
      "# get_data_set('000001', '20150105', '20150105').values[0]  "
     ],
     "language": "python",
     "metadata": {},
     "outputs": []
    },
    {
     "cell_type": "code",
     "collapsed": false,
     "id": "E554A1A2EC58446B8ABBA0E63F232A4A",
     "input": [
      "# \u8fd9\u4e2a\u6a21\u5757\u4e3b\u8981\u662f\u9009\u53d6\u5206\u7c7b\u5668,\u5e76\u4e14\u8bbe\u7f6e\u597d\u53c2\u6570\uff0c\u81f3\u4e8e\u53c2\u6570\u7684\u8c03\u4f18\uff0c\u5148\u624b\u52a8\u5b8c\u6210\u5427~ ~\n",
      "def get_classifier():\n",
      "    from sklearn.ensemble import RandomForestClassifier\n",
      "    clf = RandomForestClassifier(n_estimators=25)\n",
      "    # from sklearn import tree\n",
      "    # clf = tree.DecisionTreeClassifier( max_depth =4 )\n",
      "    return clf\n",
      "   "
     ],
     "language": "python",
     "metadata": {},
     "outputs": []
    },
    {
     "cell_type": "code",
     "collapsed": true,
     "id": "90B43F640CAB466EB391BF3E3D18C501",
     "input": [
      "# \u83b7\u53d6\u8bad\u7ec3\u6570\u636e\n",
      "def get_train_data(ticker, begin_date, end_date):\n",
      "    train_data = get_data_set(ticker, begin_date, end_date)\n",
      "    train_data[\"tomorrow_close\"] = train_data[\"closePrice\"].shift(-1)\n",
      "    y_serise = map(lambda x: 1 if x else 0, train_data[\"tomorrow_close\"] > train_data[\"closePrice\"])  #\u660e\u6536\u5927\u4e8e\u4eca\u6536\uff0c\u6807\u8bb0\u4e3a1\uff0c\u53cd\u4e4b\u4e3a0\n",
      "    train_data.drop(['tomorrow_close'], axis=1, inplace=True)\n",
      "    x = train_data.values\n",
      "    y = y_serise\n",
      "    return x,y\n",
      " "
     ],
     "language": "python",
     "metadata": {},
     "outputs": []
    },
    {
     "cell_type": "code",
     "collapsed": false,
     "id": "C6AAA2F4B0794ED5905C8093FF1956E4",
     "input": [
      "from sklearn.externals import joblib\n",
      "from sklearn import cross_validation\n",
      "\n",
      "def get_model(ticker, begin_date, end_date):\n",
      "    x,y = get_train_data(ticker, begin_date, end_date)\n",
      "    x_train, x_test, y_train, y_test = cross_validation.train_test_split(x, y, test_size=0.2, random_state=0)\n",
      "    \n",
      "    clf = get_classifier()\n",
      "    clf.fit(x_train,y_train)\n",
      "    joblib.dump(clf, 'clf.pkl') \n",
      "    #print clf.feature_importances_    #\u968f\u673a\u68ee\u6797\u53ef\u4ee5\u8f93\u51fa\u7279\u5f81\u7684\u91cd\u8981\u6027\n",
      "    return clf,clf.score(x_test, y_test)"
     ],
     "language": "python",
     "metadata": {},
     "outputs": []
    },
    {
     "cell_type": "strategy",
     "collapsed": false,
     "has_detail": true,
     "id": "A9FB8DFC666445D08C4F1C9FA9D92CBD",
     "input": "start = '2015-12-02'                       # \u56de\u6d4b\u8d77\u59cb\u65f6\u95f4\nend = '2015-12-31'                         # \u56de\u6d4b\u7ed3\u675f\u65f6\u95f4\nbenchmark = '000009.XSHE'                        # \u7b56\u7565\u53c2\u8003\u6807\u51c6\nuniverse = ['000009.XSHE']  # \u8bc1\u5238\u6c60\uff0c\u652f\u6301\u80a1\u7968\u548c\u57fa\u91d1\ncapital_base = 100000                      # \u8d77\u59cb\u8d44\u91d1\nfreq = 'd'                                 # \u7b56\u7565\u7c7b\u578b\uff0c'd'\u8868\u793a\u65e5\u95f4\u7b56\u7565\u4f7f\u7528\u65e5\u7ebf\u56de\u6d4b\uff0c'm'\u8868\u793a\u65e5\u5185\u7b56\u7565\u4f7f\u7528\u5206\u949f\u7ebf\u56de\u6d4b\nrefresh_rate = 1                           # \u8c03\u4ed3\u9891\u7387\uff0c\u8868\u793a\u6267\u884chandle_data\u7684\u65f6\u95f4\u95f4\u9694\uff0c\u82e5freq = 'd'\u65f6\u95f4\u95f4\u9694\u7684\u5355\u4f4d\u4e3a\u4ea4\u6613\u65e5\uff0c\u82e5freq = 'm'\u65f6\u95f4\u95f4\u9694\u4e3a\u5206\u949f\n\nfrom CAL.PyCAL import *\ncal = Calendar('China.SSE')\nticker = '000009'\n\ndef initialize(account):                   # \u521d\u59cb\u5316\u865a\u62df\u8d26\u6237\u72b6\u6001\n    clf,score = get_model(ticker, '20140101', '20151201')  #\u5b9a\u4e49\u6570\u636e\u83b7\u53d6\u7684\n    print score\n\ndef handle_data(account):                  # \u6bcf\u4e2a\u4ea4\u6613\u65e5\u7684\u4e70\u5165\u5356\u51fa\u6307\u4ee4\n    c = account.referencePortfolioValue\n    today = account.current_date.strftime('%Y-%m-%d')\n    pre_trading_day = cal.advanceDate(today,'-1B',BizDayConvention.Preceding).strftime('%Y%m%d') # \u53d6\u4e0a\u4e00\u4e2a\u4ea4\u6613\u65e5\n    x_predict_df = get_data_set(ticker, pre_trading_day, pre_trading_day)\n    if x_predict_df is None or len(x_predict_df)==0:\n        return \n    x_predict = x_predict_df.values[0]\n \n    clf = joblib.load('clf.pkl')\n    y_predict=clf.predict(x_predict)\n    \n    # \u9884\u6d4b\u5927\u4e8e0\u5219\u4e70\u5165\uff0c\u5426\u5219\u5356\u51fa\n    for stock in account.universe:\n        if y_predict>0 and stock not in account.valid_secpos:\n            p = account.referencePrice[stock]\n            order(stock,int(c / p))\n        if y_predict==0 and stock in account.valid_secpos:\n            order_to(stock,0)\n",
     "language": "python",
     "metadata": {},
     "outputs": [
      {
       "output_type": "stream",
       "stream": "stdout",
       "text": "0.539473684211"
      },
      {
       "output_type": "stream",
       "stream": "stderr",
       "text": "python2.7/site-packages/sklearn/utils/validation.py:386: DeprecationWarning: Passing 1d arrays as data is deprecated in 0.17 and willraise ValueError in 0.19. Reshape your data either using X.reshape(-1, 1) if your data has a single feature or X.reshape(1, -1) if it contains a single sample.\n  DeprecationWarning)\npython2.7/site-packages/sklearn/utils/validation.py:386: DeprecationWarning: Passing 1d arrays as data is deprecated in 0.17 and willraise ValueError in 0.19. Reshape your data either using X.reshape(-1, 1) if your data has a single feature or X.reshape(1, -1) if it contains a single sample.\n  DeprecationWarning)\n"
      },
      {
       "output_type": "stream",
       "stream": "stdout",
       "text": "\n"
      },
      {
       "ename": "Exception",
       "evalue": "Query timeout, maybe requested data is too large",
       "output_type": "pyerr",
       "traceback": [
        "\u001b[1;31m---------------------------------------------------------------------------\u001b[0m\n\u001b[1;31mException\u001b[0m                                 Traceback (most recent call last)",
        "\u001b[1;32m<mercury-input-21-bc90053ad94c>\u001b[0m in \u001b[0;36m<module>\u001b[1;34m()\u001b[0m\n\u001b[0;32m     79\u001b[0m                                                           \u001b[0mslippage\u001b[0m \u001b[1;33m=\u001b[0m \u001b[0mslippage\u001b[0m\u001b[1;33m,\u001b[0m\u001b[1;33m\u001b[0m\u001b[0m\n\u001b[0;32m     80\u001b[0m                                                           \u001b[0mrefresh_rate\u001b[0m \u001b[1;33m=\u001b[0m \u001b[0mrefresh_rate\u001b[0m\u001b[1;33m,\u001b[0m\u001b[1;33m\u001b[0m\u001b[0m\n\u001b[1;32m---> 81\u001b[1;33m                                                           freq = freq)\n\u001b[0m\u001b[0;32m     82\u001b[0m         \u001b[0mperf\u001b[0m \u001b[1;33m=\u001b[0m \u001b[0mquartz\u001b[0m\u001b[1;33m.\u001b[0m\u001b[0mperf_parse\u001b[0m\u001b[1;33m(\u001b[0m\u001b[0mbt\u001b[0m\u001b[1;33m,\u001b[0m \u001b[0mquartz_acct\u001b[0m\u001b[1;33m)\u001b[0m\u001b[1;33m\u001b[0m\u001b[0m\n\u001b[0;32m     83\u001b[0m     \u001b[1;32melse\u001b[0m\u001b[1;33m:\u001b[0m\u001b[1;33m\u001b[0m\u001b[0m\n",
        "\u001b[1;32mpython2.7/site-packages/quartz/backtest_new.pyc\u001b[0m in \u001b[0;36mquick_backtest_generator_new\u001b[1;34m(sim_params, strategy, idxmap_all, data_all, commission, slippage, refresh_rate, freq, *args, **kwargs)\u001b[0m\n\u001b[0;32m    532\u001b[0m         \u001b[1;32mtry\u001b[0m\u001b[1;33m:\u001b[0m\u001b[1;33m\u001b[0m\u001b[0m\n\u001b[0;32m    533\u001b[0m             \u001b[1;32mif\u001b[0m \u001b[0mlen\u001b[0m\u001b[1;33m(\u001b[0m\u001b[0mdata\u001b[0m\u001b[1;33m)\u001b[0m \u001b[1;32mand\u001b[0m \u001b[0maccount\u001b[0m\u001b[1;33m.\u001b[0m\u001b[0mdays_counter\u001b[0m \u001b[1;33m%\u001b[0m \u001b[0mrefresh_rate\u001b[0m \u001b[1;33m==\u001b[0m \u001b[1;36m0\u001b[0m\u001b[1;33m:\u001b[0m\u001b[1;33m\u001b[0m\u001b[0m\n\u001b[1;32m--> 534\u001b[1;33m                 \u001b[0maccount\u001b[0m\u001b[1;33m.\u001b[0m\u001b[0mhandle_data\u001b[0m\u001b[1;33m(\u001b[0m\u001b[0mdata\u001b[0m\u001b[1;33m)\u001b[0m\u001b[1;33m\u001b[0m\u001b[0m\n\u001b[0m\u001b[0;32m    535\u001b[0m             \u001b[0mreport\u001b[0m\u001b[1;33m.\u001b[0m\u001b[0mupdate\u001b[0m\u001b[1;33m(\u001b[0m\u001b[0maccount\u001b[0m\u001b[1;33m,\u001b[0m \u001b[0mdata\u001b[0m\u001b[1;33m)\u001b[0m\u001b[1;33m\u001b[0m\u001b[0m\n\u001b[0;32m    536\u001b[0m \u001b[1;33m\u001b[0m\u001b[0m\n",
        "\u001b[1;32mpython2.7/site-packages/quartz/sim_condition/env.pyc\u001b[0m in \u001b[0;36mhandle_data\u001b[1;34m(self, data, trigger)\u001b[0m\n\u001b[0;32m    409\u001b[0m         \u001b[0mself\u001b[0m\u001b[1;33m.\u001b[0m\u001b[0mreferencePortfolioValue\u001b[0m \u001b[1;33m=\u001b[0m \u001b[0mself\u001b[0m\u001b[1;33m.\u001b[0m\u001b[0m_get_reference_portfolio_value\u001b[0m\u001b[1;33m(\u001b[0m\u001b[1;33m)\u001b[0m\u001b[1;33m\u001b[0m\u001b[0m\n\u001b[0;32m    410\u001b[0m         \u001b[1;32mif\u001b[0m \u001b[0mtrigger\u001b[0m\u001b[1;33m:\u001b[0m\u001b[1;33m\u001b[0m\u001b[0m\n\u001b[1;32m--> 411\u001b[1;33m             \u001b[0mself\u001b[0m\u001b[1;33m.\u001b[0m\u001b[0mstrg\u001b[0m\u001b[1;33m.\u001b[0m\u001b[0m_handle_data\u001b[0m\u001b[1;33m(\u001b[0m\u001b[0mself\u001b[0m\u001b[1;33m)\u001b[0m\u001b[1;33m\u001b[0m\u001b[0m\n\u001b[0m\u001b[0;32m    412\u001b[0m \u001b[1;33m\u001b[0m\u001b[0m\n\u001b[0;32m    413\u001b[0m         \u001b[1;32mif\u001b[0m \u001b[0mhasattr\u001b[0m\u001b[1;33m(\u001b[0m\u001b[0mself\u001b[0m\u001b[1;33m,\u001b[0m \u001b[1;34m'_current_minute'\u001b[0m\u001b[1;33m)\u001b[0m\u001b[1;33m:\u001b[0m\u001b[1;33m\u001b[0m\u001b[0m\n",
        "\u001b[1;32m<mercury-input-21-bc90053ad94c>\u001b[0m in \u001b[0;36mhandle_data\u001b[1;34m(account)\u001b[0m\n\u001b[0;32m     19\u001b[0m     \u001b[0mtoday\u001b[0m \u001b[1;33m=\u001b[0m \u001b[0maccount\u001b[0m\u001b[1;33m.\u001b[0m\u001b[0mcurrent_date\u001b[0m\u001b[1;33m.\u001b[0m\u001b[0mstrftime\u001b[0m\u001b[1;33m(\u001b[0m\u001b[1;34m'%Y-%m-%d'\u001b[0m\u001b[1;33m)\u001b[0m\u001b[1;33m\u001b[0m\u001b[0m\n\u001b[0;32m     20\u001b[0m     \u001b[0mpre_trading_day\u001b[0m \u001b[1;33m=\u001b[0m \u001b[0mcal\u001b[0m\u001b[1;33m.\u001b[0m\u001b[0madvanceDate\u001b[0m\u001b[1;33m(\u001b[0m\u001b[0mtoday\u001b[0m\u001b[1;33m,\u001b[0m\u001b[1;34m'-1B'\u001b[0m\u001b[1;33m,\u001b[0m\u001b[0mBizDayConvention\u001b[0m\u001b[1;33m.\u001b[0m\u001b[0mPreceding\u001b[0m\u001b[1;33m)\u001b[0m\u001b[1;33m.\u001b[0m\u001b[0mstrftime\u001b[0m\u001b[1;33m(\u001b[0m\u001b[1;34m'%Y%m%d'\u001b[0m\u001b[1;33m)\u001b[0m \u001b[1;31m# \u53d6\u4e0a\u4e00\u4e2a\u4ea4\u6613\u65e5\u001b[0m\u001b[1;33m\u001b[0m\u001b[0m\n\u001b[1;32m---> 21\u001b[1;33m     \u001b[0mx_predict_df\u001b[0m \u001b[1;33m=\u001b[0m \u001b[0mget_data_set\u001b[0m\u001b[1;33m(\u001b[0m\u001b[0mticker\u001b[0m\u001b[1;33m,\u001b[0m \u001b[0mpre_trading_day\u001b[0m\u001b[1;33m,\u001b[0m \u001b[0mpre_trading_day\u001b[0m\u001b[1;33m)\u001b[0m\u001b[1;33m\u001b[0m\u001b[0m\n\u001b[0m\u001b[0;32m     22\u001b[0m     \u001b[1;32mif\u001b[0m \u001b[0mx_predict_df\u001b[0m \u001b[1;32mis\u001b[0m \u001b[0mNone\u001b[0m \u001b[1;32mor\u001b[0m \u001b[0mlen\u001b[0m\u001b[1;33m(\u001b[0m\u001b[0mx_predict_df\u001b[0m\u001b[1;33m)\u001b[0m\u001b[1;33m==\u001b[0m\u001b[1;36m0\u001b[0m\u001b[1;33m:\u001b[0m\u001b[1;33m\u001b[0m\u001b[0m\n\u001b[0;32m     23\u001b[0m         \u001b[1;32mreturn\u001b[0m\u001b[1;33m\u001b[0m\u001b[0m\n",
        "\u001b[1;32m<mercury-input-17-d4a4f0aa627d>\u001b[0m in \u001b[0;36mget_data_set\u001b[1;34m(ticker, begin_date, end_date)\u001b[0m\n\u001b[0;32m     34\u001b[0m     \u001b[0;31m\u83b7\u001b[0m\u001b[0;31m\u53d6\u001b[0m\u001b[0;31m\u6570\u001b[0m\u001b[0;31m\u636e\u001b[0m\u001b[1;33m\u001b[0m\u001b[0m\n\u001b[0;32m     35\u001b[0m     \"\"\"\n\u001b[1;32m---> 36\u001b[1;33m     \u001b[0mfactor_data\u001b[0m \u001b[1;33m=\u001b[0m \u001b[0mget_factor_data\u001b[0m\u001b[1;33m(\u001b[0m\u001b[0mticker\u001b[0m\u001b[1;33m,\u001b[0m \u001b[0mbegin_date\u001b[0m\u001b[1;33m,\u001b[0m \u001b[0mend_date\u001b[0m\u001b[1;33m)\u001b[0m  \u001b[1;31m#\u83b7\u53d6\u56e0\u5b50\u6570\u636e\u001b[0m\u001b[1;33m\u001b[0m\u001b[0m\n\u001b[0m\u001b[0;32m     37\u001b[0m     \u001b[0mmacro_data\u001b[0m \u001b[1;33m=\u001b[0m \u001b[0mget_macro_data\u001b[0m\u001b[1;33m(\u001b[0m\u001b[0mticker\u001b[0m\u001b[1;33m,\u001b[0m \u001b[0mbegin_date\u001b[0m\u001b[1;33m,\u001b[0m \u001b[0mend_date\u001b[0m\u001b[1;33m)\u001b[0m    \u001b[1;31m#\u83b7\u53d6\u5b8f\u89c2\u6570\u636e\u001b[0m\u001b[1;33m\u001b[0m\u001b[0m\n\u001b[0;32m     38\u001b[0m     \u001b[0mmkt_data\u001b[0m \u001b[1;33m=\u001b[0m \u001b[0mget_mkt_equd\u001b[0m\u001b[1;33m(\u001b[0m\u001b[0mticker\u001b[0m\u001b[1;33m,\u001b[0m \u001b[0mbegin_date\u001b[0m\u001b[1;33m,\u001b[0m \u001b[0mend_date\u001b[0m\u001b[1;33m)\u001b[0m  \u001b[1;31m#\u884c\u60c5\u6570\u636e\u001b[0m\u001b[1;33m\u001b[0m\u001b[0m\n",
        "\u001b[1;32m<mercury-input-17-d4a4f0aa627d>\u001b[0m in \u001b[0;36mget_factor_data\u001b[1;34m(ticker, begin_date, end_date)\u001b[0m\n\u001b[0;32m      6\u001b[0m \u001b[1;32mdef\u001b[0m \u001b[0mget_factor_data\u001b[0m\u001b[1;33m(\u001b[0m\u001b[0mticker\u001b[0m\u001b[1;33m,\u001b[0m \u001b[0mbegin_date\u001b[0m\u001b[1;33m,\u001b[0m \u001b[0mend_date\u001b[0m\u001b[1;33m)\u001b[0m\u001b[1;33m:\u001b[0m\u001b[1;33m\u001b[0m\u001b[0m\n\u001b[0;32m      7\u001b[0m     \u001b[1;34m\"\"\"\u83b7\u53d6\u56e0\u5b50\u6570\u636e\"\"\"\u001b[0m\u001b[1;33m\u001b[0m\u001b[0m\n\u001b[1;32m----> 8\u001b[1;33m     \u001b[1;32mreturn\u001b[0m \u001b[0mDataAPI\u001b[0m\u001b[1;33m.\u001b[0m\u001b[0mMktStockFactorsDateRangeGet\u001b[0m\u001b[1;33m(\u001b[0m\u001b[0msecID\u001b[0m\u001b[1;33m=\u001b[0m\u001b[1;34m''\u001b[0m\u001b[1;33m,\u001b[0m \u001b[0mticker\u001b[0m\u001b[1;33m=\u001b[0m\u001b[0mticker\u001b[0m\u001b[1;33m,\u001b[0m \u001b[0mbeginDate\u001b[0m\u001b[1;33m=\u001b[0m\u001b[0mbegin_date\u001b[0m\u001b[1;33m,\u001b[0m \u001b[0mendDate\u001b[0m\u001b[1;33m=\u001b[0m\u001b[0mend_date\u001b[0m\u001b[1;33m,\u001b[0m \u001b[0mfield\u001b[0m\u001b[1;33m=\u001b[0m\u001b[0mfactor_ls\u001b[0m\u001b[1;33m,\u001b[0m \u001b[0mpandas\u001b[0m\u001b[1;33m=\u001b[0m\u001b[1;34m'1'\u001b[0m\u001b[1;33m)\u001b[0m\u001b[1;33m\u001b[0m\u001b[0m\n\u001b[0m\u001b[0;32m      9\u001b[0m \u001b[1;33m\u001b[0m\u001b[0m\n\u001b[0;32m     10\u001b[0m \u001b[1;32mdef\u001b[0m \u001b[0mget_mkt_equd\u001b[0m\u001b[1;33m(\u001b[0m\u001b[0mticker\u001b[0m\u001b[1;33m,\u001b[0m \u001b[0mbegin_date\u001b[0m\u001b[1;33m,\u001b[0m \u001b[0mend_date\u001b[0m\u001b[1;33m)\u001b[0m\u001b[1;33m:\u001b[0m\u001b[1;33m\u001b[0m\u001b[0m\n",
        "\u001b[1;32mpython2.7/site-packages/DataAPI/DATAYES.pyc\u001b[0m in \u001b[0;36mMktStockFactorsDateRangeGet\u001b[1;34m(secID, ticker, beginDate, endDate, field, pandas)\u001b[0m\n\u001b[0;32m   2975\u001b[0m         \u001b[0mrequestString\u001b[0m\u001b[1;33m.\u001b[0m\u001b[0mappend\u001b[0m\u001b[1;33m(\u001b[0m\u001b[0mfield\u001b[0m\u001b[1;33m)\u001b[0m\u001b[1;33m\u001b[0m\u001b[0m\n\u001b[0;32m   2976\u001b[0m     \u001b[1;32mif\u001b[0m \u001b[0msplit_param\u001b[0m \u001b[1;32mis\u001b[0m \u001b[0mNone\u001b[0m\u001b[1;33m:\u001b[0m\u001b[1;33m\u001b[0m\u001b[0m\n\u001b[1;32m-> 2977\u001b[1;33m         \u001b[0mcsvString\u001b[0m \u001b[1;33m=\u001b[0m \u001b[0mapi_base\u001b[0m\u001b[1;33m.\u001b[0m\u001b[0m__getCSV__\u001b[0m\u001b[1;33m(\u001b[0m\u001b[1;34m''\u001b[0m\u001b[1;33m.\u001b[0m\u001b[0mjoin\u001b[0m\u001b[1;33m(\u001b[0m\u001b[0mrequestString\u001b[0m\u001b[1;33m)\u001b[0m\u001b[1;33m,\u001b[0m \u001b[0mhttpClient\u001b[0m\u001b[1;33m,\u001b[0m \u001b[0mgw\u001b[0m\u001b[1;33m=\u001b[0m\u001b[0mFalse\u001b[0m\u001b[1;33m)\u001b[0m\u001b[1;33m\u001b[0m\u001b[0m\n\u001b[0m\u001b[0;32m   2978\u001b[0m         \u001b[1;32mif\u001b[0m \u001b[0mcsvString\u001b[0m \u001b[1;32mis\u001b[0m \u001b[0mNone\u001b[0m \u001b[1;32mor\u001b[0m \u001b[0mlen\u001b[0m\u001b[1;33m(\u001b[0m\u001b[0mcsvString\u001b[0m\u001b[1;33m)\u001b[0m \u001b[1;33m==\u001b[0m \u001b[1;36m0\u001b[0m \u001b[1;32mor\u001b[0m \u001b[1;33m(\u001b[0m\u001b[0mcsvString\u001b[0m\u001b[1;33m[\u001b[0m\u001b[1;36m0\u001b[0m\u001b[1;33m]\u001b[0m \u001b[1;33m==\u001b[0m \u001b[1;34m'-'\u001b[0m \u001b[1;32mand\u001b[0m \u001b[0mcsvString\u001b[0m\u001b[1;33m[\u001b[0m\u001b[1;36m1\u001b[0m\u001b[1;33m]\u001b[0m \u001b[1;33m!=\u001b[0m \u001b[1;34m'1'\u001b[0m\u001b[1;33m)\u001b[0m \u001b[1;32mor\u001b[0m \u001b[0mcsvString\u001b[0m\u001b[1;33m[\u001b[0m\u001b[1;36m0\u001b[0m\u001b[1;33m]\u001b[0m \u001b[1;33m==\u001b[0m \u001b[1;34m'{'\u001b[0m\u001b[1;33m:\u001b[0m\u001b[1;33m\u001b[0m\u001b[0m\n\u001b[0;32m   2979\u001b[0m             \u001b[0mapi_base\u001b[0m\u001b[1;33m.\u001b[0m\u001b[0mhandle_error\u001b[0m\u001b[1;33m(\u001b[0m\u001b[0mcsvString\u001b[0m\u001b[1;33m,\u001b[0m \u001b[1;36m105\u001b[0m\u001b[1;33m)\u001b[0m\u001b[1;33m\u001b[0m\u001b[0m\n",
        "\u001b[1;32mpython2.7/site-packages/DataAPI/api_base.pyc\u001b[0m in \u001b[0;36m__getCSV__\u001b[1;34m(requestString, httpClient, gw)\u001b[0m\n\u001b[0;32m     49\u001b[0m         \u001b[1;32mreturn\u001b[0m \u001b[0mresult\u001b[0m\u001b[1;33m.\u001b[0m\u001b[0mtext\u001b[0m\u001b[1;33m\u001b[0m\u001b[0m\n\u001b[0;32m     50\u001b[0m     \u001b[1;32mexcept\u001b[0m \u001b[0mReadTimeout\u001b[0m\u001b[1;33m,\u001b[0m \u001b[0me\u001b[0m\u001b[1;33m:\u001b[0m\u001b[1;33m\u001b[0m\u001b[0m\n\u001b[1;32m---> 51\u001b[1;33m         \u001b[1;32mraise\u001b[0m \u001b[0mException\u001b[0m\u001b[1;33m(\u001b[0m\u001b[1;34m'Query timeout, maybe requested data is too large'\u001b[0m\u001b[1;33m)\u001b[0m\u001b[1;33m\u001b[0m\u001b[0m\n\u001b[0m\u001b[0;32m     52\u001b[0m     \u001b[1;32mexcept\u001b[0m \u001b[0mException\u001b[0m\u001b[1;33m,\u001b[0m \u001b[0me\u001b[0m\u001b[1;33m:\u001b[0m\u001b[1;33m\u001b[0m\u001b[0m\n\u001b[0;32m     53\u001b[0m         \u001b[1;32mraise\u001b[0m \u001b[0me\u001b[0m\u001b[1;33m\u001b[0m\u001b[0m\n",
        "\u001b[1;31mException\u001b[0m: Query timeout, maybe requested data is too large"
       ]
      }
     ]
    },
    {
     "cell_type": "code",
     "collapsed": false,
     "id": "6F553FACD6B54FD98017B4CC9A9414A2",
     "input": [],
     "language": "python",
     "metadata": {},
     "outputs": []
    }
   ],
   "metadata": {}
  }
 ]
}