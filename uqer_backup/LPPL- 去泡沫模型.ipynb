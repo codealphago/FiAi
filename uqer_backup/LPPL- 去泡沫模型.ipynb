{
 "father": "568a65e0228e5b67159becfc",
 "metadata": {
  "signature": "sha256:610eeff18e79c10d95a75cf9238e54c379baa555e675b947d3876afe28ebbe52"
 },
 "nbformat": 3,
 "nbformat_minor": 0,
 "worksheets": [
  {
   "cells": [
    {
     "cell_type": "markdown",
     "id": "AA493AEA66C5449A9C6F2781743F87CC",
     "metadata": {},
     "source": [
      "* \u4eca\u5929\u6307\u6570\u4e24\u6b21\u7194\u65ad\uff0c\u6caa\u6df1300\u5927\u8dcc7%\uff0c\u5f88\u6050\u6016\uff0c\u6211\u8282\u524d\u7a7a\u4ed3\uff0c\u4eca\u5929\u4e5f\u5c31\u7d22\u6027\u5168\u90e8\u653e\u9006\u56de\u8d2d\u4e86\uff0c\u8fd9\u6837\u540e\u5929\u624d\u80fd\u8d4e\u56de\uff0c\u4e5f\u662f\u4e3a\u4e86\u9632\u6b62\u660e\u5929\u4e07\u4e00\u60f3\u6284\u5e95\u5241\u624b\n",
      "* \u53cd\u6b63\u4e5f\u662f\u73b0\u6210\u7684\u7b97\u6cd5\u8c03\u4e86\u8c03\u53c2\u6570\u8dd1\u4e00\u8dd1\uff0cLPPL\u7684anti-bubble model\uff0c\u611f\u8c22`\u4f18\u77ff`\u5e73\u53f0\n",
      "* \u4eca\u5929\u5927\u8dcc\u6211\u60f3\u8bf4\u4e00\u4e0b\u6211\u7684\u60f3\u6cd5\uff0c\u5927\u8dcc\u539f\u56e0\u4e0d\u5728\u7194\u65ad\u673a\u5236\uff0c\u800c\u5728\u4e8e`\u80a1\u4ef7\u592a\u8d35\u4e86`,\u6ca1\u6709\u8db3\u591f\u7684\u6d41\u52a8\u6027\u652f\u6491\uff0c\u7194\u65ad\u673a\u5236\u53ea\u662f\u50ac\u5316\u5242\u7f62\u4e86\u3002\u6ca1\u6709\u7194\u65ad\uff0c\u6307\u6570\u7167\u6837\u8981\u51b2\u4e0d\u51fa3600\uff0c\u5c31\u60f3\u6ca1\u6709\u56fd\u5bb6\u6551\u5e02\uff0c\u6307\u6570\u7167\u6837\u80fd\u57282500\u70b9\u4ee5\u4e0a\u53cd\u5f39\u4e00\u6837\uff08\u5f53\u7136\u540e\u671f\u5e73\u53f0\u4e0d\u4f1a\u8fd9\u4e48\u4e45\uff09\u3002"
     ]
    },
    {
     "cell_type": "code",
     "collapsed": false,
     "id": "CEB5513E1FBE406282C07968810DBC9E",
     "input": [
      "import lib.relppltool as relppltool\n",
      "from matplotlib import pyplot as plt\n",
      "import datetime\n",
      "import numpy as np\n",
      "import pandas as pd\n",
      "import seaborn as sns\n",
      "sns.set_style('white')\n",
      "\n",
      "limits = ([8.5, 8.6], [-0.25, -0.12], [-3, 3], [.15,.4], [0.05,0.1], [4,8], [0, 2*np.pi])\n",
      "x = relppltool.Population(limits, 20, 0.3, 1.5, .05, 4)\n",
      "for i in range (3):\n",
      "\tx.Fitness()\n",
      "\tx.Eliminate()\n",
      "\tx.Mate()\n",
      "\tx.Mutate()\n",
      "\t\n",
      "x.Fitness()\t\n",
      "values = x.BestSolutions(3)\n",
      "for xx in values:\n",
      "\tprint xx.PrintIndividual()"
     ],
     "language": "python",
     "metadata": {},
     "outputs": [
      {
       "output_type": "stream",
       "stream": "stdout",
       "text": [
        "Fitness Evaluating: 0 of 20        \r"
       ]
      },
      {
       "output_type": "stream",
       "stream": "stdout",
       "text": [
        "Fitness Evaluating: 1 of 20        \r",
        "Fitness Evaluating: 2 of 20        \r"
       ]
      },
      {
       "output_type": "stream",
       "stream": "stdout",
       "text": [
        "Fitness Evaluating: 3 of 20        \r",
        "Fitness Evaluating: 4 of 20        \r"
       ]
      },
      {
       "output_type": "stream",
       "stream": "stdout",
       "text": [
        "Fitness Evaluating: 5 of 20        \r",
        "Fitness Evaluating: 6 of 20        \r"
       ]
      },
      {
       "output_type": "stream",
       "stream": "stdout",
       "text": [
        "Fitness Evaluating: 7 of 20        \r",
        "Fitness Evaluating: 8 of 20        \r"
       ]
      },
      {
       "output_type": "stream",
       "stream": "stdout",
       "text": [
        "Fitness Evaluating: 9 of 20        \r",
        "Fitness Evaluating: 10 of 20        \r"
       ]
      },
      {
       "output_type": "stream",
       "stream": "stdout",
       "text": [
        "Fitness Evaluating: 11 of 20        \r",
        "Fitness Evaluating: 12 of 20        \r"
       ]
      },
      {
       "output_type": "stream",
       "stream": "stdout",
       "text": [
        "Fitness Evaluating: 13 of 20        \r",
        "Fitness Evaluating: 14 of 20        \r"
       ]
      },
      {
       "output_type": "stream",
       "stream": "stdout",
       "text": [
        "Fitness Evaluating: 15 of 20        \r",
        "Fitness Evaluating: 16 of 20        \r"
       ]
      },
      {
       "output_type": "stream",
       "stream": "stdout",
       "text": [
        "Fitness Evaluating: 17 of 20        \r",
        "Fitness Evaluating: 18 of 20        \r"
       ]
      },
      {
       "output_type": "stream",
       "stream": "stdout",
       "text": [
        "Fitness Evaluating: 19 of 20        \r\n",
        " fitness out size: 20 0"
       ]
      },
      {
       "output_type": "stream",
       "stream": "stdout",
       "text": [
        "\n",
        "Eliminate: 14\n",
        "loop broken: mate"
       ]
      }
     ]
    },
    {
     "cell_type": "code",
     "collapsed": false,
     "id": "6FDBD776322C4A5A82459A011ADCA698",
     "input": [
      "SP = DataAPI.MktIdxdGet(ticker='000001',beginDate='20150615',endDate='20160630',field=[\"tradeDate\",\"closeIndex\"],pandas=\"1\")\n",
      "print \"======== total data size: \" , len(SP)\n",
      "index1 = pd.Series(SP.closeIndex)\n",
      "\n",
      "T = 400\n",
      "t = np.linspace(0,T-1,T)\n",
      "\n",
      "Fit1 = relppltool.lppl(t, values[0].getParam())\n",
      "Fit1 = np.exp(pd.Series(Fit1))\n",
      "Fit2 = relppltool.lppl(t, values[1].getParam())\n",
      "Fit2 = np.exp(pd.Series(Fit2))\n",
      "Fit3 = relppltool.lppl(t, values[2].getParam())\n",
      "Fit3 = np.exp(pd.Series(Fit3))\n",
      "index =  np.exp(pd.Series(values[0].getDataSeries()[1]))\n",
      "fit = pd.concat([index,Fit1,Fit2,Fit3,index1],axis=1)\n",
      "data = fit\n",
      "data.columns = ['IndexOrg','Fit1','Fit2','Fit3','IndexCurr']\n",
      "\n",
      "#data = pd.DataFrame({'Date':values[0].getDataSeries()[0],'Index':values[0].getDataSeries()[1],'Fit1':values[0].getExpData(),'Fit2':values[1].getExpData(),'Fit3':values[2].getExpData()})\n",
      "#data = data.set_index('Date')\n",
      "\n",
      "data.plot(y=['IndexOrg','Fit1','Fit2','Fit3'],figsize=(14,8))\n",
      "\n",
      "data.plot(y=['IndexCurr','Fit1','Fit2','Fit3'],figsize=(14,8))"
     ],
     "language": "python",
     "metadata": {},
     "outputs": []
    },
    {
     "cell_type": "markdown",
     "id": "DF9FB148A6744D0CA0DDFE7FEE7BB4DC",
     "metadata": {},
     "source": [
      "`\u6a21\u578b\u5927\u5bb6\u770b\u770b\u5c31\u597d\uff0c\u6743\u5f53\u53c2\u8003\u3002\u91cd\u70b9\u4e0d\u5728\u9884\u6d4b\uff0c\u800c\u5728\u8d44\u91d1\u7ba1\u7406\u3002`"
     ]
    }
   ],
   "metadata": {}
  }
 ]
}