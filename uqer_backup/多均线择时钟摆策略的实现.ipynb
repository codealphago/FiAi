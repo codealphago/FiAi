{
 "father": "56dc2e1d228e5b57c443d604",
 "metadata": {
  "signature": "sha256:44056b39bef0c697160155e96b99d4f378814c46b48f2b5dc74e75a8cc4f77c0"
 },
 "nbformat": 3,
 "nbformat_minor": 0,
 "worksheets": [
  {
   "cells": [
    {
     "cell_type": "markdown",
     "id": "11A682BC716C4BDDA19CDB8ABE3D318D",
     "metadata": {},
     "source": [
      "\u672c\u7b56\u7565\u7684\u9009\u80a1\u7b56\u7565\u501f\u9274\u4e86@liniu\u7684 [\u949f\u6446\u7406\u8bba\u7684\u7b80\u5355\u5b9e\u73b0\u2014\u2014\u5b8c\u7f8e\u8eb2\u8fc7\u80a1\u707e\u548c\u7cbe\u51c6\u6284\u5e95](https://uqer.io/community/share/562cdabef9f06c4ca72fb6f8)  \n",
      "\u52a0\u4e0a\u4e86\u591a\u5747\u7ebf\u7684\u62e9\u65f6\u64cd\u4f5c\u3002"
     ]
    },
    {
     "cell_type": "markdown",
     "id": "D8154AEC6D32401A885ABA3CDF6AA745",
     "metadata": {},
     "source": [
      "### **\u6765\u81ea@liniu\u5927\u5927\u7684\u9009\u80a1\u548c\u4f30\u503c\u65b9\u6cd5**"
     ]
    },
    {
     "cell_type": "code",
     "collapsed": false,
     "id": "3B6156C87F414D71AA71C38F8378A4AA",
     "input": [
      "def preceding_date(date):\n",
      "    cal = DataAPI.TradeCalGet(exchangeCD=u\"XSHG\",beginDate='20110101',endDate=date,field=['calendarDate','isOpen'],pandas=\"1\")\n",
      "    cal = cal[cal['isOpen']==1]\n",
      "    date = cal['calendarDate'].values[-2].replace('-','')\n",
      "    return date\n",
      "\n",
      "def spreadRateByIntrinsicValue(account, overflow=0.0, precedingDate=True):\n",
      "    stock_list = account.universe\n",
      "    current_date = account.current_date\n",
      "    date = current_date.strftime('%Y%m%d')\n",
      "    if precedingDate:\n",
      "        date = preceding_date(date)\n",
      "    eq_EPS_EGRO = DataAPI.MktStockFactorsOneDayGet(tradeDate=date,secID=stock_list,field=['secID','EPS','EGRO'],pandas=\"1\")\n",
      "    eq_EPS_EGRO['Value'] = eq_EPS_EGRO['EPS']*(8.5+2*eq_EPS_EGRO['EGRO']/5)\n",
      "    eq_EPS_EGRO = eq_EPS_EGRO.dropna()\n",
      "    spread_rate = []\n",
      "    for stock, intrinsic_value in zip(eq_EPS_EGRO['secID'].values, eq_EPS_EGRO['Value'].values):\n",
      "        intrinsic_value = intrinsic_value*(1+overflow)\n",
      "        reference_price = account.referencePrice[stock]\n",
      "        if reference_price > 0 and reference_price < intrinsic_value:\n",
      "            spread_rate.append((stock, (intrinsic_value-reference_price)/reference_price))\n",
      "    return sorted(spread_rate, key=lambda k: k[-1], reverse=True)"
     ],
     "language": "python",
     "metadata": {},
     "outputs": []
    },
    {
     "cell_type": "markdown",
     "id": "2505AEAC400F4DCD8A2333F67AF7F5AC",
     "metadata": {},
     "source": [
      "### **\u591a\u5747\u7ebf\u62e9\u65f6\u64cd\u4f5c\u76f8\u5173\u4ee3\u7801**"
     ]
    },
    {
     "cell_type": "code",
     "collapsed": false,
     "id": "047CE42E382944ECA39D829F950E6F72",
     "input": [
      "import numpy as np\n",
      "import pandas as pd\n",
      "\n",
      "def evaluate_all_mavg(account, stock_list):\n",
      "    hist = account.get_history(31)\n",
      "    \n",
      "    for stock in stock_list:\n",
      "        hist_pd = pd.DataFrame(hist[stock])\n",
      "        price_pd = hist_pd['closePrice']\n",
      "        mavg5 = price_pd[-5:].mean()\n",
      "        mavg5_list = account.mavg5_dict.get(stock, [])\n",
      "        mavg5_list.append(mavg5)\n",
      "        account.mavg5_dict[stock] = mavg5_list\n",
      "        \n",
      "        mavg10 = price_pd[-10:].mean()\n",
      "        mavg10_list = account.mavg10_dict.get(stock, [])\n",
      "        mavg10_list.append(mavg10)\n",
      "        account.mavg10_dict[stock] = mavg10_list\n",
      "        \n",
      "        mavg20 = price_pd[-20:].mean()\n",
      "        mavg20_list = account.mavg20_dict.get(stock, [])\n",
      "        mavg20_list.append(mavg20)\n",
      "        account.mavg20_dict[stock] = mavg20_list\n",
      "\n",
      "        mavg30 = price_pd[-30:].mean()\n",
      "        mavg30_list = account.mavg30_dict.get(stock, [])\n",
      "        mavg30_list.append(mavg30)\n",
      "        account.mavg30_dict[stock] = mavg30_list\n",
      "\n",
      "# \u5224\u65ad\u591a\u5934\u6392\u5217--\u4e70\u5165\u4fe1\u53f7.\u80fd\u4ea7\u751f\u8fd9\u79cd\u4fe1\u53f7\u7684\uff0c\u9700\u8981\u76f8\u5f53\u5f3a\u608d\u7684\u8d44\u91d1\u652f\u6491\u53bb\u6258\u5e02\uff0c\u6216\u8005\u8be5\u8d44\u4ea7\u672c\u8eab\u5177\u6709\u5f88\u597d\u7684\u5185\u5728\u4ef7\u503c\u3002\n",
      "def is_highest_point(account,stock,n):\n",
      "    if len(account.mavg10_dict[stock]) > 2:\n",
      "        if account.mavg5_dict[stock][n] > account.mavg10_dict[stock][n] \\\n",
      "        and account.mavg10_dict[stock][n] > account.mavg20_dict[stock][n] \\\n",
      "        and account.mavg20_dict[stock][n] > account.mavg30_dict[stock][n]:\n",
      "            return True #\u8fd9\u4e2a\u5f3a\u5ea6\u8981\u6c42\u76f8\u5f53\u9ad8\uff0c\u4f46\u4e5f\u675c\u7edd\u4e86\u8bf1\u591a\u7684\u505a\u5e02\u884c\u4e3a\n",
      "    return False\n",
      "\n",
      "# \u5224\u65ad\u7a7a\u5934\u6392\u5217--\u7a7a\u4ed3\n",
      "def is_lowest_point(account, stock, n):\n",
      "    if len(account.mavg10_dict[stock]) > 2:\n",
      "        if account.mavg5_dict[stock][n] < account.mavg10_dict[stock][n] \\\n",
      "        and account.mavg10_dict[stock][n] < account.mavg20_dict[stock][n]:\n",
      "            return True\n",
      "    \n",
      "    return False\n",
      "# \u5224\u65ad\u591a\u5934\u6392\u5217\u540e\u7684\u6b7b\u53c9--\u5356\u51fa\n",
      "def is_cross_down(account, stock, mavg1, mavg2):\n",
      "    if len(mavg2) > 2 and is_highest_point(account, stock, -2)\\\n",
      "    and is_highest_point(account, stock, -3):\n",
      "        if mavg1[-2] > mavg2[-2]\\\n",
      "        and mavg1[-1] < mavg2[-1]:\n",
      "            return True\n",
      "    return False\n",
      "\n",
      "# \u5224\u65ad\u7a7a\u5934\u6392\u5217\u540e\u7684\u91d1\u53c9--\u4e70\u5165\n",
      "def is_cross_up(account, stock, mavg1, mavg2):\n",
      "    if len(mavg2) > 2 and is_lowest_point(account, stock, -2)\\\n",
      "    and is_lowest_point(account, stock, -3):\n",
      "        if mavg1[-2] < mavg2[-2]\\\n",
      "        and mavg1[-1] > mavg2[-1]:\n",
      "            return True\n",
      "    return False\n",
      "\n",
      "#\u5224\u65ad\u5747\u7ebf\u7ea0\u7f20\n",
      "def is_struggle(mavg1, mavg2, mavg3):\n",
      "    if abs((mavg1[-1]-mavg2[-1])/mavg2[-1]) < 0.003 \\\n",
      "    or abs((mavg2[-1]-mavg3[-1])/mavg3[-1]) < 0.002:\n",
      "        return True\n",
      "    return False"
     ],
     "language": "python",
     "metadata": {},
     "outputs": []
    },
    {
     "cell_type": "markdown",
     "id": "EF1FEA93518149FB81FFBDE3161581FB",
     "metadata": {},
     "source": [
      "### \u6700\u540e\u5927\u529f\u544a\u6210"
     ]
    },
    {
     "cell_type": "strategy",
     "collapsed": false,
     "has_detail": true,
     "id": "8EA695572A6F4B01834F3FB666F5D5D6",
     "input": "start = '2016-01-01'                       # \u56de\u6d4b\u8d77\u59cb\u65f6\u95f4\nend = '2016-06-01'                         # \u56de\u6d4b\u7ed3\u675f\u65f6\u95f4\nbenchmark = 'HS300'                       # \u7b56\u7565\u53c2\u8003\u6807\u51c6\ncommission = Commission(buycost=0.0008, sellcost=0.0018)  # \u4f63\u91d1\u4e07\u516b\nuniverse = set_universe('CYB',date=end)           # Very Important Here!! \u9009\u80a1\u5f88\u91cd\u8981\uff01\u4e0d\u8981\u73a9\u5927\u70c2\u81ed\uff01\u4f30\u503c\u518d\u4f4e\u4e5f\u522b\u73a9\uff01\ncapital_base = 10000000                      # \u8d77\u59cb\u8d44\u91d1\nfreq = 'd'                                 # \u7b56\u7565\u7c7b\u578b\uff0c'd'\u8868\u793a\u65e5\u95f4\u7b56\u7565\u4f7f\u7528\u65e5\u7ebf\u56de\u6d4b\uff0c'm'\u8868\u793a\u65e5\u5185\u7b56\u7565\u4f7f\u7528\u5206\u949f\u7ebf\u56de\u6d4b\nrefresh_rate = 1                           # \u8c03\u4ed3\u9891\u7387\uff0c\u8868\u793a\u6267\u884chandle_data\u7684\u65f6\u95f4\u95f4\u9694\uff0c\u82e5freq = 'd'\u65f6\u95f4\u95f4\u9694\u7684\u5355\u4f4d\u4e3a\u4ea4\u6613\u65e5\uff0c\u82e5freq = 'm'\u65f6\u95f4\u95f4\u9694\u4e3a\u5206\u949f\nmax_percent_of_a_stock = 1.0 # \u5355\u652f\u80a1\u7684\u6700\u5927\u4ed3\u4f4d\n\ndef initialize(account):                   # \u521d\u59cb\u5316\u865a\u62df\u8d26\u6237\u72b6\u6001\n    account.mavg5_dict = {}\n    account.mavg10_dict = {}\n    account.mavg20_dict = {}\n    account.mavg30_dict = {}\n    account.mavg60_dict = {}\n    account.mavg180_dict = {}\n\ndef handle_data(account):                  # \u6bcf\u4e2a\u4ea4\u6613\u65e5\u7684\u4e70\u5165\u5356\u51fa\u6307\u4ee4\n    global max_percent_of_a_stock\n\n    current_date = account.current_date\n    current_date = current_date.strftime('%Y%m%d')\n    overflow = 0.10 # \u6839\u636e\u60c5\u51b5\u7ed9\u4e88\u4e00\u5b9a\u7684\u6ea2\u4ef7\uff08\u4f8b\u59820.1)\u6216\u8005\u6298\u4ef7(\u4f8b\u5982-0.1)\uff0c\u4e5f\u53ef\u4ee5\u6839\u636e\u5e02\u573a\u98ce\u9669\u7a0b\u5ea6\u8fdb\u884c\u52a8\u6001\u8c03\u8282\uff08\u6b64\u5904\u8bfb\u8005\u53ef\u4ee5\u81ea\u884c\u53d1\u6325\uff09\n    spread_rate = dict(spreadRateByIntrinsicValue(account, overflow=overflow, precedingDate=True))\n    referencePortfolioValue = account.referencePortfolioValue\n\n    # \u83b7\u53d6\u7528\u6765\u8ba1\u7b97\u591a\u5934\u5f62\u6001\u7684\u80a1\u7968\u5217\u8868\n    stock_set_for_duotou = []\n    stock_set_for_duotou.extend(account.avail_secpos.keys())\n    stock_set_for_duotou.extend(spread_rate.keys())\n    stock_set_for_duotou = list(set(stock_set_for_duotou))\n    \n    evaluate_all_mavg(account, stock_set_for_duotou)\n    \n    buy_list = []\n    sel_list = []\n\n    for stock in stock_set_for_duotou:\n         # \u591a\u5934\u6392\u5217--\u6ee1\u4ed3\u4e70\u5165\n        if is_highest_point(account, stock, -1) and account.avail_secpos.get(stock, 0) == 0:\n            # \u5747\u7ebf\u7ea0\u7f20\u65f6\uff0c\u4e0d\u8fdb\u884c\u4e70\u5165\u64cd\u4f5c\n            if is_struggle(account.mavg10_dict[stock], account.mavg20_dict[stock], account.mavg30_dict[stock]):\n                continue\n            else:\n                buy_list.append(stock)\n                continue\n        \n        # \u7a7a\u5934\u5934\u6392\u5217--\u6e05\u4ed3\u5356\u51fa\n        elif is_lowest_point(account, stock, -1):\n            sel_list.append(stock)\n            continue\n        \n        #\u591a\u5934\u6392\u5217\u540e\u6b7b\u53c9--\u6e05\u4ed3\u5356\u51fa\n        if is_cross_down(account, stock, account.mavg5_dict[stock], account.mavg10_dict[stock]):\n            sel_list.append(stock)\n        elif is_cross_up(account, stock, account.mavg10_dict[stock], account.mavg20_dict[stock]) and account.avail_secpos.get(stock, 0) == 0:\n            buy_list.append(stock)\n            \n    for stock in sel_list:\n        order_to(stock, 0)\n    \n    for stock in buy_list:\n        buy_value = min(referencePortfolioValue*max_percent_of_a_stock, account.cash/len(buy_list))\n        if buy_value/referencePortfolioValue >= 0.0001:\n            order_pct(stock, buy_value/referencePortfolioValue)",
     "language": "python",
     "metadata": {},
     "outputs": [
      {
       "metadata": {},
       "output_type": "pyout",
       "prompt_number": 6,
       "text": "'{\"information\": -0.32228, \"benchmark_cumulative_return\": {\"1461888000000\": 0.0121444704, \"1461801600000\": 0.0133744038, \"1463443200000\": -0.0105304232, \"1459900800000\": 0.0444584381, \"1457308800000\": -0.0044977857, \"1459296000000\": 0.0312315237, \"1461283200000\": 0.0179658132, \"1458086400000\": -0.0092453416, \"1462838400000\": -0.0159532241, \"1459468800000\": 0.0330334596, \"1461628800000\": 0.0193316934, \"1461024000000\": 0.0382943427, \"1464048000000\": -0.0177346396, \"1464307200000\": -0.0180735446, \"1458691200000\": 0.0375854316, \"1456876800000\": -0.0216536897, \"1456272000000\": -0.0029892256, \"1458518400000\": 0.0418642277, \"1462492800000\": 0.0036827464, \"1457049600000\": -0.0080086749, \"1460505600000\": 0.0456944635, \"1464220800000\": -0.0175246275, \"1459382400000\": 0.0318128244, \"1459814400000\": 0.0466893758, \"1460592000000\": 0.0503272341, \"1458604800000\": 0.0342823101, \"1456444800000\": -0.0547753223, \"1461542400000\": 0.0138399573, \"1461196800000\": 0.0133814576, \"1457568000000\": -0.0338975551, \"1463097600000\": -0.0140862005, \"1464739200000\": 0.0133635024, \"1464134400000\": -0.0191229638, \"1463529600000\": -0.016298221, \"1456185600000\": -0.0094601631, \"1459987200000\": 0.0289919291, \"1456358400000\": -0.0641636645, \"1463011200000\": -0.0092119961, \"1460937600000\": 0.0351361456, \"1460678400000\": 0.0491643122, \"1462233600000\": 0.030354603, \"1460419200000\": 0.0319288921, \"1457481600000\": -0.0150570656, \"1462752000000\": -0.0170744642, \"1463616000000\": -0.018073224, \"1460073600000\": 0.0214366238, \"1458172800000\": 0.0017108772, \"1458000000000\": -0.014135898, \"1459209600000\": 0.0053038474, \"1461110400000\": 0.0199296668, \"1458864000000\": 0.0253133509, \"1456704000000\": -0.0774001978, \"1456963200000\": -0.0193807497, \"1464652800000\": 0.0162533329, \"1462320000000\": 0.0290467567, \"1464566400000\": -0.0167233753, \"1458259200000\": 0.0170238048, \"1463356800000\": -0.0075537022, \"1457395200000\": -0.0035894433, \"1458777600000\": 0.0201941858, \"1456790400000\": -0.0603340699, \"1461715200000\": 0.0150849603, \"1462924800000\": -0.0115615666, \"1457654400000\": -0.0322501626, \"1462406400000\": 0.0304764421, \"1463961600000\": -0.0101463095, \"1459123200000\": 0.0163071986, \"1463702400000\": -0.013033575, \"1457913600000\": -0.017050417, \"1460332800000\": 0.0356629392}, \"benchmark_annualized_return\": 0.04855, \"turnover_rate\": 0.0, \"max_drawdown\": 0.0, \"beta\": 0.0, \"sharpe\": null, \"alpha\": 0.0, \"volatility\": 0.0, \"annualized_return\": 0.0, \"cumulative_return\": {\"1461888000000\": 0.0, \"1461801600000\": 0.0, \"1463443200000\": 0.0, \"1459900800000\": 0.0, \"1457308800000\": 0.0, \"1459296000000\": 0.0, \"1461283200000\": 0.0, \"1458086400000\": 0.0, \"1462838400000\": 0.0, \"1459468800000\": 0.0, \"1461628800000\": 0.0, \"1461024000000\": 0.0, \"1464048000000\": 0.0, \"1464307200000\": 0.0, \"1458691200000\": 0.0, \"1456876800000\": 0.0, \"1456272000000\": 0.0, \"1458518400000\": 0.0, \"1462492800000\": 0.0, \"1457049600000\": 0.0, \"1460505600000\": 0.0, \"1464220800000\": 0.0, \"1459382400000\": 0.0, \"1459814400000\": 0.0, \"1460592000000\": 0.0, \"1458604800000\": 0.0, \"1456444800000\": 0.0, \"1461542400000\": 0.0, \"1461196800000\": 0.0, \"1457568000000\": 0.0, \"1463097600000\": 0.0, \"1464739200000\": 0.0, \"1464134400000\": 0.0, \"1463529600000\": 0.0, \"1456185600000\": 0.0, \"1459987200000\": 0.0, \"1456358400000\": 0.0, \"1463011200000\": 0.0, \"1460937600000\": 0.0, \"1460678400000\": 0.0, \"1462233600000\": 0.0, \"1460419200000\": 0.0, \"1457481600000\": 0.0, \"1462752000000\": 0.0, \"1463616000000\": 0.0, \"1460073600000\": 0.0, \"1458172800000\": 0.0, \"1458000000000\": 0.0, \"1459209600000\": 0.0, \"1461110400000\": 0.0, \"1458864000000\": 0.0, \"1456704000000\": 0.0, \"1456963200000\": 0.0, \"1464652800000\": 0.0, \"1462320000000\": 0.0, \"1464566400000\": 0.0, \"1458259200000\": 0.0, \"1463356800000\": 0.0, \"1457395200000\": 0.0, \"1458777600000\": 0.0, \"1456790400000\": 0.0, \"1461715200000\": 0.0, \"1462924800000\": 0.0, \"1457654400000\": 0.0, \"1462406400000\": 0.0, \"1463961600000\": 0.0, \"1459123200000\": 0.0, \"1463702400000\": 0.0, \"1457913600000\": 0.0, \"1460332800000\": 0.0}}'"
      }
     ]
    },
    {
     "cell_type": "markdown",
     "id": "F74833112A00465B9C8BC3730F868259",
     "metadata": {},
     "source": [
      "\u56de\u6d4b\u53ef\u4ee5\u53d1\u73b0\uff0c\u8fd9\u79cd\u6295\u8d44\u4f53\u7cfb\u80fd\u591f\u5b8c\u7f8e\u8eb2\u8fc7\u80a1\u707e\uff0c\u5e76\u4e14\u80fd\u5728\u80a1\u707e\u4e2d\u7cbe\u51c6\u6284\u5e95\u83b7\u5229 \uff1a-)"
     ]
    }
   ],
   "metadata": {}
  }
 ]
}