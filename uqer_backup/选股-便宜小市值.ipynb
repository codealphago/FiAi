{
 "father": "56345ffbf9f06c7157dfe875",
 "metadata": {
  "signature": "sha256:c4e6d6012f7991280469f651f4c59bd09df26b38a64794ab7f6f30af6ca7a665"
 },
 "nbformat": 3,
 "nbformat_minor": 0,
 "worksheets": [
  {
   "cells": [
    {
     "cell_type": "markdown",
     "id": "63558546A05B44829CA5F227F9F439A5",
     "metadata": {},
     "source": [
      "\u6839\u636e\u300a\u4fbf\u5b9c\u5c31\u662falpha\u300b\u548c\u300a\u5e02\u503c\u6700\u5c0f300\u80a1\u7968\uff08\u7b5b\u9009\u5668\u7248\uff09\u300b\u7ed3\u5408\u5f97\u5230\u7684\u7b56\u7565\uff0c\u52a0\u5165\u4e00\u4e2a\u7b80\u5355\u7684\u6b62\u635f\u6761\u4ef6\u3002\n",
      "\n",
      "\u83dc\u9e1f\u4e00\u679a\uff0c\u6c42\u5404\u4f4d\u524d\u8f88\u7f69(*^__^*) \u2026\u2026"
     ]
    },
    {
     "cell_type": "strategy",
     "collapsed": false,
     "id": "751E7710B98A4A4BAF37371EECE58D93",
     "input": "import numpy as np\nfrom CAL.PyCAL import *\nimport operator\n\n\nstart = datetime(2012, 1, 1)\nend   = datetime(2015, 9, 25)\nbenchmark = 'HS300'\t\t\t\t\t\t\t# \u7b56\u7565\u53c2\u8003\u6807\u51c6\nuniverse = StockScreener(Factor.LCAP.nsmall(300))  #\u5148\u7528\u7b5b\u9009\u5668\u9009\u62e9\u51fa\u5e02\u503c\u6700\u5c0f\u7684350\u53ea\u80a1\u7968\ncapital_base = 100000\nstk_num = 15      # \u6301\u4ed3\u80a1\u7968\u6570\u91cf\nrefresh_rate = 1\n\ndef initialize(account):\n    pass\n\ndef handle_data(account):\n    cal = Calendar('China.SSE')\n    \n    # ----------------- \u6e05\u6d17universe --------------------------------\n    date = account.current_date\n    yesterday = cal.advanceDate(date, '-1B', BizDayConvention.Following)\n    yesterday = datetime(yesterday.year(), yesterday.month(), yesterday.dayOfMonth()).strftime('%Y%m%d')\n    fivedays =  cal.advanceDate(date, '-5B', BizDayConvention.Following)\n    fivedays = datetime(fivedays.year(), fivedays.month(), fivedays.dayOfMonth()).strftime('%Y%m%d')\n    # \u53bb\u9664ST\u80a1\n    try:\n        STlist = DataAPI.SecSTGet(secID=account.universe, beginDate=yesterday, endDate=yesterday, field=['secID']).tolist()\n        account.universe = [s for s in account.universe if s not in STlist]\n    except:\n        pass\n    # \u53bb\u9664\u6d41\u52a8\u6027\u5dee\u7684\u80a1\u7968\n    tv = account.get_attribute_history('turnoverValue', 20)\n    mtv = {sec: sum(tvs)/20. for sec,tvs in tv.items()}\n    account.universe = [s for s in account.universe if mtv.get(s, 0) >= 10000000]\n    # \u53bb\u9664\u65b0\u4e0a\u5e02\u6216\u590d\u724c\u7684\u80a1\u7968\n    opn = account.get_attribute_history('openPrice', 1)\n    account.universe = [s for s in account.universe if not (np.isnan(opn.get(s, 0)[0]) or opn.get(s, 0)[0] == 0)]\n    # \u53bb\u9664\u5f31\u52bf\u80a1\u7968\n    hist_prices = account.get_attribute_history('closePrice', 5)\n    hist_returns = {sec: hist_prices[sec][-1]/hist_prices[sec][0] for sec in hist_prices.keys()}\n    account.universe = [s for s in account.universe if hist_returns.get(s, 0) > 0.96]\n    \n    # ----------------- \u8c03\u4ed3\u903b\u8f91 --------------------------------\n    dapan = DataAPI.MktIdxdGet(ticker=u\"000001\",beginDate=fivedays,endDate=yesterday,field=['closeIndex'],pandas=\"1\")\n    zhangfu = dapan['closeIndex'][4] / dapan['closeIndex'][0]\n    if zhangfu > 0.963:\n        bucket = {}\n        for stk in account.universe:\n            bucket[stk] = account.referencePrice[stk]\n        \n    # \u4ee5\u524d\u9762\u8ba1\u7b97\u5f97\u5230\u7684turnover_delta\u5bf9\u80a1\u7968\u6c60\u4e2d\u80a1\u7968\u6392\u5e8f\uff0c\u5e76\u53d6\u524dstk_num\u53ea\uff0c\u529b\u56fe\u6ee1\u8db3\u6bd4\u8d5b\u8981\u6c42\n    # \u6ce8\u610f\uff1a\n    # \u8fd9\u91cc\u6211\u4eec\u5176\u5b9e\u53d6\u4e86\u80a1\u4ef7\u6700\u4f4e\u7684 stk_num*2 \u53ea\uff0c\u539f\u56e0\u5728\u4e8e\uff1a\u4e3a\u4e86\u6ee1\u8db3\u53c2\u8d5b\u8981\u6c42\uff0c\u8c03\u4ed3\u65f6\u5019\u6211\u4eec\u5fc5\u987b\n    # \u8fbe\u5230\u4e00\u5b9a\u4ed3\u4f4d\uff0c\u5982\u679c\u53d6stk_num\u53ea\uff0c\u90a3\u4e48\u4e00\u65e6\u9047\u5230\u6da8\u505c\u505c\u724c\u7b49\u4e70\u4e0d\u8fdb\u7684\u60c5\u51b5\uff0c\u5c31\u8dea\u4e86\uff1b\u6240\u4ee5\u6211\u4eec\u62ff\n    # stk_num*2 \u6570\u91cf\u7684\u80a1\u7968\uff0c\u4f46\u662f\u5374\u5c06\u4ed3\u4f4d\u5206\u6210stk_num\u4efd\uff0c\u6bcf\u4efd\u4e70\u8fdb\u4e00\u53ea\uff0c\u8fd9\u6837\u6709\u4e00\u53ea\u4e70\u4e0d\u8fdb\uff0c\u5c31\n    # \u4e70\u540e\u9762\u7684\uff0c\u53c2\u8d5b\u8c03\u4ed3\u662f\u4e0d\u662f\u4fdd\u9669\u4e86\u8bb8\u591a\u554a\n        buy_list = nsmallest(8, bucket, key=bucket.get)\n    \n    # \u76ee\u524d\u6301\u4ed3\u4e2d\u4e0d\u5728buy_list\u4e2d\u7684\u80a1\u7968\uff0c\u6e05\u4ed3\n        for stk, amount in account.valid_secpos.items():\n            if stk not in buy_list:\n                order_to(stk, 0)\n\n    \n    \n        weight_list = []\n    \n        for stk in buy_list:               \n            weight_list.append(1.0/account.referencePrice[stk])\n        \n        temp_sum = 0   \n        for temp in weight_list:\n            temp_sum += temp\n            \n        weight_list = [x/temp_sum for x in weight_list]   \n                \n        i = 0\n        for stk in buy_list:\n            if account.referencePrice[stk] > 0:\n                order_to(stk, int(account.referencePortfolioValue * weight_list[i] / account.referencePrice[stk] / 100) * 100)     \n            i += 1\n\n    else:\n        for stk in account.valid_secpos:\n            order_to(stk,0)\n    return",
     "language": "python",
     "metadata": {},
     "outputs": [],
     "trusted": true
    },
    {
     "cell_type": "code",
     "collapsed": false,
     "id": "BABCB29B8B61426D8AB1AF0E079C3D67",
     "input": [],
     "language": "python",
     "metadata": {},
     "outputs": []
    },
    {
     "cell_type": "code",
     "collapsed": false,
     "id": "FB5B14A88A694DF68450E85C50AD67FE",
     "input": [],
     "language": "python",
     "metadata": {},
     "outputs": []
    }
   ],
   "metadata": {}
  }
 ]
}