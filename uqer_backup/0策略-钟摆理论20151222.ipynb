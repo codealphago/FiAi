{
 "father": "562cdabef9f06c4ca72fb6f8",
 "metadata": {
  "signature": "sha256:ec8d7c708e66b15d8dd80dcfa6257baadc709e924b90085b163a2d760052affd"
 },
 "nbformat": 3,
 "nbformat_minor": 0,
 "worksheets": [
  {
   "cells": [
    {
     "cell_type": "markdown",
     "id": "4CC0924027204BCE936CA26A3CAB3FB1",
     "metadata": {},
     "source": [
      "\u4eca\u5929\u7ed9\u5927\u5bb6\u7b80\u5355\u4ecb\u7ecd\u4e00\u79cd\u7a33\u5065\u7684\u6295\u8d44\u4f53\u7cfb\u2014\u2014\u949f\u6446\u7406\u8bba\u7684\u91cf\u5316\u6a21\u578b\u5b9e\u73b0\u3002\u8fd9\u91cc\u8981\u611f\u8c22@\u8fdb\u5316\u8bba\u4e00\u5e73 \u7684\u96ea\u7403\u5206\u4eab\uff1ahttp://xueqiu.com/8510627167/29759691\n",
      "\n",
      "\u5176\u4e2d\u7684\u6838\u5fc3\u601d\u60f3\u662f\uff1a\n",
      "\uff081\uff09\u4ece\u4e70\u5165\u64cd\u4f5c\u6765\u770b\uff1a\u901a\u8fc7\u627e\u5230\u6709\u6548\u4ef7\u683c\u533a\u95f4\uff0c\u8981\u6c42\u5728\u4ef7\u683c\u4f4e\u4f30\u65f6\u4e70\u5165\uff0c\u4f46\u8fd9\u540c\u65f6\u53c8\u8981\u6ee1\u8db3\u53e6\u4e00\u4e2a\u6761\u4ef6\uff0c\u90a3\u5c31\u662f\u8d8b\u52bf\u5fc5\u987b\u5411\u4e0a\u3002\u4e8c\u8005\u7f3a\u4e00\u4e0d\u53ef\u3002\n",
      "\uff082\uff09\u4ece\u5356\u51fa\u64cd\u4f5c\u6765\u770b\uff1a\u5fc5\u987b\u987a\u52bf\u800c\u4e3a\uff0c\u5728\u4ef7\u683c\u8d85\u8fc7\u6709\u6548\u4ef7\u683c\u533a\u95f4\u4ee5\u540e\uff0c\u5982\u679c\u8d8b\u52bf\u4e0d\u53d8\uff0c\u4e0d\u8981\u6025\u4e8e\u5356\u51fa\uff0c\u76f4\u5230\u8d8b\u52bf\u6539\u53d8\uff0c\u4ef7\u683c\u9ad8\u4f30\u518d\u5356\u51fa\u3002\u4e8c\u8005\u540c\u6837\u7f3a\u4e00\u4e0d\u53ef\u3002\n",
      "\n",
      "\u90a3\u4e48\u6838\u5fc3\u95ee\u9898\u5c31\u662f\u4e24\u4e2a\uff1a\n",
      "\uff081\uff09\u5982\u4f55\u627e\u5230\u6709\u6548\u7684\u4ef7\u683c\u533a\u95f4\uff1f\u4e5f\u5c31\u662f\uff0c\u5982\u4f55\u7ed9\u51fa\u4e2a\u80a1\u7684\u4f30\u503c\uff1f\uff082\uff09\u600e\u6837\u5224\u65ad\u8d8b\u52bf\uff1f\n",
      "\n",
      "\u4e3a\u4e86\u5c3d\u91cf\u8ffd\u6c42\u7b80\u5355\uff0c\u907f\u514d\u592a\u590d\u6742\u7684\u4f18\u5316\u3002\u6211\u8fd9\u91cc\u76f4\u63a5\u7ed9\u51fa\u4e24\u4e2a\u95ee\u9898\u7684\u7b80\u5355\u5224\u5b9a\u65b9\u6cd5\u3002\n",
      "\n",
      "\uff081\uff09\u6839\u636e\u683c\u96f7\u5384\u59c6\u7684\u6210\u957f\u4ef7\u503c\u516c\u5f0f\u8fdb\u884c\u4f30\u503c\uff0c\u5e76\u4e14\u6839\u636eA\u80a1\u7684\u5b9e\u9645\u60c5\u51b5\u6216\u8005\u5e02\u573a\u60c5\u7eea\u7ed9\u4e88\u4e00\u5b9a\u6ea2\u4ef7\u6216\u8005\u6298\u4ef7\u3002\u4ef7\u503c=\u5f53\u671f(\u6b63\u5e38)\u5229\u6da6\u00d7(8.5 + \u4e24\u500d\u7684\u9884\u671f\u5e74\u589e\u957f\u7387)\uff0c\u5176\u4e2d\u7684\u5f53\u671f\u5229\u6da6\u4f7f\u7528\u6bcf\u80a1\u6536\u76caEPS\u8fdb\u884c\u8861\u91cf\uff0c\u9884\u671f\u5e74\u589e\u957f\u7387\u4f7f\u7528EGRO\u8868\u793a\uff0c\u5176\u4e2dEGRO\u7684\u8ba1\u7b97\u65b9\u6cd5\u4e3a5\u5e74\u6536\u76ca\u5173\u4e8e\u65f6\u95f4\uff08\u5e74\uff09\u8fdb\u884c\u7ebf\u6027\u56de\u5f52\u7684\u56de\u5f52\u7cfb\u6570/5\u5e74\u6536\u76ca\u5747\u503c\u7684\u7edd\u5bf9\u503c\n",
      "\n",
      "\uff082\uff09\u5224\u65ad\u8d8b\u52bf\u6709\u4e24\u79cd\u9014\u5f84\u7ed3\u5408\uff0c\u4e00\u79cd\u662f\u8d8b\u52bf\u5df2\u7ecf\u5411\u4e0a\uff0c\u6bd4\u8f83\u7b80\u5355\u5224\u65ad\u65b9\u6cd5\u662f\u4e94\u65e5\u7ebf\u5728\u5341\u65e5\u7ebf\u4e4b\u4e0a\uff08\u8fd9\u79cd\u5224\u65ad\u65b9\u6cd5\u72af\u9519\u7684\u51e0\u7387\u8f83\u5927\uff0c\u8bfb\u8005\u53ef\u4ee5\u81ea\u884c\u6539\u8fdb\uff09\uff0c\u53e6\u5916\u4e00\u79cd\u662f\u8d8b\u52bf\u7531\u4e0b\u5411\u4e0a\u9006\u8f6c\uff0c\u5373\u51fa\u73b0\u660e\u663e\u7684\u5e95\u90e8\u5f62\u6001\u3002\u5173\u4e8e\u540e\u8005\uff0c\u6211\u7ed9\u51fa\u7684\u5224\u65ad\u6807\u51c6\u4e3a\uff1a\u80a1\u4ef7\u76f8\u5bf9\u4e8e\u8fd1\u671f\u9ad8\u70b9\u5927\u5e45\u4e0b\u8dcc\u8d85\u8fc7downPercent\uff08\u4f8b\u598230%\uff09\uff0c\u5e76\u4e14\u6536\u76d8\u4ef7\u5728\u4e94\u65e5\u7ebf\u5341\u65e5\u7ebf\u4e4b\u4e0b\uff0c\u5e76\u4e14\u6536\u7ea2\u6216\u8005\u6536\u661f\uff0c\u8dcc\u5e45\u5c0f\u4e8e7%\n"
     ]
    },
    {
     "cell_type": "strategy",
     "collapsed": false,
     "has_detail": true,
     "id": "24CC5323F04B46A58FC0BD2E785336DE",
     "input": "import numpy as np\nfrom CAL.PyCAL import *\nimport lib.xray as ray\n\nstart = '2015-12-01'                       # \u56de\u6d4b\u8d77\u59cb\ncal2 = Calendar('China.SSE')\nperiod = Period('-1B')\ntoday = Date.todaysDate()\nend = cal2.advanceDate(today,period).strftime('%Y-%m-%d')\n#end = '2015-12-08'                         # \u56de\u6d4b\u7ed3\u675f\u65f6\u95f4\nbenchmark = 'ZZ500'                       # \u7b56\u7565\u53c2\u8003\u6807\u51c6\ncommission = Commission(buycost=0.0008, sellcost=0.0018)  # \u4f63\u91d1\u4e07\u516b\nuniverse = set_universe('ZZ500') #set_universe('CYB',date=end)  # Very Important Here!! \u9009\u80a1\u5f88\u91cd\u8981\uff01\u4e0d\u8981\u73a9\u5927\u70c2\u81ed\uff01\u4f30\u503c\u518d\u4f4e\u4e5f\u522b\u73a9\uff01\ncapital_base = 1000000                      # \u8d77\u59cb\u8d44\u91d1\nfreq = 'd'                                 # \u7b56\u7565\u7c7b\u578b\uff0c'd'\u8868\u793a\u65e5\u95f4\u7b56\u7565\u4f7f\u7528\u65e5\u7ebf\u56de\u6d4b\uff0c'm'\u8868\u793a\u65e5\u5185\u7b56\u7565\u4f7f\u7528\u5206\u949f\u7ebf\u56de\u6d4b\nrefresh_rate = 1                           # \u8c03\u4ed3\u9891\u7387\uff0c\u8868\u793a\u6267\u884chandle_data\u7684\u65f6\u95f4\u95f4\u9694\uff0c\u82e5freq = 'd'\u65f6\u95f4\u95f4\u9694\u7684\u5355\u4f4d\u4e3a\u4ea4\u6613\u65e5\uff0c\u82e5freq = 'm'\u65f6\u95f4\u95f4\u9694\u4e3a\u5206\u949f\n\nmax_percent_of_a_stock = 0.2 # \u5355\u652f\u80a1\u7684\u6700\u5927\u4ed3\u4f4d\n\ndef initialize(account):                   # \u521d\u59cb\u5316\u865a\u62df\u8d26\u6237\u72b6\u6001\n    pass\n\ndef handle_data(account):                  # \u6bcf\u4e2a\u4ea4\u6613\u65e5\u7684\u4e70\u5165\u5356\u51fa\u6307\u4ee4\n    \n    buylist = []\n    selist = []\n    current_date = account.current_date\n    current_date = current_date.strftime('%Y%m%d')\n    overflow = -0.05 # \u6839\u636e\u60c5\u51b5\u7ed9\u4e88\u4e00\u5b9a\u7684\u6ea2\u4ef7\uff08\u4f8b\u59820.1)\u6216\u8005\u6298\u4ef7(\u4f8b\u5982-0.1)\uff0c\u4e5f\u53ef\u4ee5\u6839\u636e\u5e02\u573a\u98ce\u9669\u7a0b\u5ea6\u8fdb\u884c\u52a8\u6001\u8c03\u8282\uff08\u6b64\u5904\u8bfb\u8005\u53ef\u4ee5\u81ea\u884c\u53d1\u6325\uff09\n    \n    spread_rate = dict(ray.spreadRateByIntrinsicValue(account, overflow=overflow, precedingDate=True))        \n    referencePortfolioValue = account.referencePortfolioValue\n    \n    # \u83b7\u53d6\u7528\u6765\u8ba1\u7b97\u591a\u5934\u5f62\u6001\u7684\u80a1\u7968\u5217\u8868\n    stock_set_for_duotou = []\n    stock_set_for_duotou.extend(account.avail_secpos.keys())\n    stock_set_for_duotou.extend(spread_rate.keys())\n    stock_set_for_duotou = list(set(stock_set_for_duotou))\n    \n    duotou_5_10_Map = ray.duotou_5_10(current_date, stock_set_for_duotou, precedingDate=True)\n    isButtom_Map = ray.isButtom(current_date, stock_set_for_duotou, precedingDate=True, downPercent=0.3)\n    \n    #duotou_5_10_Map.get(stock, False) \u5982\u679c\u503c\u4e0d\u5b58\u5728\u8fd4\u56de'False'\n    for stock in account.avail_secpos:\n        if stock in account.universe and stock not in spread_rate and not duotou_5_10_Map.get(stock, False): \n            selist.append(stock)\n            \n    for stock in selist:\n        sell_value = account.referencePrice[stock]*account.valid_secpos[stock]\n        print(current_date+\"|\u5356\u51fa|\"+stock)\n        order_to(stock, 0)\n            \n    for stock in spread_rate:\n        if stock not in account.valid_secpos and (duotou_5_10_Map.get(stock, False) or isButtom_Map.get(stock, False)):\n            buylist.append(stock)\n    \n    for stock in buylist:\n        # \u6ee1\u8db3\u4ee5\u4e0b\u6761\u4ef6\u4e4b\u4e00\u4e70\u5165\uff1a\uff081\uff095\u65e5\u7ebf\u572810\u65e5\u7ebf\u4e4b\u4e0a\uff1b\uff082\uff09\u51fa\u73b0\u5e95\u90e8\u7279\u5f81\n        # if duotou_5_10_Map.get(stock, False) or isButtom_Map.get(stock, False):\n        buy_value = min(referencePortfolioValue*max_percent_of_a_stock, account.cash/len(buylist))\n        if buy_value/referencePortfolioValue >= 0.0001:\n            print(current_date + \"|\u4e70\u5165|\" + stock)\n            order_pct(stock, buy_value/referencePortfolioValue)",
     "language": "python",
     "metadata": {},
     "outputs": [
      {
       "ename": "ImportError",
       "evalue": "No module named xray",
       "output_type": "pyerr",
       "traceback": [
        "\u001b[1;31m---------------------------------------------------------------------------\u001b[0m\n\u001b[1;31mImportError\u001b[0m                               Traceback (most recent call last)",
        "\u001b[1;32m<mercury-input-1-b170bd257721>\u001b[0m in \u001b[0;36m<module>\u001b[1;34m()\u001b[0m\n\u001b[0;32m      1\u001b[0m \u001b[1;32mimport\u001b[0m \u001b[0mnumpy\u001b[0m \u001b[1;32mas\u001b[0m \u001b[0mnp\u001b[0m\u001b[1;33m\u001b[0m\u001b[0m\n\u001b[0;32m      2\u001b[0m \u001b[1;32mfrom\u001b[0m \u001b[0mCAL\u001b[0m\u001b[1;33m.\u001b[0m\u001b[0mPyCAL\u001b[0m \u001b[1;32mimport\u001b[0m \u001b[1;33m*\u001b[0m\u001b[1;33m\u001b[0m\u001b[0m\n\u001b[1;32m----> 3\u001b[1;33m \u001b[1;32mimport\u001b[0m \u001b[0mlib\u001b[0m\u001b[1;33m.\u001b[0m\u001b[0mxray\u001b[0m \u001b[1;32mas\u001b[0m \u001b[0mray\u001b[0m\u001b[1;33m\u001b[0m\u001b[0m\n\u001b[0m\u001b[0;32m      4\u001b[0m \u001b[1;33m\u001b[0m\u001b[0m\n\u001b[0;32m      5\u001b[0m \u001b[0mstart\u001b[0m \u001b[1;33m=\u001b[0m \u001b[1;34m'2015-12-01'\u001b[0m                       \u001b[1;31m# \u56de\u6d4b\u8d77\u59cb\u001b[0m\u001b[1;33m\u001b[0m\u001b[0m\n",
        "\u001b[1;32m/home/ipython/abe10f7e5afbbb3a79ce619739541149/.ipython/profile_nbserver/startup/patch.py\u001b[0m in \u001b[0;36mmercury_import\u001b[1;34m(name, globals, locals, fromlist, level)\u001b[0m\n\u001b[0;32m     81\u001b[0m                     \u001b[0mfromlist\u001b[0m\u001b[1;33m.\u001b[0m\u001b[0mremove\u001b[0m\u001b[1;33m(\u001b[0m\u001b[0mbad_module\u001b[0m\u001b[1;33m)\u001b[0m\u001b[1;33m\u001b[0m\u001b[0m\n\u001b[0;32m     82\u001b[0m             \u001b[0mfromlist\u001b[0m \u001b[1;33m=\u001b[0m \u001b[0mtuple\u001b[0m\u001b[1;33m(\u001b[0m\u001b[0mfromlist\u001b[0m\u001b[1;33m)\u001b[0m\u001b[1;33m\u001b[0m\u001b[0m\n\u001b[1;32m---> 83\u001b[1;33m         \u001b[1;32mreturn\u001b[0m \u001b[0mreal_import\u001b[0m\u001b[1;33m(\u001b[0m\u001b[0mname\u001b[0m\u001b[1;33m,\u001b[0m \u001b[0mglobals\u001b[0m\u001b[1;33m,\u001b[0m \u001b[0mlocals\u001b[0m\u001b[1;33m,\u001b[0m \u001b[0mfromlist\u001b[0m\u001b[1;33m,\u001b[0m \u001b[0mlevel\u001b[0m\u001b[1;33m)\u001b[0m\u001b[1;33m\u001b[0m\u001b[0m\n\u001b[0m\u001b[0;32m     84\u001b[0m \u001b[1;33m\u001b[0m\u001b[0m\n\u001b[0;32m     85\u001b[0m \u001b[1;33m\u001b[0m\u001b[0m\n",
        "\u001b[1;31mImportError\u001b[0m: No module named xray"
       ]
      }
     ]
    },
    {
     "cell_type": "markdown",
     "id": "37C2D97AA1E34947831D7A76F5D5E18C",
     "metadata": {},
     "source": [
      "\u56de\u6d4b\u53ef\u4ee5\u53d1\u73b0\uff0c\u8fd9\u79cd\u6295\u8d44\u4f53\u7cfb\u80fd\u591f\u5b8c\u7f8e\u8eb2\u8fc7\u80a1\u707e\uff0c\u5e76\u4e14\u80fd\u5728\u80a1\u707e\u4e2d\u7cbe\u51c6\u6284\u5e95\u83b7\u5229 \uff1a-)\n",
      "20121201 - 20151221 \u56de\u6d4b: \u5e74\u5316\u6536\u76ca49.8, alpha: 33.8 , \u6700\u5927\u56de\u64a4< 30%  , \u53ef\u4ee5\u89c4\u907f\u8f83\u5927\u56de\u64a4\u98ce\u9669, \u53cd\u5f39\u65f6\u6bd4\u5927\u76d8\u53cd\u5f39\u66f4\u5feb, \u6709\u8d85\u989d\u6536\u76ca\n",
      "\u53c2\u6570: downPercent=0.3 , overflow = 0.0 - 0.1, max_percent_of_a_stock = 0.3 # \u5355\u652f\u80a1\u7684\u6700\u5927\u4ed3\u4f4d"
     ]
    },
    {
     "cell_type": "code",
     "collapsed": false,
     "id": "9ECF064A13034298B07A4A5189F67FE0",
     "input": [],
     "language": "python",
     "metadata": {},
     "outputs": []
    }
   ],
   "metadata": {}
  }
 ]
}