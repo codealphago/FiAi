{
 "father": "565dd3aaf9f06c6c8a91afda",
 "metadata": {
  "signature": "sha256:ee1575e435ebec474d5a0a52b2149395c081ec1590f702dc5a93eabb0efb2fc1"
 },
 "nbformat": 3,
 "nbformat_minor": 0,
 "worksheets": [
  {
   "cells": [
    {
     "cell_type": "markdown",
     "id": "BDFCC01550D844C485DF9F6979069842",
     "metadata": {},
     "source": [
      "\u7b56\u7565\uff1a\n",
      "1\u3001\u4e0d\u9884\u6d4b\u5177\u4f53\u80a1\u4ef7\uff0c\u53ea\u9884\u6d4b\u6b21\u65e5\u6536\u76d8\u4ef7\u76f8\u6bd4\u4eca\u65e5\u662f\u6da8\u662f\u8dcc\uff1b\n",
      "2\u3001\u5982\u679c\u9884\u6d4b\u4e3a\u6da8\uff0c\u5219\u5168\u90e8\u4e70\u5165\u6216\u6301\u6709\uff1b\u5982\u679c\u9884\u6d4b\u4e3a\u8dcc\uff0c\u5219\u5168\u90e8\u5356\u51fa\u3002\n",
      "\n",
      "\u65b9\u6cd5\uff1a\n",
      "\u57fa\u4e8e\u67d0\u53ea\u80a1\u7968\u7684\u5386\u53f2\u6570\u636e\uff0c\u91c7\u7528\u673a\u5668\u5b66\u4e60\u7684\u65b9\u6cd5\uff0c\u6316\u6398\u5176\u4e2d\u89c4\u5f8b\uff0c\u9884\u6d4b\u8be5\u53ea\u80a1\u7968\u6b21\u65e5\u6536\u76d8\u4ef7\u662f\u6da8\u8fd8\u662f\u8dcc\u3002"
     ]
    },
    {
     "cell_type": "strategy",
     "collapsed": false,
     "has_detail": true,
     "id": "306AA534D10D4EB489821E799632B501",
     "input": "from CAL.PyCAL import *\nfrom datetime import datetime, timedelta\nfrom sklearn.linear_model import LogisticRegression\nfrom sklearn.ensemble import RandomForestClassifier\nimport numpy as np\nimport pandas as pd\nfrom lib import beta\nfrom lib import comm \n\nstart = '2016-08-01'                       # \u56de\u6d4b\u8d77\u59cb\u65f6\u95f4\nend = '2016-08-25'                         # \u56de\u6d4b\u7ed3\u675f\u65f6\u95f4\nbenchmark = 'HS300'                        # \u7b56\u7565\u53c2\u8003\u6807\u51c6\nuniverse = set_universe('HS300')+set_universe('ZZ500')           # \u8bc1\u5238\u6c60\uff0c\u652f\u6301\u80a1\u7968\u548c\u57fa\u91d1\ncapital_base = 1000000                     # \u8d77\u59cb\u8d44\u91d1100w\nfreq = 'd'                                 # \u7b56\u7565\u7c7b\u578b\uff0c'd'\u8868\u793a\u65e5\u95f4\u7b56\u7565\u4f7f\u7528\u65e5\u7ebf\u56de\u6d4b\uff0c'm'\u8868\u793a\u65e5\u5185\u7b56\u7565\u4f7f\u7528\u5206\u949f\u7ebf\u56de\u6d4b\nrefresh_rate = 5                          # \u8c03\u4ed3\u9891\u7387\uff0c\u8868\u793a\u6267\u884chandle_data\u7684\u65f6\u95f4\u95f4\u9694\uff0c\u82e5freq = 'd'\u65f6\u95f4\u95f4\u9694\u7684\u5355\u4f4d\u4e3a\u4ea4\u6613\u65e5\uff0c\u82e5freq = 'm'\u65f6\u95f4\u95f4\u9694\u4e3a\u5206\u949f\n\n# \u4f63\u91d1\u4e07\u516b+\u5370\u82b1\u7a0e\u5343\u4e00\uff1b\u6ed1\u70b9\u9ed8\u8ba4\ncommission = Commission(buycost=0.0008, sellcost=0.0018) \nslippage = Slippage() \n\n# \u9009\u53d6\u7684\u56e0\u5b50\n#features = [\"VOL5\",\"VOL10\",\"MA10\",\"MA5\", \"MACD\",\"RSI\", \"Volatility\"]\nfeatures = ['DAVOL5','EMA5','RSI','VOL5']\n\n#\u76f8\u5bf9\u6307\u6570\nindex_ticker = '000300'\n# \u80a1\u7968\u6570\u76ee\nstocksNumber = 5\n# \u8bad\u7ec3\u6570\u636e\u7a97\u53e3\u957f\u5ea6\uff1awindows\nwindows = 60\n# \u9884\u6d4b\u5929\u6570\uff1a span\nspan = 5\n\n\ndef initialize(account):                   # \u521d\u59cb\u5316\u865a\u62df\u8d26\u6237\u72b6\u6001\n    account.my_universe = list()\n\ndef handle_data(account):                  # \u6bcf\u4e2a\u4ea4\u6613\u65e5\u7684\u4e70\u5165\u5356\u51fa\u6307\u4ee4\n    # \u6784\u9020\u8bad\u7ec3\u6570\u636e\uff1a\n        # \u524d windows \u4e2a\u4ea4\u6613\u65e5\u5185\u7684\u6bcf\u4e00\u4e2a\u4ea4\u6613\u65e5\uff0c\u6211\u4eec\u505a\u5982\u4e0b\u5224\u522b\uff1a\n            # 1. \u5982\u679c\u67d0\u53ea\u80a1\u7968\u7684\u8fd110\u65e5\u8d85\u989d\u6536\u76ca\u7387\uff08\u76f8\u5bf9HS300\uff09\u5927\u4e8e0\uff0c \u6211\u4eec\u5224\u522b\u4e3a1\u7c7b\uff0c\u5426\u5219\u4e3a0\u7c7b\uff1b\n            # 2. \u8be5\u4ea4\u6613\u65e510\u5929\u524d\u7684\u80a1\u7968\u56e0\u5b50\u503c\u4f5c\u4e3aLogistic Regression\u7684\u8bad\u7ec3\u6570\u636e\u7684\u7279\u5f81\u503c\u3002\n            \n    # \u521b\u5efa\u4e00\u4e2a\u7a7aDataFrame\u6765\u8bb0\u5f55\u6bcf\u4e2a\u4ea4\u6613\u65e5\u7684\u8bad\u7ec3\u6570\u636e\uff1atrain_X\n    train_data = pd.DataFrame()\n    yesterday = Date.fromDateTime(account.previous_date)\n    # \u4ece\u6628\u5929\u5f00\u59cb\uff0c\u6784\u9020\u8bad\u7ec3\u6570\u636e\uff0c\u76f4\u5230\u7b2cwindows\u5929\u524d\n    \n    end = comm.getPrevBusinessDay(yesterday)\n    bgn = comm.getPrevBusinessDay(yesterday,span+windows)\n    index_price = DataAPI.MktIdxdGet(beginDate=bgn, endDate =end, ticker=index_ticker,field=['tradeDate','closeIndex'], pandas=\"1\")\n    stock_price = DataAPI.MktEqudGet(beginDate=bgn, endDate =end, secID=account.universe, field=['tradeDate','secID','closePrice'], pandas=\"1\")\n\n    for t in range(windows):\n        \n        end_date = comm.getPrevBusinessDay(yesterday,t).strftime('%Y-%m-%d')\n        # span\u5929\u524d\u7684\u65e5\u671f\u4e3a\u5f00\u59cb\u7684\u65e5\u65e5\u671f\uff1a bgn_data\n        bgn_date = comm.getPrevBusinessDay(end_date,span).strftime('%Y-%m-%d') \n        # \u53d6\u6307\u6570\u7684span\u65e5\u524d\u540e\u7684\u6536\u76d8\u4ef7\uff0c\u5e76\u8ba1\u7b97\u6536\u76ca\u7387\uff1a\n        bgn_price_HS300 = index_price[index_price.tradeDate == bgn_date] \n        end_price_HS300 = index_price[index_price.tradeDate == end_date] \n        rtn_HS300 = (end_price_HS300.closeIndex.values[0] - bgn_price_HS300.closeIndex.values[0]) / bgn_price_HS300.closeIndex.values[0]\n \n        # \u53d6\u5404\u80a1\u7968\u7684span\u65e5\u524d\u540e\u7684\u6536\u76d8\u4ef7\uff0c\u5e76\u8ba1\u7b97\u6536\u76ca\u7387\uff1a\n        bgn_price_stk = stock_price[stock_price.tradeDate == bgn_date] \n        bgn_price_stk.set_index('secID', inplace=True)\n        end_price_stk = stock_price[stock_price.tradeDate == end_date] \n        end_price_stk.set_index('secID', inplace=True)\n        # \u8ba1\u7b97\u80a1\u7968 \u8d85\u989d\u6536\u76ca\u7387\uff1a \u51cf\u53bb\u6307\u6570\u6536\u76ca\n        alpha_rtn_stk = (end_price_stk.closePrice - bgn_price_stk.closePrice) / bgn_price_stk.closePrice - rtn_HS300\n        # \u5c06\u539f\u6765\u7684closePrice\u5217\u540d\u6539\u4e3alabel \n        alpha_rtn_stk = pd.DataFrame(alpha_rtn_stk)\n        alpha_rtn_stk.columns = ['label']\n        # \u5176\u4e2d\u8d85\u989d\u6536\u76ca\u5927\u4e8e0\u7684label\u53d6\u503c\u4e3a1\uff0c\u5426\u5219\u53d60\n        alpha_rtn_stk = alpha_rtn_stk.applymap(lambda x: 1 if x> 0.001 else 0)\n        # \u4e22\u5f03\u7f3a\u5931\u503c\n        alpha_rtn_stk.dropna(inplace=True)\n      \n        # \u53d6 span \u65e5\u524d\uff08\u5373\uff0cbgn_data\u5f53\u65e5\u56e0\u5b50\uff09\u80a1\u7968\u7684\u6240\u6709\u56e0\u5b50\u503c\uff1a\n        stk_list = alpha_rtn_stk.index.tolist()  # \u80a1\u7968\u5217\u8868\uff1astk_list\n        factors_df = DataAPI.MktStockFactorsOneDayGet(tradeDate=bgn_date, secID=stk_list, field=['secID']+features, pandas=\"1\").set_index('secID')\n        \n        # \u53d6factors_df\u4e2d\u7684\u6bcf\u4e00\u5217\uff0c\u5bf9\u5176\u56e0\u5b50\u53bb\u6781\u503c\uff0c\u4e2d\u6027\u5316\uff0c\u6807\u51c6\u5316\n        for factor in features:\n            raw_data = factors_df[factor].to_dict()\n            #new_data = standardize(neutralize(winsorize(raw_data), bgn_date))\n            new_data = standardize(winsorize(raw_data))\n            alpha_rtn_stk[factor] = pd.Series(new_data.values(), index=new_data.keys())\n        # \u91cd\u7f6e\u7d22\u5f15\uff0c\u4f7fsecID\u91cd\u7f6e\u4e3aalpha_rtn_stk\u7684\u5217\n        alpha_rtn_stk.reset_index(inplace=True)\n        # \u5220\u9664'secID'\u8fd9\u4e00\u5217\n        alpha_rtn_stk.drop(['secID'], axis=1, inplace=True)\n        # \u4e22\u5f03\u7f3a\u5931\u503c\n        alpha_rtn_stk.dropna(inplace=True)\n        # \u4e0e\u5b58\u50a8\u8bad\u7ec3\u6570\u636e\u7684DataFrame-train_data \u5408\u5e76\n        train_data = pd.concat([train_data, alpha_rtn_stk])\n    # \u8bad\u7ec3\u6570\u636e \u56e0\u5b50\u503c\u548c\u7c7b\u522b \u5206\u79bb\uff1a\n    train_X = train_data[features].values\n    label = train_data['label'].values\n  \n    # \u51c6\u5907 \u6d4b\u8bd5\u6570\u636etest_df\uff1a\u4e0a\u4e00\u4ea4\u6613\u65e5HS300\u80a1\u7968\u7684\u56e0\u5b50\u503c\n    # \u8ba1\u7b97 \u8fd120\u4e2a\u4ea4\u6613\u65e5\u65e5\u671f\uff0c\u540e\u7eed\u7528\u4ee5\u63d0\u5254\u9664ST\u80a1\u3001\u6d41\u52a8\u6027\u5dee\u3001\u672a\u4e0a\u5e02\u6216\u6da8\u505c\u7684\u80a1\u7968\n    account.my_universe = beta.removeFilter(account.universe,account.current_date)\n    \n    test_df = DataAPI.MktStockFactorsOneDayGet(tradeDate=account.previous_date, secID=account.my_universe, field=['secID']+features, pandas=\"1\").set_index('secID')\n    # \u6d4b\u8bd5\u6570\u636etest_df\u4e2d\u7684\u6bcf\u4e00\u5217\uff0c\u5bf9\u5176\u56e0\u5b50\u53bb\u6781\u503c\uff0c\u4e2d\u6027\u5316\uff0c\u6807\u51c6\u5316\n    for factor in features:\n        raw_data = test_df[factor].to_dict()\n        #new_data = standardize(neutralize(winsorize(raw_data), account.previous_date.strftime(\"%Y%m%d\")))\n        new_data = standardize(winsorize(raw_data))\n        test_df[factor] = pd.Series(new_data.values(), index=new_data.keys())\n\n    # \u4e22\u5f03\u7f3a\u5931\u503c\uff1a\n    test_df.dropna(inplace=True)\n    # \u6d4b\u8bd5\u6570\u636e\uff1a\n    test_X = test_df[features]\n    #print test_X\n    # \u80a1\u7968\u5217\u8868\uff1a\n    buy_list = test_df.index.tolist()\n    \n    \n    ####################################### \u8bad\u7ec3Logistic Regression\u6a21\u578b ##########################################\n    lr  = LogisticRegression(C = 0.1) # C\u4e3a\u6b63\u5219\u5316\u5f3a\u5ea6\u7684\u7cfb\u6570\uff0cC\u8d8a\u5c0f \u6a21\u578b\u7cfb\u6570\u5bb9\u5fcd\u503c\u8d8a\u5927\n    #lr = RandomForestClassifier(n_estimators = 10)  #1000\u4e2a\u51b3\u7b56\u6811\n    lr.fit(train_X, label)\n    predicted_proba = lr.predict_proba(test_X)\n    # \u521b\u5efaDataFrame\uff1adata\u4e3a\u9884\u6d4b\u6982\u7387\uff0cindex\u4e3a\u5bf9\u5e94\u7684secID\n        # \u5176\u4e2dpredicted_proba\u6709\u82e5\u5e72\u4e2alist\uff0c\u6bcf\u4e00\u4e2alist\u4e2d\u6709\u4e24\u4e2a\u503c\uff0c\u7b2c\u4e00\u4e2a\u5212\u5206\u4e3a0\u7c7b\u7684\u6982\u7387\uff0c\u7b2c\u4e8c\u4e2a\u4e3a1\u7c7b\u7684\u6982\u7387\n    proba_df = pd.DataFrame(predicted_proba[:,1], index=buy_list, columns=['probability'])\n    # \u5bf9\u6982\u7387\u964d\u5e8f\u6392\u5217\uff0c\u53d6\u6982\u7387\u6700\u5927\u7684\u524d stock \u53ea \u80a1\u7968\n    proba_df = proba_df[proba_df.probability > 0.55]\n    #print proba_df\n    proba_df = proba_df.sort(columns='probability', ascending=False)[: stocksNumber]\n    print account.current_date\n    print proba_df\n   \n    # \u80a1\u7968\u5217\u8868\uff1abuy_list\n    buy_list = proba_df.index.tolist()\n    \n    # \u4e0d\u5728buy_list\u4e2d\u7684\u80a1\u7968\u5148\u5168\u90e8\u5356\u51fa\n    for stk in account.valid_secpos:\n        if stk not in buy_list:\n            order_to(stk, 0)\n    \n    # \u5b57\u5178change \u8bb0\u5f55buy_list\u4e2d\u80a1\u7968\u7684\u4ed3\u4f4d\u53d8\u5316\n    change = {}\n    if len(buy_list) > 0 : \n        perCapital =  account.referencePortfolioValue / stocksNumber #len(buy_list)\n        for stk in buy_list:\n            # \u505c\u724c\u6216\u662f\u8fd8\u6ca1\u6709\u4e0a\u5e02\u7b49\u539f\u56e0\u4e0d\u80fd\u4ea4\u6613\n            if np.isnan(account.referencePrice[stk]) or account.referencePrice[stk] == 0:\n                continue\n            else:\n                change[stk] = perCapital/account.referencePrice[stk] - account.valid_secpos.get(stk, 0)\n\n        # \u6839\u636e\u4ed3\u4f4d\u53d8\u5316\u5927\u5c0f\u751f\u5e8f\u6392\u5217\uff0c\u5373\u5148\u5356\u540e\u4e70            \n        for stk in sorted(change, key=change.get):\n            order(stk, change[stk])\n# 18.2  2.3  hs300   feature2\n# 44 , 33   hs300   feature2 \n#----------------------------\n# 53.7 , 42   hs300   feature2  60\n# 31 ,19   hs300   feature1 \n\n# 46 ,23.6  ZZ500 feature2\n# 50, 30.8  ZZ500 feature1\n",
     "language": "python",
     "metadata": {},
     "outputs": [
      {
       "output_type": "stream",
       "stream": "stdout",
       "text": "2016-08-01 00:00:00"
      },
      {
       "output_type": "stream",
       "stream": "stdout",
       "text": "\n             probability\n002572.XSHE     0.551321\n002594.XSHE     0.550213\n2016-08-08 00:00:00"
      },
      {
       "output_type": "stream",
       "stream": "stdout",
       "text": "\nEmpty DataFrame\nColumns: [probability]\nIndex: []\n2016-08-15 00:00:00"
      },
      {
       "output_type": "stream",
       "stream": "stdout",
       "text": "\nEmpty DataFrame\nColumns: [probability]\nIndex: []\n2016-08-22 00:00:00"
      },
      {
       "output_type": "stream",
       "stream": "stdout",
       "text": "\nEmpty DataFrame\nColumns: [probability]\nIndex: []\n"
      },
      {
       "metadata": {},
       "output_type": "pyout",
       "prompt_number": 2,
       "text": "'{\"information\": -3.53699, \"benchmark_cumulative_return\": {\"1470700800000\": 0.0165581021, \"1470787200000\": 0.0123008305, \"1471564800000\": 0.0502788763, \"1472083200000\": 0.0327853605, \"1471478400000\": 0.0501118938, \"1471392000000\": 0.052784549, \"1470873600000\": 0.0091855939, \"1470009600000\": -0.0084649165, \"1470614400000\": 0.009442466, \"1471996800000\": 0.0393057901, \"1470096000000\": -0.0046433599, \"1470268800000\": -0.0008243002, \"1470960000000\": 0.0281853848, \"1470355200000\": 0.0003682977, \"1471305600000\": 0.0544066194, \"1471824000000\": 0.0414693829, \"1471910400000\": 0.0430408904, \"1470182400000\": -0.0032531922, \"1471219200000\": 0.0591442385}, \"benchmark_annualized_return\": 0.52877, \"turnover_rate\": 0.0, \"max_drawdown\": 0.00697, \"beta\": 0.04117, \"sharpe\": -2.78797, \"alpha\": -0.10026, \"volatility\": 0.02815, \"annualized_return\": -0.07849, \"cumulative_return\": {\"1470700800000\": -0.0061932276, \"1470787200000\": -0.0061932276, \"1471564800000\": -0.0061932276, \"1472083200000\": -0.0061932276, \"1471478400000\": -0.0061932276, \"1471392000000\": -0.0061932276, \"1470873600000\": -0.0061932276, \"1470009600000\": -0.0060679384, \"1470614400000\": -0.0061932276, \"1471996800000\": -0.0061932276, \"1470096000000\": -0.0038399384, \"1470268800000\": -0.0045639384, \"1470960000000\": -0.0061932276, \"1470355200000\": -0.0056919384, \"1471305600000\": -0.0061932276, \"1471824000000\": -0.0061932276, \"1471910400000\": -0.0061932276, \"1470182400000\": -0.0069659384, \"1471219200000\": -0.0061932276}}'"
      }
     ],
     "trusted": true
    },
    {
     "cell_type": "code",
     "collapsed": false,
     "id": "BB5656DB680049A38EE78D766ADFC63D",
     "input": [],
     "language": "python",
     "metadata": {},
     "outputs": []
    },
    {
     "cell_type": "markdown",
     "id": "28090C15B62B4463820DD661CBB8D673",
     "metadata": {},
     "source": []
    }
   ],
   "metadata": {}
  }
 ]
}