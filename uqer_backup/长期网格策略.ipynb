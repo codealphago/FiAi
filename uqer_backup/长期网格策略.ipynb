{
 "metadata": {
  "signature": "sha256:89928ad7cdb124159de3fb83c396969fa797f70b0301da97e61e3c4c779f4396"
 },
 "nbformat": 3,
 "nbformat_minor": 0,
 "original_thread": "57bcf258228e5b79a575a79e",
 "worksheets": [
  {
   "cells": [
    {
     "cell_type": "markdown",
     "id": "66DAC91E9FAF4C928431661F12B8C657",
     "metadata": {},
     "source": [
      "## \u524d\u8a00\n",
      "---\n",
      "\n",
      "* \u7f51\u683c\u7b56\u7565\u662f\u4e00\u79cd\u65e8\u5728\u8fbe\u5230\u4f4e\u5438\u9ad8\u629b\u7684\u7b56\u7565\uff0c\u4e3b\u8981\u601d\u60f3\u5c31\u662f\u5728\u80a1\u4ef7\u6bd4\u8bbe\u5b9a\u7684\u57fa\u51c6\u4ef7\u4e0b\u8dcc\u65f6\u9010\u6e10\u52a0\u4ed3\uff0c\u800c\u4e0a\u6da8\u65f6\u9010\u6e10\u51cf\u4ed3\uff1a\n",
      "\n",
      "<table align = 'center'>\n",
      "<tr>\n",
      "<td>\u4ef7\u683c</td><td>\u76ee\u6807\u4ed3\u4f4d</td><td>(-3%, 5%)\u7f51\u683c</td><td>(-5%, 10%)\u7f51\u683c</td><td>(-8%, 15%)\u7f51\u683c</td>\n",
      "</tr>\n",
      "<tr>\n",
      "<td>\u4e704</td><td>100%</td><td>0.88</td><td>0.8</td><td>0.68</td>\n",
      "</tr>\n",
      "<tr>\n",
      "<td>\u4e703</td><td>90%</td><td>0.91</td><td>0.85</td><td>0.76</td>\n",
      "</tr>\n",
      "<tr>\n",
      "<td>\u4e702</td><td>70%</td><td>0.94</td><td>0.9</td><td>0.84</td>\n",
      "</tr>\n",
      "<tr>\n",
      "<td>\u4e701</td><td>40%</td><td>0.97</td><td>0.95</td><td>0.92</td>\n",
      "</tr>\n",
      "<tr>\n",
      "<td>\u57fa\u51c6</td><td>\u4e0d\u64cd\u4f5c</td><td>1</td><td>1</td><td>1</td>\n",
      "</tr>\n",
      "<tr>\n",
      "<td>\u53561</td><td>60%</td><td>1.05</td><td>1.1</td><td>1.15</td>\n",
      "</tr>\n",
      "<tr>\n",
      "<td>\u53562</td><td>30%</td><td>1.1</td><td>1.2</td><td>1.3</td>\n",
      "</tr>\n",
      "<tr>\n",
      "<td>\u53563</td><td>10%</td><td>1.15</td><td>1.3</td><td>1.45</td>\n",
      "</tr>\n",
      "<tr>\n",
      "<td>\u53564</td><td>0%</td><td>1.2</td><td>1.4</td><td>1.6</td>\n",
      "</tr>\n",
      "</table>"
     ]
    },
    {
     "cell_type": "markdown",
     "id": "5B0116B855DE4892A5F0A74C04E4D762",
     "metadata": {},
     "source": [
      "## \u7b56\u7565\u6d41\u7a0b\uff1a\n",
      "---\n",
      "\n",
      "1. __\u9009\u80a1__\n",
      "\n",
      "    \u7f51\u683c\u7b56\u7565\u7684\u903b\u8f91\u662f\u5728\u80a1\u7968\u4fbf\u5b9c\u65f6\u4e70\u8fdb\uff0c\u4f30\u503c\u8fc7\u9ad8\u65f6\u5356\u51fa\uff0c\u56e0\u6b64\u9009\u51fa\u6ce2\u52a8\u7387\u8f83\u9ad8\u7684\u80a1\u7968\u5f88\u6709\u5fc5\u8981\uff0c\u56e0\u6b64\u672c\u7bc7\u7684\u9009\u80a1\u6d41\u7a0b\u5982\u4e0b\uff1a  \n",
      "    \n",
      "    \u5148\u8bbe\u7f6e\u80a1\u7968\u6c60\u884c\u4e1a\u4e3a\u4e2d\u8bc1\u884c\u4e1a\uff1a\u4fe1\u606f\u6280\u672f\u3001\u7535\u4fe1\u4e1a\u52a1\uff1b  \n",
      "    \n",
      "    \u4f30\u503c\u4e0d\u80fd\u8fc7\u9ad8\uff1aPE<50\uff1b  \n",
      "    \n",
      "    \u5e02\u503c\u7ea6\u675f\uff1a\u53d6\u6ee1\u8db3\u4e0a\u8ff0\u6761\u4ef6\u7684\u5e02\u503c\u8f83\u5c0f\u768430\u53ea\uff08\u4f46\u5b9e\u9645\u4e0a\u8fd9\u4e00\u7ea6\u675f\u4e00\u76f4\u6ca1\u6709\u53d1\u6325\u4f5c\u7528\uff0c\u56e0\u4e3a\u603b\u6570\u90fd\u4e0d\u8db330\u53ea\uff09\uff1b  \n",
      "    \n",
      "    \u9ad8\u6ce2\u52a8\uff1a\u5206\u884c\u4e1a\u5728\u5e02\u503c\u6700\u5c0f\u768430\u53ea\u4e2d\u9009\u51fa\u8fc7\u53bb\u4e00\u5e74\u6ce2\u52a8\u7387\u6700\u5927\u76845\u53ea\u80a1\u7968\uff1b  \n",
      "    \n",
      "    \u4e0a\u8ff0\u6d41\u7a0b\u540e\uff0c\u6211\u4eec\u6709\u4e8610\u53ea\u80a1\u7968\u6784\u6210\u7684\u80a1\u7968\u6c60\uff0c\u6bcf\u969460\u4e2a\u4ea4\u6613\u65e5\u66f4\u65b0\u4e00\u6b21\u80a1\u7968\u6c60\u3002\n",
      "\n",
      "2. __\u7f51\u683c__ \n",
      "\n",
      "    \u4e09\u79cd\u5927\u5c0f\u7684\u7f51\u683c\u90fd\u4f1a\u76f8\u5e94\u5c1d\u8bd5\u4e00\u4e0b\u770b\u770b\u6548\u679c\u3002\n",
      "    \n",
      "    [-3%\u4e70\uff0c5%\u5356]\u3001[-5%\u4e70\uff0c10%\u5356]\u3001[-8%\u4e70\uff0c15%\u5356]\n",
      "\n",
      "3. __\u8d44\u91d1\u5b89\u6392__\n",
      "\n",
      "    \u5728\u4ed3\u4f4d\u63a7\u5236\u65f6\uff0c\u6ee1\u4ed3\u7684\u6982\u5ff5\u662f\uff08\u603b\u8d44\u91d1/\u80a1\u7968\u6c60\u603b\u6570*2.5\uff09\uff0c\u8fd9\u662f\u4e3a\u4e86\u63d0\u9ad8\u8d44\u91d1\u5229\u7528\u7387\uff0c\u56e0\u4e3a3\u4e2a\u6708\u7684\u5468\u671f\u5185\u53ef\u80fd\u4e0d\u662f\u6bcf\u53ea\u80a1\u7968\u90fd\u80fd\u8fbe\u5230\u6ee1\u4ed3\u3002\n",
      "\n",
      "4. __\u6b62\u635f__\n",
      "    \n",
      "    \u57fa\u51c6\u524d\u4e24\u65e5\u4e8f\u635f3%\u4ee5\u4e0a\u5219\u7a7a\u4ed3\uff1b\n",
      "    \u4e2a\u80a1\u7d2f\u8ba1\u4e8f\u635f30%\u5219\u5e73\u4ed3\u8be5\u80a1\u3002"
     ]
    },
    {
     "cell_type": "markdown",
     "id": "76863F24DD7D406385DDACFE5C71DDB2",
     "metadata": {},
     "source": [
      "## \u56de\u6d4b&\u7ed3\u8bba\n",
      "---\n",
      "1. \u5bf9\u4e8e\u4e09\u79cd\u4e0d\u540c\u7f51\u683c\uff0c\u5728\u4e0d\u540c\u5e02\u573a\u65f6\u671f\u56de\u6d4b\uff0c\u5f97\u5230\u7ed3\u679c\uff1a\n",
      "2. __\u9707\u8361\u671f\u7528\u5c0f\u7f51\u683c__\uff1a`2012/01/01 - 2014/11/01`\u8fd9\u6bb5\u9707\u8361\u65f6\u671f\u4e2d\uff0c\u5c0f\u7f51\u683c\u7b56\u7565\u5b9e\u73b048.3%\u7684\u5e74\u5316\u6536\u76ca\uff0c\u540c\u671f\u57fa\u51c6\u6536\u76ca0.8%. \u770b\u6765\u5e02\u573a\u9707\u8361\u671f\u7f51\u683c\u64cd\u4f5c\u5927\u6709\u7528\u6b66\u4e4b\u5730\uff1b\n",
      "3. __\u6162\u8d8b\u52bf\u671f\u7528\u4e2d\u7f51\u683c__\uff1a`2015/08/31 - 2016/08/01`\u8fd9\u6bb5\u6162\u718a\u65f6\u671f\u4e2d\uff0c\u4e2d\u7f51\u683c\u7b56\u7565\u5b9e\u73b050%\u5e74\u5316\u6536\u76ca\uff0c\u540c\u671f\u57fa\u51c6\u5e74\u5316\u6536\u76ca-5.5%. \u8fd9\u662f\u56e0\u4e3a\u5e02\u573a\u6709\u4e00\u5b9a\u8d8b\u52bf\u65f6\uff0c\u7f51\u683c\u5927\u6709\u4e00\u5b9a\u5bb9\u9519\u7387\uff0c\u5426\u5219\u5bb9\u6613\u8fc7\u5feb\u5b9e\u73b0\u4e8f\u635f\uff0c\u5f97\u4e0d\u5230\u6536\u76ca\uff1b\n",
      "4. __\u957f\u671f\u6295\u8d44\u7528\u5927\u7f51\u683c__:`2010/01/01 - 2016/08/01`\u8fd9\u6bb5\u65f6\u95f4\uff0c\u5927\u7f51\u683c\u5b9e\u73b015.5%\u7684\u5e74\u5316\u6536\u76ca\uff0c\u540c\u671f\u57fa\u51c6\u5e74\u5316\u6536\u76ca\u4e3a-0.1%. \u540c\u6837\u7684\u903b\u8f91\uff0c\u65f6\u95f4\u8d8a\u957f\uff0c\u5e02\u573a\u8d8a\u53ef\u80fd\u8d70\u6210\u8d8b\u52bf\uff0c\u9700\u8981\u63d0\u9ad8\u5bb9\u9519\u7387\uff1b\n",
      "5. __\u4ee5\u4e0a\u6536\u76ca\u7684\u6765\u6e90\u5e76\u4e0d\u6765\u81ea\u9009\u80a1/\u884c\u4e1a\uff0c\u800c\u662f\u6765\u81ea\u64cd\u4f5c\u65b9\u6cd5\u3002__\u5728`2010/01/01 - 2016/08/01`\u8fd9\u6bb5\u65f6\u95f4\uff0c\u4ecd\u6309\u4e0a\u8ff0\u65b9\u6cd5\u9009\u80a1\u3001\u6b62\u635f\uff0c\u4f46\u53ea\u7b49\u989d\u6301\u6709\u80a1\u7968\uff0c\u4e0d\u505a\u7f51\u683c\u64cd\u4f5c\uff0c\u5e74\u5316\u6536\u76ca\u53ea\u67096.6%\uff0c\u800c\u6700\u5927\u56de\u64a4\u9ad8\u4e8e60%\uff0c\u8868\u73b0\u5e76\u4e0d\u7406\u60f3\u3002\n",
      "\n",
      "* \u603b\u4e4b\uff0c\u7f51\u683c\u64cd\u4f5c\u53ef\u80fd\u786e\u5b9e\u6709\u5176\u5408\u7406\u4e4b\u5904\uff0c\u4e5f\u80fd\u8fbe\u5230\u4e00\u4e9b\u4f4e\u5438\u9ad8\u629b\u7684\u6548\u679c\uff0c\u9700\u8981\u7684\u8bdd\u5927\u5bb6\u53ef\u4ee5\u9605\u8bfb\u66f4\u591a\u76f8\u5173\u8d44\u6599\u3001\u4e00\u8d77\u4ea4\u6d41\uff5e"
     ]
    },
    {
     "cell_type": "strategy",
     "collapsed": false,
     "folded": false,
     "has_detail": true,
     "id": "6C8BF9EBBD1F43969863B3DFD5153295",
     "input": "import pandas as pd\nimport numpy as np\nimport lib.comm as comm\nimport datetime as dt\nimport lib.grid as grid\n\n        \ntoday = comm.getPrevBusinessDay(dt.date.today(),1)\n        \nstart = '2013-09-01'                       # \u56de\u6d4b\u8d77\u59cb\u65f6\u95f4\n#end = '2016-09-28'                         # \u56de\u6d4b\u7ed3\u675f\u65f6\u95f4\\\nend = today.strftime('%Y-%m-%d')                 #\u6700\u8fd1\u4ea4\u6613\u65e5\n\nbenchmark = 'ZZ500'                        # \u7b56\u7565\u53c2\u8003\u6807\u51c6\nuniverse =  DynamicUniverse('ZZ500') #DynamicUniverse(IndZZ.XinXiJiZhuL1) + DynamicUniverse(IndZZ.DianXinYeWuL1)  # \u8bc1\u5238\u6c60\uff0c\u652f\u6301\u80a1\u7968\u548c\u57fa\u91d1\ncapital_base = 100000                      # \u8d77\u59cb\u8d44\u91d1\nfreq = 'd'                                 # \u7b56\u7565\u7c7b\u578b\uff0c'd'\u8868\u793a\u65e5\u95f4\u7b56\u7565\u4f7f\u7528\u65e5\u7ebf\u56de\u6d4b\uff0c'm'\u8868\u793a\u65e5\u5185\u7b56\u7565\u4f7f\u7528\u5206\u949f\u7ebf\u56de\u6d4b\nrefresh_rate = 5                          # \u8c03\u4ed3\u9891\u7387\uff0c\u8868\u793a\u6267\u884chandle_data\u7684\u65f6\u95f4\u95f4\u9694\uff0c\u82e5freq = 'd'\u65f6\u95f4\u95f4\u9694\u7684\u5355\u4f4d\u4e3a\u4ea4\u6613\u65e5\uff0c\u82e5freq = 'm'\u65f6\u95f4\u95f4\u9694\u4e3a\u5206\u949f\n\n\n# \u9009\u80a1\u51fd\u6570\ndef stock_filter(tradeDate, seclist):\n    data = DataAPI.MktStockFactorsOneDayGet(tradeDate, seclist, field = 'secID,PE,LFLO,ROE')\n    secs = list(data[(data.PE < 50) & (data.ROE > 0.15)].sort('LFLO')[:30].secID)\n    #secs = list(data[(data.PE < 50)].sort('LFLO')[:30].secID)\n    beginDate = comm.getPrevBusinessDay(tradeDate,250)\n    histDf = DataAPI.MktEqudAdjGet(secID = secs, beginDate = beginDate, endDate = tradeDate, field = 'secID,tradeDate,preClosePrice,closePrice')\n    histDf['return'] = histDf.closePrice / histDf.preClosePrice - 1 \n    secList = list(histDf.pivot(index = 'tradeDate', columns = 'secID', values = 'return').std(axis = 0).sort_values()[-5:].index)\n    return secList\n\n\ndef initialize(account):                   # \u521d\u59cb\u5316\u865a\u62df\u8d26\u6237\u72b6\u6001\n    account.history_info = pd.Panel()\n    account.stock_pool = []\n    account.adjust_stock_pool = 0\n    account.base_price = {}\n    account.update_windows = 60 / refresh_rate\n    account.adjust_base = 0\n    account.market_adj = False\n    pass\n\ndef handle_data(account):\n    \n    account.adjust_base += 1\n    # \u521d\u59cb\u5316\u53ca\u66f4\u65b0\u5386\u53f2\u4fe1\u606f\n    if account.history_info.empty:\n        newInfo = account.get_history(20)\n        newPan = grid.update_info(account,newInfo)\n        account.history_info = newPan\n    else:\n        newInfo = account.get_history(refresh_rate)\n        newPan = grid.update_info(account,newInfo)\n        account.history_info = pd.concat([account.history_info, newPan], axis = 1)\n\n        \n    # \u9009\u80a1\n    if account.stock_pool == [] or account.adjust_stock_pool >= account.update_windows:\n        account.stock_pool = stock_filter(account.previous_date, account.universe)  \n        account.adjust_stock_pool = 0\n        print account.current_date , \"\u80a1\u7968\u6c60\u8c03\u6574:\" , account.stock_pool\n        for stk in account.security_position :\n            if stk not in account.stock_pool:\n                order_to(stk, 0)\n    else:\n        account.adjust_stock_pool += 1\n        \n        \n    # # \u6b62\u635f\n    # if grid.cumulative_return(account.history_info.minor_xs('return')['benchmark'], 2) < -0.03:\n    #     for stk in account.security_position :\n    #         order_to(stk, 0)\n    # for stk in account.security_position :\n    #     if stock_return(account, stk) < - 0.3:\n    #         order_to(stk, 0)\n    \n#     market_leve1 = grid.cumulative_return(account.history_info.minor_xs('return')['benchmark'], 10)\n#     market_leve2 = grid.cumulative_return(account.history_info.minor_xs('return')['benchmark'], 2)\n    \n#     if (abs(market_leve1) > 0.05 or abs(market_leve2) > 0.05) and account.adjust_base > 10/refresh_rate :\n#         #account.market_adj = True\n#         print account.current_date, \"\u5e02\u573a\u76c8\u5229\u6c34\u5e73\u8c03\u6574:\" \n#         account.adjust_base = 0\n        \n#     if market_leve2 < -0.05:\n#         print account.current_date, \"\u6307\u6570(\u4e24\u65e5\u8d85\u8dcc5%)\u6b62\u635f:\"\n    \n    # \u521d\u59cb\u5316\u5e95\u4ed3\u4ef7\u683c\u53ca\u6839\u636e\u7f51\u683c\u8c03\u6574\u4ed3\u4f4d\n    for stk in account.stock_pool:\n        \n        if (not stk in account.reference_price) or account.reference_price[stk] == 0:\n            continue\n        if grid.continuous_loss_day(account.history_info.minor_xs('return')[stk]) >= 5:\n            continue\n        if grid.price_to_MA(account.history_info.minor_xs('return')[stk], 5) > 1.5 or \\\n            grid.price_to_MA(account.history_info.minor_xs('return')[stk], 10) > 1.5:\n            continue\n        if not stk in account.base_price:\n            account.base_price[stk] = account.reference_price[stk]\n            \n#         # \u5e02\u573a\u76c8\u5229\u6c34\u5e73\u8c03\u6574\n#         if account.market_adj == True :\n#             account.base_price[stk] = account.base_price[stk] * (1 + min(market_leve1,market_leve2))\n#             print \"\u5e02\u573a\u8c03\u6574:\u91cd\u7f6e\u57fa\u7840\u4ef7:\" , stk, account.base_price[stk]\n            \n       \n#         # \u5927\u76d8\u6b62\u635f\n#         if market_leve2 < -0.05:\n#             # print account.current_date, \"\u6307\u6570(\u4e24\u65e5\u8d85\u8dcc5%)\u6b62\u635f:\",stk\n#             account.base_price[stk] = account.reference_price[stk] * buy4 * 0.95\n#             print \"\u5927\u76d8\u6b62\u635f:\u91cd\u7f6e\u57fa\u7840\u4ef7:\" , stk, account.base_price[stk]\n#             order_to(stk, 0)\n#             continue\n#         #\u4e2a\u80a1\u6b62\u635f\n#         if stk in account.security_position and stock_return(account, stk) < - 0.3:\n#             print account.current_date, \"\u4e2a\u80a1\u8dcc\u5e4530%\u6b62\u635f:\" , stk\n#             account.base_price[stk] = account.reference_price[stk] * buy4 * 0.95\n#             order_to(stk, 0)\n#             continue    \n        \n        # setup_position\n        #account_value = account.reference_portfolio_value\n        #sec_value = account.security_position[stk] * account.reference_price[stk]\n        max_pct = 1.00 / len(account.stock_pool) * cap_ratio\n        adj_pct = account.reference_price[stk] / account.base_price[stk]\n        #buy4,buy3,buy2,buy1,sell4,sell3,sell2,sell1 = 0.88,0.91,0.94,0.97,1.2,1.15,1.1,1.05\n        pct = 0\n        if adj_pct < buy4:\n            pct = 1 * max_pct\n        elif adj_pct < buy3:\n            pct =  0.8 * max_pct\n        elif adj_pct < buy2:\n            pct =  0.7 * max_pct\n        elif adj_pct < buy1:\n            pct =  0.6 * max_pct\n        elif adj_pct < sell1:\n            pct =  0.4 * max_pct\n        elif adj_pct < sell2:\n            pct =   0.3 * max_pct\n        elif adj_pct < sell3:\n            pct = 0.2 * max_pct\n        elif adj_pct < sell4:\n            pct =  0.1 * max_pct\n        else : \n            pct = 0.0\n            \n        order_pct_to(stk,pct)\n        \n    account.market_adj = False\n    return\n\nbuy4,buy3,buy2,buy1,sell4,sell3,sell2,sell1 = 0.88,0.91,0.94,0.97,1.2,1.15,1.1,1.05\ncap_ratio = 1.5",
     "language": "python",
     "metadata": {},
     "outputs": [
      {
       "output_type": "stream",
       "stream": "stdout",
       "text": "2013-09-02 00:00:00"
      },
      {
       "output_type": "stream",
       "stream": "stderr",
       "text": "-c:24: FutureWarning: sort(columns=....) is deprecated, use sort_values(by=.....)\n/home/ipython/anaconda/lib/python2.7/site-packages/numpy/core/_methods.py:82: RuntimeWarning: Degrees of freedom <= 0 for slice\n  warnings.warn(\"Degrees of freedom <= 0 for slice\", RuntimeWarning)\n"
      },
      {
       "output_type": "stream",
       "stream": "stdout",
       "text": " \u80a1\u7968\u6c60\u8c03\u6574: ['601311.XSHG', '603766.XSHG', '002701.XSHE', '002635.XSHE', '002698.XSHE']\n"
      },
      {
       "output_type": "stream",
       "stream": "stdout",
       "text": "2013-12-11 00:00:00 \u80a1\u7968\u6c60\u8c03\u6574: ['002503.XSHE', '600180.XSHG', '002698.XSHE', '600162.XSHG', '002091.XSHE']\n"
      },
      {
       "output_type": "stream",
       "stream": "stdout",
       "text": "2014-03-20 00:00:00 \u80a1\u7968\u6c60\u8c03\u6574: ['601515.XSHG', '002503.XSHE', '600180.XSHG', '600392.XSHG', '000688.XSHE']\n"
      },
      {
       "output_type": "stream",
       "stream": "stdout",
       "text": "2014-06-25 00:00:00 \u80a1\u7968\u6c60\u8c03\u6574: ['600566.XSHG', '600180.XSHG', '603555.XSHG', '002714.XSHE', '002705.XSHE']\n"
      },
      {
       "output_type": "stream",
       "stream": "stdout",
       "text": "2014-09-25 00:00:00 \u80a1\u7968\u6c60\u8c03\u6574: ['601515.XSHG', '600335.XSHG', '600180.XSHG', '600566.XSHG', '603555.XSHG']\n"
      },
      {
       "output_type": "stream",
       "stream": "stdout",
       "text": "2015-01-05 00:00:00 \u80a1\u7968\u6c60\u8c03\u6574: ['600180.XSHG', '600850.XSHG', '603555.XSHG', '603369.XSHG', '002727.XSHE']\n"
      }
     ],
     "trusted": true
    },
    {
     "cell_type": "markdown",
     "id": "uqer_C1EDA7EBCFE648048",
     "metadata": {},
     "source": [
      "1. \u8c03\u657460,40 ,\u4e70\u5165\u5356\u51fa\u6bd4\u4f8b\u4e4b\u524d, : 40.6, 10.3 , 23.9\n",
      "2. \u8c03\u657440,60 ,\u4e70\u5165\u5356\u51fa\u6bd4\u4f8b\u4e4b\u540e: : 40.5, 10.3 , 23.9\n",
      "3. \u52a0\u5165: ROE , \u5408\u5e76stock_filter, \u6700\u591a5\u53ea: 35\n",
      "4. \u8c03\u6574\u65e5\u671f\u6539\u4e3a: 60/ refresh_rate: \u56fa\u5b9a60\u65e5\u8c03\u6574 :31.7\n",
      "5. \u6b62\u635f,\u653e\u5165\u5185\u90e8,refresh_rate =1 : 31.8\n",
      "6. \u6b62\u635f: base = base *0.95 , 10 \u53ea\u80a1\u7968:  38.4\n",
      "7. hs300 :  18.7\n",
      "8. refresh_rate = 5 , captial_rate = 1.5, stock_num = 5: \n",
      "\n",
      "\u7ed3\u8bba: \u80a1\u7968\u53ea\u657010\u53ea, \u6b62\u635f+base \u8c03\u6574, \u53ef\u4ee5refresh_rate = 5,captial_rate = 1.5, stock_num = 5: HS300, 24.5: \u4fe1\u606f\u901a\u4fe1: 40.1 ZZ500: 34.9"
     ]
    }
   ],
   "metadata": {}
  }
 ]
}