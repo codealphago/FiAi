{
 "father": "5642c69af9f06c78612190b5",
 "metadata": {
  "signature": "sha256:1e4685d6f6f081d6cddbfcf85717425d78c43ce47a3c742637b724b99b952654"
 },
 "nbformat": 3,
 "nbformat_minor": 0,
 "worksheets": [
  {
   "cells": [
    {
     "cell_type": "markdown",
     "id": "CF9749F1A8FB490C807E262A993AF5E9",
     "metadata": {},
     "source": [
      "* \u6bcf\u6b21\u5efa\u4ed3\u7b49\u6743\u91cd\u4e70\u5165\u4e0a\u5b63\u5ea6\u51c0\u5229\u6da6\u9884\u589e(\u76c8\u5229\u4e14\u76c8\u5229\u589e\u52a0)\u7684\u80a1\u7968"
     ]
    },
    {
     "cell_type": "strategy",
     "collapsed": false,
     "has_detail": true,
     "id": "56D2C8B99B9248EC8CF43260D0494CF3",
     "input": "import pandas as pd\nimport numpy as np\nfrom CAL.PyCAL import *\nfrom pandas import DataFrame,Series\nfrom datetime import datetime, timedelta\nstart = '2015-12-01'                       # \u56de\u6d4b\u8d77\u59cb\u65f6\u95f4\nend = (datetime.today() - timedelta(days=1)).strftime('%Y%m%d')  # \u622a\u6b62\u65e5\u671f\nbenchmark = 'HS300'                        # \u7b56\u7565\u53c2\u8003\u6807\u51c6\nuniverse = set_universe('HS300')             # \u8bc1\u5238\u6c60\uff0c\u652f\u6301\u80a1\u7968\u548c\u57fa\u91d1\ncapital_base = 1000000                     # \u8d77\u59cb\u8d44\u91d1\nfreq = 'd'                                 # \u7b56\u7565\u7c7b\u578b\uff0c'd'\u8868\u793a\u65e5\u95f4\u7b56\u7565\u4f7f\u7528\u65e5\u7ebf\u56de\u6d4b\uff0c'm'\u8868\u793a\u65e5\u5185\u7b56\u7565\u4f7f\u7528\u5206\u949f\u7ebf\u56de\u6d4b\nrefresh_rate = 63                          # \u8c03\u4ed3\u9891\u7387\uff0c\u8868\u793a\u6267\u884chandle_data\u7684\u65f6\u95f4\u95f4\u9694\uff0c\u82e5freq = 'd'\u65f6\u95f4\u95f4\u9694\u7684\u5355\u4f4d\u4e3a\u4ea4\u6613\u65e5\uff0c\u82e5freq = 'm'\u65f6\u95f4\u95f4\u9694\u4e3a\u5206\u949f\ncal = Calendar('China.SSE')\n\ndef initialize(account):                   # \u521d\u59cb\u5316\u865a\u62df\u8d26\u6237\u72b6\u6001\n    pass\n\ndef handle_data(account):                  # \u6bcf\u4e2a\u4ea4\u6613\u65e5\u7684\u4e70\u5165\u5356\u51fa\u6307\u4ee4\n    \n    today = account.current_date.strftime('%Y%m%d')\n    yesterday = cal.advanceDate(account.current_date, '-1B', BizDayConvention.Following).strftime('%Y%m%d')\n    yester_refresh_day = cal.advanceDate(account.current_date, '-62B' , BizDayConvention.Following).strftime('%Y%m%d')\n    total_money = account.referencePortfolioValue    \n    prices = account.referencePrice     \n    # \u53bb\u9664\u65b0\u4e0a\u5e02\u6216\u590d\u724c\u7684\u80a1\u7968\n    opn = account.get_attribute_history('openPrice', 1)\n    account.universe = [s for s in account.universe if not (np.isnan(opn.get(s, 0)[0]) or opn.get(s, 0)[0] == 0 )]\n    \n    buylist =[]\n    for s in  account.universe : \n        try : \n            temp=DataAPI.FdmtEfGet(secID = s,forecastType ='22',publishDateBegin= yester_refresh_day , publishDateEnd = yesterday,field=['secID','publishDate','NIncAPChgrLL', 'NIncAPChgrUPL'],pandas=\"1\")\n            buylist.append(s)\n        except : \n            continue    \n    sell_list = [x for x in account.valid_secpos if x not in buylist]    \n    for s in sell_list :\n        order_to(s,0)            \n    for s in buylist :  \n        order_to(s, int(total_money*0.99/len(buylist)/prices[s]/100)*100)\n",
     "language": "python",
     "metadata": {},
     "outputs": [
      {
       "ename": "Exception",
       "evalue": "User must not modify account.universe!",
       "output_type": "pyerr",
       "traceback": [
        "\u001b[1;31m---------------------------------------------------------------------------\u001b[0m\n\u001b[1;31mException\u001b[0m                                 Traceback (most recent call last)",
        "\u001b[1;32m<mercury-input-1-9370e4d9737a>\u001b[0m in \u001b[0;36m<module>\u001b[1;34m()\u001b[0m\n\u001b[0;32m    104\u001b[0m                                                           \u001b[0mslippage\u001b[0m \u001b[1;33m=\u001b[0m \u001b[0mslippage\u001b[0m\u001b[1;33m,\u001b[0m\u001b[1;33m\u001b[0m\u001b[0m\n\u001b[0;32m    105\u001b[0m                                                           \u001b[0mrefresh_rate\u001b[0m \u001b[1;33m=\u001b[0m \u001b[0mrefresh_rate\u001b[0m\u001b[1;33m,\u001b[0m\u001b[1;33m\u001b[0m\u001b[0m\n\u001b[1;32m--> 106\u001b[1;33m                                                           freq = freq)\n\u001b[0m\u001b[0;32m    107\u001b[0m         \u001b[0mperf\u001b[0m \u001b[1;33m=\u001b[0m \u001b[0mquartz\u001b[0m\u001b[1;33m.\u001b[0m\u001b[0mperf_parse\u001b[0m\u001b[1;33m(\u001b[0m\u001b[0mbt\u001b[0m\u001b[1;33m,\u001b[0m \u001b[0mquartz_acct\u001b[0m\u001b[1;33m)\u001b[0m\u001b[1;33m\u001b[0m\u001b[0m\n\u001b[0;32m    108\u001b[0m \u001b[1;33m\u001b[0m\u001b[0m\n",
        "\u001b[1;32mpython2.7/site-packages/quartz/backtest.pyc\u001b[0m in \u001b[0;36mquick_backtest_generator\u001b[1;34m(sim_params, strategy, idxmap_all, data_all, commission, slippage, refresh_rate, freq, *args, **kwargs)\u001b[0m\n\u001b[0;32m    499\u001b[0m         \u001b[1;32mtry\u001b[0m\u001b[1;33m:\u001b[0m\u001b[1;33m\u001b[0m\u001b[0m\n\u001b[0;32m    500\u001b[0m             \u001b[1;32mif\u001b[0m \u001b[0mlen\u001b[0m\u001b[1;33m(\u001b[0m\u001b[0mdata\u001b[0m\u001b[1;33m)\u001b[0m \u001b[1;32mand\u001b[0m \u001b[0maccount\u001b[0m\u001b[1;33m.\u001b[0m\u001b[0mdays_counter\u001b[0m \u001b[1;33m%\u001b[0m \u001b[0mrefresh_rate\u001b[0m \u001b[1;33m==\u001b[0m \u001b[1;36m0\u001b[0m\u001b[1;33m:\u001b[0m\u001b[1;33m\u001b[0m\u001b[0m\n\u001b[1;32m--> 501\u001b[1;33m                 \u001b[0maccount\u001b[0m\u001b[1;33m.\u001b[0m\u001b[0mhandle_data\u001b[0m\u001b[1;33m(\u001b[0m\u001b[0mdata\u001b[0m\u001b[1;33m)\u001b[0m\u001b[1;33m\u001b[0m\u001b[0m\n\u001b[0m\u001b[0;32m    502\u001b[0m             \u001b[0mreport\u001b[0m\u001b[1;33m.\u001b[0m\u001b[0mupdate\u001b[0m\u001b[1;33m(\u001b[0m\u001b[0maccount\u001b[0m\u001b[1;33m,\u001b[0m \u001b[0mdata\u001b[0m\u001b[1;33m)\u001b[0m\u001b[1;33m\u001b[0m\u001b[0m\n\u001b[0;32m    503\u001b[0m \u001b[1;33m\u001b[0m\u001b[0m\n",
        "\u001b[1;32mpython2.7/site-packages/quartz/sim_condition/env.pyc\u001b[0m in \u001b[0;36mhandle_data\u001b[1;34m(self, data)\u001b[0m\n\u001b[0;32m    309\u001b[0m             \u001b[0mself\u001b[0m\u001b[1;33m.\u001b[0m\u001b[0mreferenceReturn\u001b[0m \u001b[1;33m=\u001b[0m \u001b[0mself\u001b[0m\u001b[1;33m.\u001b[0m\u001b[0m_get_reference_return\u001b[0m\u001b[1;33m(\u001b[0m\u001b[1;33m)\u001b[0m\u001b[1;33m\u001b[0m\u001b[0m\n\u001b[0;32m    310\u001b[0m             \u001b[0mself\u001b[0m\u001b[1;33m.\u001b[0m\u001b[0mreferencePortfolioValue\u001b[0m \u001b[1;33m=\u001b[0m \u001b[0mself\u001b[0m\u001b[1;33m.\u001b[0m\u001b[0m_get_reference_portfolio_value\u001b[0m\u001b[1;33m(\u001b[0m\u001b[1;33m)\u001b[0m\u001b[1;33m\u001b[0m\u001b[0m\n\u001b[1;32m--> 311\u001b[1;33m             \u001b[0mself\u001b[0m\u001b[1;33m.\u001b[0m\u001b[0mstrg\u001b[0m\u001b[1;33m.\u001b[0m\u001b[0m_handle_data\u001b[0m\u001b[1;33m(\u001b[0m\u001b[0mself\u001b[0m\u001b[1;33m)\u001b[0m\u001b[1;33m\u001b[0m\u001b[0m\n\u001b[0m\u001b[0;32m    312\u001b[0m             \u001b[0mtransact\u001b[0m\u001b[1;33m(\u001b[0m\u001b[0mself\u001b[0m\u001b[1;33m,\u001b[0m \u001b[0mdata\u001b[0m\u001b[1;33m)\u001b[0m\u001b[1;33m\u001b[0m\u001b[0m\n\u001b[0;32m    313\u001b[0m \u001b[1;33m\u001b[0m\u001b[0m\n",
        "\u001b[1;32m<mercury-input-1-9370e4d9737a>\u001b[0m in \u001b[0;36mhandle_data\u001b[1;34m(account)\u001b[0m\n\u001b[0;32m     25\u001b[0m     \u001b[1;31m# \u53bb\u9664\u65b0\u4e0a\u5e02\u6216\u590d\u724c\u7684\u80a1\u7968\u001b[0m\u001b[1;33m\u001b[0m\u001b[1;33m\u001b[0m\u001b[0m\n\u001b[0;32m     26\u001b[0m     \u001b[0mopn\u001b[0m \u001b[1;33m=\u001b[0m \u001b[0maccount\u001b[0m\u001b[1;33m.\u001b[0m\u001b[0mget_attribute_history\u001b[0m\u001b[1;33m(\u001b[0m\u001b[1;34m'openPrice'\u001b[0m\u001b[1;33m,\u001b[0m \u001b[1;36m1\u001b[0m\u001b[1;33m)\u001b[0m\u001b[1;33m\u001b[0m\u001b[0m\n\u001b[1;32m---> 27\u001b[1;33m     \u001b[0maccount\u001b[0m\u001b[1;33m.\u001b[0m\u001b[0muniverse\u001b[0m \u001b[1;33m=\u001b[0m \u001b[1;33m[\u001b[0m\u001b[0ms\u001b[0m \u001b[1;32mfor\u001b[0m \u001b[0ms\u001b[0m \u001b[1;32min\u001b[0m \u001b[0maccount\u001b[0m\u001b[1;33m.\u001b[0m\u001b[0muniverse\u001b[0m \u001b[1;32mif\u001b[0m \u001b[1;32mnot\u001b[0m \u001b[1;33m(\u001b[0m\u001b[0mnp\u001b[0m\u001b[1;33m.\u001b[0m\u001b[0misnan\u001b[0m\u001b[1;33m(\u001b[0m\u001b[0mopn\u001b[0m\u001b[1;33m.\u001b[0m\u001b[0mget\u001b[0m\u001b[1;33m(\u001b[0m\u001b[0ms\u001b[0m\u001b[1;33m,\u001b[0m \u001b[1;36m0\u001b[0m\u001b[1;33m)\u001b[0m\u001b[1;33m[\u001b[0m\u001b[1;36m0\u001b[0m\u001b[1;33m]\u001b[0m\u001b[1;33m)\u001b[0m \u001b[1;32mor\u001b[0m \u001b[0mopn\u001b[0m\u001b[1;33m.\u001b[0m\u001b[0mget\u001b[0m\u001b[1;33m(\u001b[0m\u001b[0ms\u001b[0m\u001b[1;33m,\u001b[0m \u001b[1;36m0\u001b[0m\u001b[1;33m)\u001b[0m\u001b[1;33m[\u001b[0m\u001b[1;36m0\u001b[0m\u001b[1;33m]\u001b[0m \u001b[1;33m==\u001b[0m \u001b[1;36m0\u001b[0m \u001b[1;33m)\u001b[0m\u001b[1;33m]\u001b[0m\u001b[1;33m\u001b[0m\u001b[0m\n\u001b[0m\u001b[0;32m     28\u001b[0m \u001b[1;33m\u001b[0m\u001b[0m\n\u001b[0;32m     29\u001b[0m     \u001b[0mbuylist\u001b[0m \u001b[1;33m=\u001b[0m\u001b[1;33m[\u001b[0m\u001b[1;33m]\u001b[0m\u001b[1;33m\u001b[0m\u001b[0m\n",
        "\u001b[1;32mpython2.7/site-packages/quartz/sim_condition/env.pyc\u001b[0m in \u001b[0;36muniverse\u001b[1;34m(self, *args)\u001b[0m\n\u001b[0;32m    195\u001b[0m     \u001b[1;33m@\u001b[0m\u001b[0muniverse\u001b[0m\u001b[1;33m.\u001b[0m\u001b[0msetter\u001b[0m\u001b[1;33m\u001b[0m\u001b[0m\n\u001b[0;32m    196\u001b[0m     \u001b[1;32mdef\u001b[0m \u001b[0muniverse\u001b[0m\u001b[1;33m(\u001b[0m\u001b[0mself\u001b[0m\u001b[1;33m,\u001b[0m \u001b[1;33m*\u001b[0m\u001b[0margs\u001b[0m\u001b[1;33m)\u001b[0m\u001b[1;33m:\u001b[0m\u001b[1;33m\u001b[0m\u001b[0m\n\u001b[1;32m--> 197\u001b[1;33m         \u001b[1;32mraise\u001b[0m \u001b[0mException\u001b[0m\u001b[1;33m(\u001b[0m\u001b[1;34m\"User must not modify account.universe!\"\u001b[0m\u001b[1;33m)\u001b[0m\u001b[1;33m\u001b[0m\u001b[0m\n\u001b[0m\u001b[0;32m    198\u001b[0m \u001b[1;33m\u001b[0m\u001b[0m\n\u001b[0;32m    199\u001b[0m     \u001b[1;33m@\u001b[0m\u001b[0mproperty\u001b[0m\u001b[1;33m\u001b[0m\u001b[0m\n",
        "\u001b[1;31mException\u001b[0m: User must not modify account.universe!"
       ]
      }
     ],
     "trusted": true
    },
    {
     "cell_type": "code",
     "collapsed": false,
     "id": "FA2A88754AAA4296813B41626EBF967A",
     "input": [
      "# \u7edf\u8ba1\u4ee3\u7801 \u4e0d\u7528\u770b\u5570\n",
      "from pandas import DataFrame\n",
      "data = DataFrame()\n",
      "for s in range(len(set_universe('A'))/100 + 1) :        \n",
      "    if s == len(set_universe('A'))/100 :\n",
      "        temp_list = set_universe('A')[s*100:]\n",
      "    else :\n",
      "        temp_list = set_universe('A')[s*100:(s+1)*100] \n",
      "    try:\n",
      "        if not temp_list == 0 :    \n",
      "            data_temp = DataAPI.FdmtEfGet(secID = temp_list,field=['secID','publishDate','NIncAPChgrLL', 'NIncAPChgrUPL'],pandas=\"1\")\n",
      "    except : \n",
      "        print '\u9519\u8bef\uff01'          \n",
      "    data = pd.concat([data,data_temp]) \n",
      "data['publishDate'] = pd.to_datetime(data['publishDate']) \n",
      "list1 = [] \n",
      "data07 = data[data['publishDate'] < '20080101']\n",
      "data07.drop_duplicates('secID' , inplace = True)\n",
      "list1.append(len(data07))\n",
      "data08 = data[(data['publishDate'] < '20090101') & (data['publishDate'] >= '20080101')]\n",
      "data08.drop_duplicates('secID' , inplace = True)\n",
      "list1.append(len(data08))\n",
      "data09 = data[(data['publishDate'] < '20100101') & (data['publishDate'] >= '20090101')]\n",
      "data09.drop_duplicates('secID' , inplace = True)\n",
      "list1.append(len(data09))\n",
      "data10 = data[(data['publishDate'] < '20110101') & (data['publishDate'] >= '20100101')]\n",
      "data10.drop_duplicates('secID' , inplace = True)\n",
      "list1.append(len(data10))\n",
      "data11 = data[(data['publishDate'] < '20120101') & (data['publishDate'] >= '20110101')]\n",
      "data11.drop_duplicates('secID' , inplace = True)\n",
      "list1.append(len(data11))\n",
      "data12 = data[(data['publishDate'] < '20130101') & (data['publishDate'] >= '20120101')]\n",
      "data12.drop_duplicates('secID' , inplace = True)\n",
      "list1.append(len(data12))\n",
      "data13 = data[(data['publishDate'] < '20140101') & (data['publishDate'] >= '20130101')]\n",
      "data13.drop_duplicates('secID' , inplace = True)\n",
      "list1.append(len(data13))\n",
      "data14 = data[(data['publishDate'] < '20150101') & (data['publishDate'] >= '20140101')]\n",
      "data14.drop_duplicates('secID' , inplace = True)\n",
      "list1.append(len(data14))\n",
      "data15 = data[(data['publishDate'] < '20160101') & (data['publishDate'] >= '20150101')]\n",
      "data15.drop_duplicates('secID' , inplace = True)\n",
      "list1.append(len(data15))\n",
      "\n",
      "data2 = DataFrame()\n",
      "for s in range(len(set_universe('A'))/100 + 1) :        \n",
      "    if s == len(set_universe('A'))/100 :\n",
      "        temp_list = set_universe('A')[s*100:]\n",
      "    else :\n",
      "        temp_list = set_universe('A')[s*100:(s+1)*100] \n",
      "    try:\n",
      "        if not temp_list == 0 :    \n",
      "            data_temp = DataAPI.FdmtEfGet(secID = temp_list,forecastType= '22' ,field=['secID','publishDate','NIncAPChgrLL', 'NIncAPChgrUPL'],pandas=\"1\")\n",
      "    except : \n",
      "        print '\u9519\u8bef\uff01'          \n",
      "    data2 = pd.concat([data2,data_temp]) \n",
      "data2['publishDate'] = pd.to_datetime(data2['publishDate'])\n",
      "list2 = [] \n",
      "data07 = data2[data2['publishDate'] < '20080101']\n",
      "data07.drop_duplicates('secID' , inplace = True)\n",
      "list2.append(len(data07))\n",
      "data08 = data2[(data2['publishDate'] < '20090101') & (data2['publishDate'] >= '20080101')]\n",
      "data08.drop_duplicates('secID' , inplace = True)\n",
      "list2.append(len(data08))\n",
      "data09 = data2[(data2['publishDate'] < '20100101') & (data2['publishDate'] >= '20090101')]\n",
      "data09.drop_duplicates('secID' , inplace = True)\n",
      "list2.append(len(data09))\n",
      "data10 = data2[(data2['publishDate'] < '20110101') & (data2['publishDate'] >= '20100101')]\n",
      "data10.drop_duplicates('secID' , inplace = True)\n",
      "list2.append(len(data10))\n",
      "data11 = data2[(data2['publishDate'] < '20120101') & (data2['publishDate'] >= '20110101')]\n",
      "data11.drop_duplicates('secID' , inplace = True)\n",
      "list2.append(len(data11))\n",
      "data12 = data2[(data2['publishDate'] < '20130101') & (data2['publishDate'] >= '20120101')]\n",
      "data12.drop_duplicates('secID' , inplace = True)\n",
      "list2.append(len(data12))\n",
      "data13 = data2[(data2['publishDate'] < '20140101') & (data2['publishDate'] >= '20130101')]\n",
      "data13.drop_duplicates('secID' , inplace = True)\n",
      "list2.append(len(data13))\n",
      "data14 = data2[(data2['publishDate'] < '20150101') & (data2['publishDate'] >= '20140101')]\n",
      "data14.drop_duplicates('secID' , inplace = True)\n",
      "list2.append(len(data14))\n",
      "data15 = data2[(data2['publishDate'] < '20160101') & (data2['publishDate'] >= '20150101')]\n",
      "data15.drop_duplicates('secID' , inplace = True)\n",
      "list2.append(len(data15))"
     ],
     "language": "python",
     "metadata": {},
     "outputs": []
    },
    {
     "cell_type": "markdown",
     "id": "7BFEA11677584A258258EC369C715B93",
     "metadata": {},
     "source": [
      "* \u7ea2\u67f1\u8868\u793a\u5e74\u95f4\u53d1\u5e03\u8fc7\u4e1a\u7ee9\u9884\u544a\u7684\u516c\u53f8\u6570\u91cf\n",
      "* \u9ec4\u67f1\u8868\u793a\u5e74\u95f4\u53d1\u5e03\u8fc7\u76c8\u5229\u9884\u589e\u7684\u516c\u53f8\u6570\u91cf"
     ]
    },
    {
     "cell_type": "code",
     "collapsed": false,
     "id": "4221566A4F72451BBBFF4FEA7CFFF17B",
     "input": [
      "# plot Statistics\n",
      "import numpy as np\n",
      "import matplotlib.pyplot as plt\n",
      "N = 9\n",
      "ind = np.arange(N) \n",
      "width = 0.35      \n",
      "fig = plt.figure(figsize=(12,12))\n",
      "ax = fig.add_subplot(211)\n",
      "rects1 = ax.bar(ind, list1, width, color='r')\n",
      "rects2 = ax.bar(ind+width, list2, width, color='y')\n",
      "# add some\n",
      "ax.set_ylabel('Number')\n",
      "ax.set_title('Statistics A shares')\n",
      "ax.set_xticks(ind+width)\n",
      "ax.set_xticklabels( ('2007', '2008', '2009', '2010', '2011','2012','2013','2014','2015/11') )\n",
      "ax.legend((rects1[0], rects2[0]), ('ALL', 'Profit_inc') , loc = '1')\n",
      "def autolabel(rects):\n",
      "    # attach some text labels\n",
      "    for rect in rects:\n",
      "        height = rect.get_height()\n",
      "        ax.text(rect.get_x()+rect.get_width()/2., 1.05*height, '%d'%int(height),\n",
      "                ha='center', va='bottom') \n",
      "autolabel(rects1)\n",
      "autolabel(rects2)\n",
      "plt.show()"
     ],
     "language": "python",
     "metadata": {},
     "outputs": []
    },
    {
     "cell_type": "markdown",
     "id": "DDC218273271478CA3351E361C861877",
     "metadata": {},
     "source": [
      "* \u6784\u9020\u4e00\u4e2a\u4e8b\u4ef6\u9a71\u52a8\u7b56\u7565\u770b\u4e0b\u76c8\u5229\u9884\u589e\u6548\u5e94\u662f\u5426\u957f\u671f\u6709\u6548\n",
      "\n",
      "* `\u7b56\u7565\u601d\u60f3` \uff1a \u4ee5\u4f01\u4e1a\u51c0\u5229\u6da6\u9884\u589e\u9884\u62a5\u4e3a\u4e8b\u4ef6\u9a71\u52a8\uff0c\u5356\u51fa\u540c\u671f\u6301\u4ed3\uff08\u4e0a\u4e2a\u6362\u4ed3\u671f\u5230\u672c\u6b21\u6362\u4ed3\uff09\u4e2d\u6536\u76ca\u7387\u6700low\u7684\u80a1\u7968\uff0c\u4e70\u5165\u76c8\u5229\u9884\u589e\u7684\u80a1\u7968\u3002\n",
      "* `\u56de\u6d4b\u533a\u95f4` \uff1a 07\u5e74 \u2014\u2014 \u4eca"
     ]
    },
    {
     "cell_type": "strategy",
     "collapsed": false,
     "has_detail": true,
     "id": "8D840162AA924B3CA507B6163D1DCA1C",
     "input": "import pandas as pd\nimport numpy as np\nfrom CAL.PyCAL import *\nfrom pandas import DataFrame,Series\nfrom datetime import datetime, timedelta\nstart = '20150801'                       # \u56de\u6d4b\u8d77\u59cb\u65f6\u95f4\nend = (datetime.today() - timedelta(days=1)).strftime('%Y%m%d')  # \u622a\u6b62\u65e5\u671f\n\nbenchmark = 'HS300'                        # \u7b56\u7565\u53c2\u8003\u6807\u51c6\nuniverse = set_universe('HS300')           # \u8bc1\u5238\u6c60\uff0c\u652f\u6301\u80a1\u7968\u548c\u57fa\u91d1\ncapital_base = 1000000                     # \u8d77\u59cb\u8d44\u91d1\nfreq = 'd'                                 # \u7b56\u7565\u7c7b\u578b\uff0c'd'\u8868\u793a\u65e5\u95f4\u7b56\u7565\u4f7f\u7528\u65e5\u7ebf\u56de\u6d4b\uff0c'm'\u8868\u793a\u65e5\u5185\u7b56\u7565\u4f7f\u7528\u5206\u949f\u7ebf\u56de\u6d4b\nrefresh_rate = 1                           # \u8c03\u4ed3\u9891\u7387\uff0c\u8868\u793a\u6267\u884chandle_data\u7684\u65f6\u95f4\u95f4\u9694\uff0c\u82e5freq = 'd'\u65f6\u95f4\u95f4\u9694\u7684\u5355\u4f4d\u4e3a\u4ea4\u6613\u65e5\uff0c\u82e5freq = 'm'\u65f6\u95f4\u95f4\u9694\u4e3a\u5206\u949f\ncal = Calendar('China.SSE')\n\ndef initialize(account):                   # \u521d\u59cb\u5316\u865a\u62df\u8d26\u6237\u72b6\u6001\n    account.last_refreshtime = start\n\ndef handle_data(account):                  # \u6bcf\u4e2a\u4ea4\u6613\u65e5\u7684\u4e70\u5165\u5356\u51fa\u6307\u4ee4\n    \n    today = account.current_date.strftime('%Y%m%d')\n    yesterday = cal.advanceDate(account.current_date, '-1B', BizDayConvention.Following).strftime('%Y%m%d')\n    last_day  = (account.current_date - timedelta(days=1)).strftime('%Y%m%d')\n    yester_refresh_day = cal.advanceDate(account.current_date, '-62B' , BizDayConvention.Following).strftime('%Y%m%d')\n    total_money = account.referencePortfolioValue    \n    prices = account.referencePrice \n    buylist =[]   \n    # \u53bb\u9664\u65b0\u4e0a\u5e02\u6216\u590d\u724c\u7684\u80a1\u7968\n    opn = account.get_attribute_history('openPrice', 1)\n    account.universe = [s for s in account.universe if not (np.isnan(opn.get(s, 0)[0]) or opn.get(s, 0)[0] == 0 )]\n    \n    # \u521d\u59cb\u5efa\u4ed3(\u9009\u5f53\u524d\u51c0\u5229\u6da6\u6700\u9ad8\u768420\u53ea\u80a1\u7968)\uff1a\n    if len(account.valid_secpos) == 0 : \n        # \u51c0\u5229\u6da6\u589e\u957f\u7387\n        NetProfitGrowRate = DataAPI.MktStockFactorsOneDayGet(tradeDate=yesterday,secID=account.universe,field=u\"secID,NetProfitGrowRate\",pandas=\"1\")\n        NetProfitGrowRate = NetProfitGrowRate.sort('NetProfitGrowRate',ascending = False).drop_duplicates('secID')\n        buylist = list(NetProfitGrowRate['secID'].values[0:20])\n        for s in buylist :  \n            order_to(s, int(total_money*0.99/len(buylist)/prices[s]/100)*100)\n        account.last_refreshtime = today\n        return\n    \n    # \u83b7\u53d6\u4e1a\u7ee9\u9884\u589e\u7684\u80a1\u7968,\u6700\u591a\u53d620\u53ea\n    try : \n        temp = DataAPI.FdmtEfGet(secID = account.universe , forecastType ='22',publishDateBegin= yesterday , publishDateEnd = last_day , field=['secID','publishDate','NIncAPChgrLL', 'NIncAPChgrUPL'],pandas=\"1\")\n        temp['meanGrowRate'] = (temp['NIncAPChgrLL'] + temp['NIncAPChgrUPL']) / 2\n        temp.sort('meanGrowRate', ascending=False).drop_duplicates('secID' ,inplace = True)        \n        buylist = list(temp['secID'].values[0:20])\n    except : \n        return \n                   \n    change_stock = [x for x in account.valid_secpos if x not in buylist] \n    buylist = [x for x in buylist if x not in account.valid_secpos]\n    # \u6362\u4ed3     \n    price1 = DataAPI.MktEqudAdjGet(secID=change_stock, tradeDate=account.last_refreshtime , field=u\"secID,openPrice\",pandas=\"1\")\n    price2 = DataAPI.MktEqudAdjGet(secID=change_stock, tradeDate=yesterday , field=u\"secID,closePrice\",pandas=\"1\")\n    # \u8ba1\u7b97\u6301\u4ed3\u80a1\u8fd9\u6bb5\u65f6\u95f4\u7684\u6da8\u5e45\n    price1['stock_returns'] = price2['closePrice'] / price1['openPrice']\n    price1.sort('stock_returns',ascending = True,inplace = True)\n    # \u5254\u9664\u4e0a\u4e2a\u6362\u4ed3\u65e5\u5230\u73b0\u5728\u6700\u632b\u7684\u80a1\u7968 \uff1a\n    sell_list = price1['secID'].values[0:len(buylist)]\n    for s in sell_list : \n        account.cash += prices[s] * account.valid_secpos.get(s)\n        order_to(s,0)            \n    for s in buylist :  \n        order(s, int(account.cash / len(buylist)/prices[s]/100)*100)\n    #\u66f4\u53d8\u6700\u65b0\u8c03\u4ed3\u65e5\u671f   \n    account.last_refreshtime = today\n\n",
     "language": "python",
     "metadata": {},
     "outputs": []
    },
    {
     "cell_type": "markdown",
     "id": "F57FA43D13994DC985AF4239443754EA",
     "metadata": {},
     "source": [
      "* \u4ece\u56de\u6d4b\u7ed3\u679c\u6765\u770b\u4e1a\u7ee9\u9884\u589e\u4e8b\u4ef6\u5728\u718a\u5e02\u4e2d\u6548\u5e94\u5e76\u4e0d\u663e\u8457\uff0c12\u5e74\u4ee5\u524d\u8dd1\u5f97\u4e5f\u6ca1\u4e4b\u540e\u7684\u597d\u3002\n",
      "* \u4ece\u7edf\u8ba1\u6570\u636e\u6765\u770b\uff0c07\u5e74\u540e\u9010\u5e74\u6709\u66f4\u591a\u7684\u4e0a\u5e02\u516c\u53f8\u4ee5\u4e1a\u7ee9\u9884\u544a\u7684\u65b9\u5f0f\u4e0e\u516c\u53f8\u80a1\u4e1c\u8fdb\u884c\u4e92\u52a8\u4ea4\u6d41,\u80a1\u6c11\u670b\u53cb\u4eec\u4e5f\u8d8a\u6765\u8d8a\u6ce8\u91cd\u4e1a\u7ee9\u9884\u544a\uff0c\u5e76\u5728\u4e8c\u7ea7\u5e02\u573a\u7ed9\u4e88\u53ca\u65f6\u7684\u56de\u5e94\u3002\n",
      "* \u5440\uff01\u624d\u53d1\u73b0\u56de\u6d4b\u6709\u65b0\u529f\u80fd\u4e86\u2014\u2014\u56de\u6d4b\u8be6\u60c5\uff0c\u6709\u66f4\u591a\u7edf\u8ba1\u4fe1\u606f\u4e86\uff01\uff01\uff01\u597d\u68d2\uff01\n",
      "* PS\uff1a\u4ece\u56de\u6d4b\u8be6\u60c5\u770b\u597d\u591a\u4e1a\u7ee9\u9884\u589e\u7684\u516c\u53f8\u62a5\u544a\u53d1\u5e03\u540e\u7b2c\u4e8c\u5929\u5f00\u677f\u6da8\u505c\u554a\uff01`\u770b\u56de\u6d4b\u8be6\u60c5\u6570\u636e`~\u65b0\u6280\u80fdget."
     ]
    }
   ],
   "metadata": {}
  }
 ]
}