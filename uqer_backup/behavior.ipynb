{
 "metadata": {
  "signature": "sha256:bcb8ada61ece7812f256f6d001c02925b6a95894d398af4a46be8b78ca98864a"
 },
 "nbformat": 3,
 "nbformat_minor": 0,
 "worksheets": [
  {
   "cells": [
    {
     "cell_type": "markdown",
     "id": "52F5675E38C2481CAC61EA0DE24CB066",
     "metadata": {},
     "source": [
      "# \u4ea4\u6613\u884c\u4e3a\u7684\u975e\u5bf9\u79f0\u6027\n",
      "## \u884c\u4e3a\u91d1\u878d\u5b66\u8ba4\u4e3a\uff0c\u80a1\u7968\u7684\u4ef7\u683c\u5e76\u4e0d\u7531\u80a1\u7968\u7684\u5185\u5728\u4ef7\u503c\u6240\u51b3\u5b9a\uff0c\u8fd8\u5f88\u5927\u7a0b\u5ea6\u4e0a\u53d7\u6295\u8d44\u8005\u4e3b\u4f53\u7684\u884c\u4e3a\u548c\u5fc3\u7406\u7684\u5f71\u54cd\u3002\n",
      "### \u5361\u5c3c\u66fc\u66fe\u63d0\u51fa\u524d\u666f\u7406\u8bba:\u6765\u63cf\u8ff0\u4eba\u4eec\u7684\u98ce\u9669\u51b3\u7b56\u884c\u4e3a\uff0c\u5176\u7406\u8bba\u6709\u4e09\u70b9\u7ed3\u8bba\uff1a\n",
      "1. \u5904\u4e8e\u6536\u76ca\u72b6\u6001\u65f6\uff0c\u4eba\u4eec\u5f80\u5f80\u5c0f\u5fc3\u7ffc\u7ffc\u3001\u538c\u6076\u98ce\u9669\u3001\u559c\u6b22\u89c1\u597d\u5c31\u6536\uff1b\n",
      "2. \u5904\u4e8e\u4e8f\u635f\u72b6\u6001\u65f6\uff0c\u4eba\u4eec\u5f80\u5f80\u4f1a\u6781\u4e0d\u7518\u5fc3\uff0c\u5b81\u613f\u627f\u53d7\u66f4\u5927\u7684\u98ce\u9669\u6765\u8d4c\u4e00\u628a\uff1b\n",
      "3. \u767d\u6361\u7684100\u5143\u6240\u5e26\u6765\u7684\u5feb\u4e50\uff0c\u96be\u4ee5\u62b5\u6d88\u4e22\u5931100\u5143\u6240\u5e26\u6765\u7684\u75db\u82e6\u3002  \n",
      "\n",
      "### \u5f53\u524d\u666f\u7406\u8bba\u5e94\u7528\u5728\u80a1\u7968\u5e02\u573a\u65f6\uff0c\u4fbf\u6210\u4e86\u80a1\u7968\u5e02\u573a\u7684\u5904\u7f6e\u6548\u5e94\uff0c\n",
      "1. \u6295\u8d44\u8005\u6025\u4e8e\u5356\u51fa\u76c8\u5229\u7684\u80a1\u7968\uff0c\u800c\u4e0d\u613f\u610f\u5356\u51fa\u4e8f\u635f\u7684\u80a1\u7968\uff1b\n",
      "2. \u635f\u5931\u80a1\u7968\u7684\u6301\u6709\u65f6\u95f4\u6bd4\u6536\u76ca\u80a1\u7968\u7684\u6301\u6709\u65f6\u95f4\u957f\uff1b\n",
      "3. \u5f53\u80a1\u7968\u7684\u4ef7\u683c\u63a5\u8fd1\u6295\u8d44\u8005\u7684\u8d2d\u4e70\u4ef7\u683c\u7684\u65f6\u5019\uff0c\u6295\u8d44\u8005\u6548\u7528\u4f1a\u53d1\u751f\u5267\u70c8\u6539\u53d8\u3002 \n"
     ]
    },
    {
     "cell_type": "markdown",
     "id": "39D044F5CD29408FA2F6F0B9D5D03077",
     "metadata": {},
     "source": [
      "\u7b79\u7801\u5206\u5e03\u7684\u8ba1\u7b97\n",
      "\n",
      "\u901a\u8fc7\u4e0a\u9762\u7684\u5206\u6790\u6211\u4eec\u53ef\u4ee5\u77e5\u9053\uff0c\u82e5\u6211\u4eec\u77e5\u9053\u5404\u4e2a\u6295\u8d44\u8005\u7684\u8d2d\u4e70\u6210\u672c\uff0c\u90a3\u4e48\u6211\u4eec\u5c31\u53ef\u4ee5\u5206\u6790\u51fa\u6765\u80a1\u7968\u5e02\u573a\u662f\u5426\u771f\u7684\u5b58\u5728\u5904\u7f6e\u6548\u5e94\uff0c\u5e76\u53ef\u4ee5\u4ee5\u6b64\u6307\u5bfc\u6211\u4eec\u8fdb\u884c\u6295\u8d44\u3002\u4f46\u662f\u9664\u4e86\u4ea4\u6613\u6240\uff0c\u6ca1\u6709\u4eba\u53ef\u4ee5\u77e5\u9053\u5176\u4ed6\u6295\u8d44\u8005\u7684\u8d2d\u4e70\u6210\u672c\u7684\u3002\u56e0\u6b64\uff0c\u6b64\u5904\u6211\u4eec\u6839\u636e\u5e02\u573a\u4e0a\u5df2\u6709\u7684\u4ef7\u683c\u4e0e\u6210\u4ea4\u6570\u636e\u8fd1\u4f3c\u7684\u4ee3\u8868\u80a1\u7968\u5e02\u573a\u6295\u8d44\u8005\u7684\u8d2d\u4e70\u6210\u672c\u4ee5\u53ca\u8d2d\u4e70\u6570\u91cf\uff0c\u4ee5\u6b64\u8ba1\u7b97\u80a1\u7968\u7684\u7b79\u7801\u5206\u5e03\u3002\n",
      "\n",
      "\u8c03\u6574\u6362\u624b\u7387\n",
      "\n",
      "\u6211\u4eec\u5229\u7528\u6210\u5747\u4ef7\u4e0e\u6362\u624b\u7387\u6765\u8fd1\u4f3c\u8ba1\u7b97\u80a1\u7968\u7684\u7b79\u7801\u5206\u5e03\u60c5\u51b5\u3002\u5177\u4f53\u7684\u8ba1\u7b97\u7ec6\u8282\u4e3a\uff1a\n",
      "\n",
      "\u5148\u786e\u5b9a\u76ee\u6807\u4ea4\u6613\u65e5\uff1b\u4ee5\u88681\u4e3a\u4f8b\uff0c\u5468\u4e94\u4e3a\u6211\u4eec\u7684\u76ee\u6807\u4ea4\u6613\u65e5\uff1b\n",
      "\u6362\u624b\u7387\u7684\u8def\u5f84\u4f9d\u8d56\u8c03\u6574\uff1b\u4ee5\u88681\u4e3a\u4f8b\uff0c\u5468\u56db\u4ea4\u6613\u768420%\u7684\u80a1\u4efd\u5728\u5468\u4e94\u8fd8\u6ca1\u6709\u88ab\u91cd\u65b0\u4ea4\u6613\u7684\u80a1\u4efd\u4e3a20%\u00d7\uff081-20%\uff09=16%\uff1b\u540c\u7406\u5468\u4e09\u4ea4\u6613\u768420%\u7684\u80a1\u4efd\u5728\u5468\u4e94\u8fd8\u6ca1\u6709\u88ab\u91cd\u65b0\u4ea4\u6613\u7684\u80a1\u4efd\u4e3a20%\u00d7\uff081-20%\uff09\u00d7\uff081-20%\uff09=13%\uff1b\n",
      "\u6362\u624b\u7387\u5f52\u4e00\u5316\uff0c\u6839\u636e\u8c03\u6574\u6362\u624b\u7387\u7684\u548c\u5bf9\u6bcf\u65e5\u7684\u8c03\u6574\u6362\u624b\u7387\u8fdb\u884c\u5f52\u4e00\u5316\uff1b \n",
      " \n",
      "\u53ef\u4ee5\u770b\u51fa\u8fd9\u79cd\u7b79\u7801\u5206\u5e03\u7684\u8ba1\u7b97\u65b9\u6cd5\uff0c\u6709\u4e00\u4e2a\u5f88\u5f3a\u7684\u5047\u8bbe\u5728\u4e8e\u6bcf\u4e00\u65e5\u7684\u6362\u624b\u5e73\u5747\u5316\u5230\u4e4b\u524d\u7684\u6bcf\u4e00\u5929\u3002\u5373\u6309\u88681\u6765\u8bf4\uff0c\u5468\u4e00\u7684\u6210\u4ea4\u91cf\uff0c\u5728\u5468\u4e8c\u670920%\u88ab\u5356\u51fa\uff0c\u5468\u4e09\u5728\u5468\u4e8c\u5356\u51fa\u7684\u57fa\u7840\u4e0a\u518d\u670920%\u88ab\u5356\u51fa\uff0c\u5468\u56db\u5468\u4e94\u540c\u7406\u3002\u5bf9\u4e8e\u5468\u4e94\u768420%\u6362\u624b\u6765\u8bf4\uff0c\u662f\u5468\u56db\u6210\u4ea4\u7684\u6570\u91cf\u768420%\u52a0\u4e0a\u5468\u4e09\u6210\u4ea4\u7684\u6570\u91cf\u4f46\u5728\u5468\u56db\u672a\u5356\u51fa\u768420%\uff0c\u4e00\u76f4\u5f80\u524d\u52a0\u5230\u5468\u4e00\u3002 \n",
      "\u663e\u7136\uff0c\u8fd9\u79bb\u771f\u5b9e\u7684\u7b79\u7801\u5206\u5e03\u8fd8\u6709\u4e00\u5b9a\u7684\u8ddd\u79bb\uff0c\u6210\u4ea4\u91cf\u4e0d\u53ef\u80fd\u662f\u7b80\u5355\u7684\u5e73\u644a\u5230\u4e4b\u524d\u7684\u6bcf\u4e00\u5929\u3002\u4f46\u6ca1\u6709\u5173\u7cfb\uff0c\u6211\u4eec\u4ee5\u6b64\u4e3a\u8fd1\u4f3c\u7b79\u7801\u5206\u5e03\uff0c\u7ee7\u7eed\u6211\u4eec\u7684\u7814\u7a76\u3002"
     ]
    },
    {
     "cell_type": "markdown",
     "id": "39D1FE43D0CA400680324650E4CBDE87",
     "metadata": {},
     "source": [
      "### \u7b79\u7801\u5206\u5e03\u7684\u56db\u4e2a\u4ee3\u7406\u53d8\u91cf\n",
      "\u7ed9\u5b9a\u4efb\u610f\u4e00\u53ea\u80a1\u7968\uff0c\u5047\u8bbe\u8be5\u80a1\u7968\u5728t\u65e5\u7684\u6210\u4ea4\u5747\u4ef7\u4e3a$P_t$\uff0c\u5728t-1\u65e5\u7684\u6210\u4ea4\u5747\u4ef7\u4e3a$P_{t-1}$\uff0c\u540c\u7406\u5728t-n\u65e5\u7684\u6210\u4ea4\u5747\u4ef7\u4e3a$P_{t-n}$\u3002\u5982\u679c\u6211\u4eec\u4ee5t\u65e5\u4e3a\u76ee\u6807\u65e5\u8ba1\u7b97\u7b79\u7801\u5206\u5e03\u7684\u8bdd\uff0c\u5219\u4efb\u610f\u4e00\u65e5$n(1\\leq n \\leq60)$\u88ab\u4ea4\u6613\u7684\u80a1\u4efd\u7684\u76f8\u5bf9\u8d44\u4ea7\u6536\u76ca\uff08\u6ce8\u610f\uff1a\u76f8\u5bf9\u8d44\u672c\u6536\u76ca\u5e76\u4e0d\u662f\u6307\u6295\u8d44\u56de\u62a5\uff09\u4e3a\uff1a\n",
      "\n",
      "$$RC_{t-n}=\\frac{P_{t}-P_{t-n}}{P_{t}}$$\n",
      "\u5047\u8bbe\u80a1\u7968\u5728t\u65e5\u7684\u6362\u624b\u7387\u4e3a$TR_t$\uff0c\u5728t-n\u65e5\u7684\u6362\u624b\u7387\u4e3a$TR_{t-n}$\u3002\u56e0\u6b64\uff0c\u6839\u636e\u6211\u4eec\u4e0a\u8ff0\u7684\u6362\u624b\u7387\u8c03\u6574\u65b9\u6cd5\uff0c\u5982\u679c\u76ee\u6807\u65e5\u4e3at\u65e5\u7684\u8bdd\uff0c\u5219\u80a1\u7968\u5728t-n\u65e5\u7684\u8c03\u6574\u6362\u624b\u7387\u4e3a\uff1a\n",
      "$$ATR_{t-n}=TR_{t-n}\\cdot(1-TR_{t-n+1})\\cdot(1-TR_{t-n+2})\\cdots(1-TR_{t})$$\n",
      "\u6839\u636e\u76f8\u5bf9\u8d44\u672c\u6536\u76ca\u4ee5\u53ca\u8c03\u6574\u6362\u624b\u7387\uff0c\u6211\u4eec\u53ef\u4ee5\u6784\u5efa\u51fa\u7b79\u7801\u5206\u5e03\u7684\u5747\u503c\uff0c\u65b9\u5dee\uff0c\u504f\u5ea6\u548c\u5cf0\u5ea6\u56db\u4e2a\u4ee3\u7406\u53d8\u91cf\uff1a\n",
      "$$ARC_{t}=\\frac{\\sum_{n=1}^{60}ATR_{t-n}\\cdot RC_{t-n}}{\\sum_{n=1}^{60}ATR_{t-n}}$$\n",
      "$$VRC_{t}=\\frac{n\\cdot \\sum_{n=1}^{60}ATR_{t-n}\\cdot(RC_{t-n}-ARC_{t})^2}{(n-1)\\sum_{n=1}^{60}ATR_{t-n}}$$\n",
      "$$SRC_{t}=\\frac{n\\cdot \\sum_{n=1}^{60}ATR_{t-n}\\cdot(RC_{t-n}-ARC_{t})^3}{(n-1)\\cdot VRC_{t}^{3/2}\\sum_{n=1}^{60}ATR_{t-n}}$$\n",
      "$$KRC_{t}=\\frac{n\\cdot \\sum_{n=1}^{60}ATR_{t-n}\\cdot(RC_{t-n}-ARC_{t})^4}{(n-1)\\cdot VRC_{t}^2\\sum_{n=1}^{60}ATR_{t-n}}$$\n",
      "**\u8fd9\u56db\u4e2a\u4ee3\u7406\u53d8\u91cf\u7684\u76f4\u89c2\u542b\u4e49\u5982\u4e0b\uff1a**\n",
      "1. ARC>0\u8868\u793a\u7b79\u7801\u5904\u4e8e\u5e73\u5747\u76c8\u5229\u72b6\u6001\uff1bARC<0\u8868\u793a\u7b79\u7801\u5904\u4e8e\u5e73\u5747\u4e8f\u635f\u72b6\u6001\uff1b\n",
      "2. VRC\u7279\u522b\u5927\u8868\u793a\u7b79\u7801\u7279\u522b\u7684\u5206\u6563\uff1bVRC\u7279\u522b\u5c0f\u8868\u793a\u7b79\u7801\u6bd4\u8f83\u96c6\u4e2d\uff1b\n",
      "3. SRC>0\u8868\u793a\u7b79\u7801\u5206\u5e03\u4e0d\u5bf9\u79f0\u4e14\u53f3\u504f\uff0c\u5373\u6709\u4e00\u90e8\u5206\u6295\u8d44\u8005\u7684\u6536\u76ca\u7279\u522b\u9ad8\uff1bSRC<0\u8868\u793a\u7b79\u7801\u5206\u5e03\u4e0d\u5bf9\u79f0\u4e14\u5de6\u504f\uff0c\u5373\u6709\u4e00\u90e8\u5206\u6295\u8d44\u8005\u4e8f\u635f\u7279\u522b\u4e25\u91cd\uff1b\n",
      "4. KRC\u7279\u522b\u5927\u8868\u793a\u7b79\u7801\u5206\u5e03\u91cc\u9762\u76c8\u4e8f\u5206\u5316\u5f88\u5f3a\uff0c\u8981\u4e48\u76c8\u5229\u5f88\u591a\uff0c\u8981\u4e48\u4e8f\u635f\u5f88\u591a\uff0c\u5904\u4e8e\u5c0f\u8d62\u5c0f\u4e8f\u72b6\u6001\u7684\u7b79\u7801\u975e\u5e38\u5c11\uff1bKRC\u7279\u522b\u5c0f\u5219\u8868\u73b0\u76c8\u4e8f\u5206\u5316\u5f88\u5c0f\uff0c\u7b79\u7801\u5904\u4e8e\u5c0f\u8d62\u5c0f\u4e8f\u7684\u72b6\u6001\uff1b"
     ]
    },
    {
     "cell_type": "markdown",
     "id": "9EB5407BC98C4DD1AE530E8918BEDE4B",
     "metadata": {},
     "source": [
      "\u4ece\u4e0a\u8868\u7684\u53d8\u91cf\u63cf\u8ff0\u7edf\u8ba1\u6765\u770b\uff0c\u957f\u671f\u6765\u770bARC\u7684\u5747\u503c\u548c\u4e2d\u4f4d\u6570\u90fd\u662f\u5c0f\u4e8e0\u7684\uff0c\u8fd9\u8bf4\u660e\u4e86\u6295\u8d44\u8005\u786e\u5b9e\u5b58\u5728\u6709\u6025\u4e8e\u5356\u51fa\u76c8\u5229\u80a1\u7968\uff0c\u800c\u8fc7\u957f\u6301\u6709\u4e8f\u635f\u80a1\u7968\u7684\u503e\u5411\uff0c\u4ece\u800c\u5bfc\u81f4\u6301\u6709\u8005\u7684\u603b\u4f53\u56de\u62a5\u5c0f\u4e8e0\u3002\n",
      "<br>\n",
      "\u800c\u4eceSRC\u7684\u7edf\u8ba1\u6765\u770b\uff0cSRC\u7684\u5747\u503c\u548c\u4e2d\u4f4d\u6570\u90fd\u662f\u5927\u4e8e\u96f6\u7684\uff0c\u751a\u81f3SRC\u768425%\u5206\u4f4d\u6570\u4e5f\u662f\u5927\u4e8e0\uff0c\u4e5f\u5c31\u662f\u8bf4\u957f\u671f\u6765\u8bf4SRC\u662f\u663e\u8457\u5927\u4e8e0\u7684\u3002\u6362\u53e5\u8bdd\u8bf4\uff0c\u7b79\u7801\u5206\u5e03\u5b58\u5728\u6301\u7eed\u7684\u53f3\u504f\u73b0\u8c61\uff0c\u6709\u4e00\u90e8\u5206\u201c\u806a\u660e\u7684\u6295\u8d44\u8005\u201d\u80fd\u591f\u5728\u80a1\u7968\u4e0a\u6da8\u4e4b\u524d\u4e70\u5165\u80a1\u7968\u3002\n",
      "<br>\n",
      "\u4ece\u4e0a\u8868\u7684\u60c5\u51b5\u6765\u770b\u53d8\u91cf\u4e4b\u95f4\u5b58\u5728\u8f83\u5927\u7684\u76f8\u5173\u6027\uff0c\u5176\u4e2darc\u4e0evrc\u7684\u76f8\u5173\u6027\u6700\u5927\uff0ckrc\u4e0e\u5176\u4ed6\u4ee3\u7406\u53d8\u91cf\u7684\u76f8\u5173\u6027\u90fd\u6bd4\u8f83\u5c0f\u3002\u63a5\u7740\uff0c\u6211\u4eec\u5c1d\u8bd5\u901a\u8fc7\u7ec6\u5206\u6837\u672c\u6765\u770b\u53d8\u91cf\u4e4b\u95f4\u7684\u76f8\u5173\u7ed3\u6784\u662f\u5426\u4f1a\u53d1\u751f\u663e\u8457\u6539\u53d8\u3002\u6211\u4eec\u628aarc_p50\u5927\u4e8e0\u7684\u6837\u672c\u7684arc_p50\u5c0f\u4e8e0\u7684\u6837\u672c\u5206\u522b\u8fdb\u884c\u76f8\u5173\u6027\u5206\u6790\u3002\n",
      "<br>\n",
      "\u4e0a\u8868\u662farc_p50\u5927\u4e8e0\u7684\u6837\u672c\u7684\u76f8\u5173\u6027\u8868\uff0c\u5373\u591a\u6570\u80a1\u7968\u5904\u4e8e\u7b79\u7801\u76c8\u5229\u72b6\u6001\u7684\u65f6\u5019\uff0c\u4e0e\u603b\u6837\u672c\u76f8\u53cd\uff0cARC\u4e0eVAC\u5448\u73b0\u5f88\u5f3a\u7684\u6b63\u76f8\u5173\u6027\u3002\u76f4\u89c2\u6765\u8bf4\u5c31\u662f\uff0c\u80a1\u7968\u6da8\u5e45\u8d8a\u5927\uff0c\u7b79\u7801\u8d8a\u5206\u6563\uff0c\u80a1\u7968\u8dcc\u5e45\u8d8a\u5927\uff0c\u7b79\u7801\u8d8a\u96c6\u4e2d\u3002arc_p50\u5927\u4e8e0\u8868\u793a\u80a1\u5e02\u5e02\u573a\u6709\u8f83\u5f3a\u7684\u8d5a\u94b1\u6548\u5e94\uff0c\u6295\u8d44\u8005\u5bf9\u672a\u6765\u4fe1\u5fc3\u5145\u8db3\uff0c\u8ffd\u9ad8\u4e70\u5165\uff0c\u56e0\u800cARC\u8d8a\u5927(\u6da8\u5f97\u8d8a\u591a)\uff0cVRC\u53cd\u800c\u8d8a\u5927\u3002\n",
      "<br>\n",
      "\u4e0b\u8868\u662farc_p50\u5c0f\u4e8e0\u7684\u6837\u672c\u7684\u76f8\u5173\u6027\u8868\uff0c\u5373\u591a\u6570\u80a1\u7968\u5904\u4e8e\u7b79\u7801\u4e8f\u635f\u72b6\u6001\u7684\u65f6\u5019\uff0cARC\u4e0eVRC\u5448\u73b0\u8f83\u5f3a\u7684\u8d1f\u76f8\u5173\u5173\u7cfb\u3002\u76f4\u89c2\u6765\u8bf4\u5c31\u662f\uff0c\u80a1\u7968\u8dcc\u5e45\u8d8a\u5927\uff0c\u7b79\u7801\u8d8a\u5206\u6563\uff0c\u80a1\u7968\u6da8\u5e45\u8d8a\u5927\uff0c\u7b79\u7801\u8d8a\u96c6\u4e2d\u3002arc_p50\u5c0f\u4e8e0\u8868\u793a\u80a1\u7968\u5e02\u573a\u7684\u8d5a\u94b1\u6548\u5e94\u5df2\u57fa\u672c\u6d88\u5931\uff0c\u6295\u8d44\u8005\u8fdb\u884c\u53cd\u5411\u64cd\u4f5c\uff0c\u80a1\u7968\u4e0b\u8dcc\u65f6\u9010\u6e10\u5efa\u4ed3\uff0c\u56e0\u800cARC\u8d8a\u5c0f\uff08\u8dcc\u7684\u8d8a\u591a\uff09\uff0cVRC\u53cd\u800c\u8d8a\u5927\u3002\n",
      "<br>\n",
      "\u4eceARC\u56e0\u5b50\u7684\u8868\u73b0\u6765\u770b\uff0cARC\u56e0\u5b50\u8868\u73b0\u51fa\u8f83\u5f3a\u7684\u6536\u76ca\u533a\u5206\u80fd\u529b\u3002\u5f53\u524d\u5904\u4e8e\u7b79\u7801\u4e8f\u635f\u72b6\u6001\u7684\u80a1\u7968\u4e0b\u4e00\u671f\u6536\u76ca\u4f1a\u66f4\u9ad8\uff0c\u800c\u5904\u4e8e\u7b79\u7801\u76c8\u5229\u72b6\u6001\u7684\u80a1\u7968\u4e0b\u4e00\u671f\u6536\u76ca\u4f1a\u66f4\u4f4e\u3002\u8fd9\u4e2a\u7ed3\u8bba\u4e0e\u6211\u4eec\u7684\u7406\u8bba\u6a21\u578b\u7684\u63a8\u5bfc\u7ed3\u679c\u4e00\u81f4\uff0c\u80a1\u7968\u4ef7\u683c\u6536\u5230\u5904\u7f6e\u6548\u5e94\u7684\u5f71\u54cd\u4ece\u800c\u8868\u73b0\u51fa\u5747\u503c\u56de\u590d\u7684\u6548\u5e94\u3002\u4f46\u9700\u8981\u6ce8\u610f\u7684\u662f\uff0c\u4ece\u7d2f\u8ba1\u6536\u76ca\u56fe\u53ef\u4ee5\u770b\u5230\uff0c\u572807\u5e74\u7684\u725b\u718a\u8f6c\u6362\u4e2d\uff0c\u8be5\u7279\u6027\u51fa\u73b0\u660e\u663e\u7684\u4f8b\u5916\u3002\n",
      "<br>\n",
      "\u4eceVRC\u56e0\u5b50\u7684\u8868\u73b0\u6765\u770b\uff0cVRC\u56e0\u5b50\u4e5f\u8868\u73b0\u51fa\u8f83\u5f3a\u7684\u6536\u76ca\u533a\u5206\u80fd\u529b\u548c\u5355\u8c03\u6027\u3002\u5f53\u524d\u5904\u4e8e\u7b79\u7801\u53d1\u6563\u72b6\u6001\u7684\u80a1\u7968\u4e0b\u4e00\u671f\u6536\u76ca\u4f1a\u66f4\u9ad8\uff0c\u800c\u5904\u4e8e\u7b79\u7801\u96c6\u4e2d\u72b6\u6001\u7684\u80a1\u7968\u4e0b\u4e00\u671f\u6536\u76ca\u4f1a\u66f4\u4f4e\u3002\u4e0d\u8fc7\u548cARC\u7684\u60c5\u51b5\u6bd4\u8f83\u7c7b\u4f3c\uff0c\u4e5f\u662f\u572807\u5e74\u548c15\u7684\u725b\u718a\u8f6c\u5316\u4e2d\uff0c\u5206\u7ec4\u6536\u76ca\u51fa\u73b0\u9006\u5411\u53d8\u5316\u3002\n",
      "<br>\n",
      "\u4eceSRC\u56e0\u5b50\u7684\u8868\u73b0\u6765\u770b\uff0c\u56e0\u5b50\u7684\u6536\u76ca\u533a\u5206\u80fd\u529b\u4e0d\u592a\u597d\uff0c\u4f46\u662f\u5448\u73b0\u51fa\u4e24\u5934\u4f4e\uff0c\u4e2d\u95f4\u9ad8\u7684\u7279\u6027\u3002\u4ece\u7ed3\u679c\u4e0a\u6765\u770b\uff0c\u6709\u6781\u5927\u76c8\u5229\u7b79\u7801\u4e0e\u6709\u6781\u5927\u4e8f\u635f\u7b79\u7801\u7684\u80a1\u7968\u4e0b\u4e00\u671f\u6536\u76ca\u4f1a\u66f4\u4f4e\uff0c\u800c\u90fd\u662f\u5c0f\u4e8f\u5c0f\u8d5a\u7b79\u7801\u7684\u80a1\u7968\u4e0b\u4e00\u671f\u6536\u76ca\u6536\u76ca\u53cd\u800c\u4f1a\u66f4\u9ad8\u3002\n",
      "<br>\n",
      "\u4eceKRC\u56e0\u5b50\u7684\u8868\u73b0\u6765\u770b\uff0c\u56e0\u5b50\u7684\u6536\u76ca\u533a\u5206\u80fd\u529b\u4e00\u822c\uff0c\u5355\u8c03\u6027\u4e0d\u591f\u597d\u3002\u4ece\u7ed3\u679c\u4e0a\u6765\u770b\uff0c\u6700\u597d\u89c4\u907fKRC\u592a\u5927\u7684\u80a1\u7968\uff0c\u5373\u7b79\u7801\u5206\u5e03\u91cc\u9762\u76c8\u4e8f\u5206\u5316\u5f88\u5f3a\u7684\uff0c\u8981\u4e48\u76c8\u5229\u5f88\u591a\uff0c\u8981\u4e48\u4e8f\u635f\u5f88\u591a\uff0c\u5904\u4e8e\u5c0f\u8d62\u5c0f\u4e8f\u72b6\u6001\u7684\u7b79\u7801\u975e\u5e38\u5c11\u7684\u80a1\u7968\uff0c\u4e0b\u4e00\u671f\u7684\u6536\u76ca\u901a\u5e38\u5f88\u4f4e\u3002\n",
      "<br>\n",
      "\u4ece\u8c03\u6574\u7684VRC\u56e0\u5b50\u6765\u770b\uff0c\u76f8\u6bd4\u4e8e\u539f\u6765\u7684VRC\u56e0\u5b50\uff0c\u5176\u6536\u76ca\u533a\u5206\u80fd\u529b\u548c\u5355\u8c03\u6027\u5f97\u5230\u8fdb\u4e00\u6b65\u63d0\u5347\u3002\u5373\uff0c\u5728\u7b79\u7801\u5206\u5e03\u5904\u4e8e\u5e73\u5747\u76c8\u5229\u72b6\u6001\u65f6\uff0c\u7b79\u7801\u8d8a\u96c6\u4e2d\uff0c\u4e0b\u4e00\u671f\u6536\u76ca\u8d8a\u9ad8\uff1b\u7b79\u7801\u5206\u5e03\u5904\u4e8e\u5e73\u5747\u4e8f\u635f\u72b6\u6001\u65f6\uff0c\u7b79\u7801\u8d8a\u5206\u6563\uff0c\u4e0b\u4e00\u671f\u6536\u76ca\u6536\u76ca\u8d8a\u9ad8\u3002"
     ]
    },
    {
     "cell_type": "code",
     "collapsed": false,
     "id": "CDB4388AD42F4DB3955A927ABED9D4CE",
     "input": [
      "import numpy as np\n",
      "import pandas as pd\n",
      "import math\n",
      "import datetime\n",
      "from collections import OrderedDict\n",
      "from dateutil.parser import parse\n",
      "import matplotlib.pyplot as plt\n",
      "from matplotlib.ticker import FuncFormatter \n",
      "from CAL.PyCAL import *    # CAL.PyCAL\u4e2d\u5305\u542bfont\n",
      "font.set_size(15)\n",
      "cal = Calendar('China.SSE')\n",
      "\n",
      "def get_distribution_of_chips(ticker,tradeDate,window):\n",
      "    \n",
      "    ## \u8ba1\u7b97\u7b79\u7801\u5206\u5e03\u7684\u4ee3\u7406\u53d8\u91cf\n",
      "    trade_date = tradeDate if isinstance(tradeDate,datetime.datetime) else parse(tradeDate)\n",
      "    period = '-' + str(window) + 'B'\n",
      "    begin_date = cal.advanceDate(trade_date,period)\n",
      "\n",
      "    df_quotation = DataAPI.MktEqudAdjGet(tradeDate=u\"\",secID=u\"\",ticker=ticker,isOpen=\"1\",beginDate=begin_date.strftime('%Y%m%d'),\n",
      "                        endDate=trade_date.strftime('%Y%m%d'),field=u\"tradeDate,secID,turnoverValue,turnoverVol,turnoverRate,accumAdjFactor\",pandas=\"1\")\n",
      "    df_quotation['avgPrice'] = df_quotation['accumAdjFactor']*df_quotation['turnoverValue'] / df_quotation['turnoverVol']\n",
      "    df_quotation = df_quotation[['tradeDate','secID','avgPrice','turnoverRate']]\n",
      "    df_quotation = df_quotation.set_index(['tradeDate','secID'])\n",
      "    df_avgPrice = df_quotation.unstack()['avgPrice']\n",
      "    df_turnoverRate = df_quotation.unstack()['turnoverRate']\n",
      "    # print df_avgPrice\n",
      "    # print df_turnoverRate\n",
      "    df_rc = (df_avgPrice.iloc[-1] - df_avgPrice.iloc[0:-1]) /  df_avgPrice.iloc[-1]\n",
      "    df_atr = df_turnoverRate.copy()\n",
      "    for i in range(len(df_atr)):\n",
      "        df_atr.iloc[i] = df_turnoverRate.iloc[i] * (1 - df_turnoverRate.iloc[i+1:]).prod()\n",
      "    df_atr = df_atr.dropna(axis=0,how='all')\n",
      "    arc = (df_atr * df_rc).sum() / df_atr.sum()\n",
      "    vrc = window*(df_atr*(df_rc - arc)**2).sum()/((window-1)*df_atr.sum())\n",
      "    src = window*(df_atr*(df_rc - arc)**3).sum()/((window-1)*vrc**(3.0/2)*df_atr.sum())\n",
      "    krc = window*(df_atr*(df_rc - arc)**4).sum()/((window-1)*vrc**2*df_atr.sum())\n",
      "    return pd.concat([arc,vrc,src,krc],axis=1).rename(columns={0:'arc',1:'vrc',2:'src',3:'krc'})"
     ],
     "language": "python",
     "metadata": {},
     "outputs": []
    },
    {
     "cell_type": "code",
     "collapsed": false,
     "id": "0D6A179F98974B40A3D6FE4F983C3DBC",
     "input": [
      "df = get_distribution_of_chips(['601006','300124','002231','002232'],'20161125',60)\n",
      "df = df.sort('src')\n",
      "tf_large = df[(df.arc > 0)  & (df.arc > df.arc.quantile(0.9))]\n",
      "tf_low = df[ ( df.arc < df.arc.quantile(0.1))]\n",
      "print tf_large \n",
      "print tf_low \n"
     ],
     "language": "python",
     "metadata": {},
     "outputs": [
      {
       "output_type": "stream",
       "stream": "stdout",
       "text": [
        "                  arc       vrc       src       krc\n",
        "secID                                              \n",
        "601006.XSHG  0.064397  0.002224  0.040179  1.546801"
       ]
      },
      {
       "output_type": "stream",
       "stream": "stdout",
       "text": [
        "\n",
        "                  arc       vrc       src       krc\n",
        "secID                                              \n",
        "002232.XSHE  0.014597  0.000527  0.073337  2.671538\n"
       ]
      },
      {
       "output_type": "stream",
       "stream": "stderr",
       "text": [
        "-c:2: FutureWarning: sort(columns=....) is deprecated, use sort_values(by=.....)\n"
       ]
      }
     ]
    },
    {
     "cell_type": "code",
     "collapsed": false,
     "has_detail": true,
     "id": "3DC5D500831440B18D84BF3469084DA0",
     "input": [
      "import pandas as pd\n",
      "import numpy as np\n",
      "import lib.grid as grid\n",
      "import lib.comm as comm\n",
      "import datetime as dt\n",
      "\n",
      "start = '2015-03-01'                       # \u56de\u6d4b\u8d77\u59cb\u65f6\u95f4\n",
      "today = comm.getPrevBusinessDay(dt.date.today(),1)\n",
      "end = today.strftime('%Y-%m-%d') \n",
      "benchmark = 'ZZ500'                        # \u7b56\u7565\u53c2\u8003\u6807\u51c6\n",
      "universe = DynamicUniverse('ZZ500')\n",
      "capital_base = 1000000                      # \u8d77\u59cb\u8d44\u91d110W\n",
      "# freq = 'd'                                 # \u7b56\u7565\u7c7b\u578b\uff0c'd'\u8868\u793a\u65e5\u95f4\u7b56\u7565\u4f7f\u7528\u65e5\u7ebf\u56de\u6d4b\uff0c'm'\u8868\u793a\u65e5\u5185\u7b56\u7565\u4f7f\u7528\u5206\u949f\u7ebf\u56de\u6d4b\n",
      "# refresh_rate = 5                         # \u8c03\u4ed3\u9891\u7387\uff0c\u8868\u793a\u6267\u884chandle_data\u7684\u65f6\u95f4\u95f4\u9694\uff0c\u82e5freq = 'd'\u65f6\u95f4\u95f4\u9694\u7684\u5355\u4f4d\u4e3a\u4ea4\u6613\u65e5\uff0c\u82e5freq = 'm'\u65f6\u95f4\u95f4\u9694\u4e3a\u5206\u949f\n",
      "    \n",
      "# ---------------\u56de\u6d4b\u53c2\u6570\u90e8\u5206\u7ed3\u675f----------------\n",
      "\n",
      "# \u628a\u56de\u6d4b\u53c2\u6570\u5c01\u88c5\u5230 SimulationParameters \u4e2d\uff0c\u4f9b quick_backtest \u4f7f\u7528\n",
      "sim_params = quartz.SimulationParameters(start, end, benchmark, universe, capital_base)\n",
      "# \u83b7\u53d6\u56de\u6d4b\u884c\u60c5\u6570\u636e\n",
      "data = quartz.get_backtest_data(sim_params)\n",
      "# \u8fd0\u884c\u7ed3\u679c\n",
      "cumulative_returns = {}\n",
      "annualized_return = {}\n",
      "max_drawdown = {}\n",
      "# \u8c03\u6574\u53c2\u6570\u5feb\u901f\u56de\u6d4b\n",
      "for x in [0.0,0.10] :# range(1, 10):\n",
      "    print \"testing ...\" , x \n",
      "    # refresh_rate \u7684\u503c\u548c\u56de\u6d4b\u884c\u60c5\u6570\u636e\u65e0\u5173\uff0c\u6240\u4ee5\u4e5f\u53ef\u4ee5\u5728\u53c2\u6570\u8c03\u4f18\u4e2d\u4fee\u6539\n",
      "    # \u7c7b\u4f3c\u7684\u8fd8\u6709 commission \u548c slippage\n",
      "    freq = 'd'                                 # \u7b56\u7565\u7c7b\u578b\uff0c'd'\u8868\u793a\u65e5\u95f4\u7b56\u7565\u4f7f\u7528\u65e5\u7ebf\u56de\u6d4b\uff0c'm'\u8868\u793a\u65e5\u5185\u7b56\u7565\u4f7f\u7528\u5206\u949f\u7ebf\u56de\u6d4b\n",
      "    refresh_rate = 20                         # \u8c03\u4ed3\u9891\u7387\uff0c\u8868\u793a\u6267\u884chandle_data\u7684\u65f6\u95f4\u95f4\u9694\uff0c\u82e5freq = 'd'\u65f6\u95f4\u95f4\u9694\u7684\u5355\u4f4d\u4e3a\u4ea4\u6613\u65e5\uff0c\u82e5freq = 'm'\u65f6\u95f4\u95f4\u9694\u4e3a\u5206\u949f\n",
      "\n",
      "    # \u7b56\u7565\u7279\u6709\u53c2\u6570, \u7f51\u683c\u5927\u5c0f, \u8d44\u672c\u500d\u6570: \n",
      "    \n",
      "    def initialize(account):                   # \u521d\u59cb\u5316\u865a\u62df\u8d26\u6237\u72b6\u6001\n",
      "        pass\n",
      "\n",
      "    def handle_data(account):                  # \u6bcf\u4e2a\u4ea4\u6613\u65e5\u7684\u4e70\u5165\u5356\u51fa\u6307\u4ee4\n",
      "        tickerlist = []\n",
      "        buy_list = []\n",
      "        for s in account.universe: tickerlist.append(s[0:6]) \n",
      "        sec_cost = get_distribution_of_chips(tickerlist,account.previous_date,30)\n",
      "        sec_cost = sec_cost.dropna()\n",
      "        arc = sec_cost[(sec_cost.arc > sec_cost.arc.quantile(x)) &  (sec_cost.arc < sec_cost.arc.quantile(x+0.1))]\n",
      "        vrc = sec_cost[(sec_cost.vrc > sec_cost.vrc.quantile(x)) &  (sec_cost.vrc < sec_cost.vrc.quantile(x+0.1))]\n",
      "        #tf_large = vrc.index\n",
      "        tf_large = list(set(arc.index).intersection(set(vrc.index)))\n",
      "        buy_list = tf_large\n",
      "        #print(len(buy_list))\n",
      "        #print buy_list\n",
      "        for stk in account.avail_security_position:\n",
      "            if stk not in buy_list:\n",
      "                order_to(stk,0)\n",
      "        for stk in buy_list:\n",
      "            order_pct_to(stk,1.0/len(buy_list))\n",
      "# ---------------\u7b56\u7565\u903b\u8f91\u90e8\u5206\u7ed3\u675f----------------\n",
      "\n",
      "    # \u628a\u56de\u6d4b\u903b\u8f91\u5c01\u88c5\u5230 TradingStrategy \u4e2d\uff0c\u4f9b quick_backtest \u4f7f\u7528\n",
      "    strategy = quartz.TradingStrategy(initialize, handle_data)\n",
      "    bt, perf = quartz.quick_backtest(sim_params, strategy, data=data, refresh_rate=refresh_rate)\n",
      "    # \u4fdd\u5b58\u8fd0\u884c\u7ed3\u679c\n",
      "    cumulative_returns[x] = perf['cumulative_returns']\n",
      "    annualized_return[x] = perf['annualized_return']\n",
      "    max_drawdown[x] = perf['max_drawdown']\n",
      "\n",
      "print \"Finished...\"\n",
      "\n"
     ],
     "language": "python",
     "metadata": {},
     "outputs": [
      {
       "output_type": "stream",
       "stream": "stdout",
       "text": [
        "testing ..."
       ]
      }
     ]
    },
    {
     "cell_type": "code",
     "collapsed": false,
     "id": "77068F17321C4695A85238C1496CC2FF",
     "input": [
      "##\u5e74\u534e\u6536\u76ca...\n",
      "print \"\u5e74\u534e\u6536\u76ca\" ,annualized_return\n",
      "print \"\u6700\u5927\u56de\u64a4\",max_drawdown\n",
      "print \"\u6536\u76ca\u7387\u5e8f\u5217\"\n",
      "cumulative_returns = pd.DataFrame(cumulative_returns)\n",
      "print cumulative_returns.tail(5).to_html()\n",
      "cumulative_returns.plot(figsize=(25,8))"
     ],
     "language": "python",
     "metadata": {},
     "outputs": [
      {
       "output_type": "stream",
       "stream": "stdout",
       "text": [
        "\u5e74\u534e\u6536\u76ca"
       ]
      },
      {
       "ename": "NameError",
       "evalue": "name 'annualized_return' is not defined",
       "output_type": "pyerr",
       "traceback": [
        "\u001b[1;31m---------------------------------------------------------------------------\u001b[0m\n\u001b[1;31mNameError\u001b[0m                                 Traceback (most recent call last)",
        "\u001b[1;32m<mercury-input-3-77068F17321C4695A85238C1496CC2FF>\u001b[0m in \u001b[0;36m<module>\u001b[1;34m()\u001b[0m\n\u001b[0;32m      1\u001b[0m \u001b[1;31m##\u5e74\u534e\u6536\u76ca...\u001b[0m\u001b[1;33m\u001b[0m\u001b[1;33m\u001b[0m\u001b[0m\n\u001b[1;32m----> 2\u001b[1;33m \u001b[1;32mprint\u001b[0m \u001b[1;34m\"\u5e74\u534e\u6536\u76ca\"\u001b[0m \u001b[1;33m,\u001b[0m\u001b[0mannualized_return\u001b[0m\u001b[1;33m\u001b[0m\u001b[0m\n\u001b[0m\u001b[0;32m      3\u001b[0m \u001b[1;32mprint\u001b[0m \u001b[1;34m\"\u6700\u5927\u56de\u64a4\"\u001b[0m\u001b[1;33m,\u001b[0m\u001b[0mmax_drawdown\u001b[0m\u001b[1;33m\u001b[0m\u001b[0m\n\u001b[0;32m      4\u001b[0m \u001b[1;32mprint\u001b[0m \u001b[1;34m\"\u6536\u76ca\u7387\u5e8f\u5217\"\u001b[0m\u001b[1;33m\u001b[0m\u001b[0m\n\u001b[0;32m      5\u001b[0m \u001b[0mcumulative_returns\u001b[0m \u001b[1;33m=\u001b[0m \u001b[0mpd\u001b[0m\u001b[1;33m.\u001b[0m\u001b[0mDataFrame\u001b[0m\u001b[1;33m(\u001b[0m\u001b[0mcumulative_returns\u001b[0m\u001b[1;33m)\u001b[0m\u001b[1;33m\u001b[0m\u001b[0m\n",
        "\u001b[1;31mNameError\u001b[0m: name 'annualized_return' is not defined"
       ]
      }
     ]
    },
    {
     "cell_type": "strategy",
     "collapsed": false,
     "has_detail": true,
     "id": "851C4E5E5E174966820E2D5C8D483FF3",
     "input": "import pandas as pd\nimport numpy as np\nimport lib.grid as grid\nimport lib.comm as comm\nimport datetime as dt\n\nstart = '2014-03-01'                       # \u56de\u6d4b\u8d77\u59cb\u65f6\u95f4\ntoday = comm.getPrevBusinessDay(dt.date.today(),1)\nend = today.strftime('%Y-%m-%d') \nbenchmark = 'ZZ500'                        # \u7b56\u7565\u53c2\u8003\u6807\u51c6\nuniverse = DynamicUniverse('ZZ500')\ncapital_base = 1000000                      # \u8d77\u59cb\u8d44\u91d110W\nfreq = 'd'                                 # \u7b56\u7565\u7c7b\u578b\uff0c'd'\u8868\u793a\u65e5\u95f4\u7b56\u7565\u4f7f\u7528\u65e5\u7ebf\u56de\u6d4b\uff0c'm'\u8868\u793a\u65e5\u5185\u7b56\u7565\u4f7f\u7528\u5206\u949f\u7ebf\u56de\u6d4b\nrefresh_rate = 20                         # \u8c03\u4ed3\u9891\u7387\uff0c\u8868\u793a\u6267\u884chandle_data\u7684\u65f6\u95f4\u95f4\u9694\uff0c\u82e5freq = 'd'\u65f6\u95f4\u95f4\u9694\u7684\u5355\u4f4d\u4e3a\u4ea4\u6613\u65e5\uff0c\u82e5freq = 'm'\u65f6\u95f4\u95f4\u9694\u4e3a\u5206\u949f\nx = 0.0\ny = 0.0\n    \ndef initialize(account):                   # \u521d\u59cb\u5316\u865a\u62df\u8d26\u6237\u72b6\u6001\n    pass\n\ndef handle_data(account):                  # \u6bcf\u4e2a\u4ea4\u6613\u65e5\u7684\u4e70\u5165\u5356\u51fa\u6307\u4ee4\n    tickerlist = []\n    buy_list = []\n    for s in account.universe: tickerlist.append(s[0:6]) \n    sec_cost = get_distribution_of_chips(tickerlist,account.previous_date,60)\n    sec_cost = sec_cost.dropna()\n    arc = sec_cost[(sec_cost.arc > sec_cost.arc.quantile(x)) &  (sec_cost.arc < sec_cost.arc.quantile(x+0.1))]\n    #vrc = sec_cost[(sec_cost.vrc > sec_cost.vrc.quantile(y)) &  (sec_cost.vrc < sec_cost.vrc.quantile(y+0.1))]\n    tf_large = arc.index\n    #tf_large = list(set(arc.index).intersection(set(vrc.index)))\n    buy_list = tf_large\n    #print(len(buy_list))\n    #print buy_list\n    for stk in account.avail_security_position:\n        if stk not in buy_list:\n            order_to(stk,0)\n    for stk in buy_list:\n        order_pct_to(stk,1.0/len(buy_list))\n\n\n",
     "language": "python",
     "metadata": {},
     "outputs": []
    }
   ],
   "metadata": {}
  }
 ]
}