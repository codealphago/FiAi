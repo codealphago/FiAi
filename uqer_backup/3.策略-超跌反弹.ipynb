{
 "metadata": {
  "signature": "sha256:90a3f9259bbb438c86db92cf2acb04a984b1ecd4664725e11b61d7ea96587e41"
 },
 "nbformat": 3,
 "nbformat_minor": 0,
 "worksheets": [
  {
   "cells": [
    {
     "cell_type": "code",
     "collapsed": false,
     "id": "01EB3E9768B74C0B84459FFE79129398",
     "input": [
      "import numpy as np\n",
      "import datetime as dt\n",
      "import pandas as pd\n",
      "pd.options.display.max_columns = 100\n",
      "pd.options.display.max_rows = 300\n",
      "import seaborn\n",
      "from matplotlib import pylab\n",
      "import matplotlib.pyplot as plt\n",
      "from matplotlib.pyplot import *\n",
      "import sklearn\n",
      "import talib\n",
      "import sklearn.preprocessing\n",
      "from lib import report\n",
      "from lib import comm\n",
      "from lib import beta\n",
      "\n",
      "sec = '601718'\n",
      "p = 5\n",
      "m = 5\n",
      "\n",
      "trade_date = dt.date.today()\n",
      "s_date = comm.getPrevBusinessDay(trade_date,250)\n",
      "hq = DataAPI.MktEqudAdjGet(ticker=sec,beginDate=s_date.strftime(\"%Y%m%d\"),field=u\"ticker,tradeDate,secShortName,preClosePrice,closePrice\")\n",
      "hq.index = hq.tradeDate   \n",
      "hq = hq.dropna()\n",
      "hq['roll_p'] = hq.closePrice.diff(p)\n",
      "hq['roll_m'] = hq.closePrice.diff(-m)\n",
      "hq['pct_p'] = 100* hq.roll_p / hq.closePrice\n",
      "hq['pct_m'] = -100 * hq.roll_m / hq.closePrice\n",
      "hq = hq.dropna()\n",
      "std_v = np.std(hq.pct_p)\n",
      "hq['std_p'] = std_v\n",
      "ht = hq[(hq.pct_p < -3*abs(std_v))]\n",
      "print ht\n"
     ],
     "language": "python",
     "metadata": {},
     "outputs": [
      {
       "output_type": "stream",
       "stream": "stdout",
       "text": [
        "            ticker   tradeDate secShortName  preClosePrice  closePrice  \\\n",
        "tradeDate                                                                \n",
        "2015-07-08  601718  2015-07-08         \u9645\u534e\u96c6\u56e2         11.175       10.06   \n",
        "2015-08-24  601718  2015-08-24         \u9645\u534e\u96c6\u56e2         20.010       18.01   \n",
        "2015-08-25  601718  2015-08-25         \u9645\u534e\u96c6\u56e2         18.010       16.21   \n",
        "2015-08-26  601718  2015-08-26         \u9645\u534e\u96c6\u56e2         16.210       14.82   \n",
        "\n",
        "            roll_p  roll_m      pct_p      pct_m      std_p  \n",
        "tradeDate                                                    \n",
        "2015-07-08  -4.999   -1.13 -49.691849  11.232604  13.582968  \n",
        "2015-08-24  -7.950    0.10 -44.142143  -0.555247  13.582968  \n",
        "2015-08-25  -7.150    0.09 -44.108575  -0.555213  13.582968  \n",
        "2015-08-26  -9.430    0.31 -63.630229  -2.091768  13.582968  "
       ]
      },
      {
       "output_type": "stream",
       "stream": "stdout",
       "text": [
        "\n"
       ]
      }
     ]
    },
    {
     "cell_type": "code",
     "collapsed": false,
     "id": "D158D35163814F5C8578D8FB024E2CAB",
     "input": [
      "def unusual_vol(ticker , trade_date = dt.date.today() ,his_window = 250, p=5, m=5, x = 3.0) :\n",
      "    trade_date = comm.getPrevBusinessDay(trade_date,1)\n",
      "    s_date = comm.getPrevBusinessDay(trade_date,his_window)\n",
      "    hq = DataAPI.MktEqudAdjGet(ticker=sec,beginDate=s_date.strftime(\"%Y%m%d\"),endDate=trade_date,field=u\"ticker,tradeDate,secShortName,preClosePrice,closePrice\")\n",
      "    hq.index = hq.tradeDate   \n",
      "    hq = hq.dropna()\n",
      "    hq['roll_p'] = hq.closePrice.diff(p)\n",
      "    hq['roll_m'] = hq.closePrice.diff(-m)\n",
      "    hq['pct_p'] = 100* hq.roll_p / hq.closePrice\n",
      "    hq['pct_m'] = -100 * hq.roll_m / hq.closePrice\n",
      "    hq = hq.dropna()\n",
      "    std_v = np.std(hq.pct_p)\n",
      "    hq['std_p'] = std_v\n",
      "    ht = hq[(hq.pct_p < -x*abs(std_v))]\n",
      "    flag = False\n",
      "    if trade_date.strftime(\"%Y-%m-%d\") in ht.tradeDate:\n",
      "        flag = True\n",
      "    return ht,flag\n",
      "    \n",
      "un, flag = unusual_vol(ticker=sec)\n",
      "print flag\n",
      "un\n"
     ],
     "language": "python",
     "metadata": {},
     "outputs": [
      {
       "output_type": "stream",
       "stream": "stdout",
       "text": [
        "False"
       ]
      },
      {
       "output_type": "stream",
       "stream": "stdout",
       "text": [
        "\n"
       ]
      },
      {
       "html": [
        "<div style=\"max-height:1000px;max-width:1500px;overflow:auto;\">\n",
        "<table border=\"1\" class=\"dataframe\">\n",
        "  <thead>\n",
        "    <tr style=\"text-align: right;\">\n",
        "      <th></th>\n",
        "      <th>ticker</th>\n",
        "      <th>tradeDate</th>\n",
        "      <th>secShortName</th>\n",
        "      <th>preClosePrice</th>\n",
        "      <th>closePrice</th>\n",
        "      <th>roll_p</th>\n",
        "      <th>roll_m</th>\n",
        "      <th>pct_p</th>\n",
        "      <th>pct_m</th>\n",
        "      <th>std_p</th>\n",
        "    </tr>\n",
        "    <tr>\n",
        "      <th>tradeDate</th>\n",
        "      <th></th>\n",
        "      <th></th>\n",
        "      <th></th>\n",
        "      <th></th>\n",
        "      <th></th>\n",
        "      <th></th>\n",
        "      <th></th>\n",
        "      <th></th>\n",
        "      <th></th>\n",
        "      <th></th>\n",
        "    </tr>\n",
        "  </thead>\n",
        "  <tbody>\n",
        "    <tr>\n",
        "      <th>2015-07-08</th>\n",
        "      <td>601718</td>\n",
        "      <td>2015-07-08</td>\n",
        "      <td>\u9645\u534e\u96c6\u56e2</td>\n",
        "      <td>11.175</td>\n",
        "      <td>10.06</td>\n",
        "      <td>-4.999</td>\n",
        "      <td>-1.13</td>\n",
        "      <td>-49.691849</td>\n",
        "      <td>11.232604</td>\n",
        "      <td>13.659651</td>\n",
        "    </tr>\n",
        "    <tr>\n",
        "      <th>2015-08-24</th>\n",
        "      <td>601718</td>\n",
        "      <td>2015-08-24</td>\n",
        "      <td>\u9645\u534e\u96c6\u56e2</td>\n",
        "      <td>20.010</td>\n",
        "      <td>18.01</td>\n",
        "      <td>-7.950</td>\n",
        "      <td>0.10</td>\n",
        "      <td>-44.142143</td>\n",
        "      <td>-0.555247</td>\n",
        "      <td>13.659651</td>\n",
        "    </tr>\n",
        "    <tr>\n",
        "      <th>2015-08-25</th>\n",
        "      <td>601718</td>\n",
        "      <td>2015-08-25</td>\n",
        "      <td>\u9645\u534e\u96c6\u56e2</td>\n",
        "      <td>18.010</td>\n",
        "      <td>16.21</td>\n",
        "      <td>-7.150</td>\n",
        "      <td>0.09</td>\n",
        "      <td>-44.108575</td>\n",
        "      <td>-0.555213</td>\n",
        "      <td>13.659651</td>\n",
        "    </tr>\n",
        "    <tr>\n",
        "      <th>2015-08-26</th>\n",
        "      <td>601718</td>\n",
        "      <td>2015-08-26</td>\n",
        "      <td>\u9645\u534e\u96c6\u56e2</td>\n",
        "      <td>16.210</td>\n",
        "      <td>14.82</td>\n",
        "      <td>-9.430</td>\n",
        "      <td>0.31</td>\n",
        "      <td>-63.630229</td>\n",
        "      <td>-2.091768</td>\n",
        "      <td>13.659651</td>\n",
        "    </tr>\n",
        "  </tbody>\n",
        "</table>\n",
        "</div>"
       ],
       "metadata": {},
       "output_type": "pyout",
       "prompt_number": 2,
       "text": [
        "            ticker   tradeDate secShortName  preClosePrice  closePrice  \\\n",
        "tradeDate                                                                \n",
        "2015-07-08  601718  2015-07-08         \u9645\u534e\u96c6\u56e2         11.175       10.06   \n",
        "2015-08-24  601718  2015-08-24         \u9645\u534e\u96c6\u56e2         20.010       18.01   \n",
        "2015-08-25  601718  2015-08-25         \u9645\u534e\u96c6\u56e2         18.010       16.21   \n",
        "2015-08-26  601718  2015-08-26         \u9645\u534e\u96c6\u56e2         16.210       14.82   \n",
        "\n",
        "            roll_p  roll_m      pct_p      pct_m      std_p  \n",
        "tradeDate                                                    \n",
        "2015-07-08  -4.999   -1.13 -49.691849  11.232604  13.659651  \n",
        "2015-08-24  -7.950    0.10 -44.142143  -0.555247  13.659651  \n",
        "2015-08-25  -7.150    0.09 -44.108575  -0.555213  13.659651  \n",
        "2015-08-26  -9.430    0.31 -63.630229  -2.091768  13.659651  "
       ]
      }
     ]
    },
    {
     "cell_type": "code",
     "collapsed": false,
     "id": "B1770C0131C04BE395A32BD040A225F6",
     "input": [
      "def unusual_simple(sec , trade_date = dt.date.today() , p=5 ,maxvol = 30.0) :\n",
      "    trade_date = comm.getPrevBusinessDay(trade_date,1)\n",
      "    s_date = comm.getPrevBusinessDay(trade_date,p)\n",
      "    hq = DataAPI.MktEqudAdjGet(secID=sec,beginDate=s_date.strftime(\"%Y%m%d\"),endDate=trade_date,field=u\"ticker,tradeDate,secShortName,preClosePrice,closePrice\")\n",
      "    pct_p = 0.0\n",
      "    if len(hq) > p  :\n",
      "        pct_p = 100 * ( hq.closePrice.values[-1] / hq.closePrice.values[0] -1) \n",
      "    flag = False\n",
      "    if pct_p < -maxvol -20 or pct_p > maxvol:\n",
      "        flag = True\n",
      "    return flag\n",
      "\n",
      "#print  \"simple: \" , unusual_simple(\"600030.XSHG\")\n",
      "\n",
      "def unusual_std(sec , trade_date = dt.date.today() , p_window=45 ) :\n",
      "    trade_date = comm.getPrevBusinessDay(trade_date,1)\n",
      "    s_date = comm.getPrevBusinessDay(trade_date,p_window)\n",
      "    hq = DataAPI.MktEqudAdjGet(secID=sec,beginDate=s_date.strftime(\"%Y%m%d\"),endDate=trade_date,field=u\"ticker,tradeDate,secShortName,preClosePrice,closePrice\")\n",
      "    flag = False\n",
      "    h,l,c,s = comm.cal_updown_Status(hq.closePrice.values,k=0.8)\n",
      "    #print h,l,c,s\n",
      "    if s ==  1 : \n",
      "        flag = True\n",
      "    return flag\n",
      "print \"std: \"  , unusual_std('600030.XSHG')    "
     ],
     "language": "python",
     "metadata": {},
     "outputs": [
      {
       "output_type": "stream",
       "stream": "stdout",
       "text": [
        "std: "
       ]
      },
      {
       "output_type": "stream",
       "stream": "stdout",
       "text": [
        " False\n"
       ]
      }
     ]
    },
    {
     "cell_type": "strategy",
     "collapsed": false,
     "has_detail": true,
     "id": "FF34D3D11AA54A11835DE8FE19BAB904",
     "input": "start = '2015-01-01'                       # \u56de\u6d4b\u8d77\u59cb\u65f6\u95f4\nend = '2016-04-24'                         # \u56de\u6d4b\u7ed3\u675f\u65f6\u95f4\nbenchmark = 'HS300'                        # \u7b56\u7565\u53c2\u8003\u6807\u51c6\nuniverse = set_universe('HS300')  # \u8bc1\u5238\u6c60\uff0c\u652f\u6301\u80a1\u7968\u548c\u57fa\u91d1\ncapital_base = 1000000                      # \u8d77\u59cb\u8d44\u91d1\nfreq = 'd'                              # \u7b56\u7565\u7c7b\u578b\uff0c'd'\u8868\u793a\u65e5\u95f4\u7b56\u7565\u4f7f\u7528\u65e5\u7ebf\u56de\u6d4b\uff0c'm'\u8868\u793a\u65e5\u5185\u7b56\u7565\u4f7f\u7528\u5206\u949f\u7ebf\u56de\u6d4b\nrefresh_rate = 5                           # \u8c03\u4ed3\u9891\u7387\uff0c\u8868\u793a\u6267\u884chandle_data\u7684\u65f6\u95f4\u95f4\u9694\uff0c\u82e5freq = 'd'\u65f6\u95f4\u95f4\u9694\u7684\u5355\u4f4d\u4e3a\u4ea4\u6613\u65e5\uff0c\u82e5freq = 'm'\u65f6\u95f4\u95f4\u9694\u4e3a\u5206\u949f\n\ndef initialize(account):                   # \u521d\u59cb\u5316\u865a\u62df\u8d26\u6237\u72b6\u6001\n    pass\n\ndef handle_data(account):                  # \u6bcf\u4e2a\u4ea4\u6613\u65e5\u7684\u4e70\u5165\u5356\u51fa\u6307\u4ee4\n    buyTickers = []\n    seclist = []\n    cur_date = account.current_date.strftime('%Y%m%d')\n    pre_date = account.previous_date\n    sdate = comm.getPrevBusinessDay(cur_date,250)\n    SecIDList = account.universe\n    \n    # mkt = DataAPI.MktIdxdGet(ticker='000001',beginDate=sdate.strftime('%Y%m%d'),endDate=pre_date.strftime('%Y%m%d'),field=['tradeDate','closeIndex','CHGPct'],pandas=\"1\")\n    # mkt['roll_p'] = mkt.closeIndex.diff(5)\n    # mkt['pct_p'] = 100* mkt.roll_p / mkt.closeIndex  \n    # std = 3* np.std(mkt.pct_p)\n    # print abs(std)\n    # for s in SecIDList: seclist.append(s[0:6])\n    # for t in seclist:\n    #     un, flag = unusual_vol(ticker=t,trade_date=pre_date)\n    #     if flag == True :\n    #         buyTickers.append(t)\n    # buyIDs = [s for s in SecIDList if s[0:6] in buyTickers]\n    for secid in SecIDList:\n        flag =  unusual_simple(secid,trade_date=pre_date,maxvol = 20)\n        #flag =  unusual_std(secid,trade_date=pre_date)\n        if flag == True :\n             buyTickers.append(secid)\n    buyIDs = buyTickers\n    print len(buyIDs)\n    \n    #\u4ed3\u4f4d\u8c03\u6574----------------------------------------\n    pos = account.avail_secpos.keys() # \u53ef\u5356\u8bc1\u5238\u5934\u5bf8\n    for sell_stk in pos:\n        #print(cur_date+u\"|Sell|\"+sell_stk)\n        order_to(sell_stk, 0)\n        \n    if len(buyIDs) > 0 :\n        value =account.referencePortfolioValue / len(buyIDs) \n        for buy_stk in buyIDs:\n            amount = 100 * int(value / account.referencePrice[buy_stk]/100)\n            if amount > 100:\n                #print cur_date+'|buy|'+buy_stk+':' ,amount  \n                order(buy_stk, amount)",
     "language": "python",
     "metadata": {},
     "outputs": [
      {
       "output_type": "stream",
       "stream": "stdout",
       "text": "4"
      },
      {
       "output_type": "stream",
       "stream": "stdout",
       "text": "\n7"
      },
      {
       "output_type": "stream",
       "stream": "stdout",
       "text": "\n3"
      },
      {
       "output_type": "stream",
       "stream": "stdout",
       "text": "\n8"
      },
      {
       "output_type": "stream",
       "stream": "stdout",
       "text": "\n"
      },
      {
       "output_type": "stream",
       "stream": "stdout",
       "text": "4\n3"
      },
      {
       "output_type": "stream",
       "stream": "stdout",
       "text": "\n2"
      },
      {
       "output_type": "stream",
       "stream": "stdout",
       "text": "\n4"
      },
      {
       "output_type": "stream",
       "stream": "stdout",
       "text": "5\n3"
      },
      {
       "output_type": "stream",
       "stream": "stdout",
       "text": "\n11"
      },
      {
       "output_type": "stream",
       "stream": "stdout",
       "text": "7\n16"
      },
      {
       "output_type": "stream",
       "stream": "stdout",
       "text": "\n19"
      },
      {
       "output_type": "stream",
       "stream": "stdout",
       "text": "\n22"
      },
      {
       "output_type": "stream",
       "stream": "stdout",
       "text": "10\n9"
      },
      {
       "output_type": "stream",
       "stream": "stdout",
       "text": "\n10"
      },
      {
       "output_type": "stream",
       "stream": "stdout",
       "text": "\n33"
      },
      {
       "output_type": "stream",
       "stream": "stdout",
       "text": "17\n13"
      },
      {
       "output_type": "stream",
       "stream": "stdout",
       "text": "\n1"
      },
      {
       "output_type": "stream",
       "stream": "stdout",
       "text": "3\n9"
      },
      {
       "output_type": "stream",
       "stream": "stdout",
       "text": "\n73"
      },
      {
       "output_type": "stream",
       "stream": "stdout",
       "text": "\n13"
      },
      {
       "output_type": "stream",
       "stream": "stdout",
       "text": "2\n3"
      },
      {
       "output_type": "stream",
       "stream": "stdout",
       "text": "0\n31"
      },
      {
       "output_type": "stream",
       "stream": "stdout",
       "text": "\n0"
      },
      {
       "output_type": "stream",
       "stream": "stdout",
       "text": "3\n2"
      },
      {
       "output_type": "stream",
       "stream": "stdout",
       "text": "1\n9"
      },
      {
       "output_type": "stream",
       "stream": "stdout",
       "text": "\n5"
      },
      {
       "output_type": "stream",
       "stream": "stdout",
       "text": "0\n2"
      },
      {
       "output_type": "stream",
       "stream": "stdout",
       "text": "1\n0"
      }
     ]
    },
    {
     "cell_type": "code",
     "collapsed": false,
     "id": "165C1BF19A544F4F8CAAAC039A0D9A81",
     "input": [],
     "language": "python",
     "metadata": {},
     "outputs": []
    }
   ],
   "metadata": {}
  }
 ]
}