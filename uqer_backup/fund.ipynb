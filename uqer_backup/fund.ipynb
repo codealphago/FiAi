{
 "metadata": {
  "signature": "sha256:b1a113fbeab7cf3261ae968e85b7c555ae5489445bc5d501fdd83223a5796322"
 },
 "nbformat": 3,
 "nbformat_minor": 0,
 "original_thread": "576d0684228e5b74789dd19c",
 "worksheets": [
  {
   "cells": [
    {
     "cell_type": "markdown",
     "id": "D8861E01DFE240488ACAF03E68455BA1",
     "metadata": {},
     "source": [
      "# \u57fa\u91d1\u7fa4\u4f53\u884c\u4e3a\u5206\u6790"
     ]
    },
    {
     "cell_type": "code",
     "collapsed": false,
     "id": "06114F8BF60843D5825021E1C62544B8",
     "input": [
      "# \u7814\u7a76\u80a1\u7968\u89c4\u6a21\u548c\u6301\u6709\u80a1\u7968\u7684\u57fa\u91d1\u6570\u91cf\u5173\u7cfb\n",
      "import pandas as pd\n",
      "import numpy as np\n",
      "import datetime as dt\n",
      "import lib.comm as comm\n",
      "import seaborn\n",
      "from matplotlib import pylab\n",
      "import matplotlib.pyplot as plt\n",
      "from matplotlib.pyplot import *\n",
      "from lib import report\n",
      "import lib.valuation as val\n",
      "\n",
      "# \u5f97\u5230Fund Report dates \n",
      "def getFundReportDates(reportNums = 12):\n",
      "    asset = DataAPI.FundAssetsGet(reportDate=u\"\",secID=u\"\",ticker='000001',field=u\"ticker,secShortName,reportDate,publishDate,totalAsset,equityRatioInTa\")\n",
      "    # asset = asset.set_index(asset.reportDate)\n",
      "    # asset = asset.sort_index()\n",
      "    reportDates = asset.tail(reportNums).reportDate.tolist()\n",
      "    return reportDates\n",
      "# reports = getFundReportDates()\n",
      "# print reports\n",
      "\n",
      "def getFundList(type='\u4e3b\u52a8'):\n",
      "    ### get \u6240\u6709\u80a1\u7968\u578b.\u6df7\u5408\u578b\u57fa\u91d1\u5217\u8868\u548c\u57fa\u672c\u4fe1\u606f\n",
      "    fund_E = DataAPI.FundGet(category='E,H',field='secID,secShortName,ticker,etfLof,listStatusCd,managerName,establishDate,managementFullName,circulationShares,idxTicker,idxShortName,listDate,isClass,indexFund')\n",
      "    #fund_E[fund_E['secShortName'].str.contains('\u91cf\u5316')]\uff0c\u65e9\u671f\u592a\u591a\u7684\u8ddf\u8e2a\u6307\u6570\u7684\u57fa\u91d1\u4e86\u3002\u8fd9\u4e00\u53e5\u53ea\u662f\u4e8b\u540e\u4e3a\u4e86\u6311\u9009\u4e2a\u4e0d\u662f\u8ddf\u8e2a\u6307\u6570\u7684\u3002\n",
      "    #fund_E= fund_E[fund_E['secID'].str.match('[0-9]')]\n",
      "    #fund_E['listDate'] = fund_E['listDate'].apply(pd.to_datetime)\n",
      "    if type == '\u4e3b\u52a8' :    # \u8fc7\u6ee4\u6389\u5206\u7ea7AB\u7684\u57fa\u91d1\uff0c\u53bb\u6389\u88ab\u52a8\u6295\u8d44\u57fa\u91d1\n",
      "        fund_E = fund_E[fund_E.indexFund.isnull() ]\n",
      "        fund_E = fund_E[fund_E.isClass.isin([0,1]) ]\n",
      "    elif type == '\u6307\u6570' :\n",
      "        fund_E = fund_E[fund_E.indexFund.isin(['I','EI']) ]\n",
      "    elif type == '\u5206\u7ea7' :\n",
      "        fund_E = fund_E[fund_E.isClass.isin([1,2,3]) ] \n",
      "    elif type == 'ETFLOF' :\n",
      "        fund_E = fund_E[fund_E.etfLof.notnull()] \n",
      "    elif type == '\u91cf\u5316' :    \n",
      "        fund_E = fund_E[fund_E['secShortName'].str.contains('\u91cf\u5316')] \n",
      "    elif type == 'ALL' :  #all\u4e0d\u5305\u542b\u5206\u7ea7AB\n",
      "        fund_E = fund_E[fund_E.isClass.isin([0,1]) ]\n",
      "    else :\n",
      "        fund_E = fund_E[fund_E['secShortName'].str.contains(type)]   \n",
      "    fundList = fund_E['ticker'].values\n",
      "    print \" \u57fa\u91d1\u5217\u8868 \" ,len(fundList)\n",
      "    return fundList\n",
      "# print len(getFundList(type='\u5927\u6570\u636e'))\n",
      "\n",
      "# \u5f97\u5230\u67d0\u4e2a\u5b63\u5ea6\u6240\u6709\u57fa\u91d1\u7684\u80a1\u7968\u6301\u4ed3\uff08\u67d0\u4e00\u62a5\u544a\u671f,\u67d0\u53ea\u57fa\u91d1\uff0c\u67d0\u53ea\u80a1\u7968\u6301\u4ed3\u60c5\u51b5\uff09\n",
      "def getHoldingByQuanter(reportDate = '2016-03-31',secID ='',fundID=''):\n",
      "    fundList = getFundList()\n",
      "    if len(fundID) > 0 :\n",
      "        fundList = fundID\n",
      "    else :\n",
      "        fundList = getFundList()  \n",
      "    # # get \u57fa\u91d1\u5b63\u5ea6\u8d44\u4ea7\u4fe1\u606f\n",
      "    #asset = DataAPI.FundAssetsGet(reportDate=reportDate,secID=u\"\",ticker=fundList,field=u\"ticker,secShortName,reportDate,publishDate,totalAsset,equityRatioInTa\")\n",
      "    # print len(asset)\n",
      "    # # # get \u57fa\u91d1\u5b63\u5ea6\u6301\u4ed3\u4fe1\u606f\n",
      "    holding  = pd.DataFrame()\n",
      "    for i in range(len(reportDate)):\n",
      "        temp =  DataAPI.FundHoldingsGet(reportDate=reportDate[i],secID=u\"\",ticker=fundList,secType=\"E\",field=u\"ticker,secShortName,reportDate,publishDate,holdingSecID,holdingTicker,holdingsecShortName,marketValue,ratioInNa\")\n",
      "        holding = holding.append(temp)\n",
      "        print \"loading...\", len(holding)\n",
      "    if len(secID) > 0 :\n",
      "        holding = holding[holding.holdingSecID.isin(secID)]\n",
      "    print \"\u5168\u90e8\u6301\u4ed3\", len(holding)\n",
      "    quarter_holding = holding[holding.publishDate.apply(pd.to_datetime)  < holding.reportDate.apply(pd.to_datetime) + dt.timedelta(days=30) ]  \n",
      "    print \"\u5b63\u5ea6\u6301\u4ed3 \", len(quarter_holding)\n",
      "    return quarter_holding,holding\n",
      "#getHoldingByQuanter()\n",
      "\n",
      "#\u66f4\u65b03\u5e74\u57fa\u91d1\u6301\u4ed3\u6570\u636e\u4fe1\u606f\n",
      "def updFundHolding():\n",
      "    reports = getFundReportDates(12)\n",
      "    print reports\n",
      "    holdings,allHoldings = getHoldingByQuanter(reportDate=reports)\n",
      "    holdings.to_csv('quanterHoldings.csv',encoding ='gbk')\n",
      "    allHoldings.to_csv('allHoldings.csv',encoding ='gbk')\n",
      "updFundHolding()\n",
      "\n",
      "#\u5f97\u5230Holding stock price on reportDate\n",
      "def getHoldingPriceOnReportDate(hold,secid):\n",
      "    stockHolding = hold[hold.holdingSecID==secid]\n",
      "    stockHolding = stockHolding.reset_index()\n",
      "    start_date =  comm.getPrevBusinessDay(stockHolding.reportDate.min())\n",
      "    end_date =  comm.getPrevBusinessDay(stockHolding.publishDate.max())\n",
      "    print start_date, end_date\n",
      "    hist_price = DataAPI.MktEqudAdjGet(secID=secid,beginDate=start_date,endDate=end_date,field=u\"ticker,secID,secShortName,tradeDate,closePrice,negMarketValue,marketValue\",pandas=\"1\")\n",
      "    reports = stockHolding.reportDate.drop_duplicates()\n",
      "    publish =  stockHolding.publishDate.drop_duplicates()\n",
      "    days = reports.append(publish)\n",
      "    reportPrice = days.to_frame()\n",
      "    reportPrice.columns = ['tradeDate']\n",
      "    reportPrice['price'] = np.zeros(len(reportPrice))\n",
      "    reportPrice['TatalValue'] = np.zeros(len(reportPrice))\n",
      "    reportPrice = reportPrice.reset_index(drop =True)\n",
      "    for i in range(len(reportPrice)):\n",
      "        report_date =  comm.getPrevBusinessDay(dt.datetime.strptime(reportPrice.tradeDate[i],'%Y-%m-%d')).strftime('%Y-%m-%d')\n",
      "        price = hist_price[hist_price.tradeDate == report_date].closePrice.values[0]\n",
      "        tatalValue = hist_price[hist_price.tradeDate == report_date].marketValue.values[0]\n",
      "        reportPrice.price.iloc[i] = price\n",
      "        reportPrice.TatalValue.iloc[i] = tatalValue\n",
      "    # print stockHolding.tail(10), len(stockHolding)\n",
      "    # print reportPrice.tail(10),len(reportPrice)\n",
      "    stockHold = pd.merge(left=stockHolding,right=reportPrice,how='inner',left_on='reportDate',right_on='tradeDate')\n",
      "    stockHold = pd.merge(left=stockHold,right=reportPrice,how='inner',left_on='publishDate',right_on='tradeDate')\n",
      "    stockHold = stockHold.drop('tradeDate_x',1)\n",
      "    stockHold = stockHold.drop('tradeDate_y',1)\n",
      "    stockHold = stockHold.rename(columns={'price_x':'reportPrice','price_y':'publishPrice','TatalValue_x':'reportTatalValue','TatalValue_y':'publishTatalValue'})\n",
      "    stockHold['fundInCompanyPct'] = 100 * stockHold.marketValue / stockHold.reportTatalValue \n",
      "    stockHold = stockHold.drop_duplicates()   \n",
      "    return stockHold\n",
      "# hold = pd.DataFrame()\n",
      "# hold = hold.from_csv('quanterHoldings.csv',encoding ='gbk')\n",
      "# stockHold = getHoldingPriceOnReportDate(hold,'000002.XSHE')\n",
      "\n",
      "# \u7edf\u8ba1\u6bcf\u6708\u65b0\u589e\u57fa\u91d1\u6570\n",
      "def fundEstablishByMonth():\n",
      "    funds = DataAPI.FundGet(category='E,H',field='secID,secShortName,ticker,etfLof,listStatusCd,managerName,establishDate,managementFullName,circulationShares,idxTicker,idxShortName,listDate,isClass,indexFund')\n",
      "    funds.establishDate = funds.establishDate.map(lambda x : str(x)[0:7])\n",
      "    funds = funds[funds.establishDate != 'nan' ]\n",
      "    fundgrouped = funds.groupby('establishDate')\n",
      "    fundnums = fundgrouped.secID.count()\n",
      "    return fundnums,fundgrouped\n",
      "# numbers,grouped = fundEstablishByMonth()\n",
      "# print numbers.tail(5)\n",
      "# grouped.get_group('2016-06')\n",
      "\n",
      "## \u4e3b\u52a8\u578b\u57fa\u91d1\u524d\u5341\u5927\u6301\u4ed3\u603b\u5e02\u503c\u53d8\u5316\n",
      "def fundMarketValueByQuanter():\n",
      "    hold = pd.DataFrame()\n",
      "    hold = hold.from_csv('quanterHoldings.csv',encoding ='gbk')\n",
      "    print hold.tail(10)\n",
      "    holdGroup = hold.groupby(['reportDate'])\n",
      "    result = holdGroup.agg({'ticker' : 'count','marketValue' : 'sum'})\n",
      "    return result\n",
      "#print fundMarketValueByQuanter().to_html()\n",
      "\n",
      "# ##\u57fa\u91d1\u6301\u6709\u80a1\u7968\u5206\u6790\n",
      "def stockFund(secid='000002.XSHE'):\n",
      "    hold = pd.DataFrame()\n",
      "    hold = hold.from_csv('quanterHoldings.csv',encoding ='gbk')\n",
      "    #print hold.tail(10)\n",
      "    stockHold = getHoldingPriceOnReportDate(hold,secid)\n",
      "    reportGroup = stockHold.groupby('reportDate')\n",
      "    result = reportGroup.agg({'publishDate' : 'count','marketValue' : 'sum', 'reportPrice' : 'mean','publishPrice':'mean','reportTatalValue' : 'mean','publishTatalValue':'mean'})\n",
      "\n",
      "    fig = plt.figure() # Create matplotlib figure\n",
      "    ax = fig.add_subplot(111) # Create matplotlib axes\n",
      "    ax2 = ax.twinx() # Create another axes that shares the same x-axis as ax.\n",
      "    result.plot(y=['marketValue'], ax= ax, figsize=(18, 5),color='k')\n",
      "    result.plot(y=['publishPrice','reportPrice'],kind='line',ax= ax2, figsize=(18, 5), color='rg')\n",
      "    report.fig_style(ax, [u'marketValue'] , 'upper left')\n",
      "    report.fig_style(ax2, [ u'publishPrice',u'reportPrice'] , 'upper right')\n",
      "    return result\n",
      "#stockFund('300124.XSHE')  \n",
      "\n",
      "# \u57fa\u91d1\u5b63\u5ea6\u524d\u5341\u5927\u6301\u4ed3\u4e2d,\u5404\u4e2a\u884c\u4e1a\u5e02\u503c\u6392\u540d\n",
      "def fundIndustry(sortDate = '2016-06-30'):\n",
      "    hold = pd.DataFrame()\n",
      "    hold = hold.from_csv('quanterHoldings.csv',encoding ='gbk')\n",
      "    #print hold.tail(10)\n",
      "    groupedFund = hold.groupby(['ticker','reportDate','SecShortName'])\n",
      "    groupedFund.marketValue.sum()\n",
      "    groupedTicker = hold.groupby(['holdingSecID','reportDate'])\n",
      "    tickerMarketValue =  groupedTicker.marketValue.sum()\n",
      "    stockReport = tickerMarketValue.unstack(1).reset_index()\n",
      "    swindustry = DataAPI.EquIndustryGet(industryVersionCD=u\"010303\",intoDate=dt.date.today(),field=u\"ticker,secShortName,secID,industryName2\",pandas=\"1\")\n",
      "    industry = pd.merge(stockReport,swindustry, left_on='holdingSecID',right_on='secID' )\n",
      "    groupedInd = industry.groupby(['industryName2'])\n",
      "    sumind = groupedInd.sum()\n",
      "    rankInd = sumind.rank(ascending=False)\n",
      "    rank20 = rankInd.sort(sortDate).head(20)\n",
      "    return rank20\n",
      "#fundIndustry()\n"
     ],
     "language": "python",
     "metadata": {},
     "outputs": [
      {
       "output_type": "stream",
       "stream": "stdout",
       "text": [
        "['2013-12-31', '2014-03-31', '2014-06-30', '2014-09-30', '2014-12-31', '2015-03-31', '2015-06-30', '2015-09-30', '2015-12-31', '2016-03-31', '2016-06-30', '2016-09-30']"
       ]
      },
      {
       "output_type": "stream",
       "stream": "stdout",
       "text": [
        "\n",
        " \u57fa\u91d1\u5217\u8868 "
       ]
      },
      {
       "output_type": "stream",
       "stream": "stdout",
       "text": [
        " 2416\n",
        " \u57fa\u91d1\u5217\u8868 "
       ]
      },
      {
       "output_type": "stream",
       "stream": "stdout",
       "text": [
        " 2416\n",
        "loading..."
       ]
      },
      {
       "output_type": "stream",
       "stream": "stdout",
       "text": [
        " 35717\n",
        "loading..."
       ]
      },
      {
       "output_type": "stream",
       "stream": "stdout",
       "text": [
        " 42389\n",
        "loading..."
       ]
      },
      {
       "output_type": "stream",
       "stream": "stdout",
       "text": [
        " 80549\n",
        "loading..."
       ]
      },
      {
       "output_type": "stream",
       "stream": "stdout",
       "text": [
        " 88218\n",
        "loading..."
       ]
      },
      {
       "output_type": "stream",
       "stream": "stdout",
       "text": [
        " 133996\n",
        "loading..."
       ]
      },
      {
       "output_type": "stream",
       "stream": "stdout",
       "text": [
        " 142661\n",
        "loading..."
       ]
      },
      {
       "output_type": "stream",
       "stream": "stdout",
       "text": [
        " 196961\n",
        "loading..."
       ]
      },
      {
       "output_type": "stream",
       "stream": "stdout",
       "text": [
        " 207970\n",
        "loading..."
       ]
      },
      {
       "output_type": "stream",
       "stream": "stdout",
       "text": [
        " 276948\n",
        "loading..."
       ]
      },
      {
       "output_type": "stream",
       "stream": "stdout",
       "text": [
        " 292226\n",
        "loading..."
       ]
      },
      {
       "output_type": "stream",
       "stream": "stdout",
       "text": [
        " 382322\n",
        "loading..."
       ]
      },
      {
       "output_type": "stream",
       "stream": "stdout",
       "text": [
        " 394117\n",
        "\u5168\u90e8\u6301\u4ed3 394117\n",
        "\u5b63\u5ea6\u6301\u4ed3 "
       ]
      },
      {
       "output_type": "stream",
       "stream": "stdout",
       "text": [
        " 123537\n"
       ]
      },
      {
       "output_type": "stream",
       "stream": "stderr",
       "text": [
        "/home/ipython/anaconda/lib/python2.7/site-packages/matplotlib/__init__.py:872: UserWarning: axes.color_cycle is deprecated and replaced with axes.prop_cycle; please use the latter.\n",
        "  warnings.warn(self.msg_depr % (key, alt_key))\n"
       ]
      }
     ]
    },
    {
     "cell_type": "code",
     "collapsed": false,
     "id": "76FEA7EC482647799CE4197A79954B3F",
     "input": [
      "# reports = getFundReportDates()\n",
      "# print reports\n",
      "# fundAsset = pd.DataFrame()\n",
      "# for day in reports : \n",
      "#     temp = DataAPI.FundAssetsGet(reportDate=day,secID=u\"\",ticker='',updateTime=\"\",field=u\"\",pandas=\"1\")\n",
      "#     fundAsset = fundAsset.append(temp)\n",
      "# fundlist = getFundList()\n",
      "# equityfundAsset = fundAsset[fundAsset.ticker.isin(fundlist)]\n",
      "# print len(fundAsset)\n",
      "# print fundAsset.tail(10).to_html()\n",
      "# grouped = fundAsset.groupby('reportDate')\n",
      "# grouped\n",
      "    "
     ],
     "language": "python",
     "metadata": {},
     "outputs": []
    },
    {
     "cell_type": "markdown",
     "id": "BB7CADE380DA4788854F4E653B575526",
     "metadata": {},
     "source": [
      "\u4e0a\u9762\u8fd9\u4e2a\u5b9e\u9645\u4e0a\u5df2\u7ecf\u53ef\u4ee5\u7b5b\u9009\u51fa\u662f\u5426\u53d1\u751f\u7ecf\u7406\u4eba\u53d8\u66f4\u4e86\u3002\u56e0\u4e3a\u53ea\u8981\u786e\u5b9a\u6bcf\u53ea\u57fa\u91d1\u6700\u65e9\u7684\u4e00\u4e2a\u7ecf\u7406\u4eba\u5728\u5c31\u884c\u4e86\u3002\u6709\u4e9b\u76f4\u63a5\u662f\u8ddf\u6307\u6570\u6302\u94a9\u7684\uff0c\u4e0d\u8981\u7ba1\u5b83\u6709\u6ca1\u6709\u6362\u4eba\u3002\u4f46\u662f\u4e00\u65e6\u6d89\u53ca\u5230\u57fa\u91d1\u7ecf\u7406\u8fd9\u4e2a\u95ee\u9898\u7684\u65f6\u5019\uff0c\u9a6c\u4e0a\u4e0e\u4ed6\u7ba1\u7406\u7684\u57fa\u91d1\u6570\u7b49\u5404\u79cd\u53ef\u80fd\u56e0\u7d20\u8981\u7ed3\u5408\uff0c\u6211\u5c31\u4e0d\u8bf4\u4e0b\u53bb\u4e86\u3002\u5e76\u4e14\u518d\u8bf4\u4e0b\u53bb\u53ef\u80fd\u4f1a\u5931\u4e4b\u5e7f\u544a\u7684\u5acc\u7591\u3002"
     ]
    },
    {
     "cell_type": "strategy",
     "collapsed": false,
     "has_detail": true,
     "id": "90729E8CF6564E1CA6D123C4F52308DE",
     "input": "# # \u662f\u65f6\u5019\u7528\u4e00\u6ce2\u5b83\u81ea\u5df1\u7684\u6d4b\u8bd5\u5e73\u53f0\u4e86\uff0c\u6bd4\u81ea\u5df1\u5199\u6709\u4e9b\u4e1c\u897f\u65b9\u4fbf\u3002\n# start = '2013-01-01'                       # \u56de\u6d4b\u8d77\u59cb\u65f6\u95f4\n# end = '2016-06-01'                         # \u56de\u6d4b\u7ed3\u675f\u65f6\u95f4\n# benchmark = 'HS300'                        # \u7b56\u7565\u53c2\u8003\u6807\u51c6\n# universe = ['163110.XSHE']  # \u8bc1\u5238\u6c60\uff0c\u652f\u6301\u80a1\u7968\u548c\u57fa\u91d1\n# capital_base = 100000                      # \u8d77\u59cb\u8d44\u91d1\n# freq = 'd'                                 # \u7b56\u7565\u7c7b\u578b\uff0c'd'\u8868\u793a\u65e5\u95f4\u7b56\u7565\u4f7f\u7528\u65e5\u7ebf\u56de\u6d4b\uff0c'm'\u8868\u793a\u65e5\u5185\u7b56\u7565\u4f7f\u7528\u5206\u949f\u7ebf\u56de\u6d4b\n# refresh_rate = 1                           # \u8c03\u4ed3\u9891\u7387\uff0c\u8868\u793a\u6267\u884chandle_data\u7684\u65f6\u95f4\u95f4\u9694\uff0c\u82e5freq = 'd'\u65f6\u95f4\u95f4\u9694\u7684\u5355\u4f4d\u4e3a\u4ea4\u6613\u65e5\uff0c\u82e5freq = 'm'\u65f6\u95f4\u95f4\u9694\u4e3a\u5206\u949f\n\n# def initialize(account):                   # \u521d\u59cb\u5316\u865a\u62df\u8d26\u6237\u72b6\u6001\n#     pass\n\n# def handle_data(account):                  # \u6bcf\u4e2a\u4ea4\u6613\u65e5\u7684\u4e70\u5165\u5356\u51fa\u6307\u4ee4\n#     for stock in account.universe:\n#         order_pct(stock,1)",
     "language": "python",
     "metadata": {},
     "outputs": [
      {
       "output_type": "stream",
       "stream": "stderr",
       "text": "/home/ipython/anaconda/lib/python2.7/site-packages/numpy/core/_methods.py:82: RuntimeWarning: Degrees of freedom <= 0 for slice\n  warnings.warn(\"Degrees of freedom <= 0 for slice\", RuntimeWarning)\n"
      },
      {
       "metadata": {},
       "output_type": "pyout",
       "prompt_number": 4,
       "text": "'{\"information\": 0.26706, \"benchmark_cumulative_return\": {\"1387238400000\": -0.0660258824, \"1385337600000\": -0.0532432272, \"1368748800000\": 0.0273846093, \"1385510400000\": -0.0429933213, \"1388361600000\": -0.0885867734, \"1359936000000\": 0.0892090608, \"1385683200000\": -0.0332983214, \"1361491200000\": 0.0291920173, \"1375660800000\": -0.0969618899, \"1362096000000\": 0.0578212014, \"1377475200000\": -0.0742543451, \"1377043200000\": -0.0849679938, \"1361145600000\": 0.085027448, \"1384214400000\": -0.0725143186, \"1370304000000\": 0.0169285955, \"1371081600000\": -0.0487603797, \"1370476800000\": 0.0019382073, \"1378080000000\": -0.0803067837, \"1380153600000\": -0.0549000178, \"1373500800000\": -0.0777938524, \"1366848000000\": -0.021831586, \"1379980800000\": -0.0313402961, \"1357516800000\": 0.0051645891, \"1378166400000\": -0.0667670782, \"1387152000000\": -0.0614479082, \"1369267200000\": 0.0237380844, \"1374192000000\": -0.131782239, \"1364256000000\": 0.0206504291, \"1376438400000\": -0.068915357, \"1366070400000\": -0.0251134585, \"1366934400000\": -0.0299847401, \"1384300800000\": -0.0930815117, \"1386806400000\": -0.0447650568, \"1371427200000\": -0.0472145702, \"1377648000000\": -0.0772508373, \"1383868800000\": -0.0852216651, \"1376870400000\": -0.0759111358, \"1363132800000\": 0.0017955172, \"1382659200000\": -0.0611982005, \"1366675200000\": -0.0291246358, \"1385078400000\": -0.0495412117, \"1359417600000\": 0.060607622, \"1365984000000\": -0.0341425712, \"1362355200000\": 0.0090211855, \"1380499200000\": -0.045153491, \"1375228800000\": -0.1307715175, \"1374710400000\": -0.1130700172, \"1380240000000\": -0.0507263323, \"1363910400000\": 0.0377930597, \"1358812800000\": 0.0293069621, \"1378339200000\": -0.0718286133, \"1384819200000\": -0.0439128798, \"1361232000000\": 0.0644681821, \"1386201600000\": -0.0217047504, \"1381276800000\": -0.0274955905, \"1361404800000\": 0.0347172952, \"1365379200000\": -0.0200796686, \"1378944000000\": -0.0061436017, \"1365465600000\": -0.0132860342, \"1378771200000\": -0.019049129, \"1369008000000\": 0.0343447155, \"1375920000000\": -0.0975722864, \"1357603200000\": 0.0009433401, \"1375315200000\": -0.1100259617, \"1367539200000\": -0.0119066965, \"1374624000000\": -0.108523752, \"1386633600000\": -0.0275986444, \"1363824000000\": 0.0364771399, \"1368576000000\": -0.0063536733, \"1358380800000\": 0.0118115698, \"1366588800000\": 0.00305991, \"1381449600000\": -0.0215818784, \"1382054400000\": -0.0384074199, \"1361750400000\": 0.0325055986, \"1377734400000\": -0.0811113974, \"1372118400000\": -0.1417110922, \"1386720000000\": -0.0436750629, \"1385942400000\": -0.0412889673, \"1358899200000\": 0.0334925385, \"1382486400000\": -0.0414039121, \"1372204800000\": -0.1405735349, \"1363046400000\": 0.0129451634, \"1364860800000\": -0.0144909729, \"1374451200000\": -0.127140847, \"1381881600000\": -0.0402623912, \"1358294400000\": 0.0214590063, \"1378425600000\": -0.0654670128, \"1368057600000\": 0.0019183892, \"1364515200000\": -0.0110465923, \"1368662400000\": 0.0117917517, \"1381968000000\": -0.0434491369, \"1381708800000\": -0.0199805783, \"1375401600000\": -0.109272875, \"1365724800000\": -0.0241146277, \"1364342400000\": 0.0240115738, \"1387411200000\": -0.0755227016, \"1386288000000\": -0.0280108603, \"1368144000000\": 0.0070869419, \"1388448000000\": -0.0764700054, \"1386028800000\": -0.0317762936, \"1369353600000\": 0.0294377614, \"1367798400000\": 0.001200975, \"1358726400000\": 0.0348560217, \"1359590400000\": 0.0649755247, \"1369872000000\": 0.0441427694, \"1370390400000\": 0.0148952615, \"1379376000000\": -0.0379040409, \"1383004800000\": -0.0598109356, \"1373932800000\": -0.0812976872, \"1358208000000\": 0.0288947462, \"1364947200000\": -0.0156206029, \"1370563200000\": -0.0153748588, \"1371686400000\": -0.079862859, \"1376352000000\": -0.0649596702, \"1387497600000\": -0.0970371985, \"1384732800000\": -0.0372777899, \"1362528000000\": 0.0504369884, \"1379462400000\": -0.0358469252, \"1383264000000\": -0.0546939099, \"1358121600000\": 0.021708714, \"1373587200000\": -0.098131156, \"1363564800000\": -0.0081095543, \"1360195200000\": 0.0939059434, \"1377820800000\": -0.0828553875, \"1357862400000\": -0.0157434749, \"1381363200000\": -0.0371152817, \"1360108800000\": 0.100235835, \"1383696000000\": -0.0671396579, \"1357689600000\": 0.0012564656, \"1362441600000\": 0.039576686, \"1387843200000\": -0.0930299847, \"1361836800000\": 0.017693573, \"1367971200000\": 0.0078638102, \"1375142400000\": -0.132214273, \"1386892800000\": -0.0461047583, \"1372636800000\": -0.1227293446, \"1384128000000\": -0.0820745556, \"1380067200000\": -0.0372262629, \"1366329600000\": 0.0043084484, \"1370217600000\": 0.0315781129, \"1373846400000\": -0.0854793, \"1386115200000\": -0.0189540023, \"1369612800000\": 0.0303731743, \"1371513600000\": -0.0413048217, \"1366761600000\": -0.0108523752, \"1362614400000\": 0.0382568026, \"1385596800000\": -0.0330644682, \"1375056000000\": -0.1375294794, \"1362700800000\": 0.033282467, \"1359504000000\": 0.065700866, \"1386547200000\": -0.0285697299, \"1381795200000\": -0.0219742761, \"1358985600000\": 0.0237024119, \"1358467200000\": 0.0287282744, \"1357776000000\": 0.0030163103, \"1368403200000\": 0.0030955826, \"1379289600000\": -0.0176618641, \"1387756800000\": -0.0944727402, \"1376265600000\": -0.0674448562, \"1371772800000\": -0.0814760499, \"1384473600000\": -0.0682613607, \"1374537600000\": -0.1019084802, \"1363305600000\": 0.0067064349, \"1381190400000\": -0.0321607642, \"1364774400000\": -0.0117996789, \"1387324800000\": -0.0656889752, \"1385424000000\": -0.0537228245, \"1372896000000\": -0.1192968549, \"1376524800000\": -0.0798192592, \"1369958400000\": 0.0330842863, \"1372377600000\": -0.1277552072, \"1368489600000\": -0.0117402247, \"1379030400000\": -0.0134961057, \"1360022400000\": 0.098583008, \"1375833600000\": -0.0960502586, \"1363651200000\": 0.0008482134, \"1384992000000\": -0.0447769476, \"1377129600000\": -0.0868110743, \"1359676800000\": 0.0873461622, \"1367452800000\": -0.029061218, \"1383782400000\": -0.0722963198, \"1367884800000\": 0.0027666026, \"1372032000000\": -0.1394161597, \"1362960000000\": 0.0275154085, \"1374105600000\": -0.1100418161, \"1382572800000\": -0.0485304901, \"1366243200000\": -0.0230285975, \"1382400000000\": -0.0305436097, \"1383177600000\": -0.0591529757, \"1360281600000\": 0.0986028261, \"1372982400000\": -0.1173665748, \"1383091200000\": -0.0457718147, \"1357257600000\": 0.000574724, \"1369699200000\": 0.0481182742, \"1363737600000\": 0.0345706415, \"1378857600000\": -0.0158822014, \"1369180800000\": 0.0376860421, \"1388016000000\": -0.1021106245, \"1374796800000\": -0.1184922412, \"1369094400000\": 0.0364256129, \"1359072000000\": 0.0193107275, \"1366156800000\": -0.0255573832, \"1373414400000\": -0.1184684595, \"1376611200000\": -0.0867278384, \"1384387200000\": -0.0865851483, \"1364428800000\": -0.0093739472, \"1371168000000\": -0.0420856537, \"1382918400000\": -0.0622287402, \"1372723200000\": -0.1192928913, \"1364169600000\": 0.0357280168, \"1383609600000\": -0.0551695436, \"1378684800000\": -0.0326403615, \"1377561600000\": -0.0721655205, \"1373328000000\": -0.1428050496, \"1365638400000\": -0.017867972, \"1382313600000\": -0.0204641392, \"1377216000000\": -0.0935531818, \"1373241600000\": -0.1424285063, \"1383523200000\": -0.0564814998, \"1375747200000\": -0.0908896332, \"1365552000000\": -0.0149230068, \"1379894400000\": -0.0200836323, \"1372291200000\": -0.1435700272, \"1363219200000\": 0.0044868111, \"1376956800000\": -0.0834301116, \"1371600000000\": -0.0484313998, \"1362009600000\": 0.0596008641, \"1372809600000\": -0.1264908143, \"1361318400000\": 0.0712182168, \"1374019200000\": -0.0951742999, \"1384905600000\": -0.0388830536, \"1387929600000\": -0.0863433679, \"1369785600000\": 0.0474087873, \"1376006400000\": -0.0939138707, \"1378252800000\": -0.0682772152, \"1361923200000\": 0.0284270398, \"1388102400000\": -0.0869934006, \"1359331200000\": 0.0510949484}, \"benchmark_annualized_return\": -0.08017, \"turnover_rate\": 0.0, \"max_drawdown\": 0.0, \"beta\": 0.0, \"sharpe\": null, \"alpha\": -0.03609, \"volatility\": 0.0, \"annualized_return\": 0.0, \"cumulative_return\": {\"1387238400000\": 0.0, \"1385337600000\": 0.0, \"1368748800000\": 0.0, \"1385510400000\": 0.0, \"1388361600000\": 0.0, \"1359936000000\": 0.0, \"1385683200000\": 0.0, \"1361491200000\": 0.0, \"1375660800000\": 0.0, \"1362096000000\": 0.0, \"1377475200000\": 0.0, \"1377043200000\": 0.0, \"1361145600000\": 0.0, \"1384214400000\": 0.0, \"1370304000000\": 0.0, \"1371081600000\": 0.0, \"1370476800000\": 0.0, \"1378080000000\": 0.0, \"1380153600000\": 0.0, \"1373500800000\": 0.0, \"1366848000000\": 0.0, \"1379980800000\": 0.0, \"1357516800000\": 0.0, \"1378166400000\": 0.0, \"1387152000000\": 0.0, \"1369267200000\": 0.0, \"1374192000000\": 0.0, \"1364256000000\": 0.0, \"1376438400000\": 0.0, \"1366070400000\": 0.0, \"1366934400000\": 0.0, \"1384300800000\": 0.0, \"1386806400000\": 0.0, \"1371427200000\": 0.0, \"1377648000000\": 0.0, \"1383868800000\": 0.0, \"1376870400000\": 0.0, \"1363132800000\": 0.0, \"1382659200000\": 0.0, \"1366675200000\": 0.0, \"1385078400000\": 0.0, \"1359417600000\": 0.0, \"1365984000000\": 0.0, \"1362355200000\": 0.0, \"1380499200000\": 0.0, \"1375228800000\": 0.0, \"1374710400000\": 0.0, \"1380240000000\": 0.0, \"1363910400000\": 0.0, \"1358812800000\": 0.0, \"1378339200000\": 0.0, \"1384819200000\": 0.0, \"1361232000000\": 0.0, \"1386201600000\": 0.0, \"1381276800000\": 0.0, \"1361404800000\": 0.0, \"1365379200000\": 0.0, \"1378944000000\": 0.0, \"1365465600000\": 0.0, \"1378771200000\": 0.0, \"1369008000000\": 0.0, \"1375920000000\": 0.0, \"1357603200000\": 0.0, \"1375315200000\": 0.0, \"1367539200000\": 0.0, \"1374624000000\": 0.0, \"1386633600000\": 0.0, \"1363824000000\": 0.0, \"1368576000000\": 0.0, \"1358380800000\": 0.0, \"1366588800000\": 0.0, \"1381449600000\": 0.0, \"1382054400000\": 0.0, \"1361750400000\": 0.0, \"1377734400000\": 0.0, \"1372118400000\": 0.0, \"1386720000000\": 0.0, \"1385942400000\": 0.0, \"1358899200000\": 0.0, \"1382486400000\": 0.0, \"1372204800000\": 0.0, \"1363046400000\": 0.0, \"1364860800000\": 0.0, \"1374451200000\": 0.0, \"1381881600000\": 0.0, \"1358294400000\": 0.0, \"1378425600000\": 0.0, \"1368057600000\": 0.0, \"1364515200000\": 0.0, \"1368662400000\": 0.0, \"1381968000000\": 0.0, \"1381708800000\": 0.0, \"1375401600000\": 0.0, \"1365724800000\": 0.0, \"1364342400000\": 0.0, \"1387411200000\": 0.0, \"1386288000000\": 0.0, \"1368144000000\": 0.0, \"1388448000000\": 0.0, \"1386028800000\": 0.0, \"1369353600000\": 0.0, \"1367798400000\": 0.0, \"1358726400000\": 0.0, \"1359590400000\": 0.0, \"1369872000000\": 0.0, \"1370390400000\": 0.0, \"1379376000000\": 0.0, \"1383004800000\": 0.0, \"1373932800000\": 0.0, \"1358208000000\": 0.0, \"1364947200000\": 0.0, \"1370563200000\": 0.0, \"1371686400000\": 0.0, \"1376352000000\": 0.0, \"1387497600000\": 0.0, \"1384732800000\": 0.0, \"1362528000000\": 0.0, \"1379462400000\": 0.0, \"1383264000000\": 0.0, \"1358121600000\": 0.0, \"1373587200000\": 0.0, \"1363564800000\": 0.0, \"1360195200000\": 0.0, \"1377820800000\": 0.0, \"1357862400000\": 0.0, \"1381363200000\": 0.0, \"1360108800000\": 0.0, \"1383696000000\": 0.0, \"1357689600000\": 0.0, \"1362441600000\": 0.0, \"1387843200000\": 0.0, \"1361836800000\": 0.0, \"1367971200000\": 0.0, \"1375142400000\": 0.0, \"1386892800000\": 0.0, \"1372636800000\": 0.0, \"1384128000000\": 0.0, \"1380067200000\": 0.0, \"1366329600000\": 0.0, \"1370217600000\": 0.0, \"1373846400000\": 0.0, \"1386115200000\": 0.0, \"1369612800000\": 0.0, \"1371513600000\": 0.0, \"1366761600000\": 0.0, \"1362614400000\": 0.0, \"1385596800000\": 0.0, \"1375056000000\": 0.0, \"1362700800000\": 0.0, \"1359504000000\": 0.0, \"1386547200000\": 0.0, \"1381795200000\": 0.0, \"1358985600000\": 0.0, \"1358467200000\": 0.0, \"1357776000000\": 0.0, \"1368403200000\": 0.0, \"1379289600000\": 0.0, \"1387756800000\": 0.0, \"1376265600000\": 0.0, \"1371772800000\": 0.0, \"1384473600000\": 0.0, \"1374537600000\": 0.0, \"1363305600000\": 0.0, \"1381190400000\": 0.0, \"1364774400000\": 0.0, \"1387324800000\": 0.0, \"1385424000000\": 0.0, \"1372896000000\": 0.0, \"1376524800000\": 0.0, \"1369958400000\": 0.0, \"1372377600000\": 0.0, \"1368489600000\": 0.0, \"1379030400000\": 0.0, \"1360022400000\": 0.0, \"1375833600000\": 0.0, \"1363651200000\": 0.0, \"1384992000000\": 0.0, \"1377129600000\": 0.0, \"1359676800000\": 0.0, \"1367452800000\": 0.0, \"1383782400000\": 0.0, \"1367884800000\": 0.0, \"1372032000000\": 0.0, \"1362960000000\": 0.0, \"1374105600000\": 0.0, \"1382572800000\": 0.0, \"1366243200000\": 0.0, \"1382400000000\": 0.0, \"1383177600000\": 0.0, \"1360281600000\": 0.0, \"1372982400000\": 0.0, \"1383091200000\": 0.0, \"1357257600000\": 0.0, \"1369699200000\": 0.0, \"1363737600000\": 0.0, \"1378857600000\": 0.0, \"1369180800000\": 0.0, \"1388016000000\": 0.0, \"1374796800000\": 0.0, \"1369094400000\": 0.0, \"1359072000000\": 0.0, \"1366156800000\": 0.0, \"1373414400000\": 0.0, \"1376611200000\": 0.0, \"1384387200000\": 0.0, \"1364428800000\": 0.0, \"1371168000000\": 0.0, \"1382918400000\": 0.0, \"1372723200000\": 0.0, \"1364169600000\": 0.0, \"1383609600000\": 0.0, \"1378684800000\": 0.0, \"1377561600000\": 0.0, \"1373328000000\": 0.0, \"1365638400000\": 0.0, \"1382313600000\": 0.0, \"1377216000000\": 0.0, \"1373241600000\": 0.0, \"1383523200000\": 0.0, \"1375747200000\": 0.0, \"1365552000000\": 0.0, \"1379894400000\": 0.0, \"1372291200000\": 0.0, \"1363219200000\": 0.0, \"1376956800000\": 0.0, \"1371600000000\": 0.0, \"1362009600000\": 0.0, \"1372809600000\": 0.0, \"1361318400000\": 0.0, \"1374019200000\": 0.0, \"1384905600000\": 0.0, \"1387929600000\": 0.0, \"1369785600000\": 0.0, \"1376006400000\": 0.0, \"1378252800000\": 0.0, \"1361923200000\": 0.0, \"1388102400000\": 0.0, \"1359331200000\": 0.0}}'"
      }
     ]
    },
    {
     "cell_type": "markdown",
     "id": "E0053DBDD39346A68C2A857255AE42CA",
     "metadata": {},
     "source": [
      "# \u6700\u540e\n",
      "\n",
      "\u7528\u4f18\u77ff\u9009\u57fa\u91d1\u7684\u597d\u5904\u5f88\u660e\u663e\uff0c\u867d\u7136\u5c5e\u4e8e\u5251\u8d70\u504f\u950b\u3002\u4f46\u76f8\u8f83\u4e8e\u4e16\u9762\u4e0a\u5e38\u89c1\u7684\u53ea\u6709\u4ec0\u4e48\u51e0\u5e74\u6536\u76ca\u7387\uff0c\u57fa\u51c6\u6536\u76ca\u7387\u7b49\u7b49\u7684\u597d\u592a\u591a\u4e86\u3002\u76f4\u89c2\u7684\uff0c\u4f60\u5c31\u53ef\u4ee5\u770b\u51fa\u98ce\u9669\u3002\u6709\u4e9b\u80a1\u7968\u57fa\u91d1\u5e02\u573a\u4e0a\u7684\u65f6\u5019\u6bd4\u57fa\u51c6\u4e0a\u7684\u591a\uff0c\u4e0b\u7684\u65f6\u5019\u6bd4\u57fa\u51c6\u4e0b\u7684\u5c11\u3002\u8fd9\u79cd\u53ea\u4ece\u5355\u7eaf\u7684\u6709\u4e9b\u6307\u6807\u4e0a\u770b\u4e0d\u51fa\u6765\uff0c\u4f46\u9009\u7684\u57fa\u91d1\u662f\u5426\u5c5e\u4e8e\u8fd9\u6837\u7684\uff0c\u4f1a\u51b3\u5b9a\u6211\u665a\u4e0a\u7761\u4e0d\u7761\u5f97\u7740\u3002\u800c\u6211\u6ca1\u7a7a\u53c8\u60f3\u7740\u6295\u8d44\u6536\u76ca\u53c8\u60f3\u665a\u4e0a\u7761\u5f97\u597d\uff0c\u5c31\u53ea\u80fd\u81ea\u5df1\u7a0d\u7a0d\u5206\u6790\u4e0b\u4e86\u3002\n",
      "\n",
      "\u8bf4\u5230\u8fd9\u91cc\uff0c\u4e0a\u9762\u7684\u8fd9\u4e2a\u6559\u7a0b\u66f4\u50cf\u662f\u6709\u4eba\u8ddf\u6211\u8bf4\u8fd9\u53ea\u9e21\u597d\uff0c\u6211\u6765\u68c0\u9a8c\u4e0b\uff0c\u800c\u4e0d\u662f\u8bf4\u6211\u4ece\u4e00\u7247\u57fa\u91d1\u5806\u91cc\u9009\u51fa\u4e00\u4e2a\u6700\u597d\u7684\u6765\u3002"
     ]
    },
    {
     "cell_type": "code",
     "collapsed": false,
     "id": "BFBF1CEBBC0D4BC1960EFD13861C6DF4",
     "input": [],
     "language": "python",
     "metadata": {},
     "outputs": []
    }
   ],
   "metadata": {}
  }
 ]
}