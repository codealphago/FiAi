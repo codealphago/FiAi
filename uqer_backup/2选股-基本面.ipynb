{
 "father": "56710b1d228e5b8d84f00ac7",
 "metadata": {
  "signature": "sha256:a06d34425cf71123501cd67506e5d28956550ca0a28fe375b554cf401458146a"
 },
 "nbformat": 3,
 "nbformat_minor": 0,
 "worksheets": [
  {
   "cells": [
    {
     "cell_type": "strategy",
     "collapsed": false,
     "has_detail": true,
     "id": "C0AEE9AC278E4ECBB8445DA1B7B668A7",
     "input": "from CAL.PyCAL import *\nimport numpy as np\nfrom pandas import DataFrame , Series\n\nstart = '2015-01-01'                       # \u56de\u6d4b\u8d77\u59cb\u65f6\u95f4\nend = '2016-01-01'                         # \u56de\u6d4b\u7ed3\u675f\u65f6\u95f4\nbenchmark = 'HS300'                        # \u7b56\u7565\u53c2\u8003\u6807\u51c6\nuniverse = set_universe('HS300')           # \u8bc1\u5238\u6c60\uff0c\u652f\u6301\u80a1\u7968\u548c\u57fa\u91d1\ncapital_base = 100000                      # \u8d77\u59cb\u8d44\u91d1\ncsvs = []\nsecurity_base = {}\ncommission = Commission(buycost=0.0008, sellcost=0.0018)  # \u4f63\u91d1\u4e07\u516b\nslippage = Slippage() \nfreq = 'd'                                 # \u7b56\u7565\u7c7b\u578b\uff0c'd'\u8868\u793a\u65e5\u95f4\u7b56\u7565\u4f7f\u7528\u65e5\u7ebf\u56de\u6d4b\uff0c'm'\u8868\u793a\u65e5\u5185\u7b56\u7565\u4f7f\u7528\u5206\u949f\u7ebf\u56de\u6d4b\nrefresh_rate = 10                          # \u8c03\u4ed3\u9891\u7387\uff0c\u8868\u793a\u6267\u884chandle_data\u7684\u65f6\u95f4\u95f4\u9694\uff0c\u82e5freq = 'd'\u65f6\u95f4\u95f4\u9694\u7684\u5355\u4f4d\u4e3a\u4ea4\u6613\u65e5\uff0c\u82e5freq = 'm'\u65f6\u95f4\u95f4\u9694\u4e3a\u5206\u949f\ncal = Calendar('China.SSE')\n\ndef initialize(account):                   # \u521d\u59cb\u5316\u865a\u62df\u8d26\u6237\u72b6\u6001\n    pass\n\ndef handle_data(account):                  # \u6bcf\u4e2a\u4ea4\u6613\u65e5\u7684\u4e70\u5165\u5356\u51fa\u6307\u4ee4\n\n    today = account.current_date.strftime('%Y%m%d')\n    yesterday = cal.advanceDate(account.current_date, '-1B', BizDayConvention.Following).strftime('%Y%m%d')\n    lastyear = cal.advanceDate(account.current_date, '-1Y', BizDayConvention.Following).strftime('%Y%m%d')\n    \n    buylist = []\n    selllist = []\n    getData_yesterday = Series()\n    getData_lastyear = Series()\n    \n    #\u53d6\u4e0a\u4e00\u4e2a\u4ea4\u6613\u65e5\u7684\u6570\u636e\uff0c\u7528\u4e8e\u6307\u6807\u6253\u5206\n    getData_yesterday = DataAPI.MktStockFactorsOneDayGet(tradeDate=yesterday,secID=account.universe,field=['secID','LFLO','ROA','OperCashGrowRate','CurrentRatio','DebtEquityRatio','GrossIncomeRatio','TotalAssetsTRate'],pandas=\"1\")\n    getData_yesterday.drop_duplicates('secID', inplace = True)\n    getData_yesterday = getData_yesterday.sort('LFLO', ascending=True)[0:100]\n    getData_yesterday.set_index('secID',inplace=True)\n    getData_yesterday.dropna(inplace = True)\n\n    #\u53d6\u4e00\u5e74\u524d\u7684\u6570\u636e\uff0c\u7528\u4e8e\u6307\u6807\u6253\u5206\n    getData_lastyear = DataAPI.MktStockFactorsOneDayGet(tradeDate=lastyear,secID=account.universe,field=['secID','LFLO','ROA','OperCashGrowRate','CurrentRatio','DebtEquityRatio','GrossIncomeRatio','TotalAssetsTRate'],pandas=\"1\")\n    getData_lastyear.drop_duplicates('secID', inplace = True)\n    getData_lastyear.set_index('secID',inplace=True)\n    getData_lastyear.dropna(inplace = True)\n    \n    totallist = list(set(getData_yesterday.index)&set(getData_lastyear.index))\n    #print(getData_lastyear.index)\n    for s in totallist:\n        try:\n            ROA1 = getData_yesterday['ROA'][s]>0\n            ROA2 = getData_yesterday['ROA'][s]>getData_lastyear['ROA'][s]\n            OperCashGrowRate = getData_yesterday['CurrentRatio'][s]>0\n            CurrentRatio = getData_yesterday['CurrentRatio'][s]>getData_lastyear['CurrentRatio'][s]\n            DebtEquityRatio = getData_yesterday['DebtEquityRatio'][s]<getData_lastyear['DebtEquityRatio'][s]\n            GrossIncomeRatio = getData_yesterday['GrossIncomeRatio'][s]>getData_lastyear['GrossIncomeRatio'][s]\n            TotalAssetsTRate = getData_yesterday['TotalAssetsTRate'][s]>getData_lastyear['TotalAssetsTRate'][s]\n        \n            Scores = int(ROA1)+int(ROA2)+int(OperCashGrowRate)+int(CurrentRatio)+int(DebtEquityRatio)+int(GrossIncomeRatio)+int(TotalAssetsTRate)\n            #print(Scores)\n            if Scores>=6:\n                buylist.append(s)\n        except KeyError as e:\n            print(\"error :\" + str(e) )\n        \n    print(buylist)\n    for s in account.valid_secpos:\n        if s not in buylist:\n            order_to(s, 0)\n\n    for s in buylist:\n        if len(buylist)>=10:\n            order(s, account.referencePortfolioValue/len(buylist)/account.referencePrice[s])\n        else:\n            order_pct_to(s, 0.1)\n    \n    for s in account.valid_secpos:\n        if account.referencePrice[s] * account.valid_secpos[s] / account.referencePortfolioValue >0.1:\n            order_pct_to(s, 0.1)",
     "language": "python",
     "metadata": {},
     "outputs": [
      {
       "output_type": "stream",
       "stream": "stdout",
       "text": "['002475.XSHE', '002007.XSHE', '300015.XSHE', '000793.XSHE', '600688.XSHG', '002294.XSHE']"
      },
      {
       "output_type": "stream",
       "stream": "stdout",
       "text": "\n['002475.XSHE', '002007.XSHE', '300015.XSHE', '000793.XSHE', '600688.XSHG', '002294.XSHE']"
      },
      {
       "output_type": "stream",
       "stream": "stdout",
       "text": "\n['002007.XSHE', '300015.XSHE', '000793.XSHE', '600688.XSHG', '002294.XSHE']"
      },
      {
       "output_type": "stream",
       "stream": "stdout",
       "text": "\n['002007.XSHE', '300015.XSHE', '000793.XSHE', '600688.XSHG', '000623.XSHE', '002294.XSHE']"
      },
      {
       "output_type": "stream",
       "stream": "stdout",
       "text": "\n"
      },
      {
       "output_type": "stream",
       "stream": "stdout",
       "text": "['002007.XSHE', '300015.XSHE', '000793.XSHE', '600688.XSHG', '000623.XSHE', '002294.XSHE']\n['002007.XSHE', '300015.XSHE', '000793.XSHE', '600688.XSHG', '000623.XSHE', '002294.XSHE']"
      },
      {
       "output_type": "stream",
       "stream": "stdout",
       "text": "\n['002007.XSHE', '300015.XSHE', '600688.XSHG', '000623.XSHE', '002294.XSHE']"
      },
      {
       "output_type": "stream",
       "stream": "stdout",
       "text": "\n['002007.XSHE', '603993.XSHG', '300015.XSHE', '000793.XSHE', '600688.XSHG', '000623.XSHE', '002294.XSHE']"
      },
      {
       "output_type": "stream",
       "stream": "stdout",
       "text": "\n['002007.XSHE', '603993.XSHG', '300015.XSHE', '300146.XSHE', '000793.XSHE', '600688.XSHG', '000623.XSHE', '002294.XSHE']"
      },
      {
       "output_type": "stream",
       "stream": "stdout",
       "text": "['002007.XSHE', '603993.XSHG', '300015.XSHE', '000793.XSHE', '600688.XSHG', '000623.XSHE', '002294.XSHE']\n['002007.XSHE', '603993.XSHG', '300015.XSHE', '000793.XSHE', '600688.XSHG', '000623.XSHE', '002294.XSHE']"
      },
      {
       "output_type": "stream",
       "stream": "stdout",
       "text": "\n['002007.XSHE', '603993.XSHG', '300015.XSHE', '600688.XSHG', '000623.XSHE', '002294.XSHE']"
      },
      {
       "output_type": "stream",
       "stream": "stdout",
       "text": "\n['002007.XSHE', '603993.XSHG', '300015.XSHE', '600688.XSHG', '000623.XSHE', '002294.XSHE', '300017.XSHE']"
      },
      {
       "output_type": "stream",
       "stream": "stdout",
       "text": "\n['002007.XSHE', '603993.XSHG', '300015.XSHE', '000623.XSHE', '002294.XSHE', '300017.XSHE']"
      },
      {
       "output_type": "stream",
       "stream": "stdout",
       "text": "\n['002475.XSHE', '002007.XSHE', '300015.XSHE', '002470.XSHE', '000623.XSHE', '300017.XSHE']"
      },
      {
       "output_type": "stream",
       "stream": "stdout",
       "text": "\n['002475.XSHE', '002007.XSHE', '300015.XSHE', '000729.XSHE', '002470.XSHE', '000623.XSHE', '000400.XSHE', '300017.XSHE']"
      },
      {
       "output_type": "stream",
       "stream": "stdout",
       "text": "\n['002475.XSHE', '002007.XSHE', '300015.XSHE', '000729.XSHE', '002470.XSHE', '000400.XSHE', '000623.XSHE', '300017.XSHE']"
      },
      {
       "output_type": "stream",
       "stream": "stdout",
       "text": "\n['002475.XSHE', '002007.XSHE', '300015.XSHE', '000729.XSHE', '002470.XSHE', '000623.XSHE', '000156.XSHE', '000400.XSHE', '300017.XSHE']"
      },
      {
       "output_type": "stream",
       "stream": "stdout",
       "text": "['002007.XSHE', '300015.XSHE', '000729.XSHE', '002470.XSHE', '000623.XSHE', '000156.XSHE', '000400.XSHE', '300017.XSHE']\n['002475.XSHE', '002007.XSHE', '300015.XSHE', '000729.XSHE', '002470.XSHE', '000156.XSHE', '000400.XSHE', '000623.XSHE', '300017.XSHE']"
      },
      {
       "output_type": "stream",
       "stream": "stdout",
       "text": "\n['002475.XSHE', '002007.XSHE', '300015.XSHE', '000729.XSHE', '002470.XSHE', '002292.XSHE', '000156.XSHE', '000400.XSHE', '000623.XSHE', '300017.XSHE']"
      },
      {
       "output_type": "stream",
       "stream": "stdout",
       "text": "\n['002475.XSHE', '002007.XSHE', '300015.XSHE', '000729.XSHE', '002470.XSHE', '002292.XSHE', '000623.XSHE', '000156.XSHE', '000400.XSHE', '300017.XSHE']"
      },
      {
       "output_type": "stream",
       "stream": "stdout",
       "text": "\n['002475.XSHE', '002007.XSHE', '300015.XSHE', '002470.XSHE', '002292.XSHE', '000623.XSHE', '000156.XSHE', '000400.XSHE', '300017.XSHE']"
      },
      {
       "output_type": "stream",
       "stream": "stdout",
       "text": "\n['002475.XSHE', '002007.XSHE', '300015.XSHE', '002470.XSHE', '002292.XSHE', '000156.XSHE', '000400.XSHE', '300017.XSHE']"
      },
      {
       "output_type": "stream",
       "stream": "stdout",
       "text": "\n['002007.XSHE', '000581.XSHE', '300015.XSHE', '002470.XSHE', '002292.XSHE', '000623.XSHE', '000156.XSHE', '000400.XSHE', '300017.XSHE']"
      },
      {
       "output_type": "stream",
       "stream": "stdout",
       "text": "\n['002007.XSHE', '000581.XSHE', '300015.XSHE', '002470.XSHE', '002292.XSHE', '000623.XSHE', '000156.XSHE', '000400.XSHE', '600660.XSHG', '300017.XSHE']"
      },
      {
       "output_type": "stream",
       "stream": "stdout",
       "text": "\n['002007.XSHE', '000581.XSHE', '002470.XSHE', '002292.XSHE', '000623.XSHE', '000156.XSHE', '000400.XSHE', '600660.XSHG', '300017.XSHE']"
      },
      {
       "output_type": "stream",
       "stream": "stdout",
       "text": "\n['000581.XSHE', '002007.XSHE', '002470.XSHE', '002292.XSHE', '000156.XSHE', '000400.XSHE', '000623.XSHE', '600660.XSHG', '300017.XSHE']"
      },
      {
       "output_type": "stream",
       "stream": "stdout",
       "text": "\n['000581.XSHE', '002007.XSHE', '002008.XSHE', '002470.XSHE', '002292.XSHE', '000156.XSHE', '000400.XSHE', '000623.XSHE', '600660.XSHG', '300017.XSHE']"
      },
      {
       "output_type": "stream",
       "stream": "stdout",
       "text": "\n['002008.XSHE', '002470.XSHE', '002292.XSHE', '000156.XSHE', '000400.XSHE', '000623.XSHE', '600660.XSHG', '300017.XSHE']"
      },
      {
       "output_type": "stream",
       "stream": "stdout",
       "text": "\n['002008.XSHE', '002470.XSHE', '002292.XSHE', '000156.XSHE', '000400.XSHE', '600157.XSHG', '600660.XSHG', '300017.XSHE']"
      },
      {
       "output_type": "stream",
       "stream": "stdout",
       "text": "\n['002008.XSHE', '002470.XSHE', '002292.XSHE', '000156.XSHE', '000400.XSHE', '600157.XSHG', '600660.XSHG', '600373.XSHG', '300017.XSHE']"
      },
      {
       "output_type": "stream",
       "stream": "stdout",
       "text": "\n['002008.XSHE', '002470.XSHE', '002292.XSHE', '601258.XSHG', '000156.XSHE', '000400.XSHE', '601933.XSHG', '600157.XSHG', '600660.XSHG', '600373.XSHG', '300017.XSHE']"
      },
      {
       "output_type": "stream",
       "stream": "stdout",
       "text": "['002008.XSHE', '002470.XSHE', '002292.XSHE', '601258.XSHG', '000156.XSHE', '000400.XSHE', '600157.XSHG', '600660.XSHG', '600373.XSHG', '300017.XSHE']\n['002008.XSHE', '002470.XSHE', '002292.XSHE', '601258.XSHG', '000156.XSHE', '000400.XSHE', '600157.XSHG', '600660.XSHG', '600373.XSHG', '300017.XSHE']"
      },
      {
       "output_type": "stream",
       "stream": "stdout",
       "text": "\n['002008.XSHE', '002470.XSHE', '002292.XSHE', '601258.XSHG', '000156.XSHE', '000400.XSHE', '600157.XSHG', '600660.XSHG', '600373.XSHG', '300017.XSHE']"
      },
      {
       "output_type": "stream",
       "stream": "stdout",
       "text": "\n['002008.XSHE', '002470.XSHE', '002292.XSHE', '601258.XSHG', '000156.XSHE', '000400.XSHE', '601933.XSHG', '600157.XSHG', '600660.XSHG', '600373.XSHG']"
      },
      {
       "output_type": "stream",
       "stream": "stdout",
       "text": "\n['600157.XSHG', '002008.XSHE', '002470.XSHE', '601258.XSHG', '000400.XSHE', '601933.XSHG', '600660.XSHG', '600373.XSHG']"
      },
      {
       "output_type": "stream",
       "stream": "stdout",
       "text": "\n['000060.XSHE', '002008.XSHE', '002470.XSHE', '601258.XSHG', '000156.XSHE', '000400.XSHE', '601933.XSHG', '600157.XSHG', '600660.XSHG', '600373.XSHG']"
      },
      {
       "output_type": "stream",
       "stream": "stdout",
       "text": "\n['002008.XSHE', '002470.XSHE', '601258.XSHG', '000156.XSHE', '000400.XSHE', '601933.XSHG', '600157.XSHG', '600660.XSHG', '600373.XSHG']"
      },
      {
       "output_type": "stream",
       "stream": "stdout",
       "text": "\n['002008.XSHE', '002470.XSHE', '601258.XSHG', '000156.XSHE', '000400.XSHE', '601933.XSHG', '600157.XSHG', '600660.XSHG']"
      },
      {
       "output_type": "stream",
       "stream": "stdout",
       "text": "\n['002008.XSHE', '002470.XSHE', '601258.XSHG', '000156.XSHE', '000400.XSHE', '600157.XSHG', '600660.XSHG', '600373.XSHG']"
      },
      {
       "output_type": "stream",
       "stream": "stdout",
       "text": "\n['000876.XSHE', '002008.XSHE', '002470.XSHE', '601258.XSHG', '000156.XSHE', '000400.XSHE', '600157.XSHG', '600660.XSHG']"
      },
      {
       "output_type": "stream",
       "stream": "stdout",
       "text": "\n['000876.XSHE', '002008.XSHE', '002470.XSHE', '601258.XSHG', '000156.XSHE', '000400.XSHE', '600157.XSHG', '600660.XSHG', '600373.XSHG']"
      },
      {
       "output_type": "stream",
       "stream": "stdout",
       "text": "['000876.XSHE', '002008.XSHE', '002470.XSHE', '601258.XSHG', '000156.XSHE', '000400.XSHE', '600157.XSHG', '600660.XSHG', '600373.XSHG']\n['000876.XSHE', '002008.XSHE', '002470.XSHE', '601258.XSHG', '000156.XSHE', '000400.XSHE', '600157.XSHG', '600660.XSHG']"
      },
      {
       "output_type": "stream",
       "stream": "stdout",
       "text": "\n['000876.XSHE', '002470.XSHE', '601258.XSHG', '000156.XSHE', '000400.XSHE', '600660.XSHG', '600373.XSHG']"
      },
      {
       "output_type": "stream",
       "stream": "stdout",
       "text": "\n['000876.XSHE', '002470.XSHE', '601258.XSHG', '000156.XSHE', '000400.XSHE', '600157.XSHG', '600660.XSHG', '600373.XSHG']"
      },
      {
       "output_type": "stream",
       "stream": "stdout",
       "text": "\n['002008.XSHE', '002470.XSHE', '601258.XSHG', '000156.XSHE', '000400.XSHE', '600157.XSHG', '600660.XSHG', '600373.XSHG', '300017.XSHE']"
      },
      {
       "output_type": "stream",
       "stream": "stdout",
       "text": "\n['000876.XSHE', '002008.XSHE', '002470.XSHE', '601258.XSHG', '000156.XSHE', '000400.XSHE', '600157.XSHG', '600660.XSHG', '600373.XSHG', '300017.XSHE', '600739.XSHG']"
      },
      {
       "output_type": "stream",
       "stream": "stdout",
       "text": "\n['000876.XSHE', '002008.XSHE', '002470.XSHE', '601258.XSHG', '000156.XSHE', '000400.XSHE', '600157.XSHG', '600660.XSHG', '600373.XSHG', '300017.XSHE']"
      },
      {
       "output_type": "stream",
       "stream": "stdout",
       "text": "\n['000876.XSHE', '600157.XSHG', '002008.XSHE', '002470.XSHE', '601258.XSHG', '000156.XSHE', '000400.XSHE', '600660.XSHG', '600373.XSHG', '300017.XSHE', '600739.XSHG']"
      },
      {
       "output_type": "stream",
       "stream": "stdout",
       "text": "\n['000876.XSHE', '600157.XSHG', '002008.XSHE', '002470.XSHE', '601258.XSHG', '000156.XSHE', '000400.XSHE', '601933.XSHG', '600660.XSHG', '600373.XSHG', '300017.XSHE', '600739.XSHG']"
      },
      {
       "output_type": "stream",
       "stream": "stdout",
       "text": "['000876.XSHE', '600157.XSHG', '000060.XSHE', '002008.XSHE', '002470.XSHE', '601258.XSHG', '000156.XSHE', '000400.XSHE', '601933.XSHG', '600660.XSHG', '600373.XSHG', '300017.XSHE', '600739.XSHG']\n['000876.XSHE', '000060.XSHE', '002008.XSHE', '601258.XSHG', '000156.XSHE', '000400.XSHE', '601933.XSHG', '600157.XSHG', '600660.XSHG', '600373.XSHG', '300017.XSHE', '600739.XSHG']"
      },
      {
       "output_type": "stream",
       "stream": "stdout",
       "text": "\n['600188.XSHG', '600660.XSHG', '000876.XSHE', '000060.XSHE', '002008.XSHE', '601258.XSHG', '000156.XSHE', '000400.XSHE', '601933.XSHG', '300017.XSHE', '600157.XSHG', '600739.XSHG']"
      },
      {
       "output_type": "stream",
       "stream": "stdout",
       "text": "\n['600188.XSHG', '600100.XSHG', '000876.XSHE', '000060.XSHE', '002008.XSHE', '601258.XSHG', '000156.XSHE', '000400.XSHE', '601933.XSHG', '600660.XSHG', '600373.XSHG', '300017.XSHE', '600157.XSHG', '600739.XSHG']"
      },
      {
       "output_type": "stream",
       "stream": "stdout",
       "text": "\n['600188.XSHG', '600100.XSHG', '000876.XSHE', '600157.XSHG', '002008.XSHE', '000400.XSHE', '000156.XSHE', '601933.XSHG', '600895.XSHG', '600660.XSHG', '600373.XSHG', '600177.XSHG']"
      },
      {
       "output_type": "stream",
       "stream": "stdout",
       "text": "\n['600188.XSHG', '600100.XSHG', '000876.XSHE', '601098.XSHG', '002008.XSHE', '000400.XSHE', '000156.XSHE', '601933.XSHG', '600895.XSHG', '600660.XSHG', '600373.XSHG', '600177.XSHG']"
      },
      {
       "output_type": "stream",
       "stream": "stdout",
       "text": "\n['600188.XSHG', '600100.XSHG', '000876.XSHE', '002008.XSHE', '000400.XSHE', '000156.XSHE', '601933.XSHG', '600895.XSHG', '600660.XSHG', '600373.XSHG', '600177.XSHG']"
      },
      {
       "output_type": "stream",
       "stream": "stdout",
       "text": "\n['600100.XSHG', '000876.XSHE', '002008.XSHE', '601258.XSHG', '000156.XSHE', '000400.XSHE', '601933.XSHG', '600895.XSHG', '600157.XSHG', '600660.XSHG', '600373.XSHG', '300017.XSHE']"
      },
      {
       "output_type": "stream",
       "stream": "stdout",
       "text": "\n['600100.XSHG', '000876.XSHE', '002008.XSHE', '601258.XSHG', '000156.XSHE', '000400.XSHE', '601933.XSHG', '600660.XSHG', '600373.XSHG', '300017.XSHE', '600157.XSHG']"
      },
      {
       "output_type": "stream",
       "stream": "stdout",
       "text": "\n['000876.XSHE', '000060.XSHE', '002008.XSHE', '601258.XSHG', '000156.XSHE', '000400.XSHE', '601933.XSHG', '600660.XSHG', '600373.XSHG', '300017.XSHE', '600157.XSHG']"
      },
      {
       "output_type": "stream",
       "stream": "stdout",
       "text": "\n['600373.XSHG', '000876.XSHE', '600157.XSHG', '000060.XSHE', '002008.XSHE', '601258.XSHG', '000156.XSHE', '000400.XSHE', '601933.XSHG', '600660.XSHG', '300017.XSHE']"
      },
      {
       "output_type": "stream",
       "stream": "stdout",
       "text": "\n['000876.XSHE', '600157.XSHG', '000060.XSHE', '002008.XSHE', '002470.XSHE', '601258.XSHG', '000156.XSHE', '000400.XSHE', '600660.XSHG', '600373.XSHG', '300017.XSHE']"
      },
      {
       "output_type": "stream",
       "stream": "stdout",
       "text": "\n['600157.XSHG', '000060.XSHE', '002008.XSHE', '002470.XSHE', '601258.XSHG', '000156.XSHE', '600660.XSHG', '000400.XSHE', '600373.XSHG', '300017.XSHE']"
      },
      {
       "output_type": "stream",
       "stream": "stdout",
       "text": "\n['600660.XSHG', '600157.XSHG', '000060.XSHE', '002008.XSHE', '002470.XSHE', '601258.XSHG', '000156.XSHE', '000400.XSHE', '600373.XSHG', '300017.XSHE']"
      },
      {
       "output_type": "stream",
       "stream": "stdout",
       "text": "\n['600660.XSHG', '600157.XSHG', '000060.XSHE', '002008.XSHE', '002470.XSHE', '601258.XSHG', '000156.XSHE', '000400.XSHE', '601933.XSHG', '600373.XSHG', '300017.XSHE']"
      },
      {
       "output_type": "stream",
       "stream": "stdout",
       "text": "\n['600157.XSHG', '000060.XSHE', '002008.XSHE', '002470.XSHE', '601258.XSHG', '000156.XSHE', '000400.XSHE', '601933.XSHG', '600660.XSHG', '600373.XSHG', '300017.XSHE']"
      },
      {
       "output_type": "stream",
       "stream": "stdout",
       "text": "\n['000060.XSHE', '002008.XSHE', '002470.XSHE', '601258.XSHG', '000156.XSHE', '000400.XSHE', '601933.XSHG', '600660.XSHG', '600373.XSHG', '300017.XSHE']"
      },
      {
       "output_type": "stream",
       "stream": "stdout",
       "text": "\n['000060.XSHE', '002008.XSHE', '002470.XSHE', '601258.XSHG', '000156.XSHE', '000400.XSHE', '601933.XSHG', '600660.XSHG', '600373.XSHG']"
      },
      {
       "output_type": "stream",
       "stream": "stdout",
       "text": "\n['300144.XSHE', '000060.XSHE', '002008.XSHE', '002470.XSHE', '601258.XSHG', '000156.XSHE', '000400.XSHE', '601933.XSHG', '600373.XSHG']"
      },
      {
       "output_type": "stream",
       "stream": "stdout",
       "text": "['300144.XSHE', '000060.XSHE', '002008.XSHE', '002470.XSHE', '601258.XSHG', '000156.XSHE', '000400.XSHE', '601933.XSHG', '600373.XSHG']\n['600188.XSHG', '300144.XSHE', '000060.XSHE', '002008.XSHE', '002470.XSHE', '601258.XSHG', '000156.XSHE', '000400.XSHE', '600373.XSHG']"
      },
      {
       "output_type": "stream",
       "stream": "stdout",
       "text": "\n['600188.XSHG', '300144.XSHE', '000060.XSHE', '002008.XSHE', '002470.XSHE', '601258.XSHG', '000156.XSHE', '000400.XSHE', '600373.XSHG']"
      },
      {
       "output_type": "stream",
       "stream": "stdout",
       "text": "\n['300144.XSHE', '000876.XSHE', '000060.XSHE', '002008.XSHE', '002470.XSHE', '601258.XSHG', '000156.XSHE', '000400.XSHE', '600895.XSHG', '600373.XSHG']"
      },
      {
       "output_type": "stream",
       "stream": "stdout",
       "text": "\n['300144.XSHE', '000876.XSHE', '000060.XSHE', '002008.XSHE', '002470.XSHE', '601258.XSHG', '000156.XSHE', '000400.XSHE', '600373.XSHG']"
      },
      {
       "output_type": "stream",
       "stream": "stdout",
       "text": "\n['000876.XSHE', '000060.XSHE', '002008.XSHE', '002470.XSHE', '601258.XSHG', '000156.XSHE', '000400.XSHE', '600373.XSHG']"
      },
      {
       "output_type": "stream",
       "stream": "stdout",
       "text": "\n['300144.XSHE', '000876.XSHE', '600157.XSHG', '000060.XSHE', '002008.XSHE', '002470.XSHE', '601258.XSHG', '000156.XSHE', '000400.XSHE', '600373.XSHG']"
      },
      {
       "output_type": "stream",
       "stream": "stdout",
       "text": "\n['300144.XSHE', '000876.XSHE', '600157.XSHG', '601258.XSHG', '000060.XSHE', '002008.XSHE', '002470.XSHE', '000156.XSHE', '000400.XSHE', '600373.XSHG']"
      },
      {
       "output_type": "stream",
       "stream": "stdout",
       "text": "\n['300144.XSHE', '600009.XSHG', '600157.XSHG', '300015.XSHE', '000060.XSHE', '002008.XSHE', '002470.XSHE', '601258.XSHG', '000156.XSHE', '000400.XSHE', '600373.XSHG']"
      },
      {
       "output_type": "stream",
       "stream": "stdout",
       "text": "\n['300144.XSHE', '600157.XSHG', '300015.XSHE', '002008.XSHE', '002470.XSHE', '601258.XSHG', '000156.XSHE', '000400.XSHE', '600373.XSHG']"
      },
      {
       "output_type": "stream",
       "stream": "stdout",
       "text": "\n['300144.XSHE', '600157.XSHG', '300015.XSHE', '000060.XSHE', '002008.XSHE', '002470.XSHE', '601258.XSHG', '000156.XSHE', '000400.XSHE', '600373.XSHG']"
      },
      {
       "output_type": "stream",
       "stream": "stdout",
       "text": "\n['300144.XSHE', '600009.XSHG', '300015.XSHE', '002008.XSHE', '002470.XSHE', '601258.XSHG', '000156.XSHE', '000400.XSHE', '600373.XSHG']"
      },
      {
       "output_type": "stream",
       "stream": "stdout",
       "text": "\n['300144.XSHE', '600009.XSHG', '002008.XSHE', '002470.XSHE', '601258.XSHG', '000156.XSHE', '000400.XSHE', '600373.XSHG']"
      },
      {
       "output_type": "stream",
       "stream": "stdout",
       "text": "\n['300144.XSHE', '600009.XSHG', '601258.XSHG', '000060.XSHE', '002008.XSHE', '002470.XSHE', '000156.XSHE', '000400.XSHE', '600373.XSHG']"
      },
      {
       "output_type": "stream",
       "stream": "stdout",
       "text": "\n['300144.XSHE', '601258.XSHG', '000060.XSHE', '002008.XSHE', '002470.XSHE', '600023.XSHG', '000400.XSHE', '600373.XSHG']"
      },
      {
       "output_type": "stream",
       "stream": "stdout",
       "text": "['300144.XSHE', '002007.XSHE', '002065.XSHE', '601258.XSHG', '002008.XSHE', '002470.XSHE', '600023.XSHG', '000400.XSHE', '600373.XSHG']\n['300144.XSHE', '002007.XSHE', '002065.XSHE', '601258.XSHG', '002008.XSHE', '002470.XSHE', '600023.XSHG', '002292.XSHE', '000156.XSHE', '000400.XSHE']"
      },
      {
       "output_type": "stream",
       "stream": "stdout",
       "text": "\n['300144.XSHE', '002007.XSHE', '601258.XSHG', '002008.XSHE', '002470.XSHE', '600023.XSHG', '002292.XSHE', '000156.XSHE', '600373.XSHG']"
      },
      {
       "output_type": "stream",
       "stream": "stdout",
       "text": "\n['600827.XSHG', '300144.XSHE', '600648.XSHG', '002007.XSHE', '601258.XSHG', '002008.XSHE', '002470.XSHE', '600023.XSHG', '002292.XSHE', '000156.XSHE']"
      },
      {
       "output_type": "stream",
       "stream": "stdout",
       "text": "\n['600827.XSHG', '300144.XSHE', '600648.XSHG', '002007.XSHE', '601258.XSHG', '002008.XSHE', '002470.XSHE', '600023.XSHG', '002292.XSHE', '000156.XSHE', '600373.XSHG']"
      },
      {
       "output_type": "stream",
       "stream": "stdout",
       "text": "\n['300144.XSHE', '600648.XSHG', '002007.XSHE', '002008.XSHE', '002470.XSHE', '600023.XSHG', '002292.XSHE', '601258.XSHG', '000156.XSHE']"
      },
      {
       "output_type": "stream",
       "stream": "stdout",
       "text": "\n['300144.XSHE', '600648.XSHG', '002007.XSHE', '601258.XSHG', '002008.XSHE', '002470.XSHE', '600023.XSHG', '002292.XSHE', '000156.XSHE']"
      },
      {
       "output_type": "stream",
       "stream": "stdout",
       "text": "\n['300144.XSHE', '600648.XSHG', '002007.XSHE', '601258.XSHG', '002008.XSHE', '002470.XSHE', '600023.XSHG', '002292.XSHE', '000156.XSHE', '600873.XSHG']"
      },
      {
       "output_type": "stream",
       "stream": "stdout",
       "text": "\n['300144.XSHE', '600648.XSHG', '002007.XSHE', '601258.XSHG', '002008.XSHE', '002470.XSHE', '600023.XSHG', '002292.XSHE', '000156.XSHE', '600873.XSHG', '600373.XSHG']"
      },
      {
       "output_type": "stream",
       "stream": "stdout",
       "text": "\n['600648.XSHG', '002007.XSHE', '601258.XSHG', '002008.XSHE', '002470.XSHE', '600023.XSHG', '002292.XSHE', '000156.XSHE', '600873.XSHG']"
      },
      {
       "output_type": "stream",
       "stream": "stdout",
       "text": "\n['600648.XSHG', '002007.XSHE', '601258.XSHG', '002008.XSHE', '002470.XSHE', '600023.XSHG', '002292.XSHE', '000156.XSHE', '600873.XSHG', '600373.XSHG']"
      },
      {
       "output_type": "stream",
       "stream": "stdout",
       "text": "['300144.XSHE', '600648.XSHG', '002007.XSHE', '601258.XSHG', '002008.XSHE', '002470.XSHE', '600023.XSHG', '002292.XSHE', '000156.XSHE', '600873.XSHG', '600373.XSHG']\n['600648.XSHG', '002007.XSHE', '601258.XSHG', '002008.XSHE', '002470.XSHE', '600023.XSHG', '002292.XSHE', '000156.XSHE', '600873.XSHG', '600373.XSHG', '002399.XSHE']"
      },
      {
       "output_type": "stream",
       "stream": "stdout",
       "text": "\n['600648.XSHG', '002007.XSHE', '601258.XSHG', '002008.XSHE', '002470.XSHE', '600023.XSHG', '002292.XSHE', '000156.XSHE', '600873.XSHG', '600373.XSHG', '002399.XSHE']"
      },
      {
       "output_type": "stream",
       "stream": "stdout",
       "text": "\n['300144.XSHE', '600648.XSHG', '002007.XSHE', '601258.XSHG', '002008.XSHE', '002470.XSHE', '600023.XSHG', '002292.XSHE', '000156.XSHE', '600873.XSHG', '600373.XSHG', '002399.XSHE']"
      },
      {
       "output_type": "stream",
       "stream": "stdout",
       "text": "\n['600648.XSHG', '002007.XSHE', '601258.XSHG', '002008.XSHE', '600023.XSHG', '002292.XSHE', '000156.XSHE', '600873.XSHG', '600373.XSHG', '002399.XSHE']"
      },
      {
       "output_type": "stream",
       "stream": "stdout",
       "text": "\n['600648.XSHG', '002007.XSHE', '002008.XSHE', '600023.XSHG', '002292.XSHE', '601258.XSHG', '000156.XSHE', '600873.XSHG', '600373.XSHG', '002399.XSHE']"
      },
      {
       "output_type": "stream",
       "stream": "stdout",
       "text": "\n['300144.XSHE', '600648.XSHG', '002007.XSHE', '600252.XSHG', '601258.XSHG', '002008.XSHE', '002470.XSHE', '600023.XSHG', '002292.XSHE', '000156.XSHE', '600873.XSHG', '600373.XSHG', '002399.XSHE']"
      },
      {
       "output_type": "stream",
       "stream": "stdout",
       "text": "\n['600648.XSHG', '002007.XSHE', '600252.XSHG', '601258.XSHG', '002008.XSHE', '002470.XSHE', '600023.XSHG', '002292.XSHE', '000156.XSHE', '600873.XSHG', '600373.XSHG', '002399.XSHE']"
      },
      {
       "output_type": "stream",
       "stream": "stdout",
       "text": "\n['600648.XSHG', '002007.XSHE', '600252.XSHG', '002008.XSHE', '002470.XSHE', '600023.XSHG', '002292.XSHE', '601258.XSHG', '000156.XSHE', '600873.XSHG', '600688.XSHG', '600373.XSHG', '002399.XSHE']"
      },
      {
       "output_type": "stream",
       "stream": "stdout",
       "text": "\n['600648.XSHG', '002007.XSHE', '002008.XSHE', '002470.XSHE', '600023.XSHG', '002292.XSHE', '601258.XSHG', '000156.XSHE', '600873.XSHG', '600688.XSHG', '600373.XSHG', '002399.XSHE']"
      },
      {
       "output_type": "stream",
       "stream": "stdout",
       "text": "\n['600648.XSHG', '002007.XSHE', '002470.XSHE', '600023.XSHG', '002292.XSHE', '601258.XSHG', '000156.XSHE', '603000.XSHG', '600873.XSHG', '600688.XSHG', '600373.XSHG', '002399.XSHE']"
      },
      {
       "output_type": "stream",
       "stream": "stdout",
       "text": "\n['600648.XSHG', '002007.XSHE', '002470.XSHE', '600023.XSHG', '002292.XSHE', '601258.XSHG', '000156.XSHE', '603000.XSHG', '600873.XSHG', '600688.XSHG', '600157.XSHG', '600373.XSHG', '002399.XSHE']"
      },
      {
       "output_type": "stream",
       "stream": "stdout",
       "text": "['600157.XSHG', '002470.XSHE', '600023.XSHG', '002292.XSHE', '601258.XSHG', '000156.XSHE', '603000.XSHG', '600873.XSHG', '600688.XSHG', '002399.XSHE']\n['002470.XSHE', '600023.XSHG', '601258.XSHG', '000156.XSHE', '600873.XSHG', '600688.XSHG', '600157.XSHG', '002399.XSHE']"
      },
      {
       "output_type": "stream",
       "stream": "stdout",
       "text": "\n['002470.XSHE', '600023.XSHG', '601258.XSHG', '000156.XSHE', '600873.XSHG', '600688.XSHG', '600157.XSHG', '002399.XSHE']"
      },
      {
       "output_type": "stream",
       "stream": "stdout",
       "text": "\n['600157.XSHG', '002470.XSHE', '600023.XSHG', '601258.XSHG', '000156.XSHE', '600873.XSHG', '600688.XSHG', '600373.XSHG', '002399.XSHE']"
      },
      {
       "output_type": "stream",
       "stream": "stdout",
       "text": "\n['002470.XSHE', '600023.XSHG', '601258.XSHG', '000156.XSHE', '600873.XSHG', '600688.XSHG', '600157.XSHG', '600373.XSHG', '002399.XSHE']"
      },
      {
       "output_type": "stream",
       "stream": "stdout",
       "text": "\n['600827.XSHG', '002470.XSHE', '600023.XSHG', '601258.XSHG', '000156.XSHE', '600873.XSHG', '600688.XSHG', '600157.XSHG', '600373.XSHG', '002399.XSHE']"
      },
      {
       "output_type": "stream",
       "stream": "stdout",
       "text": "\n['600827.XSHG', '002470.XSHE', '600023.XSHG', '601258.XSHG', '000156.XSHE', '600873.XSHG', '600157.XSHG', '600373.XSHG', '002399.XSHE', '600688.XSHG']"
      },
      {
       "output_type": "stream",
       "stream": "stdout",
       "text": "\n['600827.XSHG', '600157.XSHG', '002470.XSHE', '600023.XSHG', '601258.XSHG', '000156.XSHE', '600873.XSHG', '600688.XSHG', '600373.XSHG', '002399.XSHE']"
      },
      {
       "output_type": "stream",
       "stream": "stdout",
       "text": "\n['600827.XSHG', '600688.XSHG', '002470.XSHE', '600023.XSHG', '601258.XSHG', '000156.XSHE', '600873.XSHG', '600157.XSHG', '600373.XSHG', '002399.XSHE']"
      },
      {
       "output_type": "stream",
       "stream": "stdout",
       "text": "\n['600827.XSHG', '002470.XSHE', '600023.XSHG', '601258.XSHG', '000156.XSHE', '600873.XSHG', '600688.XSHG', '600157.XSHG', '002399.XSHE']"
      },
      {
       "output_type": "stream",
       "stream": "stdout",
       "text": "\n['600827.XSHG', '002470.XSHE', '600839.XSHG', '600023.XSHG', '601258.XSHG', '000156.XSHE', '600873.XSHG', '600688.XSHG', '600157.XSHG', '002399.XSHE']"
      },
      {
       "output_type": "stream",
       "stream": "stdout",
       "text": "['600827.XSHG', '002470.XSHE', '600839.XSHG', '600023.XSHG', '601258.XSHG', '000156.XSHE', '600873.XSHG', '600688.XSHG', '600157.XSHG', '002399.XSHE']\n['600827.XSHG', '002470.XSHE', '600839.XSHG', '600023.XSHG', '601258.XSHG', '000156.XSHE', '600873.XSHG', '600688.XSHG', '600157.XSHG', '002399.XSHE']"
      },
      {
       "output_type": "stream",
       "stream": "stdout",
       "text": "\n['600827.XSHG', '002470.XSHE', '600023.XSHG', '601258.XSHG', '000156.XSHE', '600839.XSHG', '600873.XSHG', '600157.XSHG', '002399.XSHE', '600688.XSHG']"
      },
      {
       "output_type": "stream",
       "stream": "stdout",
       "text": "\n['600827.XSHG', '601258.XSHG', '002470.XSHE', '600839.XSHG', '600023.XSHG', '000156.XSHE', '600873.XSHG', '600688.XSHG', '600157.XSHG', '002399.XSHE']"
      },
      {
       "output_type": "stream",
       "stream": "stdout",
       "text": "\n['600827.XSHG', '600157.XSHG', '601258.XSHG', '002470.XSHE', '600839.XSHG', '600023.XSHG', '000156.XSHE', '600873.XSHG', '600688.XSHG', '600373.XSHG', '002399.XSHE']"
      },
      {
       "output_type": "stream",
       "stream": "stdout",
       "text": "\n['600827.XSHG', '002470.XSHE', '600023.XSHG', '601258.XSHG', '000156.XSHE', '600839.XSHG', '600873.XSHG', '600157.XSHG', '600373.XSHG', '002399.XSHE', '600688.XSHG']"
      },
      {
       "output_type": "stream",
       "stream": "stdout",
       "text": "\n['600827.XSHG', '600688.XSHG', '002470.XSHE', '600023.XSHG', '601258.XSHG', '000156.XSHE', '600839.XSHG', '600157.XSHG', '600373.XSHG', '002399.XSHE']"
      },
      {
       "output_type": "stream",
       "stream": "stdout",
       "text": "\n['600827.XSHG', '002470.XSHE', '600023.XSHG', '601258.XSHG', '000156.XSHE', '600839.XSHG', '600688.XSHG', '600157.XSHG', '600373.XSHG', '002399.XSHE']"
      },
      {
       "output_type": "stream",
       "stream": "stdout",
       "text": "\n['600827.XSHG', '002470.XSHE', '600023.XSHG', '601258.XSHG', '000156.XSHE', '600839.XSHG', '600157.XSHG', '600373.XSHG', '002399.XSHE', '600688.XSHG']"
      },
      {
       "output_type": "stream",
       "stream": "stdout",
       "text": "\n['600827.XSHG', '601258.XSHG', '002470.XSHE', '600839.XSHG', '600023.XSHG', '000156.XSHE', '600688.XSHG', '600157.XSHG', '600373.XSHG', '002399.XSHE']"
      },
      {
       "output_type": "stream",
       "stream": "stdout",
       "text": "['600827.XSHG', '601258.XSHG', '002470.XSHE', '600839.XSHG', '600023.XSHG', '000156.XSHE', '600688.XSHG', '600157.XSHG', '600373.XSHG', '002399.XSHE']\n['600827.XSHG', '601258.XSHG', '002470.XSHE', '600839.XSHG', '600023.XSHG', '000156.XSHE', '600688.XSHG', '600157.XSHG', '600373.XSHG', '002399.XSHE']"
      },
      {
       "output_type": "stream",
       "stream": "stdout",
       "text": "\n['600827.XSHG', '002470.XSHE', '600839.XSHG', '600023.XSHG', '601258.XSHG', '000156.XSHE', '600688.XSHG', '600157.XSHG', '600373.XSHG', '002399.XSHE']"
      },
      {
       "metadata": {},
       "output_type": "pyout",
       "prompt_number": 2,
       "text": "'{\"information\": 1.38365, \"benchmark_cumulative_return\": {\"1437350400000\": 0.1774061822, \"1445299200000\": 0.0124495219, \"1441843200000\": -0.0498481766, \"1440460800000\": -0.1388860433, \"1449446400000\": 0.043551112, \"1426550400000\": 0.0632225055, \"1446076800000\": -0.0001140444, \"1426464000000\": 0.0486627369, \"1443052800000\": -0.0703824026, \"1440720000000\": -0.054170829, \"1447718400000\": 0.0635810522, \"1446768000000\": 0.0734819779, \"1434585600000\": 0.3952896531, \"1450656000000\": 0.0940244106, \"1420761600000\": 0.003681683, \"1429488000000\": 0.2796494336, \"1429833600000\": 0.3307939814, \"1449187200000\": 0.0407169802, \"1425859200000\": 0.0011432743, \"1444867200000\": -0.0132707551, \"1433721600000\": 0.515050754, \"1451433600000\": 0.0655019795, \"1427760000000\": 0.1464438225, \"1430092800000\": 0.3604936455, \"1420588800000\": 0.0311513961, \"1442361600000\": -0.0635202096, \"1450828800000\": 0.0941421339, \"1444694400000\": -0.0250917591, \"1433376000000\": 0.4662804814, \"1420416000000\": 0.0305146715, \"1445212800000\": 0.0001335707, \"1433894400000\": 0.5024181384, \"1424044800000\": -0.0096867032, \"1436486400000\": 0.162108945, \"1450742400000\": 0.0970716329, \"1439424000000\": 0.1533099773, \"1422403200000\": -0.0023742752, \"1424995200000\": 0.0110733478, \"1428019200000\": 0.1802128641, \"1442534400000\": -0.0799264795, \"1438560000000\": 0.0836302356, \"1450396800000\": 0.0662768026, \"1424908800000\": 0.0092197719, \"1428537600000\": 0.206134629, \"1450310400000\": 0.0628738634, \"1446422400000\": -0.0163420315, \"1442880000000\": -0.0550922402, \"1430179200000\": 0.3418927982, \"1449532800000\": 0.0252737208, \"1420502400000\": 0.030378837, \"1425513600000\": -0.0105752877, \"1429747200000\": 0.3416182992, \"1427328000000\": 0.1178025361, \"1430784000000\": 0.300850947, \"1445385600000\": -0.0171083649, \"1430265600000\": 0.3510786114, \"1449014400000\": 0.0532712079, \"1427932800000\": 0.1672633012, \"1441756800000\": -0.0380350963, \"1428624000000\": 0.2294189393, \"1451347200000\": 0.0645681168, \"1436400000000\": 0.1029841158, \"1422835200000\": -0.0508672189, \"1440547200000\": -0.1437633535, \"1436918400000\": 0.1225479737, \"1429228800000\": 0.3006528549, \"1435017600000\": 0.3544096714, \"1435795200000\": 0.1625164487, \"1435190400000\": 0.3318908456, \"1426032000000\": -0.0025638776, \"1431907200000\": 0.2947129221, \"1433203200000\": 0.4607508822, \"1439251200000\": 0.1508213747, \"1435104000000\": 0.3810205139, \"1449619200000\": 0.0289293689, \"1450051200000\": 0.050262189, \"1432857600000\": 0.36989736, \"1437523200000\": 0.1764293052, \"1447804800000\": 0.0514671549, \"1423526400000\": -0.0358744775, \"1423699200000\": -0.0257066935, \"1420675200000\": 0.0072303613, \"1447891200000\": 0.0682735708, \"1447286400000\": 0.0740338058, \"1437091200000\": 0.1748264572, \"1421280000000\": 0.0199252344, \"1443571200000\": -0.0936019085, \"1422230400000\": 0.0210175708, \"1441670400000\": -0.0565091646, \"1433462400000\": 0.4801865462, \"1445558400000\": 0.0106208489, \"1441065600000\": -0.0485685017, \"1438819200000\": 0.0843708171, \"1435622400000\": 0.2658078903, \"1424822400000\": -0.0155615486, \"1438128000000\": 0.1122528447, \"1438646400000\": 0.1172832519, \"1450137600000\": 0.0454703414, \"1432080000000\": 0.3455858008, \"1431648000000\": 0.3066918338, \"1423008000000\": -0.037340359, \"1436832000000\": 0.1636917008, \"1444262400000\": -0.0671328434, \"1433808000000\": 0.5047810941, \"1441152000000\": -0.047507577, \"1435536000000\": 0.1861610036, \"1427673600000\": 0.1569059147, \"1438214400000\": 0.0797184828, \"1431561600000\": 0.3302647925, \"1451001600000\": 0.0861675123, \"1432252800000\": 0.4011704413, \"1446508800000\": -0.0193046402, \"1446163200000\": 0.0001044228, \"1436313600000\": 0.0365983626, \"1431388800000\": 0.3434662154, \"1447027200000\": 0.08677707, \"1425254400000\": 0.0191158867, \"1444608000000\": -0.024341839, \"1445472000000\": -0.0025967043, \"1430697600000\": 0.3548763198, \"1421884800000\": 0.0095933169, \"1423785600000\": -0.0180801481, \"1445904000000\": 0.0167441584, \"1438905600000\": 0.1056212875, \"1437609600000\": 0.202929782, \"1425600000000\": -0.0156181464, \"1449100800000\": 0.0610092509, \"1421366400000\": 0.0287035439, \"1423094400000\": -0.0471940255, \"1421798400000\": 0.0042929386, \"1447113600000\": 0.0847630394, \"1440028800000\": 0.0644489786, \"1437436800000\": 0.1789326232, \"1439769600000\": 0.1539916971, \"1439337600000\": 0.1365182768, \"1427414400000\": 0.1239433909, \"1449792000000\": 0.0210399269, \"1448582400000\": 0.0065885429, \"1446595200000\": 0.0268352525, \"1447977600000\": 0.0681077395, \"1448323200000\": 0.062308169, \"1448409600000\": 0.0701520498, \"1450915200000\": 0.0836774948, \"1431302400000\": 0.3273669882, \"1425340800000\": -0.0073039384, \"1442275200000\": -0.1079539634, \"1435708800000\": 0.203556885, \"1427068800000\": 0.1240480968, \"1441584000000\": -0.0801494746, \"1445817600000\": 0.0157203053, \"1442188800000\": -0.0714767199, \"1438041600000\": 0.0784962546, \"1429574400000\": 0.3071700847, \"1431475200000\": 0.335262373, \"1421712000000\": -0.0389081164, \"1436227200000\": 0.1115804636, \"1447200000000\": 0.0848784988, \"1436745600000\": 0.1918952036, \"1443139200000\": -0.0853943872, \"1447372800000\": 0.0601441544, \"1432771200000\": 0.3679673771, \"1451520000000\": 0.0558322556, \"1439510400000\": 0.1527657901, \"1435276800000\": 0.2270941871, \"1422921600000\": -0.0272433222, \"1430352000000\": 0.3441623676, \"1429660800000\": 0.3413126714, \"1434672000000\": 0.3122333185, \"1433289600000\": 0.4555778488, \"1429142400000\": 0.2772808182, \"1442793600000\": -0.0638034813, \"1426809600000\": 0.101553325, \"1438732800000\": 0.094289005, \"1431043200000\": 0.2899756913, \"1445990400000\": -0.0024874707, \"1432684800000\": 0.4662861412, \"1434326400000\": 0.4775292823, \"1427846400000\": 0.1670142711, \"1444348800000\": -0.0547849144, \"1447632000000\": 0.0652051244, \"1425427200000\": -0.0008178373, \"1432598400000\": 0.4712327837, \"1434412800000\": 0.4332871118, \"1423612800000\": -0.0281828447, \"1422489600000\": -0.0146927733, \"1428883200000\": 0.2511128531, \"1434499200000\": 0.4542311056, \"1432512000000\": 0.4430980471, \"1439942400000\": 0.0997325757, \"1425945600000\": -0.003707152, \"1426636800000\": 0.0883886906, \"1427155200000\": 0.1243254257, \"1437955200000\": 0.0806577223, \"1430870400000\": 0.2885381087, \"1450224000000\": 0.0429378755, \"1439856000000\": 0.0825483698, \"1448841600000\": 0.0092542965, \"1421020800000\": -0.0056965625, \"1442448000000\": -0.0839658602, \"1448236800000\": 0.0621513933, \"1448496000000\": 0.0638759264, \"1444780800000\": -0.0361087922, \"1449705600000\": 0.0252918321, \"1436140800000\": 0.1315407886, \"1423180800000\": -0.0626225695, \"1431993600000\": 0.3388817984, \"1443398400000\": -0.0823378263, \"1426118400000\": 0.0167331218, \"1423440000000\": -0.053142448, \"1422316800000\": 0.0116647942, \"1422576000000\": -0.0281064377, \"1446681600000\": 0.0487476335, \"1427241600000\": 0.1150915044, \"1435881600000\": 0.0996706012, \"1437696000000\": 0.1818397661, \"1432166400000\": 0.3699398083, \"1440633600000\": -0.0928406689, \"1421625600000\": -0.0505304623, \"1426723200000\": 0.0866002021, \"1440115200000\": 0.0157981272, \"1434067200000\": 0.5097758447, \"1421193600000\": -0.0088547164, \"1440979200000\": -0.047308353, \"1443484800000\": -0.1004202382, \"1433116800000\": 0.4364987506, \"1421107200000\": -0.0055663877, \"1444953600000\": 0.000100461, \"1439164800000\": 0.1558291427, \"1424131200000\": -0.0032232413, \"1437004800000\": 0.1312065789, \"1442966400000\": -0.0765999474, \"1429056000000\": 0.2396348314, \"1428451200000\": 0.2156628586, \"1430956800000\": 0.2649821293, \"1428969600000\": 0.2559547897, \"1428364800000\": 0.2055431827, \"1451260800000\": 0.0548777347, \"1441929600000\": -0.0527836184, \"1421971200000\": 0.0107592304, \"1433980800000\": 0.5017050069, \"1438300800000\": 0.0800826893, \"1440374400000\": -0.0730608907, \"1426204800000\": 0.0237540715, \"1448928000000\": 0.0164093828}, \"benchmark_annualized_return\": 0.05724, \"turnover_rate\": 7.24716, \"max_drawdown\": 0.39502, \"beta\": 0.90738, \"sharpe\": 0.96623, \"alpha\": 0.39348, \"volatility\": 0.42694, \"annualized_return\": 0.44878, \"cumulative_return\": {\"1437350400000\": 0.525496428, \"1445299200000\": 0.48938787, \"1441843200000\": 0.303652952, \"1440460800000\": 0.2283388512, \"1449446400000\": 0.42452987, \"1426550400000\": 0.1417032096, \"1446076800000\": 0.41458439, \"1426464000000\": 0.1407238864, \"1443052800000\": 0.307156552, \"1440720000000\": 0.3029761864, \"1447718400000\": 0.461394796, \"1446768000000\": 0.478637494, \"1434585600000\": 0.798290518, \"1450656000000\": 0.473364486, \"1420761600000\": 0.0234260368, \"1429488000000\": 0.22993538, \"1429833600000\": 0.3517030812, \"1449187200000\": 0.41252987, \"1425859200000\": 0.1079408038, \"1444867200000\": 0.425006426, \"1433721600000\": 0.8620717836, \"1451433600000\": 0.449874486, \"1427760000000\": 0.1788599004, \"1430092800000\": 0.3464350812, \"1420588800000\": 0.0277765488, \"1442361600000\": 0.262979026, \"1450828800000\": 0.476824486, \"1444694400000\": 0.396727486, \"1433376000000\": 0.8449676268, \"1420416000000\": 0.0128957128, \"1445212800000\": 0.489771446, \"1433894400000\": 0.8633517836, \"1424044800000\": 0.0711112284, \"1436486400000\": 0.3282704084, \"1450742400000\": 0.484054486, \"1439424000000\": 0.6158623484, \"1422403200000\": 0.0514425244, \"1424995200000\": 0.0928257844, \"1428019200000\": 0.2424269908, \"1442534400000\": 0.243935628, \"1438560000000\": 0.447214332, \"1450396800000\": 0.456734486, \"1424908800000\": 0.0780096084, \"1428537600000\": 0.2200643156, \"1450310400000\": 0.46690763, \"1446422400000\": 0.392344262, \"1442880000000\": 0.301308596, \"1430179200000\": 0.3123890812, \"1449532800000\": 0.38045987, \"1420502400000\": 0.0333371168, \"1425513600000\": 0.1194412262, \"1429747200000\": 0.3368546708, \"1427328000000\": 0.163699062, \"1430784000000\": 0.3113252306, \"1445385600000\": 0.373562062, \"1430265600000\": 0.3438918822, \"1449014400000\": 0.41558987, \"1427932800000\": 0.2353809908, \"1441756800000\": 0.337772688, \"1428624000000\": 0.2539008362, \"1451347200000\": 0.449854486, \"1436400000000\": 0.26381037, \"1422835200000\": 0.0427295244, \"1440547200000\": 0.1892725732, \"1436918400000\": 0.3669615076, \"1429228800000\": 0.268870343, \"1435017600000\": 0.692078938, \"1435795200000\": 0.365885492, \"1435190400000\": 0.639158612, \"1426032000000\": 0.1120504054, \"1431907200000\": 0.4748612364, \"1433203200000\": 0.8258693536, \"1439251200000\": 0.6323055924, \"1435104000000\": 0.730609762, \"1449619200000\": 0.38049987, \"1450051200000\": 0.43171987, \"1432857600000\": 0.687717166, \"1437523200000\": 0.552208976, \"1447804800000\": 0.445234418, \"1423526400000\": 0.0527737748, \"1423699200000\": 0.0583742284, \"1420675200000\": 0.0261205488, \"1447891200000\": 0.467470954, \"1447286400000\": 0.48534706, \"1437091200000\": 0.485265176, \"1421280000000\": 0.0294205668, \"1443571200000\": 0.279807838, \"1422230400000\": 0.0579396748, \"1441670400000\": 0.308462184, \"1433462400000\": 0.8816503836, \"1445558400000\": 0.450039774, \"1441065600000\": 0.264353934, \"1438819200000\": 0.494949804, \"1435622400000\": 0.476345492, \"1424822400000\": 0.0696282284, \"1438128000000\": 0.4983801, \"1438646400000\": 0.512651908, \"1450137600000\": 0.43585987, \"1432080000000\": 0.5476977332, \"1431648000000\": 0.4456305792, \"1423008000000\": 0.0508605244, \"1436832000000\": 0.4565200436, \"1444262400000\": 0.32981801, \"1433808000000\": 0.8504307836, \"1441152000000\": 0.280432964, \"1435536000000\": 0.377076492, \"1427673600000\": 0.1815659004, \"1438214400000\": 0.4560301, \"1431561600000\": 0.4606851846, \"1451001600000\": 0.473484486, \"1432252800000\": 0.648067992, \"1446508800000\": 0.386374382, \"1446163200000\": 0.4253884, \"1436313600000\": 0.204487902, \"1431388800000\": 0.4384065776, \"1447027200000\": 0.484380614, \"1425254400000\": 0.1049006996, \"1444608000000\": 0.384921154, \"1445472000000\": 0.417047262, \"1430697600000\": 0.3383327486, \"1421884800000\": 0.0626606748, \"1423785600000\": 0.0658392284, \"1445904000000\": 0.431654366, \"1438905600000\": 0.550559226, \"1437609600000\": 0.599950224, \"1425600000000\": 0.1011212262, \"1449100800000\": 0.43031987, \"1421366400000\": 0.0376211124, \"1423094400000\": 0.0485585244, \"1421798400000\": 0.0571056748, \"1447113600000\": 0.489370614, \"1440028800000\": 0.5009045296, \"1437436800000\": 0.555147136, \"1439769600000\": 0.6359473664, \"1439337600000\": 0.5845874764, \"1427414400000\": 0.167744062, \"1449792000000\": 0.40125987, \"1448582400000\": 0.41602987, \"1446595200000\": 0.437877238, \"1447977600000\": 0.481900954, \"1448323200000\": 0.479239602, \"1448409600000\": 0.51026245, \"1450915200000\": 0.470674486, \"1431302400000\": 0.3985829156, \"1425340800000\": 0.0912924878, \"1442275200000\": 0.173548844, \"1435708800000\": 0.420698492, \"1427068800000\": 0.1752882096, \"1441584000000\": 0.253646084, \"1445817600000\": 0.438754454, \"1442188800000\": 0.230307724, \"1438041600000\": 0.436938016, \"1429574400000\": 0.2865303184, \"1431475200000\": 0.4732096522, \"1421712000000\": 0.0458566748, \"1436227200000\": 0.275662326, \"1447200000000\": 0.49253423, \"1436745600000\": 0.4161157396, \"1443139200000\": 0.259866672, \"1447372800000\": 0.458327388, \"1432771200000\": 0.6697270964, \"1451520000000\": 0.435944486, \"1439510400000\": 0.6085545584, \"1435276800000\": 0.491398492, \"1422921600000\": 0.0558235244, \"1430352000000\": 0.341669143, \"1429660800000\": 0.319828804, \"1434672000000\": 0.666620718, \"1433289600000\": 0.8214455152, \"1429142400000\": 0.2837344102, \"1442793600000\": 0.286431708, \"1426809600000\": 0.1652622096, \"1438732800000\": 0.499992492, \"1431043200000\": 0.3473626844, \"1445990400000\": 0.403723706, \"1432684800000\": 0.7578363912, \"1434326400000\": 0.9398262268, \"1427846400000\": 0.2133104524, \"1444348800000\": 0.339164978, \"1447632000000\": 0.470025188, \"1425427200000\": 0.1170544878, \"1432598400000\": 0.7361133912, \"1434412800000\": 0.8723901948, \"1423612800000\": 0.0595592284, \"1422489600000\": 0.0439835244, \"1428883200000\": 0.294097764, \"1434499200000\": 0.875515824, \"1432512000000\": 0.6895322492, \"1439942400000\": 0.5452100976, \"1425945600000\": 0.1154888038, \"1426636800000\": 0.1571732096, \"1427155200000\": 0.1843226576, \"1437955200000\": 0.45711905, \"1430870400000\": 0.3024718138, \"1450224000000\": 0.44734987, \"1439856000000\": 0.5169358976, \"1448841600000\": 0.39890987, \"1421020800000\": 0.0291880368, \"1442448000000\": 0.230412436, \"1448236800000\": 0.482323722, \"1448496000000\": 0.500330958, \"1444780800000\": 0.373077034, \"1449705600000\": 0.40164987, \"1436140800000\": 0.324903562, \"1423180800000\": 0.0412603308, \"1431993600000\": 0.5231059276, \"1443398400000\": 0.282987052, \"1426118400000\": 0.1096634054, \"1423440000000\": 0.0439693308, \"1422316800000\": 0.0521915244, \"1422576000000\": 0.0479925244, \"1446681600000\": 0.447937238, \"1427241600000\": 0.179123062, \"1435881600000\": 0.331811492, \"1437696000000\": 0.56529905, \"1432166400000\": 0.6157208452, \"1440633600000\": 0.2448571652, \"1421625600000\": 0.0238621124, \"1426723200000\": 0.1596232096, \"1440115200000\": 0.4164517616, \"1434067200000\": 0.9083507836, \"1421193600000\": 0.0280615668, \"1440979200000\": 0.293801446, \"1443484800000\": 0.266837458, \"1433116800000\": 0.769794998, \"1421107200000\": 0.0341945668, \"1444953600000\": 0.468646418, \"1439164800000\": 0.6300501504, \"1424131200000\": 0.0707592284, \"1437004800000\": 0.403973576, \"1442966400000\": 0.286489472, \"1429056000000\": 0.2582882814, \"1428451200000\": 0.2259606612, \"1430956800000\": 0.2940485544, \"1428969600000\": 0.297660838, \"1428364800000\": 0.2484920964, \"1451260800000\": 0.444204486, \"1441929600000\": 0.319459864, \"1421971200000\": 0.0530116748, \"1433980800000\": 0.8754207836, \"1438300800000\": 0.4571951, \"1440374400000\": 0.3112678512, \"1426204800000\": 0.1210924054, \"1448928000000\": 0.40534987}}'"
      }
     ],
     "trusted": true
    },
    {
     "cell_type": "code",
     "collapsed": false,
     "id": "FA5AF0C4DBC44B6D8EC44493F0F40C61",
     "input": [],
     "language": "python",
     "metadata": {},
     "outputs": []
    },
    {
     "cell_type": "code",
     "collapsed": false,
     "id": "161070105E034B3FB9DD485284274BA6",
     "input": [],
     "language": "python",
     "metadata": {},
     "outputs": []
    }
   ],
   "metadata": {}
  }
 ]
}