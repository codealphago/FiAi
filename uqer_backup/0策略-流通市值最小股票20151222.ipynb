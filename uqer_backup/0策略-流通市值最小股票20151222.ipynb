{
 "father": "566688faf9f06c6c8a91b571",
 "metadata": {
  "signature": "sha256:70a39b05f9a072dbf489485732090a3225c9f5760c24c378458bb2cfcde9ff3a"
 },
 "nbformat": 3,
 "nbformat_minor": 0,
 "worksheets": [
  {
   "cells": [
    {
     "cell_type": "markdown",
     "id": "9A23BF95749243318E37F7CAFF2DD685",
     "metadata": {},
     "source": [
      "## \u7b56\u7565\u601d\u8def\n",
      "----\n",
      "#### \u603b\u662f\u6301\u6709\u6d41\u901a\u5e02\u503c\u6700\u5c0f\u76845\u53ea\u80a1\u7968"
     ]
    },
    {
     "cell_type": "strategy",
     "collapsed": false,
     "has_detail": true,
     "id": "E86863214F4D482E839AAFBC518B3D33",
     "input": "import numpy as np\nfrom heapq import nlargest, nsmallest\nfrom CAL.PyCAL import *\nfrom DataAPI import *\nimport operator\nimport lib.filter as fil\n\nstart = '2015-12-01'\ncal2 = Calendar('China.SSE')\nperiod = Period('-1B')\ntoday = Date.todaysDate()\nend =  cal2.advanceDate(today,period).strftime('%Y-%m-%d')\nbenchmark = 'ZZ500'\n#universe = StockScreener(Factor.LFLO.nsmall(50))    # LFLO \u4e3a\u6d41\u901a\u5e02\u503c\u5bf9\u6570\uff0cLCAP \u4e3a\u603b\u5e02\u503c\u5bf9\u6570\nuniverse = set_universe('ZZ500')\ncapital_base = 1000000\nrefresh_rate = 1\nstk_num = 5   # \u6301\u4ed3\u80a1\u7968\u6570\u91cf\n\ndef initialize(account):\n    pass\n\ndef handle_data(account): \n    open_price = account.get_attribute_history('openPrice', 1)    # \u524d\u4e00\u65e5\u5f00\u76d8\u4ef7\n    close_price = account.referencePrice                   # \u524d\u4e00\u65e5\u6536\u76d8\u4ef7\n    \n    #  \u83b7\u53d6\u56de\u6d4b\u5f53\u65e5\u7684\u524d\u4e00\u5929\u65e5\u671f\n    dt = Date.fromDateTime(account.current_date)\n    cal = Calendar('China.SSE')\n    last_day = cal.advanceDate(dt,'-1B',BizDayConvention.Preceding)            #\u8ba1\u7b97\u51fa\u5012\u6570\u7b2c\u4e00\u4e2a\u4ea4\u6613\u65e5\n    last_day_str = last_day.strftime(\"%Y%m%d\")\n    previous_30D = cal.advanceDate(dt,'-90B',BizDayConvention.Preceding) \n    previous_30D_str = previous_30D.strftime(\"%Y-%m-%d\")\n    fivedays =  cal.advanceDate(dt,'-5B',BizDayConvention.Preceding) \n    fivedays = fivedays.strftime(\"%Y%m%d\")\n    \n     # \u53bb\u9664ST\u80a1\n    account.universe = fil.dropST(account,last_day_str)\n    #\u53bb\u638920\u4e2a\u4ea4\u6613\u65e5\u4e4b\u524d\u768420\u4e2a\u4ea4\u6613\u65e5\u5e73\u5747\u65e5\u4ea4\u6613\u91cf\u5c0f\u4e8e1000\u4e07\u4eba\u6c11\u5e01\u7684\u80a1\u7968\n    account.universe = fil.dropLiqid(account,10)\n    # \u53bb\u9664\u65b0\u4e0a\u5e02\u6216\u590d\u724c\u7684\u80a1\u7968\n    #account.universe = fil.dropNew(account)\n    # \u53bb\u9664\u5f31\u52bf\u80a1\u7968\n    #account.universe = fil.dropWeak(account,5)\n    \n    #print(len(account.universe))\n    # \u5e02\u503c\u6392\u5e8f\n    mkt_value = DataAPI.MktEqudGet(secID=account.universe,tradeDate=last_day_str,field=\"secID,negMarketValue\",pandas=\"1\")\n    univ_sorted = mkt_value.sort('negMarketValue').secID\n    issueDate = DataAPI.EquGet(secID=account.universe,field=\"secID,listDate\",pandas=\"1\")\n    issue = dict(zip(issueDate.secID,issueDate.listDate))\n    #\u53bb\u6389\u6b21\u65b0\u80a1, \u53bb\u6389\u505c\u724c\u80a1\n    buylist = {}\n    for s in univ_sorted: \n        #print(issue[s] + \":\" + previous_30D_str)\n        if not (np.isnan(close_price[s]) or close_price[s] == 0 or np.isnan(open_price[s]) or open_price[s] == 0)  and (issue[s] < previous_30D_str ) :\n            buylist[s] = 0\n        if len(buylist) >= stk_num :     # \u53ea\u6301\u6709stk_num\u6570\u76ee\u7684\u80a1\u7968\n            break\n    \n    #  ----------------- \u8c03\u4ed3\u903b\u8f91 \u5927\u76d8\u5468\u8dcc\u5e45\u4e0d\u8d85\u8fc74%--------------------------------\n    #index = DataAPI.IdxGet(secID=u\"\",ticker=u\"\",field=u\"\",pandas=\"1\")\n    #x = index[index.secShortName.str.startswith('\u4e2d\u8bc15') ]\n    dapan = DataAPI.MktIdxdGet(ticker=u\"399905\",beginDate=fivedays,endDate=last_day_str,field=['closeIndex'],pandas=\"1\")\n    zhangfu = dapan['closeIndex'][4] / dapan['closeIndex'][0]\n    if zhangfu < 0.95:\n        buylist = {}\n        #print(len(bucket))\n    \n    #  buy_list = nsmallest(8, bucket, key=bucket.get)\n        \n    '''\n    ###\u6b62\u635fStop loss at -0.05\n    validSecHist = account.get_attribute_history('closePrice',2) \n    for index in account.valid_secpos:\n        if (validSecHist[index][-1] - validSecHist[index][0])/validSecHist[index][0] < -0.05:\n            order_to(index,0.5*account.valid_secpos[index]) \n    '''   \n\n    for s in account.valid_secpos:\n        if s not in buylist:\n            order_to(s, 0)\n            print(account.current_date.strftime(\"%Y%m%d\") + \"|Sell|\" + s )   \n    if len(buylist) > 0:\n        v = account.referencePortfolioValue / len(buylist) \n        for s in buylist:\n            buylist[s] = v / close_price[s] - account.valid_secpos.get(s, 0)\n        for s in sorted(buylist, key=buylist.get):\n            if buylist[s] > 200 :\n                order(s, buylist[s])\n                print(account.current_date.strftime(\"%Y%m%d\")+\"|Buy|\" +s)",
     "language": "python",
     "metadata": {},
     "outputs": [],
     "trusted": true
    },
    {
     "cell_type": "markdown",
     "id": "0D117D5D69C647F3845B4D24C18284B5",
     "metadata": {},
     "source": [
      "\u56de\u6d4b\u8be6\u60c5\u6216\u8005bt\u6253\u5370\u51fa\u6765\uff0c\u90fd\u53ef\u4ee5\u770b\u5230\u6211\u4eec\u7ef4\u62a4\u4e86\u4e00\u4e2a\u603b\u662f\u6301\u670910\u53ea\u6700\u5c0f\u6d41\u901a\u5e02\u503c\u80a1\u7968\u7684\u6301\u4ed3\uff1b\u5076\u5c14\u6301\u4ed3\u80a1\u7968\u6570\u76ee\u4f1a\u670911\u6216\u800512\u53ea\n",
      "\u56de\u6d4b\uff1a 20131201 - 20151221\uff1a \u5e74\u534e\u6536\u76ca\uff1a124.8  \u6700\u5927\u56de\u64a4\uff1a39%  alpha\uff1a80% \u53cd\u5f39\u65f6\u5927\u4e8e\u6307\u6807\uff0c \n",
      "\u53c2\u6570\uff1astk_num = 5\uff0cuniverse = set_universe('ZZ500')"
     ]
    },
    {
     "cell_type": "code",
     "collapsed": false,
     "id": "5725F910D18C42AA8DF3ACC048A17434",
     "input": [],
     "language": "python",
     "metadata": {},
     "outputs": []
    },
    {
     "cell_type": "code",
     "collapsed": false,
     "id": "92AB11B5E7164304A90316E95AC017C5",
     "input": [],
     "language": "python",
     "metadata": {},
     "outputs": []
    }
   ],
   "metadata": {}
  }
 ]
}