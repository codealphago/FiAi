{
 "father": "56ec30bf228e5b887be50b35",
 "metadata": {
  "signature": "sha256:99c34013b75789587c4d6c97b6e81480ef076cc561a5e5e82a7cdd44db8eea53"
 },
 "nbformat": 3,
 "nbformat_minor": 0,
 "worksheets": [
  {
   "cells": [
    {
     "cell_type": "strategy",
     "collapsed": false,
     "has_detail": true,
     "id": "B72C0271A3594E4C9E51E2229F944A97",
     "input": "import numpy as np\nimport pandas as pd\nimport datetime as dt\nimport lib.comm as comm\nimport lib.HMM as hmm\n\n\nstart = '2014-04-01'                         #\u56de\u6d4b\u8d77\u59cb\ntoday = comm.getPrevBusinessDay(dt.date.today(),1)\nend = today.strftime('%Y-%m-%d')                 #\u6700\u8fd1\u4ea4\u6613\u65e5\n#end = '2015-06-01'                          #\u56de\u6d4b\u7ed3\u675f\u65f6\u95f4\n\ncommission = Commission(buycost=0.0008, sellcost=0.0018)  # \u4f63\u91d1\u4e07\u516b\ncapital_base = 1000000                         # \u8d77\u59cb\u8d44\u91d110W\n                               # \u7b56\u7565\u7c7b\u578b\uff0c'd'\u8868\u793a\u65e5\u95f4\u7b56\u7565\u4f7f\u7528\u65e5\u7ebf\u56de\u6d4b\uff0c'm'\u8868\u793a\u65e5\u5185\u7b56\u7565\u4f7f\u7528\u5206\u949f\u7ebf\u56de\u6d4b\nrefresh_rate = 1        # \u8c03\u4ed3\u9891\u7387\uff0c\u8868\u793a\u6267\u884chandle_data\u7684\u65f6\u95f4\u95f4\u9694\uff0c\u82e5freq = 'd'\u65f6\u95f4\u95f4\u9694\u7684\u5355\u4f4d\u4e3a\u4ea4\u6613\u65e5\uff0c\u82e5freq = 'm'\u65f6\u95f4\u95f4\u9694\u4e3a\u5206\u949f\n\nbenchmark = '300124.XSHE'      # \u7b56\u7565\u53c2\u8003\u6807\u51c6\nuniverse = ['300124.XSHE',]#HS300 , 399300\nticker = '300124' \ntrainDays = 500\n\ndef initialize(account):                   # \u521d\u59cb\u5316\u865a\u62df\u8d26\u6237\u72b6\u6001\n    pass\n  \ndef handle_data(account):                  # \u6bcf\u4e2a\u4ea4\u6613\u65e5\u7684\u4e70\u5165\u5356\u51fa\u6307\u4ee4\n    \n    if len(account.universe) > 0:\n        sec = account.universe[0]\n        begindateX = comm.getPrevBusinessDay(account.current_date,trainDays).strftime(\"%Y%m%d\")\n        enddateX = account.previous_date.strftime(\"%Y%m%d\")\n        print  \"retrain from [\" ,begindateX  , \" to  \" ,enddateX , \" ]\"\n        X,res = hmm.prepare_data(ticker,begindateX,enddateX,90)\n        modelX,detail,statusFlagX,matrix = hmm.training_model(X,3)\n        DT =  hmm.calDuration(matrix)\n        #print matrix\n        hidden_states = modelX.predict(X)\n        signal = hmm.status_map(hidden_states,statusFlagX)[-1]\n        print  \"predict status: \" ,account.current_date,\" signal :\", signal , \"duration time : \" , DT\n        if signal =='LL' :\n            order_pct_to(sec,1)\n        else : \n            order_to(sec, 0)\n",
     "language": "python",
     "metadata": {},
     "outputs": [
      {
       "output_type": "stream",
       "stream": "stdout",
       "text": "retrain from ["
      },
      {
       "output_type": "stream",
       "stream": "stdout",
       "text": " 20120306  to   20140331  ]\npredict status: "
      },
      {
       "output_type": "stream",
       "stream": "stdout",
       "text": " 2014-04-01 00:00:00  signal : NN duration time :  {'SS': 2.2676678424299967, 'LL': 1.6770840674702565, 'NN': 5.4500790694147492}\nretrain from [ 20120307  to   20140401  ]\npredict status: "
      },
      {
       "output_type": "stream",
       "stream": "stdout",
       "text": " 2014-04-02 00:00:00  signal : SS duration time :  {'SS': 2.3239426168004944, 'LL': 1.6579279320453673, 'NN': 5.4964620725458495}\nretrain from [ 20120308  to   20140402  ]\npredict status: "
      },
      {
       "output_type": "stream",
       "stream": "stdout",
       "text": " 2014-04-03 00:00:00  signal : SS duration time :  {'SS': 2.314112350999777, 'LL': 1.6718445953239787, 'NN': 5.4540485805017713}\nretrain from [ 20120309  to   20140403  ]\npredict status: "
      },
      {
       "output_type": "stream",
       "stream": "stdout",
       "text": " 2014-04-04 00:00:00  signal : SS duration time :  {'SS': 2.3406305302014836, 'LL': 1.6619320660890644, 'NN': 5.3502345695527564}\nretrain from [ 20120312  to   20140404  ]\npredict status: "
      },
      {
       "output_type": "stream",
       "stream": "stdout",
       "text": " 2014-04-08 00:00:00  signal : LL duration time :  {'SS': 2.2538758646919872, 'LL': 1.6787718291688984, 'NN': 5.1939676030541992}\nretrain from [ 20120313  to   20140408  ]\npredict status: "
      },
      {
       "output_type": "stream",
       "stream": "stdout",
       "text": " 2014-04-09 00:00:00  signal : LL duration time :  {'SS': 2.2107941761948462, 'LL': 1.7088990515578313, 'NN': 5.0649436538430157}\nretrain from [ 20120314  to   20140409  ]\npredict status: "
      },
      {
       "output_type": "stream",
       "stream": "stdout",
       "text": " 2014-04-10 00:00:00  signal : SS duration time :  {'SS': 2.2422833891647729, 'LL': 1.685676661284653, 'NN': 5.006525935255369}\nretrain from [ 20120315  to   20140410  ]\npredict status: "
      },
      {
       "output_type": "stream",
       "stream": "stdout",
       "text": " 2014-04-11 00:00:00  signal : LL duration time :  {'SS': 2.2099890330903853, 'LL': 1.6914061759945718, 'NN': 4.9268000979926043}\nretrain from [ 20120316  to   20140411  ]\npredict status: "
      },
      {
       "output_type": "stream",
       "stream": "stdout",
       "text": " 2014-04-14 00:00:00  signal : NN duration time :  {'SS': 2.2290067198851045, 'LL': 1.6732569056898143, 'NN': 4.8266894299092495}\nretrain from [ 20120319  to   20140414  ]\npredict status: "
      },
      {
       "output_type": "stream",
       "stream": "stdout",
       "text": " 2014-04-15 00:00:00  signal : NN duration time :  {'SS': 2.2383790634810361, 'LL': 1.6655428477491561, 'NN': 4.7959645501259303}\nretrain from [ 20120320  to   20140415  ]\npredict status: "
      },
      {
       "output_type": "stream",
       "stream": "stdout",
       "text": " 2014-04-16 00:00:00  signal : NN duration time :  {'SS': 2.2196712780157233, 'LL': 1.6702348251061179, 'NN': 4.7887284524471374}\nretrain from [ 20120321  to   20140416  ]\npredict status: "
      },
      {
       "output_type": "stream",
       "stream": "stdout",
       "text": " 2014-04-17 00:00:00  signal : NN duration time :  {'SS': 2.247817769303686, 'LL': 1.6693514376792264, 'NN': 4.9031021187594463}\nretrain from [ 20120322  to   20140417  ]\npredict status: "
      },
      {
       "output_type": "stream",
       "stream": "stdout",
       "text": " 2014-04-18 00:00:00  signal : NN duration time :  {'SS': 2.2497638717699595, 'LL': 1.668990429710389, 'NN': 4.8928876067205858}\nretrain from [ 20120323  to   20140418  ]\npredict status: "
      },
      {
       "output_type": "stream",
       "stream": "stdout",
       "text": " 2014-04-21 00:00:00  signal : NN duration time :  {'SS': 2.2117303081996993, 'LL': 1.7117549792478042, 'NN': 5.2447360340390698}\nretrain from [ 20120326  to   20140421  ]\npredict status: "
      },
      {
       "output_type": "stream",
       "stream": "stdout",
       "text": " 2014-04-22 00:00:00  signal : NN duration time :  {'SS': 2.2996831709353156, 'LL': 1.6506731364161444, 'NN': 5.3499058026605146}\nretrain from [ 20120327  to   20140422  ]\npredict status: "
      },
      {
       "output_type": "stream",
       "stream": "stdout",
       "text": " 2014-04-23 00:00:00  signal : SS duration time :  {'SS': 2.0954220644415655, 'LL': 1.7069580268938527, 'NN': 4.9473425625928495}\nretrain from [ 20120328  to   20140423  ]\npredict status: "
      },
      {
       "output_type": "stream",
       "stream": "stdout",
       "text": " 2014-04-24 00:00:00  signal : NN duration time :  {'SS': 2.0899719324455939, 'LL': 1.7195497161704867, 'NN': 4.7930481539372378}\nretrain from [ 20120329  to   20140424  ]\npredict status: "
      },
      {
       "output_type": "stream",
       "stream": "stdout",
       "text": " 2014-04-25 00:00:00  signal : NN duration time :  {'SS': 2.0937379433187253, 'LL': 1.704959346169411, 'NN': 4.7813153401452961}\nretrain from [ 20120330  to   20140425  ]\npredict status: "
      },
      {
       "output_type": "stream",
       "stream": "stdout",
       "text": " 2014-04-28 00:00:00  signal : NN duration time :  {'SS': 2.0807430324641123, 'LL': 1.7169908892145134, 'NN': 4.6697727719221644}\nretrain from [ 20120405  to   20140428  ]\npredict status: "
      },
      {
       "output_type": "stream",
       "stream": "stdout",
       "text": " 2014-04-29 00:00:00  signal : NN duration time :  {'SS': 2.0572360590335395, 'LL': 1.7153147772682262, 'NN': 4.7321821125865196}\n"
      },
      {
       "output_type": "stream",
       "stream": "stdout",
       "text": "retrain from [ 20120406  to   20140429  ]\npredict status: "
      },
      {
       "output_type": "stream",
       "stream": "stdout",
       "text": " 2014-04-30 00:00:00  signal : SS duration time :  {'SS': 2.0572797740368127, 'LL': 1.6954956339632339, 'NN': 4.3998331876224039}\nretrain from [ 20120409  to   20140430  ]\npredict status: "
      },
      {
       "output_type": "stream",
       "stream": "stdout",
       "text": " 2014-05-05 00:00:00  signal : LL duration time :  {'SS': 1.9490501635267763, 'LL': 1.7542818243676108, 'NN': 4.3879845051384043}\nretrain from [ 20120410  to   20140505  ]\npredict status: "
      },
      {
       "output_type": "stream",
       "stream": "stdout",
       "text": " 2014-05-06 00:00:00  signal : SS duration time :  {'SS': 1.9314602707252806, 'LL': 1.6279115524022367, 'NN': 3.874354283026038}\nretrain from [ 20120411  to   20140506  ]\npredict status: "
      },
      {
       "output_type": "stream",
       "stream": "stdout",
       "text": " 2014-05-07 00:00:00  signal : NN duration time :  {'SS': 1.9348443835500655, 'LL': 1.631475898570784, 'NN': 3.8601221122725788}\nretrain from [ 20120412  to   20140507  ]\npredict status: "
      },
      {
       "output_type": "stream",
       "stream": "stdout",
       "text": " 2014-05-08 00:00:00  signal : SS duration time :  {'SS': 1.9596950202044252, 'LL': 1.637319113338864, 'NN': 3.8298563602671534}\nretrain from [ 20120413  to   20140508  ]\npredict status: "
      },
      {
       "output_type": "stream",
       "stream": "stdout",
       "text": " 2014-05-09 00:00:00  signal : SS duration time :  {'SS': 2.0373624162151565, 'LL': 1.7100416970882018, 'NN': 4.2341569402651471}\nretrain from [ 20120416  to   20140509  ]\npredict status: "
      },
      {
       "output_type": "stream",
       "stream": "stdout",
       "text": " 2014-05-12 00:00:00  signal : SS duration time :  {'SS': 2.0959011642088745, 'LL': 1.754975923152996, 'NN': 4.6184426763903366}\nretrain from [ 20120417  to   20140512  ]\npredict status: "
      },
      {
       "output_type": "stream",
       "stream": "stdout",
       "text": " 2014-05-13 00:00:00  signal : LL duration time :  {'SS': 2.0984430451568743, 'LL': 1.7625900001700729, 'NN': 4.8059164595265811}\nretrain from [ 20120418  to   20140513  ]\npredict status: "
      },
      {
       "output_type": "stream",
       "stream": "stdout",
       "text": " 2014-05-14 00:00:00  signal : SS duration time :  {'SS': 2.1280210257095091, 'LL': 1.7392987555419455, 'NN': 4.7355187059098967}\nretrain from [ 20120419  to   20140514  ]\npredict status: "
      },
      {
       "output_type": "stream",
       "stream": "stdout",
       "text": " 2014-05-15 00:00:00  signal : NN duration time :  {'SS': 2.0698825655377422, 'LL': 1.724628185830928, 'NN': 4.2696789279422465}\nretrain from [ 20120420  to   20140515  ]\npredict status: "
      },
      {
       "output_type": "stream",
       "stream": "stdout",
       "text": " 2014-05-16 00:00:00  signal : NN duration time :  {'SS': 2.0819440464306718, 'LL': 1.7156017806139165, 'NN': 4.4257565897650126}\nretrain from [ 20120423  to   20140516  ]\npredict status: "
      },
      {
       "output_type": "stream",
       "stream": "stdout",
       "text": " 2014-05-19 00:00:00  signal : NN duration time :  {'SS': 2.0563565419257359, 'LL': 1.6818593652161173, 'NN': 4.120022965885342}\nretrain from [ 20120424  to   20140519  ]\npredict status: "
      },
      {
       "output_type": "stream",
       "stream": "stdout",
       "text": " 2014-05-20 00:00:00  signal : NN duration time :  {'SS': 2.0057567490232584, 'LL': 1.7299289165129128, 'NN': 4.2678989645985572}\nretrain from [ 20120425  to   20140520  ]\npredict status: "
      },
      {
       "output_type": "stream",
       "stream": "stdout",
       "text": " 2014-05-21 00:00:00  signal : NN duration time :  {'SS': 2.0432008141454463, 'LL': 1.7721315798730808, 'NN': 4.6632796623449471}\nretrain from [ 20120426  to   20140521  ]\npredict status: "
      },
      {
       "output_type": "stream",
       "stream": "stdout",
       "text": " 2014-05-22 00:00:00  signal : NN duration time :  {'SS': 2.0393258594338257, 'LL': 1.7768810500204661, 'NN': 4.6813069625861861}\nretrain from [ 20120427  to   20140522  ]\npredict status: "
      },
      {
       "output_type": "stream",
       "stream": "stdout",
       "text": " 2014-05-23 00:00:00  signal : LL duration time :  {'SS': 2.0561037014581633, 'LL': 1.7786579227919657, 'NN': 4.6885160045055132}\nretrain from [ 20120502  to   20140523  ]\npredict status: "
      },
      {
       "output_type": "stream",
       "stream": "stdout",
       "text": " 2014-05-26 00:00:00  signal : NN duration time :  {'SS': 2.020078699889698, 'LL': 1.6877490073551675, 'NN': 4.1804384352432331}\nretrain from [ 20120503  to   20140526  ]\npredict status: "
      },
      {
       "output_type": "stream",
       "stream": "stdout",
       "text": " 2014-05-27 00:00:00  signal : LL duration time :  {'SS': 1.999462256454638, 'LL': 1.7085935498975069, 'NN': 4.0151012797612893}\nretrain from [ 20120504  to   20140527  ]\npredict status: "
      },
      {
       "output_type": "stream",
       "stream": "stdout",
       "text": " 2014-05-28 00:00:00  signal : LL duration time :  {'SS': 2.0053561959508248, 'LL': 1.7267467761207469, 'NN': 4.161884206426925}\nretrain from [ 20120507  to   20140528  ]\npredict status: "
      },
      {
       "output_type": "stream",
       "stream": "stdout",
       "text": " 2014-05-29 00:00:00  signal : LL duration time :  {'SS': 1.9518411800550746, 'LL': 1.9008460941913148, 'NN': 4.7375019237335847}\n"
      },
      {
       "output_type": "stream",
       "stream": "stdout",
       "text": "retrain from [ 20120508  to   20140529  ]\npredict status: "
      },
      {
       "output_type": "stream",
       "stream": "stdout",
       "text": " 2014-05-30 00:00:00  signal : SS duration time :  {'SS': 1.9341421028715435, 'LL': 1.9636730898889496, 'NN': 5.187802371724147}\nretrain from [ 20120509  to   20140530  ]\npredict status: "
      },
      {
       "output_type": "stream",
       "stream": "stdout",
       "text": " 2014-06-03 00:00:00  signal : SS duration time :  {'SS': 1.935211246917367, 'LL': 1.9310558579044701, 'NN': 4.7411277990531007}\nretrain from [ 20120510  to   20140603  ]\npredict status: "
      },
      {
       "output_type": "stream",
       "stream": "stdout",
       "text": " 2014-06-04 00:00:00  signal : LL duration time :  {'SS': 5.7101226338314861, 'LL': 2.0645223539290791, 'NN': 4.3052587000252585}\nretrain from [ 20120511  to   20140604  ]\npredict status: "
      },
      {
       "output_type": "stream",
       "stream": "stdout",
       "text": " 2014-06-05 00:00:00  signal : LL duration time :  {'SS': 5.3640040464571141, 'LL': 2.1021356553251129, 'NN': 4.7923924486214871}\nretrain from [ 20120514  to   20140605  ]\npredict status: "
      },
      {
       "output_type": "stream",
       "stream": "stdout",
       "text": " 2014-06-06 00:00:00  signal : LL duration time :  {'SS': 1.8669485091737164, 'LL': 1.9984946375523989, 'NN': 5.1972877316516177}\nretrain from [ 20120515  to   20140606  ]\npredict status: "
      },
      {
       "output_type": "stream",
       "stream": "stdout",
       "text": " 2014-06-09 00:00:00  signal : NN duration time :  {'SS': 5.8678614237780184, 'LL': 2.1731175343236311, 'NN': 4.949229662635533}\nretrain from [ 20120516  to   20140609  ]\npredict status: "
      },
      {
       "output_type": "stream",
       "stream": "stdout",
       "text": " 2014-06-10 00:00:00  signal : NN duration time :  {'SS': 5.8781762325259459, 'LL': 2.1567865862472453, 'NN': 4.9191918562622918}\nretrain from [ 20120517  to   20140610  ]\npredict status: "
      },
      {
       "output_type": "stream",
       "stream": "stdout",
       "text": " 2014-06-11 00:00:00  signal : NN duration time :  {'SS': 5.7698589305256025, 'LL': 2.1707646384571024, 'NN': 4.9352528412853536}\nretrain from [ 20120518  to   20140611  ]\npredict status: "
      },
      {
       "output_type": "stream",
       "stream": "stdout",
       "text": " 2014-06-12 00:00:00  signal : LL duration time :  {'SS': 1.8611087379670828, 'LL': 1.9981256097911346, 'NN': 4.9154126204598168}\nretrain from [ 20120521  to   20140612  ]\npredict status: "
      },
      {
       "output_type": "stream",
       "stream": "stdout",
       "text": " 2014-06-13 00:00:00  signal : NN duration time :  {'SS': 5.4675173815843676, 'LL': 2.1944485098267106, 'NN': 4.8736148575461673}\nretrain from [ 20120522  to   20140613  ]\npredict status: "
      },
      {
       "output_type": "stream",
       "stream": "stdout",
       "text": " 2014-06-16 00:00:00  signal : SS duration time :  {'SS': 1.8669178433510749, 'LL': 1.952304961507852, 'NN': 4.5492332884324016}\nretrain from [ 20120523  to   20140616  ]\npredict status: "
      },
      {
       "output_type": "stream",
       "stream": "stdout",
       "text": " 2014-06-17 00:00:00  signal : NN duration time :  {'SS': 1.8285244480598095, 'LL': 1.7157616281078485, 'NN': 3.7850836463805142}\nretrain from [ 20120524  to   20140617  ]\npredict status: "
      },
      {
       "output_type": "stream",
       "stream": "stdout",
       "text": " 2014-06-18 00:00:00  signal : NN duration time :  {'SS': 1.7922717006788731, 'LL': 1.6685277425729066, 'NN': 3.7729936422400656}\nretrain from [ 20120525  to   20140618  ]\npredict status: "
      },
      {
       "output_type": "stream",
       "stream": "stdout",
       "text": " 2014-06-19 00:00:00  signal : NN duration time :  {'SS': 1.7827913587423396, 'LL': 1.6722207265968214, 'NN': 3.7521257996803916}\nretrain from [ 20120528  to   20140619  ]\npredict status: "
      },
      {
       "output_type": "stream",
       "stream": "stdout",
       "text": " 2014-06-20 00:00:00  signal : NN duration time :  {'SS': 1.7916481667124338, 'LL': 1.688926474308176, 'NN': 3.7440573640489609}\nretrain from [ 20120529  to   20140620  ]\npredict status: "
      },
      {
       "output_type": "stream",
       "stream": "stdout",
       "text": " 2014-06-23 00:00:00  signal : LL duration time :  {'SS': 1.7741745639779369, 'LL': 1.6661632086792681, 'NN': 3.7207725400867631}\nretrain from [ 20120530  to   20140623  ]\npredict status: "
      },
      {
       "output_type": "stream",
       "stream": "stdout",
       "text": " 2014-06-24 00:00:00  signal : LL duration time :  {'SS': 1.7706812408254382, 'LL': 1.6850111516045119, 'NN': 3.6572950543212221}\nretrain from [ 20120531  to   20140624  ]\npredict status: "
      },
      {
       "output_type": "stream",
       "stream": "stdout",
       "text": " 2014-06-25 00:00:00  signal : NN duration time :  {'SS': 1.7757658566748058, 'LL': 1.6632272610495558, 'NN': 3.5816961424329801}\nretrain from [ 20120601  to   20140625  ]\npredict status: "
      },
      {
       "output_type": "stream",
       "stream": "stdout",
       "text": " 2014-06-26 00:00:00  signal : NN duration time :  {'SS': 1.7593593628900439, 'LL': 1.6398473950831085, 'NN': 3.5358972746832027}\nretrain from [ 20120604  to   20140626  ]\npredict status: "
      },
      {
       "output_type": "stream",
       "stream": "stdout",
       "text": " 2014-06-27 00:00:00  signal : LL duration time :  {'SS': 1.8813571518765047, 'LL': 1.9547966591131558, 'NN': 4.7951912896744924}\n"
      },
      {
       "output_type": "stream",
       "stream": "stdout",
       "text": "retrain from [ 20120605  to   20140627  ]\npredict status: "
      },
      {
       "output_type": "stream",
       "stream": "stdout",
       "text": " 2014-06-30 00:00:00  signal : NN duration time :  {'SS': 4.8767928202732822, 'LL': 2.227493343802486, 'NN': 4.763790786615445}\nretrain from [ 20120606  to   20140630  ]\npredict status: "
      },
      {
       "output_type": "stream",
       "stream": "stdout",
       "text": " 2014-07-01 00:00:00  signal : NN duration time :  {'SS': 4.9040777691901916, 'LL': 2.1521496927328108, 'NN': 4.9647707478892462}\nretrain from [ 20120607  to   20140701  ]\npredict status: "
      },
      {
       "output_type": "stream",
       "stream": "stdout",
       "text": " 2014-07-02 00:00:00  signal : NN duration time :  {'SS': 4.914906928120061, 'LL': 2.0690990626412589, 'NN': 5.1090566613209782}\nretrain from [ 20120608  to   20140702  ]\npredict status: "
      },
      {
       "output_type": "stream",
       "stream": "stdout",
       "text": " 2014-07-03 00:00:00  signal : NN duration time :  {'SS': 4.902094257602406, 'LL': 2.104871883693836, 'NN': 5.2616402107309579}\nretrain from [ 20120611  to   20140703  ]\npredict status: "
      },
      {
       "output_type": "stream",
       "stream": "stdout",
       "text": " 2014-07-04 00:00:00  signal : NN duration time :  {'SS': 4.9621374345013995, 'LL': 2.1388038124045265, 'NN': 4.9623655737861974}\nretrain from [ 20120612  to   20140704  ]\npredict status: "
      },
      {
       "output_type": "stream",
       "stream": "stdout",
       "text": " 2014-07-07 00:00:00  signal : NN duration time :  {'SS': 4.9528467493907451, 'LL': 2.1435377204980797, 'NN': 4.8988417279372198}\nretrain from [ 20120613  to   20140707  ]\npredict status: "
      },
      {
       "output_type": "stream",
       "stream": "stdout",
       "text": " 2014-07-08 00:00:00  signal : LL duration time :  {'SS': 5.15630743238719, 'LL': 2.1178892865269536, 'NN': 4.9933660140015173}\nretrain from [ 20120614  to   20140708  ]\npredict status: "
      },
      {
       "output_type": "stream",
       "stream": "stdout",
       "text": " 2014-07-09 00:00:00  signal : NN duration time :  {'SS': 5.097550203220063, 'LL': 2.0775243384298014, 'NN': 4.9371193767589681}\nretrain from [ 20120615  to   20140709  ]\npredict status: "
      },
      {
       "output_type": "stream",
       "stream": "stdout",
       "text": " 2014-07-10 00:00:00  signal : NN duration time :  {'SS': 5.1569698592011468, 'LL': 2.068989621804882, 'NN': 4.9636969450782384}\nretrain from [ 20120618  to   20140710  ]\npredict status: "
      },
      {
       "output_type": "stream",
       "stream": "stdout",
       "text": " 2014-07-11 00:00:00  signal : NN duration time :  {'SS': 4.8294522373374251, 'LL': 2.0950650663248411, 'NN': 4.8835476815498469}\nretrain from [ 20120619  to   20140711  ]\npredict status: "
      },
      {
       "output_type": "stream",
       "stream": "stdout",
       "text": " 2014-07-14 00:00:00  signal : NN duration time :  {'SS': 4.7196287321081272, 'LL': 2.1046700811637877, 'NN': 4.8298788759559566}\nretrain from [ 20120620  to   20140714  ]\npredict status: "
      },
      {
       "output_type": "stream",
       "stream": "stdout",
       "text": " 2014-07-15 00:00:00  signal : NN duration time :  {'SS': 4.7208860498264835, 'LL': 2.1029150155388749, 'NN': 4.9048202553142595}\nretrain from [ 20120621  to   20140715  ]\npredict status: "
      },
      {
       "output_type": "stream",
       "stream": "stdout",
       "text": " 2014-07-16 00:00:00  signal : SS duration time :  {'SS': 1.627828699971551, 'LL': 1.703997952064821, 'NN': 3.1725593759134516}\nretrain from [ 20120625  to   20140716  ]\npredict status: "
      },
      {
       "output_type": "stream",
       "stream": "stdout",
       "text": " 2014-07-17 00:00:00  signal : NN duration time :  {'SS': 5.8671986554508022, 'LL': 2.1727405179341996, 'NN': 4.4524993041542231}\nretrain from [ 20120626  to   20140717  ]\npredict status: "
      },
      {
       "output_type": "stream",
       "stream": "stdout",
       "text": " 2014-07-18 00:00:00  signal : NN duration time :  {'SS': 5.4182312017001806, 'LL': 2.0719187958109258, 'NN': 4.6532644409301041}\nretrain from [ 20120627  to   20140718  ]\npredict status: "
      },
      {
       "output_type": "stream",
       "stream": "stdout",
       "text": " 2014-07-21 00:00:00  signal : NN duration time :  {'SS': 5.4653076328021051, 'LL': 2.0604665905154875, 'NN': 4.7612671389958727}\nretrain from [ 20120628  to   20140721  ]\npredict status: "
      },
      {
       "output_type": "stream",
       "stream": "stdout",
       "text": " 2014-07-22 00:00:00  signal : NN duration time :  {'SS': 5.4989654757297206, 'LL': 2.0648954125326022, 'NN': 4.7529693453981769}\nretrain from [ 20120629  to   20140722  ]\npredict status: "
      },
      {
       "output_type": "stream",
       "stream": "stdout",
       "text": " 2014-07-23 00:00:00  signal : LL duration time :  {'SS': 5.5707250251686045, 'LL': 2.0641437929325845, 'NN': 4.5233778957704214}\nretrain from [ 20120702  to   20140723  ]\npredict status: "
      },
      {
       "output_type": "stream",
       "stream": "stdout",
       "text": " 2014-07-24 00:00:00  signal : NN duration time :  {'SS': 5.6011974162390876, 'LL': 2.052603193320425, 'NN': 4.3305401919107132}\nretrain from [ 20120703  to   20140724  ]\npredict status: "
      },
      {
       "output_type": "stream",
       "stream": "stdout",
       "text": " 2014-07-25 00:00:00  signal : NN duration time :  {'SS': 5.4868768025898804, 'LL': 2.037428858482774, 'NN': 4.6686391556157796}\n"
      },
      {
       "output_type": "stream",
       "stream": "stdout",
       "text": "retrain from [ 20120704  to   20140725  ]\npredict status: "
      },
      {
       "output_type": "stream",
       "stream": "stdout",
       "text": " 2014-07-28 00:00:00  signal : NN duration time :  {'SS': 5.5606642375001583, 'LL': 2.0374455542448344, 'NN': 4.8844785901158794}\nretrain from [ 20120705  to   20140728  ]\npredict status: "
      },
      {
       "output_type": "stream",
       "stream": "stdout",
       "text": " 2014-07-29 00:00:00  signal : NN duration time :  {'SS': 5.6133353991480366, 'LL': 2.0816344566951681, 'NN': 4.5509451901240245}\nretrain from [ 20120706  to   20140729  ]\npredict status: "
      },
      {
       "output_type": "stream",
       "stream": "stdout",
       "text": " 2014-07-30 00:00:00  signal : NN duration time :  {'SS': 1.6190901171129406, 'LL': 1.7411271171011293, 'NN': 3.2097246963413637}\nretrain from [ 20120709  to   20140730  ]\npredict status: "
      },
      {
       "output_type": "stream",
       "stream": "stdout",
       "text": " 2014-07-31 00:00:00  signal : NN duration time :  {'SS': 6.2487900796698082, 'LL': 2.1521257296711571, 'NN': 4.4776006987839141}\nretrain from [ 20120710  to   20140731  ]\npredict status: "
      },
      {
       "output_type": "stream",
       "stream": "stdout",
       "text": " 2014-08-01 00:00:00  signal : NN duration time :  {'SS': 6.1785805107136076, 'LL': 2.1611924980636315, 'NN': 4.4492428246797306}\nretrain from [ 20120711  to   20140801  ]\npredict status: "
      },
      {
       "output_type": "stream",
       "stream": "stdout",
       "text": " 2014-08-04 00:00:00  signal : NN duration time :  {'SS': 6.0999546002011877, 'LL': 2.1582710868761499, 'NN': 4.4866108684995059}\nretrain from [ 20120712  to   20140804  ]\npredict status: "
      },
      {
       "output_type": "stream",
       "stream": "stdout",
       "text": " 2014-08-05 00:00:00  signal : NN duration time :  {'SS': 1.5867419596515668, 'LL': 1.7169245266115765, 'NN': 3.1765726014978437}\nretrain from [ 20120713  to   20140805  ]\npredict status: "
      },
      {
       "output_type": "stream",
       "stream": "stdout",
       "text": " 2014-08-06 00:00:00  signal : NN duration time :  {'SS': 1.5799851076590241, 'LL': 1.7080739736887518, 'NN': 3.1745576254079761}\nretrain from [ 20120716  to   20140806  ]\npredict status: "
      },
      {
       "output_type": "stream",
       "stream": "stdout",
       "text": " 2014-08-07 00:00:00  signal : LL duration time :  {'SS': 1.9161721996445666, 'LL': 1.6398483766600378, 'NN': 2.9262867647803361}\nretrain from [ 20120717  to   20140807  ]\npredict status: "
      },
      {
       "output_type": "stream",
       "stream": "stdout",
       "text": " 2014-08-08 00:00:00  signal : LL duration time :  {'SS': 3.1778812013465507, 'LL': 2.4700444174737313, 'NN': 1.8288239982974719}\nretrain from [ 20120718  to   20140808  ]\npredict status: "
      },
      {
       "output_type": "stream",
       "stream": "stdout",
       "text": " 2014-08-11 00:00:00  signal : NN duration time :  {'SS': 1.6071832768417313, 'LL': 1.6879541209964462, 'NN': 3.153379078896192}\nretrain from [ 20120719  to   20140811  ]\npredict status: "
      },
      {
       "output_type": "stream",
       "stream": "stdout",
       "text": " 2014-08-12 00:00:00  signal : NN duration time :  {'SS': 1.6023354412590736, 'LL': 1.680348031606548, 'NN': 3.1835111328007666}\nretrain from [ 20120720  to   20140812  ]\npredict status: "
      },
      {
       "output_type": "stream",
       "stream": "stdout",
       "text": " 2014-08-13 00:00:00  signal : NN duration time :  {'SS': 1.5977443663252908, 'LL': 1.6753537899394186, 'NN': 3.1860380180728289}\nretrain from [ 20120723  to   20140813  ]\npredict status: "
      },
      {
       "output_type": "stream",
       "stream": "stdout",
       "text": " 2014-08-14 00:00:00  signal : SS duration time :  {'SS': 1.6405389031376563, 'LL': 1.6364380650221375, 'NN': 2.272064571385993}\nretrain from [ 20120724  to   20140814  ]\npredict status: "
      },
      {
       "output_type": "stream",
       "stream": "stdout",
       "text": " 2014-08-15 00:00:00  signal : NN duration time :  {'SS': 1.6784262384743653, 'LL': 2.0220633951018687, 'NN': 3.2154332938110928}\nretrain from [ 20120725  to   20140815  ]\npredict status: "
      },
      {
       "output_type": "stream",
       "stream": "stdout",
       "text": " 2014-08-18 00:00:00  signal : NN duration time :  {'SS': 1.6376410991475034, 'LL': 1.8902898465786051, 'NN': 3.2374139386837717}\nretrain from [ 20120726  to   20140818  ]\npredict status: "
      },
      {
       "output_type": "stream",
       "stream": "stdout",
       "text": " 2014-08-19 00:00:00  signal : LL duration time :  {'SS': 1.6478535046002771, 'LL': 1.9541502737136121, 'NN': 3.3015912935825313}\nretrain from [ 20120727  to   20140819  ]\npredict status: "
      },
      {
       "output_type": "stream",
       "stream": "stdout",
       "text": " 2014-08-20 00:00:00  signal : LL duration time :  {'SS': 1.638441303849874, 'LL': 1.6919791787372194, 'NN': 2.3269608881086614}\nretrain from [ 20120730  to   20140820  ]\npredict status: "
      },
      {
       "output_type": "stream",
       "stream": "stdout",
       "text": " 2014-08-21 00:00:00  signal : NN duration time :  {'SS': 1.6477844489024134, 'LL': 1.7081168706227343, 'NN': 2.3619624046902516}\nretrain from [ 20120731  to   20140821  ]\npredict status: "
      },
      {
       "output_type": "stream",
       "stream": "stdout",
       "text": " 2014-08-22 00:00:00  signal : LL duration time :  {'SS': 1.6392772588492377, 'LL': 1.7423578470048089, 'NN': 2.3554180638113862}\n"
      },
      {
       "output_type": "stream",
       "stream": "stdout",
       "text": "retrain from [ 20120801  to   20140822  ]\npredict status: "
      },
      {
       "output_type": "stream",
       "stream": "stdout",
       "text": " 2014-08-25 00:00:00  signal : SS duration time :  {'SS': 1.6495855603847807, 'LL': 1.697108697376658, 'NN': 2.3470710085631272}\nretrain from [ 20120802  to   20140825  ]\npredict status: "
      },
      {
       "output_type": "stream",
       "stream": "stdout",
       "text": " 2014-08-26 00:00:00  signal : SS duration time :  {'SS': 1.6439969224713007, 'LL': 1.7106079909245366, 'NN': 2.3498083841905242}\nretrain from [ 20120803  to   20140826  ]\npredict status: "
      },
      {
       "output_type": "stream",
       "stream": "stdout",
       "text": " 2014-08-27 00:00:00  signal : SS duration time :  {'SS': 1.6679434742960886, 'LL': 1.710506445572294, 'NN': 2.3763465369623238}\nretrain from [ 20120806  to   20140827  ]\npredict status: "
      },
      {
       "output_type": "stream",
       "stream": "stdout",
       "text": " 2014-08-28 00:00:00  signal : NN duration time :  {'SS': 1.6785115999458935, 'LL': 1.7235542141536755, 'NN': 2.3832849453982492}\nretrain from [ 20120807  to   20140828  ]\npredict status: "
      },
      {
       "output_type": "stream",
       "stream": "stdout",
       "text": " 2014-08-29 00:00:00  signal : SS duration time :  {'SS': 1.6927625357936844, 'LL': 1.6789757597762449, 'NN': 2.3516328417014751}\nretrain from [ 20120808  to   20140829  ]\npredict status: "
      },
      {
       "output_type": "stream",
       "stream": "stdout",
       "text": " 2014-09-01 00:00:00  signal : NN duration time :  {'SS': 1.6879005935295202, 'LL': 1.7031747164211608, 'NN': 2.3589644812970172}\nretrain from [ 20120809  to   20140901  ]\npredict status: "
      },
      {
       "output_type": "stream",
       "stream": "stdout",
       "text": " 2014-09-02 00:00:00  signal : NN duration time :  {'SS': 1.6957428158593766, 'LL': 1.7189822757647346, 'NN': 2.3375753302014317}\nretrain from [ 20120810  to   20140902  ]\npredict status: "
      },
      {
       "output_type": "stream",
       "stream": "stdout",
       "text": " 2014-09-03 00:00:00  signal : NN duration time :  {'SS': 1.6844618868391732, 'LL': 1.713997393200327, 'NN': 2.3323447527034507}\nretrain from [ 20120813  to   20140903  ]\npredict status: "
      },
      {
       "output_type": "stream",
       "stream": "stdout",
       "text": " 2014-09-04 00:00:00  signal : SS duration time :  {'SS': 1.6955537024407166, 'LL': 1.7087803307583378, 'NN': 2.3088499258818151}\nretrain from [ 20120814  to   20140904  ]\npredict status: "
      },
      {
       "output_type": "stream",
       "stream": "stdout",
       "text": " 2014-09-05 00:00:00  signal : LL duration time :  {'SS': 1.6833746107213932, 'LL': 1.808303421125208, 'NN': 2.3314005565194202}\nretrain from [ 20120815  to   20140905  ]\npredict status: "
      },
      {
       "output_type": "stream",
       "stream": "stdout",
       "text": " 2014-09-09 00:00:00  signal : SS duration time :  {'SS': 1.6833085798668268, 'LL': 1.7793606397003814, 'NN': 2.3139606420995018}\nretrain from [ 20120816  to   20140909  ]\npredict status: "
      },
      {
       "output_type": "stream",
       "stream": "stdout",
       "text": " 2014-09-10 00:00:00  signal : NN duration time :  {'SS': 1.657712209818496, 'LL': 1.7734905564298187, 'NN': 2.3007818945610388}\nretrain from [ 20120817  to   20140910  ]\npredict status: "
      },
      {
       "output_type": "stream",
       "stream": "stdout",
       "text": " 2014-09-11 00:00:00  signal : LL duration time :  {'SS': 1.6550651112661663, 'LL': 1.7230021029451157, 'NN': 2.2629702519726904}\nretrain from [ 20120820  to   20140911  ]\npredict status: "
      },
      {
       "output_type": "stream",
       "stream": "stdout",
       "text": " 2014-09-12 00:00:00  signal : LL duration time :  {'SS': 1.686012921023585, 'LL': 1.6888876106272914, 'NN': 2.2432535440015853}\nretrain from [ 20120821  to   20140912  ]\npredict status: "
      },
      {
       "output_type": "stream",
       "stream": "stdout",
       "text": " 2014-09-15 00:00:00  signal : SS duration time :  {'SS': 1.6927310590857803, 'LL': 1.6702651693573587, 'NN': 2.2748215553159037}\nretrain from [ 20120822  to   20140915  ]\npredict status: "
      },
      {
       "output_type": "stream",
       "stream": "stdout",
       "text": " 2014-09-16 00:00:00  signal : SS duration time :  {'SS': 1.6805142480981501, 'LL': 1.6910414279059529, 'NN': 2.2832731162038891}\nretrain from [ 20120823  to   20140916  ]\npredict status: "
      },
      {
       "output_type": "stream",
       "stream": "stdout",
       "text": " 2014-09-17 00:00:00  signal : SS duration time :  {'SS': 1.6751350616649416, 'LL': 1.6766556712876159, 'NN': 2.3121047194189028}\nretrain from [ 20120824  to   20140917  ]\npredict status: "
      },
      {
       "output_type": "stream",
       "stream": "stdout",
       "text": " 2014-09-18 00:00:00  signal : NN duration time :  {'SS': 1.6522874308358655, 'LL': 1.6776915652958704, 'NN': 2.3047485516292983}\nretrain from [ 20120827  to   20140918  ]\npredict status: "
      },
      {
       "output_type": "stream",
       "stream": "stdout",
       "text": " 2014-09-19 00:00:00  signal : NN duration time :  {'SS': 1.6253502098048989, 'LL': 1.6901895556718096, 'NN': 2.3314234640669502}\nretrain from [ 20120828  to   20140919  ]\npredict status: "
      },
      {
       "output_type": "stream",
       "stream": "stdout",
       "text": " 2014-09-22 00:00:00  signal : NN duration time :  {'SS': 1.6301372783542456, 'LL': 1.6917130395580411, 'NN': 2.3564503096275056}\n"
      },
      {
       "output_type": "stream",
       "stream": "stdout",
       "text": "retrain from [ 20120829  to   20140922  ]\npredict status: "
      },
      {
       "output_type": "stream",
       "stream": "stdout",
       "text": " 2014-09-23 00:00:00  signal : SS duration time :  {'SS': 1.6259963158376662, 'LL': 1.6988691754698926, 'NN': 2.3180124160243372}\nretrain from [ 20120830  to   20140923  ]\npredict status: "
      },
      {
       "output_type": "stream",
       "stream": "stdout",
       "text": " 2014-09-24 00:00:00  signal : SS duration time :  {'SS': 1.6408380867492183, 'LL': 1.7723152402433406, 'NN': 2.3556658924495335}\nretrain from [ 20120831  to   20140924  ]\npredict status: "
      },
      {
       "output_type": "stream",
       "stream": "stdout",
       "text": " 2014-09-25 00:00:00  signal : NN duration time :  {'SS': 1.6454242617629802, 'LL': 1.6943671690527384, 'NN': 2.3406075618142781}\nretrain from [ 20120903  to   20140925  ]\npredict status: "
      },
      {
       "output_type": "stream",
       "stream": "stdout",
       "text": " 2014-09-26 00:00:00  signal : SS duration time :  {'SS': 1.6534742232953008, 'LL': 1.6357382919410379, 'NN': 2.3250679144531574}\nretrain from [ 20120904  to   20140926  ]\npredict status: "
      },
      {
       "output_type": "stream",
       "stream": "stdout",
       "text": " 2014-09-29 00:00:00  signal : NN duration time :  {'SS': 1.6480492971310552, 'LL': 1.5939747591860842, 'NN': 2.3261479531272684}\nretrain from [ 20120905  to   20140929  ]\npredict status: "
      },
      {
       "output_type": "stream",
       "stream": "stdout",
       "text": " 2014-09-30 00:00:00  signal : SS duration time :  {'SS': 1.6510263980895368, 'LL': 1.5457299089022647, 'NN': 2.3233651699219622}\nretrain from [ 20120906  to   20140930  ]\npredict status: "
      },
      {
       "output_type": "stream",
       "stream": "stdout",
       "text": " 2014-10-08 00:00:00  signal : NN duration time :  {'SS': 1.6542198355337179, 'LL': 1.5450532188921202, 'NN': 2.3352009196600387}\nretrain from [ 20120907  to   20141008  ]\npredict status: "
      },
      {
       "output_type": "stream",
       "stream": "stdout",
       "text": " 2014-10-09 00:00:00  signal : NN duration time :  {'SS': 1.6317526191637253, 'LL': 1.5426774006246813, 'NN': 2.3532844135195958}\nretrain from [ 20120910  to   20141009  ]\npredict status: "
      },
      {
       "output_type": "stream",
       "stream": "stdout",
       "text": " 2014-10-10 00:00:00  signal : SS duration time :  {'SS': 1.6292455418368628, 'LL': 1.5368691453566468, 'NN': 2.3142613334446578}\nretrain from [ 20120911  to   20141010  ]\npredict status: "
      },
      {
       "output_type": "stream",
       "stream": "stdout",
       "text": " 2014-10-13 00:00:00  signal : SS duration time :  {'SS': 1.6343921007305509, 'LL': 1.5446108417304827, 'NN': 2.3219039620297495}\nretrain from [ 20120912  to   20141013  ]\npredict status: "
      },
      {
       "output_type": "stream",
       "stream": "stdout",
       "text": " 2014-10-14 00:00:00  signal : NN duration time :  {'SS': 1.6397218143597605, 'LL': 1.5481569194754037, 'NN': 2.3245373214474463}\nretrain from [ 20120913  to   20141014  ]\npredict status: "
      },
      {
       "output_type": "stream",
       "stream": "stdout",
       "text": " 2014-10-15 00:00:00  signal : SS duration time :  {'SS': 1.6516102978511695, 'LL': 1.5458148272693533, 'NN': 2.278933207641566}\nretrain from [ 20120914  to   20141015  ]\npredict status: "
      },
      {
       "output_type": "stream",
       "stream": "stdout",
       "text": " 2014-10-16 00:00:00  signal : SS duration time :  {'SS': 1.6571577308646608, 'LL': 1.538081535232821, 'NN': 2.3025667283400795}\nretrain from [ 20120917  to   20141016  ]\npredict status: "
      },
      {
       "output_type": "stream",
       "stream": "stdout",
       "text": " 2014-10-17 00:00:00  signal : SS duration time :  {'SS': 1.6676293031778269, 'LL': 1.5411894491512537, 'NN': 2.3163298312340137}\nretrain from [ 20120918  to   20141017  ]\npredict status: "
      },
      {
       "output_type": "stream",
       "stream": "stdout",
       "text": " 2014-10-20 00:00:00  signal : NN duration time :  {'SS': 1.6677651834898788, 'LL': 1.5358489683338306, 'NN': 2.271860971582186}\nretrain from [ 20120919  to   20141020  ]\npredict status: "
      },
      {
       "output_type": "stream",
       "stream": "stdout",
       "text": " 2014-10-21 00:00:00  signal : NN duration time :  {'SS': 1.6813738171077421, 'LL': 1.5469834737650945, 'NN': 2.3025232607701649}\nretrain from [ 20120920  to   20141021  ]\npredict status: "
      },
      {
       "output_type": "stream",
       "stream": "stdout",
       "text": " 2014-10-22 00:00:00  signal : SS duration time :  {'SS': 1.6783999222819865, 'LL': 1.5158628981857147, 'NN': 2.2734324231434528}\nretrain from [ 20120921  to   20141022  ]\npredict status: "
      },
      {
       "output_type": "stream",
       "stream": "stdout",
       "text": " 2014-10-23 00:00:00  signal : SS duration time :  {'SS': 1.7064760121162361, 'LL': 1.5196025818675687, 'NN': 2.2883053804013094}\nretrain from [ 20120924  to   20141023  ]\npredict status: "
      },
      {
       "output_type": "stream",
       "stream": "stdout",
       "text": " 2014-10-24 00:00:00  signal : NN duration time :  {'SS': 1.6850967240094106, 'LL': 1.5256977740962099, 'NN': 2.2534670396380458}\nretrain from [ 20120925  to   20141024  ]\npredict status: "
      },
      {
       "output_type": "stream",
       "stream": "stdout",
       "text": " 2014-10-27 00:00:00  signal : NN duration time :  {'SS': 1.6918837106352558, 'LL': 1.5202427805183452, 'NN': 2.2681819795584404}\n"
      },
      {
       "output_type": "stream",
       "stream": "stdout",
       "text": "retrain from [ 20120926  to   20141027  ]\npredict status: "
      },
      {
       "output_type": "stream",
       "stream": "stdout",
       "text": " 2014-10-28 00:00:00  signal : NN duration time :  {'SS': 1.715698171140968, 'LL': 1.5169001305289866, 'NN': 2.2812991466386969}\nretrain from [ 20120927  to   20141028  ]\npredict status: "
      },
      {
       "output_type": "stream",
       "stream": "stdout",
       "text": " 2014-10-29 00:00:00  signal : NN duration time :  {'SS': 1.7124097850601026, 'LL': 1.5480522803976962, 'NN': 2.2996682729279496}\nretrain from [ 20120928  to   20141029  ]\npredict status: "
      },
      {
       "output_type": "stream",
       "stream": "stdout",
       "text": " 2014-10-30 00:00:00  signal : SS duration time :  {'SS': 1.6851818985359859, 'LL': 1.5489264516494634, 'NN': 2.3059190356112182}\nretrain from [ 20121008  to   20141030  ]\npredict status: "
      },
      {
       "output_type": "stream",
       "stream": "stdout",
       "text": " 2014-10-31 00:00:00  signal : SS duration time :  {'SS': 1.7188785634807813, 'LL': 1.5480650937125897, 'NN': 2.2818656280044021}\nretrain from [ 20121009  to   20141031  ]\npredict status: "
      },
      {
       "output_type": "stream",
       "stream": "stdout",
       "text": " 2014-11-03 00:00:00  signal : SS duration time :  {'SS': 1.7223515203397217, 'LL': 1.5420746641686782, 'NN': 2.2774980470291317}\nretrain from [ 20121010  to   20141103  ]\npredict status: "
      },
      {
       "output_type": "stream",
       "stream": "stdout",
       "text": " 2014-11-04 00:00:00  signal : NN duration time :  {'SS': 1.7053974217085393, 'LL': 1.546662647017786, 'NN': 2.3068900891630117}\nretrain from [ 20121011  to   20141104  ]\npredict status: "
      },
      {
       "output_type": "stream",
       "stream": "stdout",
       "text": " 2014-11-05 00:00:00  signal : SS duration time :  {'SS': 1.7247907766823636, 'LL': 1.539672741621946, 'NN': 2.3001224065106047}\nretrain from [ 20121012  to   20141105  ]\npredict status: "
      },
      {
       "output_type": "stream",
       "stream": "stdout",
       "text": " 2014-11-06 00:00:00  signal : SS duration time :  {'SS': 1.7180227228623708, 'LL': 1.5356380794201412, 'NN': 2.3251409007223662}\nretrain from [ 20121015  to   20141106  ]\npredict status: "
      },
      {
       "output_type": "stream",
       "stream": "stdout",
       "text": " 2014-11-07 00:00:00  signal : NN duration time :  {'SS': 1.7146924077185133, 'LL': 1.5505434133109144, 'NN': 2.3149042828129125}\nretrain from [ 20121016  to   20141107  ]\npredict status: "
      },
      {
       "output_type": "stream",
       "stream": "stdout",
       "text": " 2014-11-10 00:00:00  signal : SS duration time :  {'SS': 1.7184586568462898, 'LL': 1.5527833055979909, 'NN': 2.3187673327144345}\nretrain from [ 20121017  to   20141110  ]\npredict status: "
      },
      {
       "output_type": "stream",
       "stream": "stdout",
       "text": " 2014-11-11 00:00:00  signal : SS duration time :  {'SS': 1.7244464333114728, 'LL': 1.5537453454677761, 'NN': 2.3136572083244533}\nretrain from [ 20121018  to   20141111  ]\npredict status: "
      },
      {
       "output_type": "stream",
       "stream": "stdout",
       "text": " 2014-11-12 00:00:00  signal : SS duration time :  {'SS': 1.7468866476332556, 'LL': 1.560110580837156, 'NN': 2.3150014606619442}\nretrain from [ 20121019  to   20141112  ]\npredict status: "
      },
      {
       "output_type": "stream",
       "stream": "stdout",
       "text": " 2014-11-13 00:00:00  signal : NN duration time :  {'SS': 1.7388931224145034, 'LL': 1.5640334423099667, 'NN': 2.3017784180281202}\nretrain from [ 20121022  to   20141113  ]\npredict status: "
      },
      {
       "output_type": "stream",
       "stream": "stdout",
       "text": " 2014-11-14 00:00:00  signal : SS duration time :  {'SS': 1.7571665524097919, 'LL': 1.57019467557391, 'NN': 2.2382494216703184}\nretrain from [ 20121023  to   20141114  ]\npredict status: "
      },
      {
       "output_type": "stream",
       "stream": "stdout",
       "text": " 2014-11-17 00:00:00  signal : NN duration time :  {'SS': 1.7489684095594069, 'LL': 1.5669502822497339, 'NN': 2.2512053151918976}\nretrain from [ 20121024  to   20141117  ]\npredict status: "
      },
      {
       "output_type": "stream",
       "stream": "stdout",
       "text": " 2014-11-18 00:00:00  signal : NN duration time :  {'SS': 1.7097693800289964, 'LL': 1.6705184560388981, 'NN': 2.2873261877717432}\nretrain from [ 20121025  to   20141118  ]\npredict status: "
      },
      {
       "output_type": "stream",
       "stream": "stdout",
       "text": " 2014-11-19 00:00:00  signal : NN duration time :  {'SS': 1.7105705810698246, 'LL': 1.6892070600592468, 'NN': 2.2723838274021255}\nretrain from [ 20121026  to   20141119  ]\npredict status: "
      },
      {
       "output_type": "stream",
       "stream": "stdout",
       "text": " 2014-11-20 00:00:00  signal : NN duration time :  {'SS': 1.7337568240541719, 'LL': 1.6828084211451748, 'NN': 2.2775125641677896}\nretrain from [ 20121029  to   20141120  ]\npredict status: "
      },
      {
       "output_type": "stream",
       "stream": "stdout",
       "text": " 2014-11-21 00:00:00  signal : NN duration time :  {'SS': 1.7126275553172037, 'LL': 1.6781946123544935, 'NN': 2.3056349811350878}\nretrain from [ 20121030  to   20141121  ]\npredict status: "
      },
      {
       "output_type": "stream",
       "stream": "stdout",
       "text": " 2014-11-24 00:00:00  signal : NN duration time :  {'SS': 1.704283445862258, 'LL': 1.6899593694652981, 'NN': 2.3121641527655452}\n"
      },
      {
       "output_type": "stream",
       "stream": "stdout",
       "text": "retrain from [ 20121031  to   20141124  ]\npredict status: "
      },
      {
       "output_type": "stream",
       "stream": "stdout",
       "text": " 2014-11-25 00:00:00  signal : NN duration time :  {'SS': 1.6838248656626473, 'LL': 1.7061844503656707, 'NN': 2.3382494344285245}\nretrain from [ 20121101  to   20141125  ]\npredict status: "
      },
      {
       "output_type": "stream",
       "stream": "stdout",
       "text": " 2014-11-26 00:00:00  signal : LL duration time :  {'SS': 1.6795611351478403, 'LL': 1.6348011753462195, 'NN': 2.3016662217320785}\nretrain from [ 20121102  to   20141126  ]\npredict status: "
      },
      {
       "output_type": "stream",
       "stream": "stdout",
       "text": " 2014-11-27 00:00:00  signal : LL duration time :  {'SS': 1.6558143687689844, 'LL': 1.7091924325794197, 'NN': 2.3067721969121497}\nretrain from [ 20121105  to   20141127  ]\npredict status: "
      },
      {
       "output_type": "stream",
       "stream": "stdout",
       "text": " 2014-11-28 00:00:00  signal : LL duration time :  {'SS': 1.6435782925259288, 'LL': 1.7544561521631141, 'NN': 2.3010450676303447}\nretrain from [ 20121106  to   20141128  ]\npredict status: "
      },
      {
       "output_type": "stream",
       "stream": "stdout",
       "text": " 2014-12-01 00:00:00  signal : LL duration time :  {'SS': 1.6364303895175396, 'LL': 1.8554026550281153, 'NN': 2.3209944158357918}\nretrain from [ 20121107  to   20141201  ]\npredict status: "
      },
      {
       "output_type": "stream",
       "stream": "stdout",
       "text": " 2014-12-02 00:00:00  signal : LL duration time :  {'SS': 1.622422972041113, 'LL': 1.9756627785727383, 'NN': 2.3686072783074894}\nretrain from [ 20121108  to   20141202  ]\npredict status: "
      },
      {
       "output_type": "stream",
       "stream": "stdout",
       "text": " 2014-12-03 00:00:00  signal : NN duration time :  {'SS': 1.6026417519434617, 'LL': 1.9525953926874526, 'NN': 2.3736629244732104}\nretrain from [ 20121109  to   20141203  ]\npredict status: "
      },
      {
       "output_type": "stream",
       "stream": "stdout",
       "text": " 2014-12-04 00:00:00  signal : LL duration time :  {'SS': 1.6033632334206003, 'LL': 2.0488248688344073, 'NN': 2.3733395535439326}\nretrain from [ 20121112  to   20141204  ]\npredict status: "
      },
      {
       "output_type": "stream",
       "stream": "stdout",
       "text": " 2014-12-05 00:00:00  signal : SS duration time :  {'SS': 1.6188118417332928, 'LL': 1.9733454015810756, 'NN': 2.3801094399785434}\nretrain from [ 20121113  to   20141205  ]\npredict status: "
      },
      {
       "output_type": "stream",
       "stream": "stdout",
       "text": " 2014-12-08 00:00:00  signal : SS duration time :  {'SS': 1.6220825553193503, 'LL': 2.0785405348949126, 'NN': 2.3943139817199843}\nretrain from [ 20121114  to   20141208  ]\npredict status: "
      },
      {
       "output_type": "stream",
       "stream": "stdout",
       "text": " 2014-12-09 00:00:00  signal : SS duration time :  {'SS': 1.6191331717793784, 'LL': 2.1823423824615515, 'NN': 2.4123515879378701}\nretrain from [ 20121115  to   20141209  ]\npredict status: "
      },
      {
       "output_type": "stream",
       "stream": "stdout",
       "text": " 2014-12-10 00:00:00  signal : SS duration time :  {'SS': 1.6500298905477364, 'LL': 2.0283341625409896, 'NN': 2.4191744374080786}\nretrain from [ 20121116  to   20141210  ]\npredict status: "
      },
      {
       "output_type": "stream",
       "stream": "stdout",
       "text": " 2014-12-11 00:00:00  signal : LL duration time :  {'SS': 1.6426481443111831, 'LL': 2.036387279789365, 'NN': 2.4355891060853727}\nretrain from [ 20121119  to   20141211  ]\npredict status: "
      },
      {
       "output_type": "stream",
       "stream": "stdout",
       "text": " 2014-12-12 00:00:00  signal : LL duration time :  {'SS': 1.6179399412800777, 'LL': 2.0842809528381121, 'NN': 2.4404842847312778}\nretrain from [ 20121120  to   20141212  ]\npredict status: "
      },
      {
       "output_type": "stream",
       "stream": "stdout",
       "text": " 2014-12-15 00:00:00  signal : LL duration time :  {'SS': 1.6293817890020723, 'LL': 2.149825835445939, 'NN': 2.450797077755265}\nretrain from [ 20121121  to   20141215  ]\npredict status: "
      },
      {
       "output_type": "stream",
       "stream": "stdout",
       "text": " 2014-12-16 00:00:00  signal : LL duration time :  {'SS': 1.6256460367767127, 'LL': 2.2246327198260469, 'NN': 2.4325590635666186}\nretrain from [ 20121122  to   20141216  ]\npredict status: "
      },
      {
       "output_type": "stream",
       "stream": "stdout",
       "text": " 2014-12-17 00:00:00  signal : SS duration time :  {'SS': 1.6280419996389528, 'LL': 2.1685182726657839, 'NN': 2.4052915070733425}\nretrain from [ 20121123  to   20141217  ]\npredict status: "
      },
      {
       "output_type": "stream",
       "stream": "stdout",
       "text": " 2014-12-18 00:00:00  signal : LL duration time :  {'SS': 1.6318707487102384, 'LL': 2.3054637360577077, 'NN': 2.4284425300198951}\nretrain from [ 20121126  to   20141218  ]\npredict status: "
      },
      {
       "output_type": "stream",
       "stream": "stdout",
       "text": " 2014-12-19 00:00:00  signal : SS duration time :  {'SS': 1.632082612895301, 'LL': 2.2227133179265732, 'NN': 2.4055796991210525}\nretrain from [ 20121127  to   20141219  ]\npredict status: "
      },
      {
       "output_type": "stream",
       "stream": "stdout",
       "text": " 2014-12-22 00:00:00  signal : SS duration time :  {'SS': 1.6404844930111311, 'LL': 2.198668345098044, 'NN': 2.3913349270472151}\n"
      },
      {
       "output_type": "stream",
       "stream": "stdout",
       "text": "retrain from [ 20121128  to   20141222  ]\npredict status: "
      },
      {
       "output_type": "stream",
       "stream": "stdout",
       "text": " 2014-12-23 00:00:00  signal : SS duration time :  {'SS': 1.6597217630495329, 'LL': 2.2042445213335435, 'NN': 2.4129796161371404}\nretrain from [ 20121129  to   20141223  ]\npredict status: "
      },
      {
       "output_type": "stream",
       "stream": "stdout",
       "text": " 2014-12-24 00:00:00  signal : NN duration time :  {'SS': 1.6450895307392581, 'LL': 2.1928022515898262, 'NN': 2.4497623881447024}\nretrain from [ 20121130  to   20141224  ]\npredict status: "
      },
      {
       "output_type": "stream",
       "stream": "stdout",
       "text": " 2014-12-25 00:00:00  signal : NN duration time :  {'SS': 1.6661414901819394, 'LL': 2.2068840976819577, 'NN': 2.3906533813279727}\nretrain from [ 20121203  to   20141225  ]\npredict status: "
      },
      {
       "output_type": "stream",
       "stream": "stdout",
       "text": " 2014-12-26 00:00:00  signal : NN duration time :  {'SS': 1.6642858081951346, 'LL': 2.2031559163962862, 'NN': 2.4037756379289204}\nretrain from [ 20121204  to   20141226  ]\npredict status: "
      },
      {
       "output_type": "stream",
       "stream": "stdout",
       "text": " 2014-12-29 00:00:00  signal : NN duration time :  {'SS': 1.6738873559306269, 'LL': 2.2462309929481754, 'NN': 2.4063917527425196}\nretrain from [ 20121205  to   20141229  ]\npredict status: "
      },
      {
       "output_type": "stream",
       "stream": "stdout",
       "text": " 2014-12-30 00:00:00  signal : SS duration time :  {'SS': 1.6683243112806703, 'LL': 2.2073709044799417, 'NN': 2.366963116034122}\nretrain from [ 20121206  to   20141230  ]\npredict status: "
      },
      {
       "output_type": "stream",
       "stream": "stdout",
       "text": " 2014-12-31 00:00:00  signal : SS duration time :  {'SS': 1.6795195554591067, 'LL': 2.2512865632563361, 'NN': 2.4240584260976807}\nretrain from [ 20121207  to   20141231  ]\npredict status: "
      },
      {
       "output_type": "stream",
       "stream": "stdout",
       "text": " 2015-01-05 00:00:00  signal : NN duration time :  {'SS': 1.6635384341236374, 'LL': 2.2484059792475692, 'NN': 2.4076349783751181}\nretrain from [ 20121210  to   20150105  ]\npredict status: "
      },
      {
       "output_type": "stream",
       "stream": "stdout",
       "text": " 2015-01-06 00:00:00  signal : NN duration time :  {'SS': 1.6546511010069054, 'LL': 2.3071592333080382, 'NN': 2.4068359778332895}\nretrain from [ 20121211  to   20150106  ]\npredict status: "
      },
      {
       "output_type": "stream",
       "stream": "stdout",
       "text": " 2015-01-07 00:00:00  signal : NN duration time :  {'SS': 1.6699087836769748, 'LL': 2.192048437746335, 'NN': 2.3941325516227292}\nretrain from [ 20121212  to   20150107  ]\npredict status: "
      },
      {
       "output_type": "stream",
       "stream": "stdout",
       "text": " 2015-01-08 00:00:00  signal : SS duration time :  {'SS': 1.6734509763756382, 'LL': 2.1367782348652136, 'NN': 2.3668954298375757}\nretrain from [ 20121213  to   20150108  ]\npredict status: "
      },
      {
       "output_type": "stream",
       "stream": "stdout",
       "text": " 2015-01-09 00:00:00  signal : NN duration time :  {'SS': 1.6700878200483729, 'LL': 2.0237769734808078, 'NN': 2.3599467411510533}\nretrain from [ 20121214  to   20150109  ]\npredict status: "
      },
      {
       "output_type": "stream",
       "stream": "stdout",
       "text": " 2015-01-12 00:00:00  signal : NN duration time :  {'SS': 1.6683694528279673, 'LL': 2.05710688080765, 'NN': 2.3821641154250193}\nretrain from [ 20121217  to   20150112  ]\npredict status: "
      },
      {
       "output_type": "stream",
       "stream": "stdout",
       "text": " 2015-01-13 00:00:00  signal : NN duration time :  {'SS': 1.6928809919649064, 'LL': 2.0204018623865014, 'NN': 2.3592227544380893}\nretrain from [ 20121218  to   20150113  ]\npredict status: "
      },
      {
       "output_type": "stream",
       "stream": "stdout",
       "text": " 2015-01-14 00:00:00  signal : LL duration time :  {'SS': 1.7059974156385198, 'LL': 1.8792917876634334, 'NN': 2.3241917714939482}\nretrain from [ 20121219  to   20150114  ]\npredict status: "
      },
      {
       "output_type": "stream",
       "stream": "stdout",
       "text": " 2015-01-15 00:00:00  signal : LL duration time :  {'SS': 1.7077800184328713, 'LL': 1.9958801313191685, 'NN': 2.3397370162859645}\nretrain from [ 20121220  to   20150115  ]\npredict status: "
      },
      {
       "output_type": "stream",
       "stream": "stdout",
       "text": " 2015-01-16 00:00:00  signal : SS duration time :  {'SS': 1.68153525269476, 'LL': 1.995487709906127, 'NN': 2.3404443656428242}\nretrain from [ 20121221  to   20150116  ]\npredict status: "
      },
      {
       "output_type": "stream",
       "stream": "stdout",
       "text": " 2015-01-19 00:00:00  signal : SS duration time :  {'SS': 1.658253411307381, 'LL': 2.0631753395833203, 'NN': 2.3563497640043525}\nretrain from [ 20121224  to   20150119  ]\npredict status: "
      },
      {
       "output_type": "stream",
       "stream": "stdout",
       "text": " 2015-01-20 00:00:00  signal : SS duration time :  {'SS': 1.6906009807982056, 'LL': 1.9498154964748355, 'NN': 2.3418342033188639}\nretrain from [ 20121225  to   20150120  ]\npredict status: "
      },
      {
       "output_type": "stream",
       "stream": "stdout",
       "text": " 2015-01-21 00:00:00  signal : LL duration time :  {'SS': 1.6657975993797229, 'LL': 2.0452974994751414, 'NN': 2.3625302962808217}\n"
      },
      {
       "output_type": "stream",
       "stream": "stdout",
       "text": "retrain from [ 20121226  to   20150121  ]\npredict status: "
      },
      {
       "output_type": "stream",
       "stream": "stdout",
       "text": " 2015-01-22 00:00:00  signal : SS duration time :  {'SS': 1.6818741073209322, 'LL': 2.0024824369239589, 'NN': 2.3804241258480965}\nretrain from [ 20121227  to   20150122  ]\npredict status: "
      },
      {
       "output_type": "stream",
       "stream": "stdout",
       "text": " 2015-01-23 00:00:00  signal : LL duration time :  {'SS': 1.6591456567632983, 'LL': 2.1051760984809289, 'NN': 2.3945838268245985}\nretrain from [ 20121228  to   20150123  ]\npredict status: "
      },
      {
       "output_type": "stream",
       "stream": "stdout",
       "text": " 2015-01-26 00:00:00  signal : SS duration time :  {'SS': 1.6525567916888211, 'LL': 2.0129431085137939, 'NN': 2.400840676050747}\nretrain from [ 20121231  to   20150126  ]\npredict status: "
      },
      {
       "output_type": "stream",
       "stream": "stdout",
       "text": " 2015-01-27 00:00:00  signal : NN duration time :  {'SS': 1.6505757252007118, 'LL': 1.9444164433308042, 'NN': 2.3950994878751866}\nretrain from [ 20130104  to   20150127  ]\npredict status: "
      },
      {
       "output_type": "stream",
       "stream": "stdout",
       "text": " 2015-01-28 00:00:00  signal : SS duration time :  {'SS': 1.6342316057062594, 'LL': 1.9782160921069234, 'NN': 2.3638033161265914}\nretrain from [ 20130107  to   20150128  ]\npredict status: "
      },
      {
       "output_type": "stream",
       "stream": "stdout",
       "text": " 2015-01-29 00:00:00  signal : SS duration time :  {'SS': 1.6598154089038837, 'LL': 1.9491566130420483, 'NN': 2.3592258686660488}\nretrain from [ 20130108  to   20150129  ]\npredict status: "
      },
      {
       "output_type": "stream",
       "stream": "stdout",
       "text": " 2015-01-30 00:00:00  signal : NN duration time :  {'SS': 1.649965517096958, 'LL': 1.9507787359409345, 'NN': 2.3965440084139775}\nretrain from [ 20130109  to   20150130  ]\npredict status: "
      },
      {
       "output_type": "stream",
       "stream": "stdout",
       "text": " 2015-02-02 00:00:00  signal : SS duration time :  {'SS': 1.5853659215587921, 'LL': 2.3704741392921993, 'NN': 2.388720010650224}\nretrain from [ 20130110  to   20150202  ]\npredict status: "
      },
      {
       "output_type": "stream",
       "stream": "stdout",
       "text": " 2015-02-03 00:00:00  signal : SS duration time :  {'SS': 1.6072451973882163, 'LL': 2.2235747425424388, 'NN': 2.3823642608395534}\nretrain from [ 20130111  to   20150203  ]\npredict status: "
      },
      {
       "output_type": "stream",
       "stream": "stdout",
       "text": " 2015-02-04 00:00:00  signal : NN duration time :  {'SS': 1.6171062107681429, 'LL': 2.1390219707219367, 'NN': 2.3735765729870608}\nretrain from [ 20130114  to   20150204  ]\npredict status: "
      },
      {
       "output_type": "stream",
       "stream": "stdout",
       "text": " 2015-02-05 00:00:00  signal : SS duration time :  {'SS': 1.6238365655518359, 'LL': 2.0358243487993173, 'NN': 2.3340823384624327}\nretrain from [ 20130115  to   20150205  ]\npredict status: "
      },
      {
       "output_type": "stream",
       "stream": "stdout",
       "text": " 2015-02-06 00:00:00  signal : NN duration time :  {'SS': 1.6127635047710005, 'LL': 2.3375475417786582, 'NN': 2.3363240981117479}\nretrain from [ 20130116  to   20150206  ]\npredict status: "
      },
      {
       "output_type": "stream",
       "stream": "stdout",
       "text": " 2015-02-09 00:00:00  signal : SS duration time :  {'SS': 1.6122472130894767, 'LL': 2.1882501590913388, 'NN': 2.3502888480762425}\nretrain from [ 20130117  to   20150209  ]\npredict status: "
      },
      {
       "output_type": "stream",
       "stream": "stdout",
       "text": " 2015-02-10 00:00:00  signal : SS duration time :  {'SS': 1.6656650287810726, 'LL': 2.0789498568983849, 'NN': 2.3244722275567091}\nretrain from [ 20130118  to   20150210  ]\npredict status: "
      },
      {
       "output_type": "stream",
       "stream": "stdout",
       "text": " 2015-02-11 00:00:00  signal : NN duration time :  {'SS': 1.6573353580456791, 'LL': 2.1084434289630249, 'NN': 2.3268396977847678}\nretrain from [ 20130121  to   20150211  ]\npredict status: "
      },
      {
       "output_type": "stream",
       "stream": "stdout",
       "text": " 2015-02-12 00:00:00  signal : NN duration time :  {'SS': 1.6417033346988881, 'LL': 2.4345046419149461, 'NN': 2.350766971226812}\nretrain from [ 20130122  to   20150212  ]\npredict status: "
      },
      {
       "output_type": "stream",
       "stream": "stdout",
       "text": " 2015-02-13 00:00:00  signal : NN duration time :  {'SS': 1.6386002185180688, 'LL': 2.4635140302374108, 'NN': 2.3527058586265972}\nretrain from [ 20130123  to   20150213  ]\npredict status: "
      },
      {
       "output_type": "stream",
       "stream": "stdout",
       "text": " 2015-02-16 00:00:00  signal : NN duration time :  {'SS': 1.643682954648487, 'LL': 2.3845710531735684, 'NN': 2.3854575521931838}\nretrain from [ 20130124  to   20150216  ]\npredict status: "
      },
      {
       "output_type": "stream",
       "stream": "stdout",
       "text": " 2015-02-17 00:00:00  signal : NN duration time :  {'SS': 1.6466777096169178, 'LL': 2.5507019973710774, 'NN': 2.3846826262245142}\nretrain from [ 20130125  to   20150217  ]\npredict status: "
      },
      {
       "output_type": "stream",
       "stream": "stdout",
       "text": " 2015-02-25 00:00:00  signal : NN duration time :  {'SS': 1.6407787917819447, 'LL': 2.6743845439321126, 'NN': 2.4051016975417037}\n"
      },
      {
       "output_type": "stream",
       "stream": "stdout",
       "text": "retrain from [ 20130128  to   20150225  ]\npredict status: "
      },
      {
       "output_type": "stream",
       "stream": "stdout",
       "text": " 2015-02-26 00:00:00  signal : NN duration time :  {'SS': 1.6516186272524962, 'LL': 2.601563619548362, 'NN': 2.4252262660877641}\nretrain from [ 20130129  to   20150226  ]\npredict status: "
      },
      {
       "output_type": "stream",
       "stream": "stdout",
       "text": " 2015-02-27 00:00:00  signal : SS duration time :  {'SS': 1.6460522808622, 'LL': 2.6233473654448436, 'NN': 2.4400014379861132}\nretrain from [ 20130130  to   20150227  ]\npredict status: "
      },
      {
       "output_type": "stream",
       "stream": "stdout",
       "text": " 2015-03-02 00:00:00  signal : LL duration time :  {'SS': 1.6912804167706166, 'LL': 1.9548640820763399, 'NN': 2.4444705203224517}\nretrain from [ 20130131  to   20150302  ]\npredict status: "
      },
      {
       "output_type": "stream",
       "stream": "stdout",
       "text": " 2015-03-03 00:00:00  signal : LL duration time :  {'SS': 1.6831711697546035, 'LL': 1.9993946062320671, 'NN': 2.4856632798512233}\nretrain from [ 20130201  to   20150303  ]\npredict status: "
      },
      {
       "output_type": "stream",
       "stream": "stdout",
       "text": " 2015-03-04 00:00:00  signal : SS duration time :  {'SS': 1.7064471697414536, 'LL': 1.9181785132535185, 'NN': 2.4804948355058185}\nretrain from [ 20130204  to   20150304  ]\npredict status: "
      },
      {
       "output_type": "stream",
       "stream": "stdout",
       "text": " 2015-03-05 00:00:00  signal : NN duration time :  {'SS': 1.6900257798802421, 'LL': 1.9242095453174521, 'NN': 2.5171320721057699}\nretrain from [ 20130205  to   20150305  ]\npredict status: "
      },
      {
       "output_type": "stream",
       "stream": "stdout",
       "text": " 2015-03-06 00:00:00  signal : NN duration time :  {'SS': 1.6626990391692589, 'LL': 2.7137828882582964, 'NN': 2.5102959917077667}\nretrain from [ 20130206  to   20150306  ]\npredict status: "
      },
      {
       "output_type": "stream",
       "stream": "stdout",
       "text": " 2015-03-09 00:00:00  signal : SS duration time :  {'SS': 1.6752541616158121, 'LL': 2.4371853402517321, 'NN': 2.4822415555144688}\nretrain from [ 20130207  to   20150309  ]\npredict status: "
      },
      {
       "output_type": "stream",
       "stream": "stdout",
       "text": " 2015-03-10 00:00:00  signal : LL duration time :  {'SS': 1.6578599039978827, 'LL': 2.3270950525385765, 'NN': 2.4914027690202971}\nretrain from [ 20130208  to   20150310  ]\npredict status: "
      },
      {
       "output_type": "stream",
       "stream": "stdout",
       "text": " 2015-03-11 00:00:00  signal : LL duration time :  {'SS': 1.6500406552885147, 'LL': 2.4145474552002897, 'NN': 2.4949373815409088}\nretrain from [ 20130218  to   20150311  ]\npredict status: "
      },
      {
       "output_type": "stream",
       "stream": "stdout",
       "text": " 2015-03-12 00:00:00  signal : LL duration time :  {'SS': 1.6343887377490336, 'LL': 2.5012709003035152, 'NN': 2.497308058568346}\nretrain from [ 20130219  to   20150312  ]\npredict status: "
      },
      {
       "output_type": "stream",
       "stream": "stdout",
       "text": " 2015-03-13 00:00:00  signal : SS duration time :  {'SS': 1.6263245818733261, 'LL': 2.4293819965522876, 'NN': 2.4854325589374642}\nretrain from [ 20130220  to   20150313  ]\npredict status: "
      },
      {
       "output_type": "stream",
       "stream": "stdout",
       "text": " 2015-03-16 00:00:00  signal : NN duration time :  {'SS': 1.6192555088048193, 'LL': 2.3861952017062174, 'NN': 2.4793220198365127}\nretrain from [ 20130221  to   20150316  ]\npredict status: "
      },
      {
       "output_type": "stream",
       "stream": "stdout",
       "text": " 2015-03-17 00:00:00  signal : LL duration time :  {'SS': 1.6022147000286835, 'LL': 2.3059028448589269, 'NN': 2.4439754652500394}\nretrain from [ 20130222  to   20150317  ]\npredict status: "
      },
      {
       "output_type": "stream",
       "stream": "stdout",
       "text": " 2015-03-18 00:00:00  signal : LL duration time :  {'SS': 1.6189188845803266, 'LL': 2.5836338619975363, 'NN': 2.4257438407894134}\nretrain from [ 20130225  to   20150318  ]\npredict status: "
      },
      {
       "output_type": "stream",
       "stream": "stdout",
       "text": " 2015-03-19 00:00:00  signal : LL duration time :  {'SS': 1.6172482608615095, 'LL': 2.6256795176662329, 'NN': 2.4315198016649791}\nretrain from [ 20130226  to   20150319  ]\npredict status: "
      },
      {
       "output_type": "stream",
       "stream": "stdout",
       "text": " 2015-03-20 00:00:00  signal : LL duration time :  {'SS': 1.6215704623736855, 'LL': 2.4709736279937768, 'NN': 2.4143094712553315}\nretrain from [ 20130227  to   20150320  ]\npredict status: "
      },
      {
       "output_type": "stream",
       "stream": "stdout",
       "text": " 2015-03-23 00:00:00  signal : SS duration time :  {'SS': 1.6090440242225816, 'LL': 2.445732057994932, 'NN': 2.4601736436826069}\nretrain from [ 20130228  to   20150323  ]\npredict status: "
      },
      {
       "output_type": "stream",
       "stream": "stdout",
       "text": " 2015-03-24 00:00:00  signal : LL duration time :  {'SS': 1.6182034324316343, 'LL': 2.1076987873562958, 'NN': 2.4595032595089719}\nretrain from [ 20130301  to   20150324  ]\npredict status: "
      },
      {
       "output_type": "stream",
       "stream": "stdout",
       "text": " 2015-03-25 00:00:00  signal : LL duration time :  {'SS': 1.6093644044723063, 'LL': 2.2217587446730205, 'NN': 2.4720527474277598}\n"
      },
      {
       "output_type": "stream",
       "stream": "stdout",
       "text": "retrain from [ 20130304  to   20150325  ]\npredict status: "
      },
      {
       "output_type": "stream",
       "stream": "stdout",
       "text": " 2015-03-26 00:00:00  signal : LL duration time :  {'SS': 1.6303066928365488, 'LL': 2.1503855060874684, 'NN': 2.4691905629316855}\nretrain from [ 20130305  to   20150326  ]\npredict status: "
      },
      {
       "output_type": "stream",
       "stream": "stdout",
       "text": " 2015-03-27 00:00:00  signal : SS duration time :  {'SS': 1.5968059614484662, 'LL': 2.0742162522159027, 'NN': 2.4910146186300848}\nretrain from [ 20130306  to   20150327  ]\npredict status: "
      },
      {
       "output_type": "stream",
       "stream": "stdout",
       "text": " 2015-03-30 00:00:00  signal : SS duration time :  {'SS': 1.6189590615413743, 'LL': 2.0598375999662415, 'NN': 2.499376986124457}\nretrain from [ 20130307  to   20150330  ]\npredict status: "
      },
      {
       "output_type": "stream",
       "stream": "stdout",
       "text": " 2015-03-31 00:00:00  signal : NN duration time :  {'SS': 1.6189929210573077, 'LL': 2.0572683670927852, 'NN': 2.4764659328249881}\nretrain from [ 20130308  to   20150331  ]\npredict status: "
      },
      {
       "output_type": "stream",
       "stream": "stdout",
       "text": " 2015-04-01 00:00:00  signal : NN duration time :  {'SS': 1.6244009437307594, 'LL': 2.0393530835158522, 'NN': 2.4503784985796977}\nretrain from [ 20130311  to   20150401  ]\npredict status: "
      },
      {
       "output_type": "stream",
       "stream": "stdout",
       "text": " 2015-04-02 00:00:00  signal : NN duration time :  {'SS': 1.5718085805689388, 'LL': 2.2896991287235724, 'NN': 2.5253142009609051}\nretrain from [ 20130312  to   20150402  ]\npredict status: "
      },
      {
       "output_type": "stream",
       "stream": "stdout",
       "text": " 2015-04-03 00:00:00  signal : LL duration time :  {'SS': 1.5808513047566997, 'LL': 2.1509560700805501, 'NN': 2.5026697003951868}\nretrain from [ 20130313  to   20150403  ]\npredict status: "
      },
      {
       "output_type": "stream",
       "stream": "stdout",
       "text": " 2015-04-07 00:00:00  signal : LL duration time :  {'SS': 1.6039917071146705, 'LL': 2.3254727115415448, 'NN': 2.4707036318032749}\nretrain from [ 20130314  to   20150407  ]\npredict status: "
      },
      {
       "output_type": "stream",
       "stream": "stdout",
       "text": " 2015-04-08 00:00:00  signal : NN duration time :  {'SS': 1.6066810597153542, 'LL': 2.1507930049548065, 'NN': 2.510135847859408}\nretrain from [ 20130315  to   20150408  ]\npredict status: "
      },
      {
       "output_type": "stream",
       "stream": "stdout",
       "text": " 2015-04-09 00:00:00  signal : SS duration time :  {'SS': 1.5970367452191263, 'LL': 2.0844595868406066, 'NN': 2.5042447681161013}\nretrain from [ 20130318  to   20150409  ]\npredict status: "
      },
      {
       "output_type": "stream",
       "stream": "stdout",
       "text": " 2015-04-10 00:00:00  signal : SS duration time :  {'SS': 1.627621019808889, 'LL': 2.0958409057359759, 'NN': 2.5256603289026796}\nretrain from [ 20130319  to   20150410  ]\npredict status: "
      },
      {
       "output_type": "stream",
       "stream": "stdout",
       "text": " 2015-04-13 00:00:00  signal : NN duration time :  {'SS': 1.611713781588628, 'LL': 2.0845893131619606, 'NN': 2.522041362514289}\nretrain from [ 20130320  to   20150413  ]\npredict status: "
      },
      {
       "output_type": "stream",
       "stream": "stdout",
       "text": " 2015-04-14 00:00:00  signal : NN duration time :  {'SS': 1.6090952184803782, 'LL': 2.0489148492659877, 'NN': 2.5189996543074442}\nretrain from [ 20130321  to   20150414  ]\npredict status: "
      },
      {
       "output_type": "stream",
       "stream": "stdout",
       "text": " 2015-04-15 00:00:00  signal : LL duration time :  {'SS': 1.6080299073955948, 'LL': 2.1304252429220476, 'NN': 2.5365441251589771}\nretrain from [ 20130322  to   20150415  ]\npredict status: "
      },
      {
       "output_type": "stream",
       "stream": "stdout",
       "text": " 2015-04-16 00:00:00  signal : LL duration time :  {'SS': 1.6070908968314694, 'LL': 2.2210822610089855, 'NN': 2.5151497057516758}\nretrain from [ 20130325  to   20150416  ]\npredict status: "
      },
      {
       "output_type": "stream",
       "stream": "stdout",
       "text": " 2015-04-17 00:00:00  signal : SS duration time :  {'SS': 1.6290030327693805, 'LL': 2.1999194772943453, 'NN': 2.5092139503205204}\nretrain from [ 20130326  to   20150417  ]\npredict status: "
      },
      {
       "output_type": "stream",
       "stream": "stdout",
       "text": " 2015-04-20 00:00:00  signal : SS duration time :  {'SS': 1.6557330433956139, 'LL': 2.1627751540543976, 'NN': 2.4969230479675284}\nretrain from [ 20130329  to   20150422  ]\npredict status: "
      },
      {
       "output_type": "stream",
       "stream": "stdout",
       "text": " 2015-04-23 00:00:00  signal : SS duration time :  {'SS': 1.6742121123145968, 'LL': 2.1346502387142117, 'NN': 2.475501518731555}\n"
      },
      {
       "output_type": "stream",
       "stream": "stdout",
       "text": "retrain from [ 20130401  to   20150423  ]\npredict status: "
      },
      {
       "output_type": "stream",
       "stream": "stdout",
       "text": " 2015-04-24 00:00:00  signal : LL duration time :  {'SS': 1.6613381906162736, 'LL': 2.1122709502424368, 'NN': 2.5247128259515175}\nretrain from [ 20130402  to   20150424  ]\npredict status: "
      },
      {
       "output_type": "stream",
       "stream": "stdout",
       "text": " 2015-04-27 00:00:00  signal : LL duration time :  {'SS': 1.6388688259153064, 'LL': 2.4053916420018129, 'NN': 2.5470960315561415}\nretrain from [ 20130403  to   20150427  ]\npredict status: "
      },
      {
       "output_type": "stream",
       "stream": "stdout",
       "text": " 2015-04-28 00:00:00  signal : SS duration time :  {'SS': 1.6461139971568313, 'LL': 2.2892086357420771, 'NN': 2.5483888761564786}\nretrain from [ 20130408  to   20150428  ]\npredict status: "
      },
      {
       "output_type": "stream",
       "stream": "stdout",
       "text": " 2015-04-29 00:00:00  signal : SS duration time :  {'SS': 1.6453727780819185, 'LL': 2.3861871914128554, 'NN': 2.5623589774040383}\nretrain from [ 20130409  to   20150429  ]\npredict status: "
      },
      {
       "output_type": "stream",
       "stream": "stdout",
       "text": " 2015-04-30 00:00:00  signal : LL duration time :  {'SS': 1.6400012654443994, 'LL': 2.3572196896132951, 'NN': 2.5685193629344969}\nretrain from [ 20130410  to   20150430  ]\npredict status: "
      },
      {
       "output_type": "stream",
       "stream": "stdout",
       "text": " 2015-05-04 00:00:00  signal : LL duration time :  {'SS': 1.6154562722730004, 'LL': 2.4675493860080158, 'NN': 2.5751261889201436}\nretrain from [ 20130411  to   20150504  ]\npredict status: "
      },
      {
       "output_type": "stream",
       "stream": "stdout",
       "text": " 2015-05-05 00:00:00  signal : LL duration time :  {'SS': 1.6353719175492154, 'LL': 2.4647885678886907, 'NN': 2.5735577532859355}\nretrain from [ 20130412  to   20150505  ]\npredict status: "
      },
      {
       "output_type": "stream",
       "stream": "stdout",
       "text": " 2015-05-06 00:00:00  signal : LL duration time :  {'SS': 1.6266433285583095, 'LL': 2.5185777719545621, 'NN': 2.6120774562528508}\nretrain from [ 20130415  to   20150506  ]\npredict status: "
      },
      {
       "output_type": "stream",
       "stream": "stdout",
       "text": " 2015-05-07 00:00:00  signal : LL duration time :  {'SS': 1.6305452565699554, 'LL': 2.636999668754898, 'NN': 2.6362916311223001}\nretrain from [ 20130416  to   20150507  ]\npredict status: "
      },
      {
       "output_type": "stream",
       "stream": "stdout",
       "text": " 2015-05-08 00:00:00  signal : SS duration time :  {'SS': 1.6338592079094605, 'LL': 2.5469705571036316, 'NN': 2.6074256365853796}\nretrain from [ 20130417  to   20150508  ]\npredict status: "
      },
      {
       "output_type": "stream",
       "stream": "stdout",
       "text": " 2015-05-11 00:00:00  signal : LL duration time :  {'SS': 1.6230686672633368, 'LL': 2.4489748134209472, 'NN': 2.6680171986356496}\nretrain from [ 20130418  to   20150511  ]\npredict status: "
      },
      {
       "output_type": "stream",
       "stream": "stdout",
       "text": " 2015-05-12 00:00:00  signal : LL duration time :  {'SS': 1.6529441413193358, 'LL': 2.4289908399566227, 'NN': 2.6523558621305354}\nretrain from [ 20130419  to   20150512  ]\npredict status: "
      },
      {
       "output_type": "stream",
       "stream": "stdout",
       "text": " 2015-05-13 00:00:00  signal : LL duration time :  {'SS': 1.6493392482544307, 'LL': 2.524332775997145, 'NN': 2.6913430847522504}\nretrain from [ 20130422  to   20150513  ]\npredict status: "
      },
      {
       "output_type": "stream",
       "stream": "stdout",
       "text": " 2015-05-14 00:00:00  signal : SS duration time :  {'SS': 1.6778403060691218, 'LL': 2.4078480665619257, 'NN': 2.6891473280620115}\nretrain from [ 20130423  to   20150514  ]\npredict status: "
      },
      {
       "output_type": "stream",
       "stream": "stdout",
       "text": " 2015-05-15 00:00:00  signal : LL duration time :  {'SS': 1.6608546995964637, 'LL': 2.3961064360284858, 'NN': 2.6876901914839695}\nretrain from [ 20130424  to   20150515  ]\npredict status: "
      },
      {
       "output_type": "stream",
       "stream": "stdout",
       "text": " 2015-05-18 00:00:00  signal : SS duration time :  {'SS': 1.6606854199496766, 'LL': 2.3591013705772879, 'NN': 2.7145492983046622}\nretrain from [ 20130425  to   20150518  ]\npredict status: "
      },
      {
       "output_type": "stream",
       "stream": "stdout",
       "text": " 2015-05-19 00:00:00  signal : LL duration time :  {'SS': 1.674118122950635, 'LL': 2.3670228523540651, 'NN': 2.7232059722562987}\nretrain from [ 20130426  to   20150519  ]\npredict status: "
      },
      {
       "output_type": "stream",
       "stream": "stdout",
       "text": " 2015-05-20 00:00:00  signal : LL duration time :  {'SS': 1.6734161033878932, 'LL': 2.4175144747037423, 'NN': 2.7072242479712538}\nretrain from [ 20130502  to   20150520  ]\npredict status: "
      },
      {
       "output_type": "stream",
       "stream": "stdout",
       "text": " 2015-05-21 00:00:00  signal : LL duration time :  {'SS': 1.6685161657306542, 'LL': 2.4938573848507657, 'NN': 2.7622190938237017}\nretrain from [ 20130503  to   20150521  ]\npredict status: "
      },
      {
       "output_type": "stream",
       "stream": "stdout",
       "text": " 2015-05-22 00:00:00  signal : LL duration time :  {'SS': 1.6427209300465657, 'LL': 2.5662401782031243, 'NN': 2.7707013668313252}\n"
      },
      {
       "output_type": "stream",
       "stream": "stdout",
       "text": "retrain from [ 20130506  to   20150522  ]\npredict status: "
      },
      {
       "output_type": "stream",
       "stream": "stdout",
       "text": " 2015-05-25 00:00:00  signal : SS duration time :  {'SS': 1.6484650831767911, 'LL': 2.4590643010576883, 'NN': 2.7999677153089069}\nretrain from [ 20130507  to   20150525  ]\npredict status: "
      },
      {
       "output_type": "stream",
       "stream": "stdout",
       "text": " 2015-05-26 00:00:00  signal : SS duration time :  {'SS': 1.6742797906344238, 'LL': 2.4377825433087823, 'NN': 2.8111472479950965}\nretrain from [ 20130508  to   20150526  ]\npredict status: "
      },
      {
       "output_type": "stream",
       "stream": "stdout",
       "text": " 2015-05-27 00:00:00  signal : LL duration time :  {'SS': 1.6724701017548165, 'LL': 2.4545566179557574, 'NN': 2.7616651040425757}\nretrain from [ 20130509  to   20150527  ]\npredict status: "
      },
      {
       "output_type": "stream",
       "stream": "stdout",
       "text": " 2015-05-28 00:00:00  signal : LL duration time :  {'SS': 1.6698738060860732, 'LL': 2.4920813611489532, 'NN': 2.7542896458996067}\nretrain from [ 20130510  to   20150528  ]\npredict status: "
      },
      {
       "output_type": "stream",
       "stream": "stdout",
       "text": " 2015-05-29 00:00:00  signal : LL duration time :  {'SS': 1.667646475926386, 'LL': 2.5792409910358098, 'NN': 2.7288418275997839}\nretrain from [ 20130513  to   20150529  ]\npredict status: "
      },
      {
       "output_type": "stream",
       "stream": "stdout",
       "text": " 2015-06-01 00:00:00  signal : LL duration time :  {'SS': 1.6623243170215409, 'LL': 2.629683381906049, 'NN': 2.7294559051601488}\nretrain from [ 20130514  to   20150601  ]\npredict status: "
      },
      {
       "output_type": "stream",
       "stream": "stdout",
       "text": " 2015-06-02 00:00:00  signal : LL duration time :  {'SS': 1.6784244153070669, 'LL': 2.6157585170469977, 'NN': 2.6849081309735086}\nretrain from [ 20130515  to   20150602  ]\npredict status: "
      },
      {
       "output_type": "stream",
       "stream": "stdout",
       "text": " 2015-06-03 00:00:00  signal : LL duration time :  {'SS': 1.6845402503610587, 'LL': 2.5807675071153975, 'NN': 2.7250713700388176}\nretrain from [ 20130516  to   20150603  ]\npredict status: "
      },
      {
       "output_type": "stream",
       "stream": "stdout",
       "text": " 2015-06-04 00:00:00  signal : LL duration time :  {'SS': 1.6747768158414915, 'LL': 2.7663826830733513, 'NN': 2.7486954648022963}\nretrain from [ 20130517  to   20150604  ]\npredict status: "
      },
      {
       "output_type": "stream",
       "stream": "stdout",
       "text": " 2015-06-05 00:00:00  signal : SS duration time :  {'SS': 1.6622683186096199, 'LL': 2.7274731500154994, 'NN': 2.7415429710939936}\nretrain from [ 20130520  to   20150605  ]\npredict status: "
      },
      {
       "output_type": "stream",
       "stream": "stdout",
       "text": " 2015-06-08 00:00:00  signal : LL duration time :  {'SS': 1.6648351138007254, 'LL': 2.8395968701509964, 'NN': 2.7710230066202346}\nretrain from [ 20130521  to   20150608  ]\npredict status: "
      },
      {
       "output_type": "stream",
       "stream": "stdout",
       "text": " 2015-06-09 00:00:00  signal : SS duration time :  {'SS': 1.652508316380584, 'LL': 2.7074734785583177, 'NN': 2.8049115467462751}\nretrain from [ 20130522  to   20150609  ]\npredict status: "
      },
      {
       "output_type": "stream",
       "stream": "stdout",
       "text": " 2015-06-10 00:00:00  signal : SS duration time :  {'SS': 1.6697453016191657, 'LL': 2.6888324044078638, 'NN': 2.7970634715219496}\nretrain from [ 20130523  to   20150610  ]\npredict status: "
      },
      {
       "output_type": "stream",
       "stream": "stdout",
       "text": " 2015-06-11 00:00:00  signal : NN duration time :  {'SS': 1.659117742765905, 'LL': 2.7286144023312575, 'NN': 2.8002278057519403}\nretrain from [ 20130524  to   20150611  ]\npredict status: "
      },
      {
       "output_type": "stream",
       "stream": "stdout",
       "text": " 2015-06-12 00:00:00  signal : NN duration time :  {'SS': 1.6706820640731488, 'LL': 2.6194893199868647, 'NN': 2.8123705975050943}\nretrain from [ 20130527  to   20150612  ]\npredict status: "
      },
      {
       "output_type": "stream",
       "stream": "stdout",
       "text": " 2015-06-15 00:00:00  signal : SS duration time :  {'SS': 1.6740266186325872, 'LL': 2.5504873355490583, 'NN': 2.8007317912893135}\nretrain from [ 20130528  to   20150615  ]\npredict status: "
      },
      {
       "output_type": "stream",
       "stream": "stdout",
       "text": " 2015-06-16 00:00:00  signal : SS duration time :  {'SS': 1.6545601485665735, 'LL': 2.6815016005464467, 'NN': 2.834342801799866}\nretrain from [ 20130529  to   20150616  ]\npredict status: "
      },
      {
       "output_type": "stream",
       "stream": "stdout",
       "text": " 2015-06-17 00:00:00  signal : SS duration time :  {'SS': 1.6804792341346895, 'LL': 2.6653446718504954, 'NN': 2.7984094038814149}\nretrain from [ 20130530  to   20150617  ]\npredict status: "
      },
      {
       "output_type": "stream",
       "stream": "stdout",
       "text": " 2015-06-18 00:00:00  signal : NN duration time :  {'SS': 1.6781013995494383, 'LL': 2.6581302437200236, 'NN': 2.8309605845672436}\nretrain from [ 20130531  to   20150618  ]\npredict status: "
      },
      {
       "output_type": "stream",
       "stream": "stdout",
       "text": " 2015-06-19 00:00:00  signal : SS duration time :  {'SS': 1.651350476836654, 'LL': 2.6240638562253276, 'NN': 2.8210999716529899}\n"
      },
      {
       "output_type": "stream",
       "stream": "stdout",
       "text": "retrain from [ 20130603  to   20150619  ]\npredict status: "
      },
      {
       "output_type": "stream",
       "stream": "stdout",
       "text": " 2015-06-23 00:00:00  signal : NN duration time :  {'SS': 1.6387011141820687, 'LL': 2.6695904071977075, 'NN': 2.8215858299800534}\nretrain from [ 20130604  to   20150623  ]\npredict status: "
      },
      {
       "output_type": "stream",
       "stream": "stdout",
       "text": " 2015-06-24 00:00:00  signal : LL duration time :  {'SS': 1.6400863820838936, 'LL': 2.6443216158200684, 'NN': 2.7858221035035697}\nretrain from [ 20130605  to   20150624  ]\npredict status: "
      },
      {
       "output_type": "stream",
       "stream": "stdout",
       "text": " 2015-06-25 00:00:00  signal : NN duration time :  {'SS': 1.6274945875228486, 'LL': 2.630712486169414, 'NN': 2.893663396235616}\nretrain from [ 20130606  to   20150625  ]\npredict status: "
      },
      {
       "output_type": "stream",
       "stream": "stdout",
       "text": " 2015-06-26 00:00:00  signal : SS duration time :  {'SS': 1.657337258608041, 'LL': 2.5870563156004072, 'NN': 2.8468885821942682}\nretrain from [ 20130607  to   20150626  ]\npredict status: "
      },
      {
       "output_type": "stream",
       "stream": "stdout",
       "text": " 2015-06-29 00:00:00  signal : SS duration time :  {'SS': 1.6657653769783707, 'LL': 2.6196287858495428, 'NN': 2.8418524985352893}\nretrain from [ 20130613  to   20150629  ]\npredict status: "
      },
      {
       "output_type": "stream",
       "stream": "stdout",
       "text": " 2015-06-30 00:00:00  signal : SS duration time :  {'SS': 1.6739850980861279, 'LL': 2.6706243522021684, 'NN': 2.8860320468790817}\nretrain from [ 20130614  to   20150630  ]\npredict status: "
      },
      {
       "output_type": "stream",
       "stream": "stdout",
       "text": " 2015-07-01 00:00:00  signal : LL duration time :  {'SS': 1.6722779193809572, 'LL': 2.6608022979637189, 'NN': 2.9130808634166931}\nretrain from [ 20130617  to   20150701  ]\npredict status: "
      },
      {
       "output_type": "stream",
       "stream": "stdout",
       "text": " 2015-07-02 00:00:00  signal : SS duration time :  {'SS': 1.6865777751653761, 'LL': 2.6117125683858164, 'NN': 2.8821650178791658}\nretrain from [ 20130618  to   20150702  ]\npredict status: "
      },
      {
       "output_type": "stream",
       "stream": "stdout",
       "text": " 2015-07-03 00:00:00  signal : SS duration time :  {'SS': 1.7120420617914593, 'LL': 2.4895778460065801, 'NN': 2.9044338093175979}\nretrain from [ 20130619  to   20150703  ]\npredict status: "
      },
      {
       "output_type": "stream",
       "stream": "stdout",
       "text": " 2015-07-06 00:00:00  signal : NN duration time :  {'SS': 1.6854974834292022, 'LL': 2.6065804779915265, 'NN': 2.9029373673837457}\nretrain from [ 20130620  to   20150706  ]\npredict status: "
      },
      {
       "output_type": "stream",
       "stream": "stdout",
       "text": " 2015-07-07 00:00:00  signal : NN duration time :  {'SS': 1.6540688421138805, 'LL': 2.6058831352750857, 'NN': 2.9413777007440109}\nretrain from [ 20130621  to   20150707  ]\npredict status: "
      },
      {
       "output_type": "stream",
       "stream": "stdout",
       "text": " 2015-07-08 00:00:00  signal : SS duration time :  {'SS': 1.6709218434781852, 'LL': 2.6227912665614985, 'NN': 2.9227377000892685}\nretrain from [ 20130624  to   20150708  ]\npredict status: "
      },
      {
       "output_type": "stream",
       "stream": "stdout",
       "text": " 2015-07-09 00:00:00  signal : LL duration time :  {'SS': 1.6424928501278167, 'LL': 2.8529679926004281, 'NN': 2.9213465063500705}\nretrain from [ 20130625  to   20150709  ]\npredict status: "
      },
      {
       "output_type": "stream",
       "stream": "stdout",
       "text": " 2015-07-10 00:00:00  signal : LL duration time :  {'SS': 1.628134110845193, 'LL': 2.8496182215263004, 'NN': 2.990507910034899}\nretrain from [ 20130626  to   20150710  ]\npredict status: "
      },
      {
       "output_type": "stream",
       "stream": "stdout",
       "text": " 2015-07-13 00:00:00  signal : LL duration time :  {'SS': 1.6497513118241707, 'LL': 2.8289487724588374, 'NN': 2.9997343954258913}\nretrain from [ 20130627  to   20150713  ]\npredict status: "
      },
      {
       "output_type": "stream",
       "stream": "stdout",
       "text": " 2015-07-14 00:00:00  signal : LL duration time :  {'SS': 1.6602582255154981, 'LL': 2.8608645205181542, 'NN': 2.966951502599632}\nretrain from [ 20130628  to   20150714  ]\npredict status: "
      },
      {
       "output_type": "stream",
       "stream": "stdout",
       "text": " 2015-07-15 00:00:00  signal : LL duration time :  {'SS': 1.6653138744945701, 'LL': 2.8691981881449911, 'NN': 2.9243139582819779}\nretrain from [ 20130701  to   20150715  ]\npredict status: "
      },
      {
       "output_type": "stream",
       "stream": "stdout",
       "text": " 2015-07-16 00:00:00  signal : SS duration time :  {'SS': 1.6482281378060164, 'LL': 2.8387740717937433, 'NN': 2.9664423126167714}\nretrain from [ 20130702  to   20150716  ]\npredict status: "
      },
      {
       "output_type": "stream",
       "stream": "stdout",
       "text": " 2015-07-17 00:00:00  signal : NN duration time :  {'SS': 1.6226784283448992, 'LL': 2.8839960421925381, 'NN': 3.042018053986399}\nretrain from [ 20130703  to   20150717  ]\npredict status: "
      },
      {
       "output_type": "stream",
       "stream": "stdout",
       "text": " 2015-07-20 00:00:00  signal : NN duration time :  {'SS': 1.6744994516029155, 'LL': 2.8986802570717125, 'NN': 2.9781167902972743}\n"
      },
      {
       "output_type": "stream",
       "stream": "stdout",
       "text": "retrain from [ 20130704  to   20150720  ]\npredict status: "
      },
      {
       "output_type": "stream",
       "stream": "stdout",
       "text": " 2015-07-21 00:00:00  signal : NN duration time :  {'SS': 1.6595808887660315, 'LL': 2.901964135631228, 'NN': 3.0144629459193215}\nretrain from [ 20130705  to   20150721  ]\npredict status: "
      },
      {
       "output_type": "stream",
       "stream": "stdout",
       "text": " 2015-07-22 00:00:00  signal : NN duration time :  {'SS': 1.6467361408121592, 'LL': 2.8747996227642609, 'NN': 3.0432724099465647}\nretrain from [ 20130708  to   20150722  ]\npredict status: "
      },
      {
       "output_type": "stream",
       "stream": "stdout",
       "text": " 2015-07-23 00:00:00  signal : NN duration time :  {'SS': 1.6306152597102554, 'LL': 2.8468375886832136, 'NN': 3.0894990900857602}\nretrain from [ 20130709  to   20150723  ]\npredict status: "
      },
      {
       "output_type": "stream",
       "stream": "stdout",
       "text": " 2015-07-24 00:00:00  signal : NN duration time :  {'SS': 1.6330767421788186, 'LL': 2.8550554657947247, 'NN': 3.0767808307327345}\nretrain from [ 20130710  to   20150724  ]\npredict status: "
      },
      {
       "output_type": "stream",
       "stream": "stdout",
       "text": " 2015-07-27 00:00:00  signal : SS duration time :  {'SS': 1.6387530402520021, 'LL': 2.9089127582855725, 'NN': 3.0879100266472128}\nretrain from [ 20130711  to   20150727  ]\npredict status: "
      },
      {
       "output_type": "stream",
       "stream": "stdout",
       "text": " 2015-07-28 00:00:00  signal : SS duration time :  {'SS': 1.6277017121179032, 'LL': 3.0862957915572173, 'NN': 3.1883728282749626}\nretrain from [ 20130712  to   20150728  ]\npredict status: "
      },
      {
       "output_type": "stream",
       "stream": "stdout",
       "text": " 2015-07-29 00:00:00  signal : SS duration time :  {'SS': 1.6797637709454969, 'LL': 3.1492669264750699, 'NN': 3.0717774098028685}\nretrain from [ 20130715  to   20150729  ]\npredict status: "
      },
      {
       "output_type": "stream",
       "stream": "stdout",
       "text": " 2015-07-30 00:00:00  signal : NN duration time :  {'SS': 1.6672169309968616, 'LL': 3.2158651347369447, 'NN': 3.0315709207523449}\nretrain from [ 20130716  to   20150730  ]\npredict status: "
      },
      {
       "output_type": "stream",
       "stream": "stdout",
       "text": " 2015-07-31 00:00:00  signal : SS duration time :  {'SS': 1.6613818729492431, 'LL': 3.1624743303381266, 'NN': 2.9546343877195751}\nretrain from [ 20130717  to   20150731  ]\npredict status: "
      },
      {
       "output_type": "stream",
       "stream": "stdout",
       "text": " 2015-08-03 00:00:00  signal : NN duration time :  {'SS': 1.6481321036311927, 'LL': 3.2105817736888396, 'NN': 2.9189229366469371}\nretrain from [ 20130718  to   20150803  ]\npredict status: "
      },
      {
       "output_type": "stream",
       "stream": "stdout",
       "text": " 2015-08-04 00:00:00  signal : SS duration time :  {'SS': 1.6598452193204678, 'LL': 3.2918895629860132, 'NN': 2.8120380090760349}\nretrain from [ 20130719  to   20150804  ]\npredict status: "
      },
      {
       "output_type": "stream",
       "stream": "stdout",
       "text": " 2015-08-05 00:00:00  signal : LL duration time :  {'SS': 1.632242824393533, 'LL': 3.0667238523519096, 'NN': 2.9421300585455659}\nretrain from [ 20130722  to   20150805  ]\npredict status: "
      },
      {
       "output_type": "stream",
       "stream": "stdout",
       "text": " 2015-08-06 00:00:00  signal : SS duration time :  {'SS': 1.6816188126009786, 'LL': 3.0037455145836285, 'NN': 2.8563871348717891}\nretrain from [ 20130723  to   20150806  ]\npredict status: "
      },
      {
       "output_type": "stream",
       "stream": "stdout",
       "text": " 2015-08-07 00:00:00  signal : NN duration time :  {'SS': 1.6590420752122605, 'LL': 2.9910163084683208, 'NN': 2.9551043707074527}\nretrain from [ 20130724  to   20150807  ]\npredict status: "
      },
      {
       "output_type": "stream",
       "stream": "stdout",
       "text": " 2015-08-10 00:00:00  signal : NN duration time :  {'SS': 1.6558068892225251, 'LL': 3.0002956222852188, 'NN': 2.9359717187269081}\nretrain from [ 20130725  to   20150810  ]\npredict status: "
      },
      {
       "output_type": "stream",
       "stream": "stdout",
       "text": " 2015-08-11 00:00:00  signal : NN duration time :  {'SS': 1.67268213685756, 'LL': 3.0741065346493466, 'NN': 2.9625447380967018}\nretrain from [ 20130726  to   20150811  ]\npredict status: "
      },
      {
       "output_type": "stream",
       "stream": "stdout",
       "text": " 2015-08-12 00:00:00  signal : SS duration time :  {'SS': 1.6736046678735177, 'LL': 3.0701068792440251, 'NN': 2.9155139552360159}\nretrain from [ 20130729  to   20150812  ]\npredict status: "
      },
      {
       "output_type": "stream",
       "stream": "stdout",
       "text": " 2015-08-13 00:00:00  signal : NN duration time :  {'SS': 1.6592860338662421, 'LL': 3.0437045593254832, 'NN': 2.9430903113161446}\nretrain from [ 20130730  to   20150813  ]\npredict status: "
      },
      {
       "output_type": "stream",
       "stream": "stdout",
       "text": " 2015-08-14 00:00:00  signal : NN duration time :  {'SS': 1.6507488500060279, 'LL': 3.036561622934276, 'NN': 2.9485866879133114}\nretrain from [ 20130731  to   20150814  ]\npredict status: "
      },
      {
       "output_type": "stream",
       "stream": "stdout",
       "text": " 2015-08-17 00:00:00  signal : SS duration time :  {'SS': 1.6541887684258993, 'LL': 3.074856328430152, 'NN': 2.8338223013785062}\n"
      },
      {
       "output_type": "stream",
       "stream": "stdout",
       "text": "retrain from [ 20130801  to   20150817  ]\npredict status: "
      },
      {
       "output_type": "stream",
       "stream": "stdout",
       "text": " 2015-08-18 00:00:00  signal : SS duration time :  {'SS': 1.6711975067235858, 'LL': 3.0935618084676006, 'NN': 2.7993074689120241}\nretrain from [ 20130802  to   20150818  ]\npredict status: "
      },
      {
       "output_type": "stream",
       "stream": "stdout",
       "text": " 2015-08-19 00:00:00  signal : LL duration time :  {'SS': 1.6502103740632124, 'LL': 2.936231756908529, 'NN': 2.9242614103368245}\nretrain from [ 20130805  to   20150819  ]\npredict status: "
      },
      {
       "output_type": "stream",
       "stream": "stdout",
       "text": " 2015-08-20 00:00:00  signal : LL duration time :  {'SS': 1.627481918470449, 'LL': 2.9906693652010574, 'NN': 2.9442141358615457}\nretrain from [ 20130806  to   20150820  ]\npredict status: "
      },
      {
       "output_type": "stream",
       "stream": "stdout",
       "text": " 2015-08-21 00:00:00  signal : SS duration time :  {'SS': 1.6041567924131614, 'LL': 2.8533003869931739, 'NN': 2.9756602372064616}\nretrain from [ 20130807  to   20150821  ]\npredict status: "
      },
      {
       "output_type": "stream",
       "stream": "stdout",
       "text": " 2015-08-24 00:00:00  signal : SS duration time :  {'SS': 1.5969048320782218, 'LL': 2.8082727341000702, 'NN': 3.1729586337120446}\nretrain from [ 20130808  to   20150824  ]\npredict status: "
      },
      {
       "output_type": "stream",
       "stream": "stdout",
       "text": " 2015-08-25 00:00:00  signal : SS duration time :  {'SS': 1.6204842215970334, 'LL': 2.8707041876361696, 'NN': 3.1408654312905058}\nretrain from [ 20130809  to   20150825  ]\npredict status: "
      },
      {
       "output_type": "stream",
       "stream": "stdout",
       "text": " 2015-08-26 00:00:00  signal : SS duration time :  {'SS': 1.6540724759131313, 'LL': 2.907420499728556, 'NN': 3.0487310432293655}\nretrain from [ 20130812  to   20150826  ]\npredict status: "
      },
      {
       "output_type": "stream",
       "stream": "stdout",
       "text": " 2015-08-27 00:00:00  signal : SS duration time :  {'SS': 19.822101892631117, 'LL': 5.0391328543470895, 'NN': 7.1687824201980579}\nretrain from [ 20130813  to   20150827  ]\npredict status: "
      },
      {
       "output_type": "stream",
       "stream": "stdout",
       "text": " 2015-08-28 00:00:00  signal : NN duration time :  {'SS': 1.9733983848579926, 'LL': 2.2790847140318391, 'NN': 7.833160857814371}\nretrain from [ 20130814  to   20150828  ]\npredict status: "
      },
      {
       "output_type": "stream",
       "stream": "stdout",
       "text": " 2015-08-31 00:00:00  signal : SS duration time :  {'SS': 20.840887344326955, 'LL': 4.8956068323871413, 'NN': 7.0286475865238556}\nretrain from [ 20130815  to   20150831  ]\npredict status: "
      },
      {
       "output_type": "stream",
       "stream": "stdout",
       "text": " 2015-09-01 00:00:00  signal : SS duration time :  {'SS': 1.6738201644673756, 'LL': 2.7973128890060446, 'NN': 2.9987900109997607}\nretrain from [ 20130816  to   20150901  ]\npredict status: "
      },
      {
       "output_type": "stream",
       "stream": "stdout",
       "text": " 2015-09-02 00:00:00  signal : SS duration time :  {'SS': 21.784678586808443, 'LL': 4.8552248385151389, 'NN': 6.9329621266547798}\nretrain from [ 20130819  to   20150902  ]\npredict status: "
      },
      {
       "output_type": "stream",
       "stream": "stdout",
       "text": " 2015-09-07 00:00:00  signal : SS duration time :  {'SS': 22.236754423762378, 'LL': 4.8771065563156055, 'NN': 7.2204843197176611}\nretrain from [ 20130820  to   20150907  ]\npredict status: "
      },
      {
       "output_type": "stream",
       "stream": "stdout",
       "text": " 2015-09-08 00:00:00  signal : SS duration time :  {'SS': 29.265588336490172, 'LL': 6.1717704315033179, 'NN': 7.2544431475057758}\nretrain from [ 20130821  to   20150908  ]\npredict status: "
      },
      {
       "output_type": "stream",
       "stream": "stdout",
       "text": " 2015-09-09 00:00:00  signal : SS duration time :  {'SS': 23.164533341111753, 'LL': 5.1063239036616155, 'NN': 7.2684246221863376}\nretrain from [ 20130822  to   20150909  ]\npredict status: "
      },
      {
       "output_type": "stream",
       "stream": "stdout",
       "text": " 2015-09-10 00:00:00  signal : SS duration time :  {'SS': 32.466238745153092, 'LL': 6.215714567957872, 'NN': 7.5667193454367458}\nretrain from [ 20130823  to   20150910  ]\npredict status: "
      },
      {
       "output_type": "stream",
       "stream": "stdout",
       "text": " 2015-09-11 00:00:00  signal : SS duration time :  {'SS': 33.309797937983873, 'LL': 6.0857743354172502, 'NN': 7.5126731389827359}\nretrain from [ 20130826  to   20150911  ]\npredict status: "
      },
      {
       "output_type": "stream",
       "stream": "stdout",
       "text": " 2015-09-14 00:00:00  signal : SS duration time :  {'SS': 34.684072967130227, 'LL': 6.007878745462949, 'NN': 7.4828324686352152}\nretrain from [ 20130827  to   20150914  ]\npredict status: "
      },
      {
       "output_type": "stream",
       "stream": "stdout",
       "text": " 2015-09-15 00:00:00  signal : SS duration time :  {'SS': 35.564478780812294, 'LL': 6.4088175861886372, 'NN': 7.6719917542284986}\nretrain from [ 20130828  to   20150915  ]\npredict status: "
      },
      {
       "output_type": "stream",
       "stream": "stdout",
       "text": " 2015-09-16 00:00:00  signal : SS duration time :  {'SS': 36.529989104493175, 'LL': 6.4703383661105054, 'NN': 7.6255999794714198}\n"
      },
      {
       "output_type": "stream",
       "stream": "stdout",
       "text": "retrain from [ 20130829  to   20150916  ]\npredict status: "
      },
      {
       "output_type": "stream",
       "stream": "stdout",
       "text": " 2015-09-17 00:00:00  signal : SS duration time :  {'SS': 37.858716317955029, 'LL': 6.3888386555066061, 'NN': 7.5444460526130861}\nretrain from [ 20130830  to   20150917  ]\npredict status: "
      },
      {
       "output_type": "stream",
       "stream": "stdout",
       "text": " 2015-09-18 00:00:00  signal : SS duration time :  {'SS': 39.09848018193852, 'LL': 6.253856117580197, 'NN': 7.4375817530149968}\nretrain from [ 20130902  to   20150918  ]\npredict status: "
      },
      {
       "output_type": "stream",
       "stream": "stdout",
       "text": " 2015-09-21 00:00:00  signal : SS duration time :  {'SS': 40.283786182660982, 'LL': 6.2492888914118963, 'NN': 7.4177656529899378}\nretrain from [ 20130903  to   20150921  ]\npredict status: "
      },
      {
       "output_type": "stream",
       "stream": "stdout",
       "text": " 2015-09-22 00:00:00  signal : SS duration time :  {'SS': 41.515498082303708, 'LL': 6.3361293566225463, 'NN': 7.3341517968244307}\nretrain from [ 20130904  to   20150922  ]\npredict status: "
      },
      {
       "output_type": "stream",
       "stream": "stdout",
       "text": " 2015-09-23 00:00:00  signal : SS duration time :  {'SS': 42.691027371612719, 'LL': 6.3279875333139586, 'NN': 7.3007536460430886}\nretrain from [ 20130905  to   20150923  ]\npredict status: "
      },
      {
       "output_type": "stream",
       "stream": "stdout",
       "text": " 2015-09-24 00:00:00  signal : SS duration time :  {'SS': 43.81392502520378, 'LL': 6.2536565222297451, 'NN': 7.2289901655729691}\nretrain from [ 20130906  to   20150924  ]\npredict status: "
      },
      {
       "output_type": "stream",
       "stream": "stdout",
       "text": " 2015-09-25 00:00:00  signal : SS duration time :  {'SS': 44.926445346974937, 'LL': 6.2231925413877445, 'NN': 7.2048944307529883}\nretrain from [ 20130909  to   20150925  ]\npredict status: "
      },
      {
       "output_type": "stream",
       "stream": "stdout",
       "text": " 2015-09-28 00:00:00  signal : SS duration time :  {'SS': 45.90037397408517, 'LL': 6.1831476299593024, 'NN': 7.1248314012682092}\nretrain from [ 20130910  to   20150928  ]\npredict status: "
      },
      {
       "output_type": "stream",
       "stream": "stdout",
       "text": " 2015-09-29 00:00:00  signal : SS duration time :  {'SS': 46.925123330140295, 'LL': 6.1495087604743386, 'NN': 7.0437609595006814}\nretrain from [ 20130911  to   20150929  ]\npredict status: "
      },
      {
       "output_type": "stream",
       "stream": "stdout",
       "text": " 2015-09-30 00:00:00  signal : SS duration time :  {'SS': 47.969208029247994, 'LL': 6.3297956781059339, 'NN': 7.3848727967407912}\nretrain from [ 20130912  to   20150930  ]\npredict status: "
      },
      {
       "output_type": "stream",
       "stream": "stdout",
       "text": " 2015-10-08 00:00:00  signal : SS duration time :  {'SS': 49.020306166252162, 'LL': 6.2004641594543983, 'NN': 7.351268740133885}\nretrain from [ 20130913  to   20151008  ]\npredict status: "
      },
      {
       "output_type": "stream",
       "stream": "stdout",
       "text": " 2015-10-09 00:00:00  signal : SS duration time :  {'SS': 50.04815707136347, 'LL': 5.9507223610202296, 'NN': 6.9945671295123599}\nretrain from [ 20130916  to   20151009  ]\npredict status: "
      },
      {
       "output_type": "stream",
       "stream": "stdout",
       "text": " 2015-10-12 00:00:00  signal : NN duration time :  {'SS': 2.3617081714980546, 'LL': 2.3163913490089465, 'NN': 20.673965056238345}\nretrain from [ 20130917  to   20151012  ]\npredict status: "
      },
      {
       "output_type": "stream",
       "stream": "stdout",
       "text": " 2015-10-13 00:00:00  signal : SS duration time :  {'SS': 51.622512787222313, 'LL': 6.090345207159265, 'NN': 7.2678963531493892}\nretrain from [ 20130918  to   20151013  ]\npredict status: "
      },
      {
       "output_type": "stream",
       "stream": "stdout",
       "text": " 2015-10-14 00:00:00  signal : SS duration time :  {'SS': 52.949030496099027, 'LL': 6.1629897669979972, 'NN': 7.224833775577582}\nretrain from [ 20130923  to   20151014  ]\npredict status: "
      },
      {
       "output_type": "stream",
       "stream": "stdout",
       "text": " 2015-10-15 00:00:00  signal : SS duration time :  {'SS': 53.991552004708076, 'LL': 6.2427644240106606, 'NN': 7.6266049285152695}\nretrain from [ 20130924  to   20151015  ]\npredict status: "
      },
      {
       "output_type": "stream",
       "stream": "stdout",
       "text": " 2015-10-16 00:00:00  signal : SS duration time :  {'SS': 51.006934366019081, 'LL': 5.9616747011388842, 'NN': 7.395749871597868}\nretrain from [ 20130925  to   20151016  ]\npredict status: "
      },
      {
       "output_type": "stream",
       "stream": "stdout",
       "text": " 2015-10-19 00:00:00  signal : SS duration time :  {'SS': 54.399208072914192, 'LL': 6.093569914009259, 'NN': 7.3214235491377915}\nretrain from [ 20130926  to   20151019  ]\npredict status: "
      },
      {
       "output_type": "stream",
       "stream": "stdout",
       "text": " 2015-10-20 00:00:00  signal : SS duration time :  {'SS': 54.411616114191716, 'LL': 6.1882250559760443, 'NN': 7.7351092939562518}\nretrain from [ 20130927  to   20151020  ]\npredict status: "
      },
      {
       "output_type": "stream",
       "stream": "stdout",
       "text": " 2015-10-21 00:00:00  signal : SS duration time :  {'SS': 56.068177149249451, 'LL': 6.2428873996043279, 'NN': 7.7347539602368398}\n"
      },
      {
       "output_type": "stream",
       "stream": "stdout",
       "text": "retrain from [ 20130930  to   20151021  ]\npredict status: "
      },
      {
       "output_type": "stream",
       "stream": "stdout",
       "text": " 2015-10-22 00:00:00  signal : SS duration time :  {'SS': 58.105665868527737, 'LL': 6.2593269010333552, 'NN': 7.7394583116075104}\nretrain from [ 20131008  to   20151022  ]\npredict status: "
      },
      {
       "output_type": "stream",
       "stream": "stdout",
       "text": " 2015-10-23 00:00:00  signal : SS duration time :  {'SS': 58.926697257953514, 'LL': 6.667933944001466, 'NN': 7.9047831960732839}\nretrain from [ 20131009  to   20151023  ]\npredict status: "
      },
      {
       "output_type": "stream",
       "stream": "stdout",
       "text": " 2015-10-26 00:00:00  signal : LL duration time :  {'SS': 30.051136876261925, 'LL': 6.7179174555391077, 'NN': 7.8757676813667512}\nretrain from [ 20131010  to   20151026  ]\npredict status: "
      },
      {
       "output_type": "stream",
       "stream": "stdout",
       "text": " 2015-10-27 00:00:00  signal : LL duration time :  {'SS': 29.985660854254142, 'LL': 6.8043245736436813, 'NN': 7.8110998237985667}\nretrain from [ 20131011  to   20151027  ]\npredict status: "
      },
      {
       "output_type": "stream",
       "stream": "stdout",
       "text": " 2015-10-28 00:00:00  signal : LL duration time :  {'SS': 29.990471354118764, 'LL': 7.1158270180086296, 'NN': 8.310479478794953}\nretrain from [ 20131014  to   20151028  ]\npredict status: "
      },
      {
       "output_type": "stream",
       "stream": "stdout",
       "text": " 2015-10-29 00:00:00  signal : NN duration time :  {'SS': 29.954493576312487, 'LL': 6.6525109735261791, 'NN': 8.3208104252424029}\nretrain from [ 20131015  to   20151029  ]\npredict status: "
      },
      {
       "output_type": "stream",
       "stream": "stdout",
       "text": " 2015-10-30 00:00:00  signal : NN duration time :  {'SS': 29.921302328261941, 'LL': 6.5376927230465087, 'NN': 8.3216451773697369}\nretrain from [ 20131016  to   20151030  ]\npredict status: "
      },
      {
       "output_type": "stream",
       "stream": "stdout",
       "text": " 2015-11-02 00:00:00  signal : NN duration time :  {'SS': 29.92103548939162, 'LL': 6.549040273427619, 'NN': 8.3366499222573349}\nretrain from [ 20131017  to   20151102  ]\npredict status: "
      },
      {
       "output_type": "stream",
       "stream": "stdout",
       "text": " 2015-11-03 00:00:00  signal : NN duration time :  {'SS': 29.925640853424529, 'LL': 6.5249113165639461, 'NN': 8.3491865210635083}\nretrain from [ 20131018  to   20151103  ]\npredict status: "
      },
      {
       "output_type": "stream",
       "stream": "stdout",
       "text": " 2015-11-04 00:00:00  signal : NN duration time :  {'SS': 29.922028371807592, 'LL': 6.4541983196960606, 'NN': 8.3781165274266893}\nretrain from [ 20131021  to   20151104  ]\npredict status: "
      },
      {
       "output_type": "stream",
       "stream": "stdout",
       "text": " 2015-11-05 00:00:00  signal : LL duration time :  {'SS': 29.936878342889425, 'LL': 6.7989624484247182, 'NN': 8.4029255332889292}\nretrain from [ 20131022  to   20151105  ]\npredict status: "
      },
      {
       "output_type": "stream",
       "stream": "stdout",
       "text": " 2015-11-06 00:00:00  signal : NN duration time :  {'SS': 29.934698925315534, 'LL': 6.8134739763171268, 'NN': 8.382259264534774}\nretrain from [ 20131023  to   20151106  ]\npredict status: "
      },
      {
       "output_type": "stream",
       "stream": "stdout",
       "text": " 2015-11-09 00:00:00  signal : NN duration time :  {'SS': 29.907784347764363, 'LL': 6.8522792085583779, 'NN': 8.4742284501194085}\nretrain from [ 20131024  to   20151109  ]\npredict status: "
      },
      {
       "output_type": "stream",
       "stream": "stdout",
       "text": " 2015-11-10 00:00:00  signal : NN duration time :  {'SS': 29.702852603513989, 'LL': 5.821474602379328, 'NN': 8.9688551952213604}\nretrain from [ 20131025  to   20151110  ]\npredict status: "
      },
      {
       "output_type": "stream",
       "stream": "stdout",
       "text": " 2015-11-11 00:00:00  signal : NN duration time :  {'SS': 29.68040196585882, 'LL': 5.7748761798539228, 'NN': 9.0611573362137321}\nretrain from [ 20131028  to   20151111  ]\npredict status: "
      },
      {
       "output_type": "stream",
       "stream": "stdout",
       "text": " 2015-11-12 00:00:00  signal : NN duration time :  {'SS': 29.661831745454904, 'LL': 5.7731337427126341, 'NN': 9.0819796088867371}\nretrain from [ 20131029  to   20151112  ]\npredict status: "
      },
      {
       "output_type": "stream",
       "stream": "stdout",
       "text": " 2015-11-13 00:00:00  signal : NN duration time :  {'SS': 29.914226848174362, 'LL': 6.5043713342549108, 'NN': 8.4242462211676212}\nretrain from [ 20131030  to   20151113  ]\npredict status: "
      },
      {
       "output_type": "stream",
       "stream": "stdout",
       "text": " 2015-11-16 00:00:00  signal : NN duration time :  {'SS': 29.926855960966979, 'LL': 6.9532993278046771, 'NN': 9.1398107394810051}\nretrain from [ 20131031  to   20151116  ]\npredict status: "
      },
      {
       "output_type": "stream",
       "stream": "stdout",
       "text": " 2015-11-17 00:00:00  signal : LL duration time :  {'SS': 29.895421709938478, 'LL': 6.4901048418803136, 'NN': 8.3973804609056728}\nretrain from [ 20131101  to   20151117  ]\npredict status: "
      },
      {
       "output_type": "stream",
       "stream": "stdout",
       "text": " 2015-11-18 00:00:00  signal : LL duration time :  {'SS': 29.931833213028757, 'LL': 6.4754655896748927, 'NN': 8.4666731769689907}\n"
      },
      {
       "output_type": "stream",
       "stream": "stdout",
       "text": "retrain from [ 20131104  to   20151118  ]\npredict status: "
      },
      {
       "output_type": "stream",
       "stream": "stdout",
       "text": " 2015-11-19 00:00:00  signal : NN duration time :  {'SS': 29.94682597213416, 'LL': 6.2466247766085869, 'NN': 8.3142637383029587}\nretrain from [ 20131105  to   20151119  ]\npredict status: "
      },
      {
       "output_type": "stream",
       "stream": "stdout",
       "text": " 2015-11-20 00:00:00  signal : NN duration time :  {'SS': 29.931864334645933, 'LL': 6.0473464938222552, 'NN': 8.1027411698707574}\nretrain from [ 20131106  to   20151120  ]\npredict status: "
      },
      {
       "output_type": "stream",
       "stream": "stdout",
       "text": " 2015-11-23 00:00:00  signal : NN duration time :  {'SS': 29.931611967133978, 'LL': 5.9925324740451407, 'NN': 8.0886606102287821}\nretrain from [ 20131107  to   20151123  ]\npredict status: "
      },
      {
       "output_type": "stream",
       "stream": "stdout",
       "text": " 2015-11-24 00:00:00  signal : NN duration time :  {'SS': 29.936949412764559, 'LL': 6.182848997327798, 'NN': 8.6382775485919865}\nretrain from [ 20131108  to   20151124  ]\npredict status: "
      },
      {
       "output_type": "stream",
       "stream": "stdout",
       "text": " 2015-11-25 00:00:00  signal : NN duration time :  {'SS': 29.926072518506771, 'LL': 6.0861028664702053, 'NN': 8.6216801697017704}\nretrain from [ 20131111  to   20151125  ]\npredict status: "
      },
      {
       "output_type": "stream",
       "stream": "stdout",
       "text": " 2015-11-26 00:00:00  signal : NN duration time :  {'SS': 29.943572483834743, 'LL': 6.5409666228633956, 'NN': 8.9138980445245224}\nretrain from [ 20131112  to   20151126  ]\npredict status: "
      },
      {
       "output_type": "stream",
       "stream": "stdout",
       "text": " 2015-11-27 00:00:00  signal : NN duration time :  {'SS': 29.957415912895129, 'LL': 6.5034039032981683, 'NN': 8.8757671156543196}\nretrain from [ 20131113  to   20151127  ]\npredict status: "
      },
      {
       "output_type": "stream",
       "stream": "stdout",
       "text": " 2015-11-30 00:00:00  signal : LL duration time :  {'SS': 29.964496741968631, 'LL': 6.5111095297334076, 'NN': 8.5869898428991807}\nretrain from [ 20131114  to   20151130  ]\npredict status: "
      },
      {
       "output_type": "stream",
       "stream": "stdout",
       "text": " 2015-12-01 00:00:00  signal : NN duration time :  {'SS': 29.922953629057293, 'LL': 6.3603345906810995, 'NN': 8.7613051262104609}\nretrain from [ 20131115  to   20151201  ]\npredict status: "
      },
      {
       "output_type": "stream",
       "stream": "stdout",
       "text": " 2015-12-02 00:00:00  signal : NN duration time :  {'SS': 29.946575291571552, 'LL': 6.3862491995099662, 'NN': 8.7462196592885846}\nretrain from [ 20131118  to   20151202  ]\npredict status: "
      },
      {
       "output_type": "stream",
       "stream": "stdout",
       "text": " 2015-12-03 00:00:00  signal : NN duration time :  {'SS': 29.943610740576581, 'LL': 6.4564447132845082, 'NN': 8.7271609172399245}\nretrain from [ 20131119  to   20151203  ]\npredict status: "
      },
      {
       "output_type": "stream",
       "stream": "stdout",
       "text": " 2015-12-04 00:00:00  signal : NN duration time :  {'SS': 29.936932360700943, 'LL': 6.5122620856720168, 'NN': 8.8682445368199811}\nretrain from [ 20131120  to   20151204  ]\npredict status: "
      },
      {
       "output_type": "stream",
       "stream": "stdout",
       "text": " 2015-12-07 00:00:00  signal : NN duration time :  {'SS': 29.935084350575945, 'LL': 6.6793738987195415, 'NN': 8.8577357584127245}\nretrain from [ 20131121  to   20151207  ]\npredict status: "
      },
      {
       "output_type": "stream",
       "stream": "stdout",
       "text": " 2015-12-08 00:00:00  signal : NN duration time :  {'SS': 29.943641979791412, 'LL': 6.8340401891871858, 'NN': 8.7623666354818539}\nretrain from [ 20131122  to   20151208  ]\npredict status: "
      },
      {
       "output_type": "stream",
       "stream": "stdout",
       "text": " 2015-12-09 00:00:00  signal : NN duration time :  {'SS': 29.938983314774603, 'LL': 6.8406496609490963, 'NN': 8.7761358971695671}\nretrain from [ 20131125  to   20151209  ]\npredict status: "
      },
      {
       "output_type": "stream",
       "stream": "stdout",
       "text": " 2015-12-10 00:00:00  signal : NN duration time :  {'SS': 29.956806696015597, 'LL': 6.7946006807756385, 'NN': 8.6410293777161922}\nretrain from [ 20131126  to   20151210  ]\npredict status: "
      },
      {
       "output_type": "stream",
       "stream": "stdout",
       "text": " 2015-12-11 00:00:00  signal : NN duration time :  {'SS': 29.982804276575969, 'LL': 6.7595001157999279, 'NN': 8.5287991727219516}\nretrain from [ 20131127  to   20151211  ]\npredict status: "
      },
      {
       "output_type": "stream",
       "stream": "stdout",
       "text": " 2015-12-14 00:00:00  signal : NN duration time :  {'SS': 22.626405237444246, 'LL': 6.3917608390663929, 'NN': 8.3119065671618486}\nretrain from [ 20131128  to   20151214  ]\npredict status: "
      },
      {
       "output_type": "stream",
       "stream": "stdout",
       "text": " 2015-12-15 00:00:00  signal : NN duration time :  {'SS': 22.302742238799219, 'LL': 6.4623335112753155, 'NN': 8.3975767537122046}\nretrain from [ 20131129  to   20151215  ]\npredict status: "
      },
      {
       "output_type": "stream",
       "stream": "stdout",
       "text": " 2015-12-16 00:00:00  signal : NN duration time :  {'SS': 21.977684090271275, 'LL': 6.5125996619210778, 'NN': 8.4368872702421278}\n"
      },
      {
       "output_type": "stream",
       "stream": "stdout",
       "text": "retrain from [ 20131202  to   20151216  ]\npredict status: "
      },
      {
       "output_type": "stream",
       "stream": "stdout",
       "text": " 2015-12-17 00:00:00  signal : NN duration time :  {'SS': 21.632292585667475, 'LL': 6.5448394477345708, 'NN': 8.4492791233218281}\nretrain from [ 20131203  to   20151217  ]\npredict status: "
      },
      {
       "output_type": "stream",
       "stream": "stdout",
       "text": " 2015-12-18 00:00:00  signal : NN duration time :  {'SS': 21.303374674879823, 'LL': 6.5755059970969416, 'NN': 8.4778226225269897}\nretrain from [ 20131204  to   20151218  ]\npredict status: "
      },
      {
       "output_type": "stream",
       "stream": "stdout",
       "text": " 2015-12-21 00:00:00  signal : NN duration time :  {'SS': 20.993703619667009, 'LL': 6.6090348319061842, 'NN': 8.4762307891342825}\nretrain from [ 20131205  to   20151221  ]\npredict status: "
      },
      {
       "output_type": "stream",
       "stream": "stdout",
       "text": " 2015-12-22 00:00:00  signal : NN duration time :  {'SS': 20.661230444811771, 'LL': 6.6376383746260164, 'NN': 8.5120027216970904}\nretrain from [ 20131206  to   20151222  ]\npredict status: "
      },
      {
       "output_type": "stream",
       "stream": "stdout",
       "text": " 2015-12-23 00:00:00  signal : NN duration time :  {'SS': 29.990976215659057, 'LL': 6.8014619709680186, 'NN': 8.6219678833910152}\nretrain from [ 20131209  to   20151223  ]\npredict status: "
      },
      {
       "output_type": "stream",
       "stream": "stdout",
       "text": " 2015-12-24 00:00:00  signal : NN duration time :  {'SS': 30.013840511915692, 'LL': 6.7579459109687718, 'NN': 8.6579559040729723}\nretrain from [ 20131210  to   20151224  ]\npredict status: "
      },
      {
       "output_type": "stream",
       "stream": "stdout",
       "text": " 2015-12-25 00:00:00  signal : NN duration time :  {'SS': 30.026474436602737, 'LL': 7.2687902264965407, 'NN': 8.8882886166783166}\nretrain from [ 20131211  to   20151225  ]\npredict status: "
      },
      {
       "output_type": "stream",
       "stream": "stdout",
       "text": " 2015-12-28 00:00:00  signal : NN duration time :  {'SS': 30.028537973404262, 'LL': 7.2788572244452361, 'NN': 8.8935903068355806}\nretrain from [ 20131212  to   20151228  ]\npredict status: "
      },
      {
       "output_type": "stream",
       "stream": "stdout",
       "text": " 2015-12-29 00:00:00  signal : NN duration time :  {'SS': 30.028094669221417, 'LL': 7.2701268786050592, 'NN': 8.9754644201349887}\nretrain from [ 20131213  to   20151229  ]\npredict status: "
      },
      {
       "output_type": "stream",
       "stream": "stdout",
       "text": " 2015-12-30 00:00:00  signal : NN duration time :  {'SS': 30.022890529834854, 'LL': 7.2754564537051793, 'NN': 9.0113424728033991}\nretrain from [ 20131216  to   20151230  ]\npredict status: "
      },
      {
       "output_type": "stream",
       "stream": "stdout",
       "text": " 2015-12-31 00:00:00  signal : NN duration time :  {'SS': 30.025476280121257, 'LL': 7.5150267685668162, 'NN': 9.9616346394695405}\nretrain from [ 20131217  to   20151231  ]\npredict status: "
      },
      {
       "output_type": "stream",
       "stream": "stdout",
       "text": " 2016-01-04 00:00:00  signal : NN duration time :  {'SS': 29.990275272441604, 'LL': 8.2909027740230332, 'NN': 10.514397121669782}\nretrain from [ 20131218  to   20160104  ]\npredict status: "
      },
      {
       "output_type": "stream",
       "stream": "stdout",
       "text": " 2016-01-05 00:00:00  signal : NN duration time :  {'SS': 29.374174482070035, 'LL': 7.2543637582612854, 'NN': 11.562199196618135}\nretrain from [ 20131219  to   20160105  ]\npredict status: "
      },
      {
       "output_type": "stream",
       "stream": "stdout",
       "text": " 2016-01-06 00:00:00  signal : NN duration time :  {'SS': 29.334537953868409, 'LL': 7.2720221970936061, 'NN': 11.609721805051779}\nretrain from [ 20131220  to   20160106  ]\npredict status: "
      },
      {
       "output_type": "stream",
       "stream": "stdout",
       "text": " 2016-01-07 00:00:00  signal : NN duration time :  {'SS': 29.327483522801465, 'LL': 7.2646258667047627, 'NN': 11.649616080009503}\nretrain from [ 20131223  to   20160107  ]\npredict status: "
      },
      {
       "output_type": "stream",
       "stream": "stdout",
       "text": " 2016-01-08 00:00:00  signal : SS duration time :  {'SS': 30.714044997895513, 'LL': 8.429190422629123, 'NN': 10.645426450204688}\nretrain from [ 20131224  to   20160108  ]\npredict status: "
      },
      {
       "output_type": "stream",
       "stream": "stdout",
       "text": " 2016-01-11 00:00:00  signal : SS duration time :  {'SS': 30.749991466162935, 'LL': 8.3779837173348302, 'NN': 10.645601231329469}\nretrain from [ 20131225  to   20160111  ]\npredict status: "
      },
      {
       "output_type": "stream",
       "stream": "stdout",
       "text": " 2016-01-12 00:00:00  signal : SS duration time :  {'SS': 31.278249198267698, 'LL': 8.1833625682543243, 'NN': 10.55397890959151}\nretrain from [ 20131226  to   20160112  ]\npredict status: "
      },
      {
       "output_type": "stream",
       "stream": "stdout",
       "text": " 2016-01-13 00:00:00  signal : SS duration time :  {'SS': 21.86291103118209, 'LL': 7.5195523441527516, 'NN': 11.285477973572826}\nretrain from [ 20131227  to   20160113  ]\npredict status: "
      },
      {
       "output_type": "stream",
       "stream": "stdout",
       "text": " 2016-01-14 00:00:00  signal : SS duration time :  {'SS': 21.921239040541444, 'LL': 7.5207555681454128, 'NN': 11.337643340499486}\n"
      },
      {
       "output_type": "stream",
       "stream": "stdout",
       "text": "retrain from [ 20131230  to   20160114  ]\npredict status: "
      },
      {
       "output_type": "stream",
       "stream": "stdout",
       "text": " 2016-01-15 00:00:00  signal : SS duration time :  {'SS': 21.847646056217961, 'LL': 7.5072743119054586, 'NN': 11.305098253360644}\nretrain from [ 20131231  to   20160115  ]\npredict status: "
      },
      {
       "output_type": "stream",
       "stream": "stdout",
       "text": " 2016-01-18 00:00:00  signal : SS duration time :  {'SS': 32.569187359361294, 'LL': 7.5662477388956226, 'NN': 11.443526956489716}\nretrain from [ 20140102  to   20160118  ]\npredict status: "
      },
      {
       "output_type": "stream",
       "stream": "stdout",
       "text": " 2016-01-19 00:00:00  signal : SS duration time :  {'SS': 22.251289846241278, 'LL': 7.4406148585103757, 'NN': 11.163345833923442}\nretrain from [ 20140103  to   20160119  ]\npredict status: "
      },
      {
       "output_type": "stream",
       "stream": "stdout",
       "text": " 2016-01-20 00:00:00  signal : SS duration time :  {'SS': 33.40791774853497, 'LL': 7.4798157296043906, 'NN': 11.305460996287463}\nretrain from [ 20140106  to   20160120  ]\npredict status: "
      },
      {
       "output_type": "stream",
       "stream": "stdout",
       "text": " 2016-01-21 00:00:00  signal : SS duration time :  {'SS': 34.034692237532617, 'LL': 7.4278396940422668, 'NN': 11.234749930274274}\nretrain from [ 20140107  to   20160121  ]\npredict status: "
      },
      {
       "output_type": "stream",
       "stream": "stdout",
       "text": " 2016-01-22 00:00:00  signal : SS duration time :  {'SS': 34.508721609778917, 'LL': 7.3450608251985692, 'NN': 11.145367052497404}\nretrain from [ 20140108  to   20160122  ]\npredict status: "
      },
      {
       "output_type": "stream",
       "stream": "stdout",
       "text": " 2016-01-25 00:00:00  signal : SS duration time :  {'SS': 35.003436677389573, 'LL': 7.3358420627416026, 'NN': 11.086465815593273}\nretrain from [ 20140109  to   20160125  ]\npredict status: "
      },
      {
       "output_type": "stream",
       "stream": "stdout",
       "text": " 2016-01-26 00:00:00  signal : SS duration time :  {'SS': 35.135680649161522, 'LL': 7.4261314861065282, 'NN': 11.198637761442578}\nretrain from [ 20140110  to   20160126  ]\npredict status: "
      },
      {
       "output_type": "stream",
       "stream": "stdout",
       "text": " 2016-01-27 00:00:00  signal : SS duration time :  {'SS': 36.012532628383752, 'LL': 7.4554553319477881, 'NN': 11.06410051662284}\nretrain from [ 20140113  to   20160127  ]\npredict status: "
      },
      {
       "output_type": "stream",
       "stream": "stdout",
       "text": " 2016-01-28 00:00:00  signal : SS duration time :  {'SS': 36.063285849389146, 'LL': 7.3593885186044652, 'NN': 10.914855444336604}\nretrain from [ 20140114  to   20160128  ]\npredict status: "
      },
      {
       "output_type": "stream",
       "stream": "stdout",
       "text": " 2016-01-29 00:00:00  signal : SS duration time :  {'SS': 35.759889419617465, 'LL': 7.3244049261908684, 'NN': 10.791836956062514}\nretrain from [ 20140115  to   20160129  ]\npredict status: "
      },
      {
       "output_type": "stream",
       "stream": "stdout",
       "text": " 2016-02-01 00:00:00  signal : SS duration time :  {'SS': 36.6646586504555, 'LL': 7.571699498741733, 'NN': 11.662330364232632}\nretrain from [ 20140116  to   20160201  ]\npredict status: "
      },
      {
       "output_type": "stream",
       "stream": "stdout",
       "text": " 2016-02-02 00:00:00  signal : SS duration time :  {'SS': 37.080122745965284, 'LL': 7.4204524732308101, 'NN': 11.57508645950934}\nretrain from [ 20140117  to   20160202  ]\npredict status: "
      },
      {
       "output_type": "stream",
       "stream": "stdout",
       "text": " 2016-02-03 00:00:00  signal : SS duration time :  {'SS': 37.147712446121879, 'LL': 7.3227527501647849, 'NN': 11.470942364662339}\nretrain from [ 20140120  to   20160203  ]\npredict status: "
      },
      {
       "output_type": "stream",
       "stream": "stdout",
       "text": " 2016-02-04 00:00:00  signal : SS duration time :  {'SS': 37.740849400974653, 'LL': 7.2497564365807392, 'NN': 11.389800752011496}\nretrain from [ 20140121  to   20160204  ]\npredict status: "
      },
      {
       "output_type": "stream",
       "stream": "stdout",
       "text": " 2016-02-05 00:00:00  signal : SS duration time :  {'SS': 37.84756448385167, 'LL': 7.8180564118555171, 'NN': 11.723554866328783}\nretrain from [ 20140122  to   20160205  ]\npredict status: "
      },
      {
       "output_type": "stream",
       "stream": "stdout",
       "text": " 2016-02-15 00:00:00  signal : SS duration time :  {'SS': 38.86097195781425, 'LL': 7.8863953625725403, 'NN': 11.672443310223153}\nretrain from [ 20140123  to   20160215  ]\npredict status: "
      },
      {
       "output_type": "stream",
       "stream": "stdout",
       "text": " 2016-02-16 00:00:00  signal : SS duration time :  {'SS': 39.494335498062149, 'LL': 7.9096978643278639, 'NN': 11.630314967359167}\nretrain from [ 20140124  to   20160216  ]\npredict status: "
      },
      {
       "output_type": "stream",
       "stream": "stdout",
       "text": " 2016-02-17 00:00:00  signal : SS duration time :  {'SS': 39.408303470418574, 'LL': 7.8401189996491372, 'NN': 11.472960585855015}\nretrain from [ 20140127  to   20160217  ]\npredict status: "
      },
      {
       "output_type": "stream",
       "stream": "stdout",
       "text": " 2016-02-18 00:00:00  signal : SS duration time :  {'SS': 39.148038554814214, 'LL': 7.802971895119871, 'NN': 11.327812422130156}\n"
      },
      {
       "output_type": "stream",
       "stream": "stdout",
       "text": "retrain from [ 20140128  to   20160218  ]\npredict status: "
      },
      {
       "output_type": "stream",
       "stream": "stdout",
       "text": " 2016-02-19 00:00:00  signal : NN duration time :  {'SS': 9.6867948939924347, 'LL': 7.1878041704923605, 'NN': 29.635322392627575}\nretrain from [ 20140129  to   20160219  ]\npredict status: "
      },
      {
       "output_type": "stream",
       "stream": "stdout",
       "text": " 2016-02-22 00:00:00  signal : NN duration time :  {'SS': 9.4089839671829942, 'LL': 7.0383407408490957, 'NN': 29.120945251253794}\nretrain from [ 20140130  to   20160222  ]\npredict status: "
      },
      {
       "output_type": "stream",
       "stream": "stdout",
       "text": " 2016-02-23 00:00:00  signal : NN duration time :  {'SS': 9.2186773369628501, 'LL': 6.9487850895564298, 'NN': 29.04751362269829}\nretrain from [ 20140207  to   20160223  ]\npredict status: "
      },
      {
       "output_type": "stream",
       "stream": "stdout",
       "text": " 2016-02-24 00:00:00  signal : NN duration time :  {'SS': 9.1731303572828828, 'LL': 6.9593630041806662, 'NN': 29.392527768760583}\nretrain from [ 20140210  to   20160224  ]\npredict status: "
      },
      {
       "output_type": "stream",
       "stream": "stdout",
       "text": " 2016-02-25 00:00:00  signal : NN duration time :  {'SS': 8.8584631837863022, 'LL': 6.7795908303983712, 'NN': 28.598956758132932}\nretrain from [ 20140211  to   20160225  ]\npredict status: "
      },
      {
       "output_type": "stream",
       "stream": "stdout",
       "text": " 2016-02-26 00:00:00  signal : NN duration time :  {'SS': 9.1199996862590584, 'LL': 6.8862478190118672, 'NN': 29.299320014248469}\nretrain from [ 20140212  to   20160226  ]\npredict status: "
      },
      {
       "output_type": "stream",
       "stream": "stdout",
       "text": " 2016-02-29 00:00:00  signal : NN duration time :  {'SS': 8.9859856073709992, 'LL': 6.6384990131256121, 'NN': 29.357968694596909}\nretrain from [ 20140213  to   20160229  ]\npredict status: "
      },
      {
       "output_type": "stream",
       "stream": "stdout",
       "text": " 2016-03-01 00:00:00  signal : NN duration time :  {'SS': 9.2491695698995198, 'LL': 7.1259535151734932, 'NN': 30.03005511157221}\nretrain from [ 20140214  to   20160301  ]\npredict status: "
      },
      {
       "output_type": "stream",
       "stream": "stdout",
       "text": " 2016-03-02 00:00:00  signal : NN duration time :  {'SS': 9.1816423597607013, 'LL': 7.0947819001813324, 'NN': 30.104993395315486}\nretrain from [ 20140217  to   20160302  ]\npredict status: "
      },
      {
       "output_type": "stream",
       "stream": "stdout",
       "text": " 2016-03-03 00:00:00  signal : NN duration time :  {'SS': 9.0667466435023556, 'LL': 6.9186782793817985, 'NN': 30.004163860236542}\nretrain from [ 20140218  to   20160303  ]\npredict status: "
      },
      {
       "output_type": "stream",
       "stream": "stdout",
       "text": " 2016-03-04 00:00:00  signal : NN duration time :  {'SS': 9.0979428595718854, 'LL': 7.1455063279704536, 'NN': 30.023831395748626}\nretrain from [ 20140219  to   20160304  ]\npredict status: "
      },
      {
       "output_type": "stream",
       "stream": "stdout",
       "text": " 2016-03-07 00:00:00  signal : NN duration time :  {'SS': 8.9927468449342065, 'LL': 6.8911269861660998, 'NN': 30.219414626687644}\nretrain from [ 20140220  to   20160307  ]\npredict status: "
      },
      {
       "output_type": "stream",
       "stream": "stdout",
       "text": " 2016-03-08 00:00:00  signal : NN duration time :  {'SS': 9.2958662919724766, 'LL': 7.5195505783671495, 'NN': 31.007162224730592}\nretrain from [ 20140221  to   20160308  ]\npredict status: "
      },
      {
       "output_type": "stream",
       "stream": "stdout",
       "text": " 2016-03-09 00:00:00  signal : NN duration time :  {'SS': 9.1110536479433115, 'LL': 7.4415592655664566, 'NN': 30.680922480465377}\nretrain from [ 20140224  to   20160309  ]\npredict status: "
      },
      {
       "output_type": "stream",
       "stream": "stdout",
       "text": " 2016-03-10 00:00:00  signal : NN duration time :  {'SS': 9.06571140443811, 'LL': 7.5049759904098403, 'NN': 30.983795254140112}\nretrain from [ 20140225  to   20160310  ]\npredict status: "
      },
      {
       "output_type": "stream",
       "stream": "stdout",
       "text": " 2016-03-11 00:00:00  signal : NN duration time :  {'SS': 8.8734536029358875, 'LL': 7.3972606022608494, 'NN': 30.918400599862046}\nretrain from [ 20140226  to   20160311  ]\npredict status: "
      },
      {
       "output_type": "stream",
       "stream": "stdout",
       "text": " 2016-03-14 00:00:00  signal : NN duration time :  {'SS': 9.5844026451577182, 'LL': 7.6219082801425992, 'NN': 31.600495396864705}\nretrain from [ 20140227  to   20160314  ]\npredict status: "
      },
      {
       "output_type": "stream",
       "stream": "stdout",
       "text": " 2016-03-15 00:00:00  signal : NN duration time :  {'SS': 9.7100229385467784, 'LL': 8.2804014940810458, 'NN': 30.66414196763494}\nretrain from [ 20140228  to   20160315  ]\npredict status: "
      },
      {
       "output_type": "stream",
       "stream": "stdout",
       "text": " 2016-03-16 00:00:00  signal : NN duration time :  {'SS': 9.5386369185887716, 'LL': 8.2178123234855924, 'NN': 30.779876612872865}\nretrain from [ 20140303  to   20160316  ]\npredict status: "
      },
      {
       "output_type": "stream",
       "stream": "stdout",
       "text": " 2016-03-17 00:00:00  signal : NN duration time :  {'SS': 9.519267198311427, 'LL': 8.2150314212536539, 'NN': 31.715665671804491}\n"
      },
      {
       "output_type": "stream",
       "stream": "stdout",
       "text": "retrain from [ 20140304  to   20160317  ]\npredict status: "
      },
      {
       "output_type": "stream",
       "stream": "stdout",
       "text": " 2016-03-18 00:00:00  signal : NN duration time :  {'SS': 9.7299887244215899, 'LL': 8.5581666717547265, 'NN': 27.240032533862898}\nretrain from [ 20140305  to   20160318  ]\npredict status: "
      },
      {
       "output_type": "stream",
       "stream": "stdout",
       "text": " 2016-03-21 00:00:00  signal : SS duration time :  {'SS': 10.770339298415154, 'LL': 9.1739701941689784, 'NN': 24.852349132073247}\nretrain from [ 20140306  to   20160321  ]\npredict status: "
      },
      {
       "output_type": "stream",
       "stream": "stdout",
       "text": " 2016-03-22 00:00:00  signal : SS duration time :  {'SS': 10.685918638206791, 'LL': 8.8954143283857388, 'NN': 24.630930737785036}\nretrain from [ 20140307  to   20160322  ]\npredict status: "
      },
      {
       "output_type": "stream",
       "stream": "stdout",
       "text": " 2016-03-23 00:00:00  signal : SS duration time :  {'SS': 11.183350268622974, 'LL': 9.7538759678848095, 'NN': 25.075032843443182}\nretrain from [ 20140310  to   20160323  ]\npredict status: "
      },
      {
       "output_type": "stream",
       "stream": "stdout",
       "text": " 2016-03-24 00:00:00  signal : SS duration time :  {'SS': 11.470272212073279, 'LL': 9.9267450597536318, 'NN': 25.482533057113169}\nretrain from [ 20140311  to   20160324  ]\npredict status: "
      },
      {
       "output_type": "stream",
       "stream": "stdout",
       "text": " 2016-03-25 00:00:00  signal : SS duration time :  {'SS': 11.290164647670071, 'LL': 9.8173875399195918, 'NN': 25.177376235572474}\nretrain from [ 20140312  to   20160325  ]\npredict status: "
      },
      {
       "output_type": "stream",
       "stream": "stdout",
       "text": " 2016-03-28 00:00:00  signal : NN duration time :  {'SS': 25.829819228341513, 'LL': 10.11498840394548, 'NN': 11.756688132337585}\nretrain from [ 20140313  to   20160328  ]\npredict status: "
      },
      {
       "output_type": "stream",
       "stream": "stdout",
       "text": " 2016-03-29 00:00:00  signal : SS duration time :  {'SS': 12.919556974580013, 'LL': 10.307238556305576, 'NN': 25.97128712963093}\nretrain from [ 20140314  to   20160329  ]\npredict status: "
      },
      {
       "output_type": "stream",
       "stream": "stdout",
       "text": " 2016-03-30 00:00:00  signal : NN duration time :  {'SS': 26.576075170011858, 'LL': 11.70526805480635, 'NN': 13.711728530968447}\nretrain from [ 20140317  to   20160330  ]\npredict status: "
      },
      {
       "output_type": "stream",
       "stream": "stdout",
       "text": " 2016-03-31 00:00:00  signal : NN duration time :  {'SS': 26.694231234262681, 'LL': 11.762014523410377, 'NN': 13.780135696312955}\nretrain from [ 20140318  to   20160331  ]\npredict status: "
      },
      {
       "output_type": "stream",
       "stream": "stdout",
       "text": " 2016-04-01 00:00:00  signal : NN duration time :  {'SS': 26.43526866517092, 'LL': 11.731948256408154, 'NN': 13.657952278724247}\nretrain from [ 20140319  to   20160401  ]\npredict status: "
      },
      {
       "output_type": "stream",
       "stream": "stdout",
       "text": " 2016-04-05 00:00:00  signal : NN duration time :  {'SS': 26.401071042131846, 'LL': 11.726066089389775, 'NN': 13.537827442955258}\nretrain from [ 20140320  to   20160405  ]\npredict status: "
      },
      {
       "output_type": "stream",
       "stream": "stdout",
       "text": " 2016-04-06 00:00:00  signal : NN duration time :  {'SS': 26.63151342051691, 'LL': 11.766068428827937, 'NN': 13.823892139710418}\nretrain from [ 20140321  to   20160406  ]\npredict status: "
      },
      {
       "output_type": "stream",
       "stream": "stdout",
       "text": " 2016-04-07 00:00:00  signal : LL duration time :  {'SS': 26.593472530913996, 'LL': 11.591239594802376, 'NN': 12.570716302077454}\nretrain from [ 20140324  to   20160407  ]\npredict status: "
      },
      {
       "output_type": "stream",
       "stream": "stdout",
       "text": " 2016-04-08 00:00:00  signal : LL duration time :  {'SS': 12.407961854795815, 'LL': 11.290668196323995, 'NN': 26.403124675489725}\nretrain from [ 20140325  to   20160408  ]\npredict status: "
      },
      {
       "output_type": "stream",
       "stream": "stdout",
       "text": " 2016-04-11 00:00:00  signal : SS duration time :  {'SS': 12.076346023821214, 'LL': 10.556672181879232, 'NN': 25.917639140120148}\nretrain from [ 20140326  to   20160411  ]\npredict status: "
      },
      {
       "output_type": "stream",
       "stream": "stdout",
       "text": " 2016-04-12 00:00:00  signal : LL duration time :  {'SS': 26.353526344996972, 'LL': 11.049754247777475, 'NN': 11.695705225512066}\nretrain from [ 20140327  to   20160412  ]\npredict status: "
      },
      {
       "output_type": "stream",
       "stream": "stdout",
       "text": " 2016-04-13 00:00:00  signal : LL duration time :  {'SS': 26.074517129648918, 'LL': 11.221012415094913, 'NN': 11.562702685679497}\nretrain from [ 20140328  to   20160413  ]\npredict status: "
      },
      {
       "output_type": "stream",
       "stream": "stdout",
       "text": " 2016-04-14 00:00:00  signal : LL duration time :  {'SS': 11.630617811889506, 'LL': 11.436756063675485, 'NN': 26.173339704452786}\nretrain from [ 20140331  to   20160414  ]\npredict status: "
      },
      {
       "output_type": "stream",
       "stream": "stdout",
       "text": " 2016-04-15 00:00:00  signal : SS duration time :  {'SS': 11.546525638608218, 'LL': 10.935990163293519, 'NN': 26.410925012342997}\n"
      },
      {
       "output_type": "stream",
       "stream": "stdout",
       "text": "retrain from [ 20140401  to   20160415  ]\npredict status: "
      },
      {
       "output_type": "stream",
       "stream": "stdout",
       "text": " 2016-04-18 00:00:00  signal : SS duration time :  {'SS': 11.337279939028935, 'LL': 10.424206861802784, 'NN': 26.303137788662234}\nretrain from [ 20140402  to   20160418  ]\npredict status: "
      },
      {
       "output_type": "stream",
       "stream": "stdout",
       "text": " 2016-04-19 00:00:00  signal : SS duration time :  {'SS': 11.139135885146857, 'LL': 10.290732114164877, 'NN': 26.002508697381291}\nretrain from [ 20140403  to   20160419  ]\npredict status: "
      },
      {
       "output_type": "stream",
       "stream": "stdout",
       "text": " 2016-04-20 00:00:00  signal : SS duration time :  {'SS': 10.930871203885916, 'LL': 10.199869135773341, 'NN': 25.637698283621088}\nretrain from [ 20140404  to   20160420  ]\npredict status: "
      },
      {
       "output_type": "stream",
       "stream": "stdout",
       "text": " 2016-04-21 00:00:00  signal : SS duration time :  {'SS': 10.471519839847669, 'LL': 9.9660980112738535, 'NN': 25.117289961834167}\nretrain from [ 20140408  to   20160421  ]\npredict status: "
      },
      {
       "output_type": "stream",
       "stream": "stdout",
       "text": " 2016-04-22 00:00:00  signal : SS duration time :  {'SS': 11.293449695016649, 'LL': 10.166853431449079, 'NN': 21.022415653267224}\nretrain from [ 20140409  to   20160422  ]\npredict status: "
      },
      {
       "output_type": "stream",
       "stream": "stdout",
       "text": " 2016-04-25 00:00:00  signal : NN duration time :  {'SS': 10.68662655268159, 'LL': 10.128291427407007, 'NN': 20.207521693829303}\nretrain from [ 20140410  to   20160425  ]\npredict status: "
      },
      {
       "output_type": "stream",
       "stream": "stdout",
       "text": " 2016-04-26 00:00:00  signal : NN duration time :  {'SS': 9.9133216079834519, 'LL': 10.037587287095873, 'NN': 23.038414442977626}\nretrain from [ 20140411  to   20160426  ]\npredict status: "
      },
      {
       "output_type": "stream",
       "stream": "stdout",
       "text": " 2016-04-27 00:00:00  signal : NN duration time :  {'SS': 9.7938473569321491, 'LL': 9.9111677942584766, 'NN': 23.024879837607102}\nretrain from [ 20140414  to   20160427  ]\npredict status: "
      },
      {
       "output_type": "stream",
       "stream": "stdout",
       "text": " 2016-04-28 00:00:00  signal : NN duration time :  {'SS': 9.8113690012718564, 'LL': 9.8203651208617533, 'NN': 23.245375400767816}\nretrain from [ 20140415  to   20160428  ]\npredict status: "
      },
      {
       "output_type": "stream",
       "stream": "stdout",
       "text": " 2016-04-29 00:00:00  signal : NN duration time :  {'SS': 9.8199273647747223, 'LL': 9.6808455465525078, 'NN': 23.492657775953322}\nretrain from [ 20140416  to   20160429  ]\npredict status: "
      },
      {
       "output_type": "stream",
       "stream": "stdout",
       "text": " 2016-05-03 00:00:00  signal : NN duration time :  {'SS': 9.910181460559869, 'LL': 9.6312210676753356, 'NN': 23.875472912494349}\nretrain from [ 20140417  to   20160503  ]\npredict status: "
      },
      {
       "output_type": "stream",
       "stream": "stdout",
       "text": " 2016-05-04 00:00:00  signal : NN duration time :  {'SS': 10.208529774481422, 'LL': 10.66702407767764, 'NN': 24.168009917067554}\nretrain from [ 20140418  to   20160504  ]\npredict status: "
      },
      {
       "output_type": "stream",
       "stream": "stdout",
       "text": " 2016-05-05 00:00:00  signal : NN duration time :  {'SS': 10.168946734408516, 'LL': 10.734497928009301, 'NN': 24.371316987164924}\nretrain from [ 20140421  to   20160505  ]\npredict status: "
      },
      {
       "output_type": "stream",
       "stream": "stdout",
       "text": " 2016-05-06 00:00:00  signal : NN duration time :  {'SS': 7.6482697670189115, 'LL': 9.7283398345313401, 'NN': 17.537697014396993}\nretrain from [ 20140422  to   20160506  ]\npredict status: "
      },
      {
       "output_type": "stream",
       "stream": "stdout",
       "text": " 2016-05-09 00:00:00  signal : SS duration time :  {'SS': 8.8735595942702989, 'LL': 10.396561933566963, 'NN': 18.516517711275771}\nretrain from [ 20140423  to   20160509  ]\npredict status: "
      },
      {
       "output_type": "stream",
       "stream": "stdout",
       "text": " 2016-05-10 00:00:00  signal : NN duration time :  {'SS': 7.4647397377870099, 'LL': 9.8079372715781297, 'NN': 15.440758254761068}\nretrain from [ 20140424  to   20160510  ]\npredict status: "
      },
      {
       "output_type": "stream",
       "stream": "stdout",
       "text": " 2016-05-11 00:00:00  signal : NN duration time :  {'SS': 7.6461228208407439, 'LL': 9.891378905838522, 'NN': 18.573020309204438}\nretrain from [ 20140425  to   20160511  ]\npredict status: "
      },
      {
       "output_type": "stream",
       "stream": "stdout",
       "text": " 2016-05-12 00:00:00  signal : NN duration time :  {'SS': 7.8702430515733308, 'LL': 10.321540708966984, 'NN': 18.105127505582026}\nretrain from [ 20140428  to   20160512  ]\npredict status: "
      },
      {
       "output_type": "stream",
       "stream": "stdout",
       "text": " 2016-05-13 00:00:00  signal : NN duration time :  {'SS': 7.8571524387003935, 'LL': 10.126594255816867, 'NN': 18.125420441987135}\nretrain from [ 20140429  to   20160513  ]\npredict status: "
      },
      {
       "output_type": "stream",
       "stream": "stdout",
       "text": " 2016-05-16 00:00:00  signal : NN duration time :  {'SS': 7.8528375120291631, 'LL': 9.9754761873492637, 'NN': 18.23400732046554}\n"
      },
      {
       "output_type": "stream",
       "stream": "stdout",
       "text": "retrain from [ 20140430  to   20160516  ]\npredict status: "
      },
      {
       "output_type": "stream",
       "stream": "stdout",
       "text": " 2016-05-17 00:00:00  signal : NN duration time :  {'SS': 7.9507116805128666, 'LL': 10.002702387541902, 'NN': 18.327988763723727}\nretrain from [ 20140505  to   20160517  ]\npredict status: "
      },
      {
       "output_type": "stream",
       "stream": "stdout",
       "text": " 2016-05-18 00:00:00  signal : NN duration time :  {'SS': 7.3720897641491545, 'LL': 9.3316196984501349, 'NN': 18.454191572272698}\nretrain from [ 20140506  to   20160518  ]\npredict status: "
      },
      {
       "output_type": "stream",
       "stream": "stdout",
       "text": " 2016-05-19 00:00:00  signal : NN duration time :  {'SS': 7.8435199653472338, 'LL': 9.5852332500435722, 'NN': 18.617753306801294}\nretrain from [ 20140507  to   20160519  ]\npredict status: "
      },
      {
       "output_type": "stream",
       "stream": "stdout",
       "text": " 2016-05-20 00:00:00  signal : NN duration time :  {'SS': 7.835261573070591, 'LL': 9.6533678862589198, 'NN': 18.614699225555473}\nretrain from [ 20140508  to   20160520  ]\npredict status: "
      },
      {
       "output_type": "stream",
       "stream": "stdout",
       "text": " 2016-05-23 00:00:00  signal : NN duration time :  {'SS': 7.6528193277657905, 'LL': 9.5689323294998783, 'NN': 18.322811658059923}\nretrain from [ 20140509  to   20160523  ]\npredict status: "
      },
      {
       "output_type": "stream",
       "stream": "stdout",
       "text": " 2016-05-24 00:00:00  signal : NN duration time :  {'SS': 7.5034214329823143, 'LL': 9.3509942788881517, 'NN': 18.282498618659918}\nretrain from [ 20140512  to   20160524  ]\npredict status: "
      },
      {
       "output_type": "stream",
       "stream": "stdout",
       "text": " 2016-05-25 00:00:00  signal : NN duration time :  {'SS': 7.568877884395949, 'LL': 9.2861141026064526, 'NN': 18.780629333892325}\nretrain from [ 20140513  to   20160525  ]\npredict status: "
      },
      {
       "output_type": "stream",
       "stream": "stdout",
       "text": " 2016-05-26 00:00:00  signal : NN duration time :  {'SS': 7.7955075233283528, 'LL': 10.437850173555891, 'NN': 18.904778946096286}\nretrain from [ 20140514  to   20160526  ]\npredict status: "
      },
      {
       "output_type": "stream",
       "stream": "stdout",
       "text": " 2016-05-27 00:00:00  signal : NN duration time :  {'SS': 7.452364363129055, 'LL': 10.297000891839362, 'NN': 18.42397041264525}\nretrain from [ 20140515  to   20160527  ]\npredict status: "
      },
      {
       "output_type": "stream",
       "stream": "stdout",
       "text": " 2016-05-30 00:00:00  signal : NN duration time :  {'SS': 7.3905528415715631, 'LL': 10.275386287704851, 'NN': 18.502792675681089}\nretrain from [ 20140516  to   20160530  ]\npredict status: "
      },
      {
       "output_type": "stream",
       "stream": "stdout",
       "text": " 2016-05-31 00:00:00  signal : NN duration time :  {'SS': 7.3790325014558897, 'LL': 10.274230584115401, 'NN': 18.699989037721309}\nretrain from [ 20140519  to   20160531  ]\npredict status: "
      },
      {
       "output_type": "stream",
       "stream": "stdout",
       "text": " 2016-06-01 00:00:00  signal : SS duration time :  {'SS': 7.2506230404556344, 'LL': 10.334928557684801, 'NN': 16.538584142513869}\nretrain from [ 20140520  to   20160601  ]\npredict status: "
      },
      {
       "output_type": "stream",
       "stream": "stdout",
       "text": " 2016-06-02 00:00:00  signal : SS duration time :  {'SS': 7.3014500629508277, 'LL': 10.45885336397791, 'NN': 16.446851995651482}\n"
      },
      {
       "metadata": {},
       "output_type": "pyout",
       "prompt_number": 5,
       "text": "'{\"information\": -0.40187, \"benchmark_cumulative_return\": {\"1419897600000\": -0.1751411465, \"1398038400000\": -0.0405462481, \"1408492800000\": -0.1568490582, \"1402876800000\": -0.1980062568, \"1398816000000\": -0.1550049275, \"1405900800000\": -0.2554548463, \"1459468800000\": 0.0964889855, \"1415232000000\": -0.2202997393, \"1420761600000\": -0.1371279006, \"1399420800000\": -0.1793608335, \"1429488000000\": 0.1103869182, \"1458604800000\": 0.119941747, \"1429833600000\": 0.2299670479, \"1449187200000\": 0.2988776311, \"1419552000000\": -0.0902544245, \"1433721600000\": 0.8096266594, \"1427760000000\": 0.1938445707, \"1420588800000\": -0.1382711561, \"1442361600000\": 0.007600124, \"1450828800000\": 0.3124860235, \"1409011200000\": -0.1971488151, \"1406678400000\": -0.18571626, \"1396569600000\": -0.0343516824, \"1437696000000\": 0.4998185753, \"1442448000000\": -0.0039814867, \"1422403200000\": -0.0179435133, \"1456704000000\": -0.0731816101, \"1403049600000\": -0.2228720642, \"1458172800000\": 0.0765107071, \"1401753600000\": -0.2403067108, \"1400112000000\": -0.2240153197, \"1407974400000\": -0.2008643955, \"1446422400000\": 0.2884541815, \"1405382400000\": -0.2283025279, \"1463961600000\": 0.0749982888, \"1453852800000\": -0.0311982716, \"1416873600000\": -0.1685674273, \"1461283200000\": 0.0527684054, \"1398124800000\": -0.0779952133, \"1429228800000\": 0.150972489, \"1414108800000\": -0.235162061, \"1448582400000\": 0.2690549837, \"1397088000000\": 0.0215401943, \"1399852800000\": -0.2223004364, \"1462233600000\": 0.091566801, \"1450742400000\": 0.3356492448, \"1423526400000\": -0.0625304783, \"1417046400000\": -0.1414151088, \"1416528000000\": -0.2320181083, \"1402358400000\": -0.2425932218, \"1451865600000\": 0.2456022222, \"1452643200000\": 0.0380018518, \"1459123200000\": 0.0851969151, \"1461110400000\": 0.0536370262, \"1402963200000\": -0.2188706699, \"1400544000000\": -0.2154409033, \"1431648000000\": 0.4911323673, \"1452124800000\": 0.1051751934, \"1401408000000\": -0.2022934649, \"1444262400000\": 0.0988053076, \"1437004800000\": 0.4236694855, \"1418601600000\": -0.1051167462, \"1418947200000\": -0.1311258092, \"1401321600000\": -0.1825723073, \"1444608000000\": 0.2088306085, \"1430697600000\": 0.3880560328, \"1405036800000\": -0.2034367205, \"1417737600000\": -0.1791425408, \"1404864000000\": -0.1822864934, \"1437609600000\": 0.5400646722, \"1397174400000\": 0.0066169224, \"1439769600000\": 0.3116174027, \"1427414400000\": 0.1832694572, \"1449792000000\": 0.3009044129, \"1450915200000\": 0.3188559094, \"1452211200000\": 0.1182045054, \"1435708800000\": 0.3133546443, \"1413504000000\": -0.225730203, \"1441584000000\": 0.0284470231, \"1417651200000\": -0.1356988312, \"1460073600000\": 0.1153091027, \"1447200000000\": 0.4442268443, \"1443139200000\": 0.0241039191, \"1451520000000\": 0.3666300532, \"1432080000000\": 0.6359025001, \"1401062400000\": -0.1525618501, \"1429660800000\": 0.1103869182, \"1405641600000\": -0.2628860072, \"1433289600000\": 1.1194347435, \"1429142400000\": 0.1655489968, \"1461024000000\": 0.1074915156, \"1400630400000\": -0.2080097425, \"1447891200000\": 0.4010853448, \"1418083200000\": -0.2340188055, \"1445990400000\": 0.3550484426, \"1434326400000\": 0.6874406674, \"1401148800000\": -0.1499895252, \"1432512000000\": 0.6330070974, \"1447632000000\": 0.5056093806, \"1407801600000\": -0.1717113799, \"1423612800000\": -0.0636737338, \"1415750400000\": -0.2660299599, \"1415664000000\": -0.2697455403, \"1402531200000\": -0.2154409033, \"1427155200000\": 0.2204252615, \"1437955200000\": 0.3498367178, \"1401840000000\": -0.2700313542, \"1416182400000\": -0.2611711239, \"1424908800000\": -0.0216590937, \"1462406400000\": 0.1187835859, \"1460592000000\": 0.1393409448, \"1461196800000\": 0.0351064492, \"1431993600000\": 0.6269267519, \"1454025600000\": 0.0162863319, \"1453334400000\": 0.0533474859, \"1422316800000\": 0.0017776444, \"1446681600000\": 0.3666300532, \"1437350400000\": 0.4922905284, \"1439942400000\": 0.4850520218, \"1438128000000\": 0.3313061408, \"1453420800000\": 0.0684035797, \"1401235200000\": -0.1382711561, \"1419292800000\": -0.155134175, \"1435276800000\": 0.4309079921, \"1404777600000\": -0.1437016198, \"1429056000000\": 0.1918438736, \"1457049600000\": -0.0607313787, \"1461715200000\": 0.0652186368, \"1428364800000\": 0.2592959489, \"1422576000000\": -0.0288044406, \"1448928000000\": 0.2806365943, \"1414454400000\": -0.2191564838, \"1445299200000\": 0.3292793589, \"1463443200000\": 0.0585592107, \"1449446400000\": 0.326094416, \"1399248000000\": -0.1566943545, \"1405296000000\": -0.1882885849, \"1418169600000\": -0.1759985881, \"1410998400000\": -0.1219797651, \"1416960000000\": -0.1625653358, \"1403654400000\": -0.1579923138, \"1425859200000\": 0.0429348429, \"1444867200000\": 0.2901914231, \"1453161600000\": 0.1132823209, \"1463097600000\": 0.03597507, \"1403222400000\": -0.2188706699, \"1430092800000\": 0.2140423333, \"1432857600000\": 0.7879111395, \"1444694400000\": 0.2157795749, \"1397520000000\": -0.0161903421, \"1396915200000\": -0.0004223568, \"1398297600000\": -0.0982683373, \"1436486400000\": 0.401374885, \"1439424000000\": 0.3709731572, \"1424995200000\": 0.0232136852, \"1438560000000\": 0.1584506023, \"1413331200000\": -0.2154409033, \"1442880000000\": 0.0655081771, \"1430179200000\": 0.1636623271, \"1449532800000\": 0.2887437218, \"1425513600000\": 0.0180690354, \"1409529600000\": -0.1794283547, \"1418774400000\": -0.0813941943, \"1445385600000\": 0.2120155514, \"1427932800000\": 0.2490066493, \"1441756800000\": 0.143973589, \"1436400000000\": 0.2739771682, \"1436918400000\": 0.3596810868, \"1413244800000\": -0.169139055, \"1458518400000\": 0.119941747, \"1410220800000\": -0.1682816134, \"1426032000000\": 0.0560822813, \"1414368000000\": -0.2271592724, \"1399939200000\": -0.2240153197, \"1435104000000\": 0.7065503249, \"1435536000000\": 0.287875101, \"1447027200000\": 0.4433582235, \"1447286400000\": 0.4019539656, \"1453939200000\": -0.0190375805, \"1409616000000\": -0.1774276575, \"1460678400000\": 0.1318128979, \"1415318400000\": -0.2305890389, \"1441670400000\": 0.0817224319, \"1452038400000\": 0.2267821049, \"1399507200000\": -0.2108968042, \"1433462400000\": 1.0094094426, \"1449100800000\": 0.3084324598, \"1438819200000\": 0.2658700408, \"1437436800000\": 0.5085047833, \"1405468800000\": -0.2488811271, \"1436832000000\": 0.5108211054, \"1416355200000\": -0.2340188055, \"1418342400000\": -0.1256953455, \"1427673600000\": 0.1941303846, \"1451433600000\": 0.404559828, \"1431561600000\": 0.5171909912, \"1400025600000\": -0.211439509, \"1450656000000\": 0.33043752, \"1452556800000\": 0.0765107071, \"1445472000000\": 0.2710817656, \"1414627200000\": -0.2311606667, \"1438905600000\": 0.33043752, \"1418860800000\": -0.1016869797, \"1397779200000\": -0.0426580318, \"1417392000000\": -0.1388427839, \"1421366400000\": 0.0134960134, \"1456876800000\": 0.0078896642, \"1398729600000\": -0.1834436154, \"1405555200000\": -0.237448572, \"1439337600000\": 0.3538902815, \"1396483200000\": -0.0692665071, \"1443484800000\": 0.0313424257, \"1457568000000\": -0.0201957415, \"1431302400000\": 0.5287726019, \"1425340800000\": -0.0147995606, \"1409270400000\": -0.2014360233, \"1464134400000\": 0.0579721008, \"1459987200000\": 0.1274697939, \"1455580800000\": 0.0973576063, \"1429574400000\": 0.1103869182, \"1431475200000\": 0.4737599514, \"1464825600000\": 0.0978955763, \"1444953600000\": 0.3017730337, \"1436227200000\": 0.0990948479, \"1432771200000\": 0.7010490598, \"1410912000000\": -0.1322690647, \"1440028800000\": 0.3906618952, \"1434672000000\": 0.5869701952, \"1404691200000\": -0.1665667301, \"1442966400000\": 0.0663767979, \"1399593600000\": -0.235956638, \"1414540800000\": -0.2205855532, \"1431043200000\": 0.4465431665, \"1456099200000\": 0.111255539, \"1403481600000\": -0.1768560297, \"1427846400000\": 0.216709681, \"1460332800000\": 0.1387618642, \"1417564800000\": -0.1251237177, \"1425427200000\": 0.0089229913, \"1464739200000\": 0.0902631471, \"1442275200000\": -0.0838945999, \"1457308800000\": -0.0375681575, \"1411516800000\": -0.1471313864, \"1454457600000\": 0.0655081771, \"1414713600000\": -0.2425932218, \"1455840000000\": 0.10141117, \"1418256000000\": -0.166852544, \"1460505600000\": 0.1274697939, \"1448236800000\": 0.3840024691, \"1404086400000\": -0.1082606989, \"1404259200000\": -0.0956848882, \"1449705600000\": 0.29771947, \"1436140800000\": 0.2189645178, \"1406764800000\": -0.1797141685, \"1424822400000\": -0.0076542136, \"1456358400000\": -0.0039814867, \"1410739200000\": -0.0859672164, \"1419206400000\": -0.1634227775, \"1419984000000\": -0.1657092885, \"1432166400000\": 0.7152365328, \"1436313600000\": 0.158161062, \"1464566400000\": 0.0339005935, \"1421107200000\": -0.0076542136, \"1439164800000\": 0.4062970696, \"1463356800000\": 0.0553742678, \"1440633600000\": 0.0408972545, \"1430956800000\": 0.3150918859, \"1401926400000\": -0.2425932218, \"1451260800000\": 0.3440459125, \"1421971200000\": 0.0089229913, \"1438300800000\": 0.2728190072, \"1457913600000\": 0.0264202412, \"1458000000000\": 0.0307633452, \"1461801600000\": 0.0721676032, \"1426550400000\": 0.0895225051, \"1407888000000\": -0.1922899792, \"1426464000000\": 0.0740885556, \"1409097600000\": -0.1940048625, \"1417996800000\": -0.19972114, \"1447718400000\": 0.4086133917, \"1398384000000\": -0.092636914, \"1434585600000\": 0.5710454806, \"1410307200000\": -0.1379853423, \"1413936000000\": -0.2554548463, \"1451952000000\": 0.2125946319, \"1432684800000\": 0.7679328612, \"1450224000000\": 0.3365178656, \"1420416000000\": -0.1411292949, \"1433894400000\": 0.8524786187, \"1412035200000\": -0.1399860394, \"1458259200000\": 0.1103869182, \"1462320000000\": 0.0964889855, \"1435622400000\": 0.3897932744, \"1430784000000\": 0.4450954651, \"1452816000000\": 0.0275784023, \"1456790400000\": -0.043648503, \"1409875200000\": -0.1688532411, \"1428624000000\": 0.1684071356, \"1451347200000\": 0.3646032713, \"1422835200000\": -0.0510979232, \"1413849600000\": -0.2328755499, \"1455667200000\": 0.0947517439, \"1435017600000\": 0.7013386001, \"1435795200000\": 0.1824824443, \"1462492800000\": 0.0736153045, \"1439251200000\": 0.3767639625, \"1460937600000\": 0.1106764585, \"1446076800000\": 0.3327538421, \"1437523200000\": 0.4948963908, \"1446595200000\": 0.405717989, \"1428019200000\": 0.2601533906, \"1406851200000\": -0.2097246258, \"1420675200000\": -0.1365562729, \"1421280000000\": -0.0033670055, \"1452729600000\": 0.0886713983, \"1443571200000\": 0.0339482881, \"1411948800000\": -0.1491320835, \"1422230400000\": 0.0192122909, \"1419465600000\": -0.1139769765, \"1406160000000\": -0.2345904332, \"1441065600000\": 0.0330796673, \"1404172800000\": -0.0816800082, \"1464652800000\": 0.082043608, \"1450137600000\": 0.3498367178, \"1423008000000\": -0.0236597908, \"1396310400000\": -0.0177389835, \"1451001600000\": 0.3336224629, \"1412812800000\": -0.1234088345, \"1431388800000\": 0.5215340952, \"1459382400000\": 0.106912435, \"1425254400000\": 0.0272150795, \"1421884800000\": 0.0589404201, \"1423785600000\": -0.0330916488, \"1445904000000\": 0.3955840797, \"1411689600000\": -0.1471313864, \"1425600000000\": -0.0182293271, \"1421798400000\": 0.0452213539, \"1464220800000\": 0.0708885193, \"1419379200000\": -0.1397002255, \"1414022400000\": -0.244593919, \"1448409600000\": 0.4274335089, \"1447372800000\": 0.3811070665, \"1454630400000\": 0.0579801302, \"1400803200000\": -0.1768560297, \"1426118400000\": 0.0320739155, \"1453075200000\": 0.0799851903, \"1421712000000\": 0.0575113507, \"1404345600000\": -0.1068316295, \"1458864000000\": 0.1054647337, \"1398211200000\": -0.0975644094, \"1422921600000\": -0.0359497876, \"1427328000000\": 0.2032764287, \"1426809600000\": 0.1175322652, \"1457654400000\": -0.0317773522, \"1397692800000\": -0.0374489652, \"1404432000000\": -0.1094039544, \"1444348800000\": 0.1494748541, \"1432598400000\": 0.6828080231, \"1422489600000\": 0.000348575, \"1462752000000\": 0.0478462209, \"1434499200000\": 0.7245018213, \"1433808000000\": 0.7916751629, \"1425945600000\": 0.0477936788, \"1426636800000\": 0.1040990129, \"1448841600000\": 0.2690549837, \"1454544000000\": 0.0799851903, \"1423180800000\": -0.075106289, \"1453248000000\": 0.0918563412, \"1421020800000\": -0.0979713993, \"1403827200000\": -0.1379853423, \"1406246400000\": -0.2240153197, \"1440460800000\": 0.0139700098, \"1418688000000\": -0.1076890711, \"1443398400000\": 0.0715885226, \"1396396800000\": -0.0440658877, \"1416441600000\": -0.2368769442, \"1427241600000\": 0.2581526934, \"1435881600000\": 0.1871150886, \"1457481600000\": -0.014115396, \"1443052800000\": 0.088381858, \"1446163200000\": 0.326094416, \"1426723200000\": 0.1501150473, \"1459209600000\": 0.0640604757, \"1434067200000\": 0.8458191926, \"1411603200000\": -0.1557058027, \"1421193600000\": 0.0229278714, \"1446768000000\": 0.4309079921, \"1462838400000\": 0.0463985195, \"1424131200000\": -0.0239456047, \"1457395200000\": 0.0015197784, \"1413417600000\": -0.2300174112, \"1428969600000\": 0.2189961921, \"1438732800000\": 0.255157051, \"1441929600000\": 0.1164672638, \"1433980800000\": 0.8799849439, \"1426204800000\": 0.0395050763, \"1402012800000\": -0.2377343859, \"1399334400000\": -0.1557088554, \"1455753600000\": 0.0935935828, \"1441843200000\": 0.1002530089, \"1407283200000\": -0.1782850991, \"1440720000000\": 0.1089392169, \"1464307200000\": 0.0526881113, \"1404950400000\": -0.2057232315, \"1397433600000\": 0.0064761368, \"1397001600000\": -0.0014078558, \"1402272000000\": -0.2688880986, \"1407369600000\": -0.1848588183, \"1464048000000\": 0.0585592107, \"1409184000000\": -0.2145834617, \"1458691200000\": 0.1150195625, \"1407456000000\": -0.169139055, \"1412726400000\": -0.1156918597, \"1461542400000\": 0.0542161067, \"1433376000000\": 0.989141624, \"1454284800000\": 0.0345273686, \"1445212800000\": 0.3006148726, \"1424044800000\": -0.0110839802, \"1459296000000\": 0.1109659987, \"1450396800000\": 0.3425982111, \"1407110400000\": -0.2145834617, \"1442534400000\": 0.0110746071, \"1408924800000\": -0.1702823105, \"1408060800000\": -0.1920041653, \"1428537600000\": 0.1475427224, \"1458777600000\": 0.1005425492, \"1415577600000\": -0.2414499663, \"1417478400000\": -0.1459881309, \"1408406400000\": -0.1545625472, \"1450310400000\": 0.3573647647, \"1420502400000\": -0.1088323266, \"1463702400000\": 0.0385974729, \"1438646400000\": 0.2739771682, \"1430265600000\": 0.2496557859, \"1449014400000\": 0.2725294669, \"1461888000000\": 0.0605859925, \"1410480000000\": -0.0899686107, \"1434412800000\": 0.6332966377, \"1440547200000\": -0.0445171238, \"1403568000000\": -0.1774276575, \"1435190400000\": 0.5898655979, \"1449619200000\": 0.2959822284, \"1456444800000\": -0.014115396, \"1450051200000\": 0.3313061408, \"1453680000000\": 0.0692722005, \"1423699200000\": -0.0688183836, \"1437091200000\": 0.5229817966, \"1400457600000\": -0.237448572, \"1406073600000\": -0.2251585752, \"1460419200000\": 0.1115450793, \"1445558400000\": 0.3179872886, \"1454371200000\": 0.0681140394, \"1416268800000\": -0.2420215941, \"1408665600000\": -0.1505611529, \"1403740800000\": -0.1282676704, \"1441152000000\": 0.0504520833, \"1406505600000\": -0.2157267172, \"1438214400000\": 0.2505244067, \"1432252800000\": 0.6492213523, \"1446508800000\": 0.2881646412, \"1463616000000\": 0.0315521537, \"1410393600000\": -0.0873962858, \"1415836800000\": -0.2786057705, \"1403136000000\": -0.2560264741, \"1415923200000\": -0.2763192595, \"1429747200000\": 0.2215703802, \"1415059200000\": -0.2251585752, \"1459900800000\": 0.1639518673, \"1458086400000\": 0.0200503554, \"1411344000000\": -0.1594213832, \"1413763200000\": -0.2182990421, \"1461628800000\": 0.069851281, \"1409702400000\": -0.1719971938, \"1423094400000\": -0.0147995606, \"1447113600000\": 0.4288812103, \"1397606400000\": -0.0595523018, \"1447977600000\": 0.3868978718, \"1459814400000\": 0.1257325523, \"1406592000000\": -0.2020076511, \"1448323200000\": 0.4042702877, \"1407196800000\": -0.197434629, \"1408579200000\": -0.1431299921, \"1456185600000\": 0.0906981802, \"1445817600000\": 0.3478099359, \"1442188800000\": 0.0047047213, \"1438041600000\": 0.2638432589, \"1453766400000\": -0.0329355132, \"1463529600000\": 0.0033708769, \"1436745600000\": 0.5415123735, \"1414972800000\": -0.2111536952, \"1456963200000\": -0.005429188, \"1439510400000\": 0.3327538421, \"1430352000000\": 0.2618164771, \"1400198400000\": -0.2483094994, \"1442793600000\": 0.0695617408, \"1407715200000\": -0.1602788248, \"1398643200000\": -0.1151626073, \"1444780800000\": 0.1729276156, \"1427068800000\": 0.1369676089, \"1405987200000\": -0.2054374176, \"1408320000000\": -0.166852544, \"1428883200000\": 0.1967027095, \"1416787200000\": -0.2248727613, \"1411430400000\": -0.1605646387, \"1448496000000\": 0.3796593651, \"1455494400000\": 0.0576905899, \"1430870400000\": 0.423090405, \"1439856000000\": 0.3825547678, \"1402617600000\": -0.2145834617, \"1447804800000\": 0.3637346505, \"1400716800000\": -0.1854304461, \"1415145600000\": -0.2357336887, \"1423440000000\": -0.100829538, \"1456272000000\": 0.1037274921, \"1411084800000\": -0.1311258092, \"1421625600000\": -0.0385221125, \"1410825600000\": -0.1425583643, \"1440115200000\": 0.2516825678, \"1440979200000\": 0.0796956501, \"1433116800000\": 0.9668470236, \"1419811200000\": -0.1314116231, \"1463011200000\": 0.0423449558, \"1417132800000\": -0.143415806, \"1412899200000\": -0.1428441782, \"1428451200000\": 0.2012757316, \"1462924800000\": 0.0232352983, \"1409788800000\": -0.1545625472, \"1431907200000\": 0.5493299607, \"1413158400000\": -0.1511327807, \"1433203200000\": 1.095981982, \"1440374400000\": 0.1266011731, \"1452470400000\": 0.0623232341, \"1402444800000\": -0.2311606667}, \"benchmark_annualized_return\": 0.04478, \"turnover_rate\": 47.71629, \"max_drawdown\": 0.35385, \"beta\": 0.21069, \"sharpe\": -0.26886, \"alpha\": -0.07791, \"volatility\": 0.28992, \"annualized_return\": -0.03297, \"cumulative_return\": {\"1419897600000\": 0.0909621175, \"1398038400000\": 0.022410324, \"1408492800000\": 0.0651477922, \"1402876800000\": -0.0015793597, \"1398816000000\": 0.022410324, \"1405900800000\": 0.0649452413, \"1459468800000\": -0.0255847428, \"1415232000000\": 0.0909194169, \"1420761600000\": 0.0909621175, \"1399420800000\": 0.0060132148, \"1429488000000\": -0.0215654187, \"1458604800000\": -0.0255847428, \"1429833600000\": -0.0441439121, \"1449187200000\": -0.0255847428, \"1419552000000\": 0.0909621175, \"1433721600000\": 0.0919574325, \"1427760000000\": 0.0025511679, \"1420588800000\": 0.0909621175, \"1442361600000\": 0.1125092839, \"1450828800000\": -0.0255847428, \"1409011200000\": 0.0527060309, \"1406678400000\": 0.0466041985, \"1396569600000\": 0.0, \"1437696000000\": 0.1628388491, \"1442448000000\": 0.1125092839, \"1422403200000\": 0.0030214529, \"1456704000000\": -0.0255847428, \"1403049600000\": -0.0015793597, \"1458172800000\": -0.0255847428, \"1401753600000\": -0.0397408925, \"1400112000000\": 0.0030492439, \"1407974400000\": 0.0598438921, \"1446422400000\": 0.1219412816, \"1405382400000\": 0.0649452413, \"1463961600000\": -0.0689740679, \"1453852800000\": -0.0255847428, \"1416873600000\": 0.0909194169, \"1461283200000\": -0.0689740679, \"1398124800000\": 0.022410324, \"1429228800000\": -0.0215654187, \"1414108800000\": 0.0909194169, \"1448582400000\": -0.012124305, \"1397088000000\": 0.0381076409, \"1399852800000\": 0.0060132148, \"1462233600000\": -0.0689740679, \"1450742400000\": -0.0255847428, \"1423526400000\": 0.0030214529, \"1417046400000\": 0.0988345363, \"1416528000000\": 0.0909194169, \"1402358400000\": -0.0066863307, \"1451865600000\": -0.0255847428, \"1452643200000\": -0.0255847428, \"1459123200000\": -0.0255847428, \"1461110400000\": -0.0689740679, \"1402963200000\": -0.0015793597, \"1400544000000\": 0.0030492439, \"1431648000000\": -0.0063673714, \"1452124800000\": -0.0255847428, \"1401408000000\": -0.0397408925, \"1444262400000\": 0.1125092839, \"1437004800000\": 0.1628388491, \"1418601600000\": 0.1582509843, \"1418947200000\": 0.0909621175, \"1401321600000\": -0.0312697599, \"1444608000000\": 0.1125092839, \"1430697600000\": 0.0445883738, \"1405036800000\": 0.0649452413, \"1417737600000\": 0.0678716931, \"1404864000000\": 0.0649452413, \"1437609600000\": 0.1628388491, \"1397174400000\": 0.0328165913, \"1439769600000\": 0.1151000394, \"1427414400000\": 0.0025511679, \"1449792000000\": -0.0255847428, \"1450915200000\": -0.0255847428, \"1452211200000\": -0.0255847428, \"1435708800000\": 0.0336992961, \"1413504000000\": 0.0909194169, \"1441584000000\": 0.1125092839, \"1417651200000\": 0.0719081328, \"1460073600000\": -0.0727723127, \"1447200000000\": 0.0945943381, \"1443139200000\": 0.1125092839, \"1451520000000\": -0.0255847428, \"1432080000000\": 0.0498390312, \"1401062400000\": 0.0067166049, \"1429660800000\": -0.0215654187, \"1405641600000\": 0.0649452413, \"1433289600000\": 0.2861081742, \"1429142400000\": -0.0250551423, \"1461024000000\": -0.0689740679, \"1400630400000\": 0.0030492439, \"1447891200000\": -0.012124305, \"1418083200000\": 0.0678716931, \"1445990400000\": 0.1144653942, \"1434326400000\": 0.0791804892, \"1401148800000\": 0.0073027401, \"1432512000000\": 0.0201792789, \"1447632000000\": 0.0945943381, \"1407801600000\": 0.0598438921, \"1423612800000\": 0.0030214529, \"1415750400000\": 0.0909194169, \"1415664000000\": 0.0909194169, \"1402531200000\": 0.0090542717, \"1427155200000\": 0.038388799, \"1437955200000\": 0.1628388491, \"1401840000000\": -0.0535485627, \"1416182400000\": 0.0909194169, \"1424908800000\": 0.0030214529, \"1462406400000\": -0.0689740679, \"1460592000000\": -0.068735296, \"1461196800000\": -0.0689740679, \"1431993600000\": 0.0440862312, \"1454025600000\": -0.0255847428, \"1453334400000\": -0.0255847428, \"1422316800000\": 0.0030214529, \"1446681600000\": 0.0894076813, \"1437350400000\": 0.1628388491, \"1439942400000\": 0.2308780279, \"1438128000000\": 0.1628388491, \"1453420800000\": -0.0255847428, \"1401235200000\": 0.0211332401, \"1419292800000\": 0.0909621175, \"1435276800000\": 0.0870723302, \"1404777600000\": 0.066832832, \"1429056000000\": -0.0030583423, \"1457049600000\": -0.0255847428, \"1461715200000\": -0.0689740679, \"1428364800000\": 0.0213779923, \"1422576000000\": 0.0030214529, \"1448928000000\": -0.0255847428, \"1414454400000\": 0.0909194169, \"1445299200000\": 0.1125092839, \"1463443200000\": -0.0689740679, \"1449446400000\": -0.0255847428, \"1399248000000\": 0.0230155848, \"1405296000000\": 0.0649452413, \"1418169600000\": 0.0678716931, \"1410998400000\": 0.0909194169, \"1416960000000\": 0.0717985363, \"1403654400000\": 0.0445755483, \"1425859200000\": -0.0448287302, \"1444867200000\": 0.1125092839, \"1453161600000\": -0.0255847428, \"1463097600000\": -0.0689740679, \"1403222400000\": -0.0015793597, \"1430092800000\": -0.0565471121, \"1432857600000\": 0.0851105742, \"1444694400000\": 0.1125092839, \"1397520000000\": 0.022410324, \"1396915200000\": 0.0429220762, \"1398297600000\": 0.022410324, \"1436486400000\": 0.2784066815, \"1439424000000\": 0.1151000394, \"1424995200000\": 0.0030214529, \"1438560000000\": 0.1628388491, \"1413331200000\": 0.0909194169, \"1442880000000\": 0.1125092839, \"1430179200000\": -0.0618402781, \"1449532800000\": -0.0255847428, \"1425513600000\": -0.0448287302, \"1409529600000\": 0.0527060309, \"1418774400000\": 0.1288938055, \"1445385600000\": 0.1125092839, \"1427932800000\": 0.0025511679, \"1441756800000\": 0.1125092839, \"1436400000000\": 0.1623116815, \"1436918400000\": 0.2404216815, \"1413244800000\": 0.0909194169, \"1458518400000\": -0.0255847428, \"1410220800000\": 0.0361269279, \"1426032000000\": -0.0284975361, \"1414368000000\": 0.0909194169, \"1399939200000\": 0.0140980828, \"1435104000000\": 0.0719532636, \"1435536000000\": 0.0870723302, \"1447027200000\": 0.0945943381, \"1447286400000\": 0.0945943381, \"1453939200000\": -0.0255847428, \"1409616000000\": 0.0527060309, \"1460678400000\": -0.0689740679, \"1415318400000\": 0.0909194169, \"1441670400000\": 0.1125092839, \"1452038400000\": -0.0255847428, \"1399507200000\": 0.0060132148, \"1433462400000\": 0.2116214968, \"1449100800000\": -0.0255847428, \"1438819200000\": 0.1151000394, \"1437436800000\": 0.1628388491, \"1405468800000\": 0.0649452413, \"1436832000000\": 0.3781306815, \"1416355200000\": 0.0909194169, \"1418342400000\": 0.1316859843, \"1427673600000\": 0.0025511679, \"1451433600000\": -0.0255847428, \"1431561600000\": -0.0074702501, \"1400025600000\": 0.0030492439, \"1450656000000\": -0.0255847428, \"1452556800000\": -0.0255847428, \"1445472000000\": 0.1125092839, \"1414627200000\": 0.0909194169, \"1438905600000\": 0.1151000394, \"1418860800000\": 0.1024320199, \"1397779200000\": 0.022410324, \"1417392000000\": 0.1021389363, \"1421366400000\": 0.0778759747, \"1456876800000\": -0.0255847428, \"1398729600000\": 0.022410324, \"1405555200000\": 0.0649452413, \"1439337600000\": 0.1151000394, \"1396483200000\": 0.0, \"1443484800000\": 0.1125092839, \"1457568000000\": -0.0255847428, \"1431302400000\": 0.0312265769, \"1425340800000\": -0.0466849996, \"1409270400000\": 0.0527060309, \"1464134400000\": -0.0689740679, \"1459987200000\": -0.0626707127, \"1455580800000\": -0.0255847428, \"1429574400000\": -0.0215654187, \"1431475200000\": -0.0058786231, \"1464825600000\": -0.0689740679, \"1444953600000\": 0.1125092839, \"1436227200000\": 0.0576004543, \"1432771200000\": 0.0324225742, \"1410912000000\": 0.0909194169, \"1440028800000\": 0.1535854888, \"1434672000000\": 0.0791804892, \"1404691200000\": 0.0214030758, \"1442966400000\": 0.1125092839, \"1399593600000\": 0.0060132148, \"1414540800000\": 0.0909194169, \"1431043200000\": 0.0005839385, \"1456099200000\": -0.0255847428, \"1403481600000\": 0.0508021051, \"1427846400000\": 0.0025511679, \"1460332800000\": -0.0667932001, \"1417564800000\": 0.0873371318, \"1425427200000\": -0.0448287302, \"1464739200000\": -0.0689740679, \"1442275200000\": 0.1125092839, \"1457308800000\": -0.0255847428, \"1411516800000\": 0.0909194169, \"1454457600000\": -0.0255847428, \"1414713600000\": 0.0909194169, \"1455840000000\": -0.0255847428, \"1418256000000\": 0.0784800843, \"1460505600000\": -0.078411096, \"1448236800000\": -0.012124305, \"1404086400000\": 0.0214030758, \"1404259200000\": 0.0214030758, \"1449705600000\": -0.0255847428, \"1436140800000\": 0.0576004543, \"1406764800000\": 0.0466041985, \"1424822400000\": 0.0030214529, \"1456358400000\": -0.0255847428, \"1410739200000\": 0.0909194169, \"1419206400000\": 0.0909621175, \"1419984000000\": 0.0909621175, \"1432166400000\": 0.1006366312, \"1436313600000\": 0.0576004543, \"1464566400000\": -0.0689740679, \"1421107200000\": 0.0909621175, \"1439164800000\": 0.1151000394, \"1463356800000\": -0.0689740679, \"1440633600000\": 0.1125092839, \"1430956800000\": -0.0102279262, \"1401926400000\": -0.0178328651, \"1451260800000\": -0.0255847428, \"1421971200000\": 0.0045705144, \"1438300800000\": 0.1628388491, \"1457913600000\": -0.0255847428, \"1458000000000\": -0.0255847428, \"1461801600000\": -0.0689740679, \"1426550400000\": -0.0476730203, \"1407888000000\": 0.0598438921, \"1426464000000\": -0.0546639381, \"1409097600000\": 0.0527060309, \"1417996800000\": 0.0678716931, \"1447718400000\": 0.013582458, \"1398384000000\": 0.022410324, \"1434585600000\": 0.0791804892, \"1410307200000\": 0.0361269279, \"1413936000000\": 0.0909194169, \"1451952000000\": -0.0255847428, \"1432684800000\": 0.0729364537, \"1450224000000\": -0.0255847428, \"1420416000000\": 0.0909621175, \"1433894400000\": 0.0791804892, \"1412035200000\": 0.0909194169, \"1458259200000\": -0.0255847428, \"1462320000000\": -0.0689740679, \"1435622400000\": 0.0870723302, \"1430784000000\": 0.0874535738, \"1452816000000\": -0.0255847428, \"1456790400000\": -0.0255847428, \"1409875200000\": 0.0337607789, \"1428624000000\": 0.0204905284, \"1451347200000\": -0.0255847428, \"1422835200000\": 0.0030214529, \"1413849600000\": 0.0909194169, \"1455667200000\": -0.0255847428, \"1435017600000\": 0.0791804892, \"1435795200000\": 0.0576004543, \"1462492800000\": -0.0689740679, \"1439251200000\": 0.1151000394, \"1460937600000\": -0.0689740679, \"1446076800000\": 0.1219412816, \"1437523200000\": 0.1628388491, \"1446595200000\": 0.1219412816, \"1428019200000\": 0.0222001575, \"1406851200000\": 0.0466041985, \"1420675200000\": 0.0909621175, \"1421280000000\": 0.0904115383, \"1452729600000\": -0.0255847428, \"1443571200000\": 0.1125092839, \"1411948800000\": 0.0909194169, \"1422230400000\": 0.0030214529, \"1419465600000\": 0.0909621175, \"1406160000000\": 0.0466041985, \"1441065600000\": 0.1125092839, \"1404172800000\": 0.0214030758, \"1464652800000\": -0.0689740679, \"1450137600000\": -0.0255847428, \"1423008000000\": 0.0030214529, \"1396310400000\": 0.0, \"1451001600000\": -0.0255847428, \"1412812800000\": 0.0909194169, \"1431388800000\": 0.0263557769, \"1459382400000\": -0.0255847428, \"1425254400000\": -0.0060729996, \"1421884800000\": 0.0375292384, \"1423785600000\": 0.0030214529, \"1445904000000\": 0.1477233942, \"1411689600000\": 0.0909194169, \"1425600000000\": -0.0448287302, \"1421798400000\": 0.0419732611, \"1464220800000\": -0.0689740679, \"1419379200000\": 0.0909621175, \"1414022400000\": 0.0909194169, \"1448409600000\": -0.012124305, \"1447372800000\": 0.0945943381, \"1454630400000\": -0.0255847428, \"1400803200000\": 0.0015338503, \"1426118400000\": -0.0505835361, \"1453075200000\": -0.0255847428, \"1421712000000\": 0.0778759747, \"1404345600000\": 0.0214030758, \"1458864000000\": -0.0255847428, \"1398211200000\": 0.022410324, \"1422921600000\": 0.0030214529, \"1427328000000\": 0.023817999, \"1426809600000\": -0.0232029203, \"1457654400000\": -0.0255847428, \"1397692800000\": 0.022410324, \"1404432000000\": 0.0214030758, \"1444348800000\": 0.1125092839, \"1432598400000\": 0.0201792789, \"1422489600000\": 0.0030214529, \"1462752000000\": -0.0689740679, \"1434499200000\": 0.0791804892, \"1433808000000\": 0.0791804892, \"1425945600000\": -0.0361366763, \"1426636800000\": -0.0348993203, \"1448841600000\": -0.0249555076, \"1454544000000\": -0.0255847428, \"1423180800000\": 0.0030214529, \"1453248000000\": -0.0255847428, \"1421020800000\": 0.0909621175, \"1403827200000\": 0.0317372038, \"1406246400000\": 0.0466041985, \"1440460800000\": 0.1125092839, \"1418688000000\": 0.1549113843, \"1443398400000\": 0.1125092839, \"1396396800000\": 0.0, \"1416441600000\": 0.0909194169, \"1427241600000\": 0.070474499, \"1435881600000\": 0.0576004543, \"1457481600000\": -0.0255847428, \"1443052800000\": 0.1125092839, \"1446163200000\": 0.1219412816, \"1426723200000\": 0.0052685797, \"1459209600000\": -0.0255847428, \"1434067200000\": 0.0791804892, \"1411603200000\": 0.0909194169, \"1421193600000\": 0.1191731383, \"1446768000000\": 0.0945943381, \"1462838400000\": -0.0689740679, \"1424131200000\": 0.0030214529, \"1457395200000\": -0.0255847428, \"1413417600000\": 0.0909194169, \"1428969600000\": 0.0204905284, \"1438732800000\": 0.1432205862, \"1441929600000\": 0.1125092839, \"1433980800000\": 0.0791804892, \"1426204800000\": -0.0546639381, \"1402012800000\": -0.0115926651, \"1399334400000\": 0.0060132148, \"1455753600000\": -0.0255847428, \"1441843200000\": 0.1125092839, \"1407283200000\": 0.0466041985, \"1440720000000\": 0.1125092839, \"1464307200000\": -0.0689740679, \"1404950400000\": 0.0649452413, \"1397433600000\": 0.022410324, \"1397001600000\": 0.0419362272, \"1402272000000\": -0.0066863307, \"1407369600000\": 0.0377751964, \"1464048000000\": -0.0689740679, \"1409184000000\": 0.0527060309, \"1458691200000\": -0.0255847428, \"1407456000000\": 0.0577947964, \"1412726400000\": 0.0909194169, \"1461542400000\": -0.0689740679, \"1433376000000\": 0.2071117742, \"1454284800000\": -0.0255847428, \"1445212800000\": 0.1125092839, \"1424044800000\": 0.0030214529, \"1459296000000\": -0.0255847428, \"1450396800000\": -0.0255847428, \"1407110400000\": 0.0466041985, \"1442534400000\": 0.1125092839, \"1408924800000\": 0.0527060309, \"1408060800000\": 0.0598438921, \"1428537600000\": 0.0204905284, \"1458777600000\": -0.0255847428, \"1415577600000\": 0.0909194169, \"1417478400000\": 0.0929767363, \"1408406400000\": 0.0680376922, \"1450310400000\": -0.0255847428, \"1420502400000\": 0.0909621175, \"1463702400000\": -0.0689740679, \"1438646400000\": 0.1628388491, \"1430265600000\": -0.0618402781, \"1449014400000\": -0.0255847428, \"1461888000000\": -0.0689740679, \"1410480000000\": 0.0914781113, \"1434412800000\": 0.0791804892, \"1440547200000\": 0.1125092839, \"1403568000000\": 0.0501280051, \"1435190400000\": 0.0870723302, \"1449619200000\": -0.0255847428, \"1456444800000\": -0.0255847428, \"1450051200000\": -0.0255847428, \"1453680000000\": -0.0255847428, \"1423699200000\": 0.0030214529, \"1437091200000\": 0.1628388491, \"1400457600000\": 0.0030492439, \"1406073600000\": 0.0523159191, \"1460419200000\": -0.091439896, \"1445558400000\": 0.1125092839, \"1454371200000\": -0.0255847428, \"1416268800000\": 0.0909194169, \"1408665600000\": 0.0521319626, \"1403740800000\": 0.0445755483, \"1441152000000\": 0.1125092839, \"1406505600000\": 0.0466041985, \"1438214400000\": 0.1628388491, \"1432252800000\": 0.0583742312, \"1446508800000\": 0.1219412816, \"1463616000000\": -0.0689740679, \"1410393600000\": 0.0945757113, \"1415836800000\": 0.0909194169, \"1403136000000\": -0.0015793597, \"1415923200000\": 0.0909194169, \"1429747200000\": -0.0215654187, \"1415059200000\": 0.0909194169, \"1459900800000\": -0.0255847428, \"1458086400000\": -0.0255847428, \"1411344000000\": 0.0909194169, \"1413763200000\": 0.0909194169, \"1461628800000\": -0.0689740679, \"1409702400000\": 0.0527060309, \"1423094400000\": 0.0030214529, \"1447113600000\": 0.0945943381, \"1397606400000\": 0.022410324, \"1447977600000\": -0.012124305, \"1459814400000\": -0.0255847428, \"1406592000000\": 0.0466041985, \"1448323200000\": -0.012124305, \"1407196800000\": 0.0466041985, \"1408579200000\": 0.0632323221, \"1456185600000\": -0.0255847428, \"1445817600000\": 0.1085367942, \"1442188800000\": 0.1125092839, \"1438041600000\": 0.1628388491, \"1453766400000\": -0.0255847428, \"1463529600000\": -0.0689740679, \"1436745600000\": 0.4061111815, \"1414972800000\": 0.0909194169, \"1456963200000\": -0.0255847428, \"1439510400000\": 0.1151000394, \"1430352000000\": -0.0502229053, \"1400198400000\": 0.0030492439, \"1442793600000\": 0.1125092839, \"1407715200000\": 0.0598438921, \"1398643200000\": 0.022410324, \"1444780800000\": 0.1125092839, \"1427068800000\": -0.0247044816, \"1405987200000\": 0.0649452413, \"1408320000000\": 0.0598438921, \"1428883200000\": 0.0204905284, \"1416787200000\": 0.0909194169, \"1411430400000\": 0.0909194169, \"1448496000000\": -0.012124305, \"1455494400000\": -0.0255847428, \"1430870400000\": 0.0709160738, \"1439856000000\": 0.1151000394, \"1402617600000\": -0.0015793597, \"1447804800000\": -0.018658342, \"1400716800000\": 0.0030492439, \"1415145600000\": 0.0909194169, \"1423440000000\": 0.0030214529, \"1456272000000\": -0.0255847428, \"1411084800000\": 0.0909194169, \"1421625600000\": 0.0778759747, \"1410825600000\": 0.0909194169, \"1440115200000\": 0.1125092839, \"1440979200000\": 0.1125092839, \"1433116800000\": 0.1935837742, \"1419811200000\": 0.0909621175, \"1463011200000\": -0.0689740679, \"1417132800000\": 0.0962811363, \"1412899200000\": 0.0909194169, \"1428451200000\": 0.0204905284, \"1462924800000\": -0.0689740679, \"1409788800000\": 0.0527060309, \"1431907200000\": 0.0013065154, \"1413158400000\": 0.0909194169, \"1433203200000\": 0.2719037742, \"1440374400000\": 0.1125092839, \"1452470400000\": -0.0255847428, \"1402444800000\": -0.0066863307}}'"
      }
     ]
    },
    {
     "cell_type": "code",
     "collapsed": false,
     "id": "F7D95135D9964DA3808053674229D7FA",
     "input": [],
     "language": "python",
     "metadata": {},
     "outputs": []
    }
   ],
   "metadata": {}
  }
 ]
}